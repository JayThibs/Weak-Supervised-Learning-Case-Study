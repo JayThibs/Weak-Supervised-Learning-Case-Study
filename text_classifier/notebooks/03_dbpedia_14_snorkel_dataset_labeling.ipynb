{
  "nbformat": 4,
  "nbformat_minor": 0,
  "metadata": {
    "colab": {
      "name": "03_dbpedia_14_snorkel_dataset_labeling.ipynb",
      "provenance": [],
      "collapsed_sections": [],
      "machine_shape": "hm",
      "authorship_tag": "ABX9TyN/FziDHw9omaUHFuGWGNFx",
      "include_colab_link": true
    },
    "kernelspec": {
      "name": "python3",
      "display_name": "Python 3"
    },
    "language_info": {
      "name": "python"
    },
    "widgets": {
      "application/vnd.jupyter.widget-state+json": {
        "8b06fd85019841fb96913432b1b262f7": {
          "model_module": "@jupyter-widgets/controls",
          "model_name": "HBoxModel",
          "state": {
            "_view_name": "HBoxView",
            "_dom_classes": [],
            "_model_name": "HBoxModel",
            "_view_module": "@jupyter-widgets/controls",
            "_model_module_version": "1.5.0",
            "_view_count": null,
            "_view_module_version": "1.5.0",
            "box_style": "",
            "layout": "IPY_MODEL_a0b2ebac3818401c93f399daa4eeafc3",
            "_model_module": "@jupyter-widgets/controls",
            "children": [
              "IPY_MODEL_cf414310ce9d4469841abf685648720e",
              "IPY_MODEL_c3ebbb030fc6489390bc5af058cd8187"
            ]
          }
        },
        "a0b2ebac3818401c93f399daa4eeafc3": {
          "model_module": "@jupyter-widgets/base",
          "model_name": "LayoutModel",
          "state": {
            "_view_name": "LayoutView",
            "grid_template_rows": null,
            "right": null,
            "justify_content": null,
            "_view_module": "@jupyter-widgets/base",
            "overflow": null,
            "_model_module_version": "1.2.0",
            "_view_count": null,
            "flex_flow": null,
            "width": null,
            "min_width": null,
            "border": null,
            "align_items": null,
            "bottom": null,
            "_model_module": "@jupyter-widgets/base",
            "top": null,
            "grid_column": null,
            "overflow_y": null,
            "overflow_x": null,
            "grid_auto_flow": null,
            "grid_area": null,
            "grid_template_columns": null,
            "flex": null,
            "_model_name": "LayoutModel",
            "justify_items": null,
            "grid_row": null,
            "max_height": null,
            "align_content": null,
            "visibility": null,
            "align_self": null,
            "height": null,
            "min_height": null,
            "padding": null,
            "grid_auto_rows": null,
            "grid_gap": null,
            "max_width": null,
            "order": null,
            "_view_module_version": "1.2.0",
            "grid_template_areas": null,
            "object_position": null,
            "object_fit": null,
            "grid_auto_columns": null,
            "margin": null,
            "display": null,
            "left": null
          }
        },
        "cf414310ce9d4469841abf685648720e": {
          "model_module": "@jupyter-widgets/controls",
          "model_name": "FloatProgressModel",
          "state": {
            "_view_name": "ProgressView",
            "style": "IPY_MODEL_f762313ddb1647a7a8d6d9047d5e1f5e",
            "_dom_classes": [],
            "description": "#0: 100%",
            "_model_name": "FloatProgressModel",
            "bar_style": "success",
            "max": 56000,
            "_view_module": "@jupyter-widgets/controls",
            "_model_module_version": "1.5.0",
            "value": 56000,
            "_view_count": null,
            "_view_module_version": "1.5.0",
            "orientation": "horizontal",
            "min": 0,
            "description_tooltip": null,
            "_model_module": "@jupyter-widgets/controls",
            "layout": "IPY_MODEL_be5e10a3ef4b456b810ab9cc7e2017fa"
          }
        },
        "c3ebbb030fc6489390bc5af058cd8187": {
          "model_module": "@jupyter-widgets/controls",
          "model_name": "HTMLModel",
          "state": {
            "_view_name": "HTMLView",
            "style": "IPY_MODEL_6aa22d7deb0f460d98f8c292da52633d",
            "_dom_classes": [],
            "description": "",
            "_model_name": "HTMLModel",
            "placeholder": "​",
            "_view_module": "@jupyter-widgets/controls",
            "_model_module_version": "1.5.0",
            "value": " 56000/56000 [00:36&lt;00:00, 1525.39ex/s]",
            "_view_count": null,
            "_view_module_version": "1.5.0",
            "description_tooltip": null,
            "_model_module": "@jupyter-widgets/controls",
            "layout": "IPY_MODEL_b3b06fe260014e1dae1c838c961028ee"
          }
        },
        "f762313ddb1647a7a8d6d9047d5e1f5e": {
          "model_module": "@jupyter-widgets/controls",
          "model_name": "ProgressStyleModel",
          "state": {
            "_view_name": "StyleView",
            "_model_name": "ProgressStyleModel",
            "description_width": "initial",
            "_view_module": "@jupyter-widgets/base",
            "_model_module_version": "1.5.0",
            "_view_count": null,
            "_view_module_version": "1.2.0",
            "bar_color": null,
            "_model_module": "@jupyter-widgets/controls"
          }
        },
        "be5e10a3ef4b456b810ab9cc7e2017fa": {
          "model_module": "@jupyter-widgets/base",
          "model_name": "LayoutModel",
          "state": {
            "_view_name": "LayoutView",
            "grid_template_rows": null,
            "right": null,
            "justify_content": null,
            "_view_module": "@jupyter-widgets/base",
            "overflow": null,
            "_model_module_version": "1.2.0",
            "_view_count": null,
            "flex_flow": null,
            "width": null,
            "min_width": null,
            "border": null,
            "align_items": null,
            "bottom": null,
            "_model_module": "@jupyter-widgets/base",
            "top": null,
            "grid_column": null,
            "overflow_y": null,
            "overflow_x": null,
            "grid_auto_flow": null,
            "grid_area": null,
            "grid_template_columns": null,
            "flex": null,
            "_model_name": "LayoutModel",
            "justify_items": null,
            "grid_row": null,
            "max_height": null,
            "align_content": null,
            "visibility": null,
            "align_self": null,
            "height": null,
            "min_height": null,
            "padding": null,
            "grid_auto_rows": null,
            "grid_gap": null,
            "max_width": null,
            "order": null,
            "_view_module_version": "1.2.0",
            "grid_template_areas": null,
            "object_position": null,
            "object_fit": null,
            "grid_auto_columns": null,
            "margin": null,
            "display": null,
            "left": null
          }
        },
        "6aa22d7deb0f460d98f8c292da52633d": {
          "model_module": "@jupyter-widgets/controls",
          "model_name": "DescriptionStyleModel",
          "state": {
            "_view_name": "StyleView",
            "_model_name": "DescriptionStyleModel",
            "description_width": "",
            "_view_module": "@jupyter-widgets/base",
            "_model_module_version": "1.5.0",
            "_view_count": null,
            "_view_module_version": "1.2.0",
            "_model_module": "@jupyter-widgets/controls"
          }
        },
        "b3b06fe260014e1dae1c838c961028ee": {
          "model_module": "@jupyter-widgets/base",
          "model_name": "LayoutModel",
          "state": {
            "_view_name": "LayoutView",
            "grid_template_rows": null,
            "right": null,
            "justify_content": null,
            "_view_module": "@jupyter-widgets/base",
            "overflow": null,
            "_model_module_version": "1.2.0",
            "_view_count": null,
            "flex_flow": null,
            "width": null,
            "min_width": null,
            "border": null,
            "align_items": null,
            "bottom": null,
            "_model_module": "@jupyter-widgets/base",
            "top": null,
            "grid_column": null,
            "overflow_y": null,
            "overflow_x": null,
            "grid_auto_flow": null,
            "grid_area": null,
            "grid_template_columns": null,
            "flex": null,
            "_model_name": "LayoutModel",
            "justify_items": null,
            "grid_row": null,
            "max_height": null,
            "align_content": null,
            "visibility": null,
            "align_self": null,
            "height": null,
            "min_height": null,
            "padding": null,
            "grid_auto_rows": null,
            "grid_gap": null,
            "max_width": null,
            "order": null,
            "_view_module_version": "1.2.0",
            "grid_template_areas": null,
            "object_position": null,
            "object_fit": null,
            "grid_auto_columns": null,
            "margin": null,
            "display": null,
            "left": null
          }
        },
        "aac93d053703472aba8a7f763c9f0342": {
          "model_module": "@jupyter-widgets/controls",
          "model_name": "HBoxModel",
          "state": {
            "_view_name": "HBoxView",
            "_dom_classes": [],
            "_model_name": "HBoxModel",
            "_view_module": "@jupyter-widgets/controls",
            "_model_module_version": "1.5.0",
            "_view_count": null,
            "_view_module_version": "1.5.0",
            "box_style": "",
            "layout": "IPY_MODEL_f7febec87fbb410e8c1ea1a4686aaeca",
            "_model_module": "@jupyter-widgets/controls",
            "children": [
              "IPY_MODEL_07d101b3ad0e4db7a96bdc59c2105bd3",
              "IPY_MODEL_e0ed8177a9ef47b2975ef12f0426d390"
            ]
          }
        },
        "f7febec87fbb410e8c1ea1a4686aaeca": {
          "model_module": "@jupyter-widgets/base",
          "model_name": "LayoutModel",
          "state": {
            "_view_name": "LayoutView",
            "grid_template_rows": null,
            "right": null,
            "justify_content": null,
            "_view_module": "@jupyter-widgets/base",
            "overflow": null,
            "_model_module_version": "1.2.0",
            "_view_count": null,
            "flex_flow": null,
            "width": null,
            "min_width": null,
            "border": null,
            "align_items": null,
            "bottom": null,
            "_model_module": "@jupyter-widgets/base",
            "top": null,
            "grid_column": null,
            "overflow_y": null,
            "overflow_x": null,
            "grid_auto_flow": null,
            "grid_area": null,
            "grid_template_columns": null,
            "flex": null,
            "_model_name": "LayoutModel",
            "justify_items": null,
            "grid_row": null,
            "max_height": null,
            "align_content": null,
            "visibility": null,
            "align_self": null,
            "height": null,
            "min_height": null,
            "padding": null,
            "grid_auto_rows": null,
            "grid_gap": null,
            "max_width": null,
            "order": null,
            "_view_module_version": "1.2.0",
            "grid_template_areas": null,
            "object_position": null,
            "object_fit": null,
            "grid_auto_columns": null,
            "margin": null,
            "display": null,
            "left": null
          }
        },
        "07d101b3ad0e4db7a96bdc59c2105bd3": {
          "model_module": "@jupyter-widgets/controls",
          "model_name": "FloatProgressModel",
          "state": {
            "_view_name": "ProgressView",
            "style": "IPY_MODEL_f3d39a40ef284decadab4863ea15c659",
            "_dom_classes": [],
            "description": "#1: 100%",
            "_model_name": "FloatProgressModel",
            "bar_style": "success",
            "max": 56000,
            "_view_module": "@jupyter-widgets/controls",
            "_model_module_version": "1.5.0",
            "value": 56000,
            "_view_count": null,
            "_view_module_version": "1.5.0",
            "orientation": "horizontal",
            "min": 0,
            "description_tooltip": null,
            "_model_module": "@jupyter-widgets/controls",
            "layout": "IPY_MODEL_8faa09a39d6e4fc1bcd0429b512c5753"
          }
        },
        "e0ed8177a9ef47b2975ef12f0426d390": {
          "model_module": "@jupyter-widgets/controls",
          "model_name": "HTMLModel",
          "state": {
            "_view_name": "HTMLView",
            "style": "IPY_MODEL_bac5dadc000c4d0aa1c36f486fa0f398",
            "_dom_classes": [],
            "description": "",
            "_model_name": "HTMLModel",
            "placeholder": "​",
            "_view_module": "@jupyter-widgets/controls",
            "_model_module_version": "1.5.0",
            "value": " 56000/56000 [00:33&lt;00:00, 1649.97ex/s]",
            "_view_count": null,
            "_view_module_version": "1.5.0",
            "description_tooltip": null,
            "_model_module": "@jupyter-widgets/controls",
            "layout": "IPY_MODEL_91f276e9733b4671bdf1047e9941867d"
          }
        },
        "f3d39a40ef284decadab4863ea15c659": {
          "model_module": "@jupyter-widgets/controls",
          "model_name": "ProgressStyleModel",
          "state": {
            "_view_name": "StyleView",
            "_model_name": "ProgressStyleModel",
            "description_width": "initial",
            "_view_module": "@jupyter-widgets/base",
            "_model_module_version": "1.5.0",
            "_view_count": null,
            "_view_module_version": "1.2.0",
            "bar_color": null,
            "_model_module": "@jupyter-widgets/controls"
          }
        },
        "8faa09a39d6e4fc1bcd0429b512c5753": {
          "model_module": "@jupyter-widgets/base",
          "model_name": "LayoutModel",
          "state": {
            "_view_name": "LayoutView",
            "grid_template_rows": null,
            "right": null,
            "justify_content": null,
            "_view_module": "@jupyter-widgets/base",
            "overflow": null,
            "_model_module_version": "1.2.0",
            "_view_count": null,
            "flex_flow": null,
            "width": null,
            "min_width": null,
            "border": null,
            "align_items": null,
            "bottom": null,
            "_model_module": "@jupyter-widgets/base",
            "top": null,
            "grid_column": null,
            "overflow_y": null,
            "overflow_x": null,
            "grid_auto_flow": null,
            "grid_area": null,
            "grid_template_columns": null,
            "flex": null,
            "_model_name": "LayoutModel",
            "justify_items": null,
            "grid_row": null,
            "max_height": null,
            "align_content": null,
            "visibility": null,
            "align_self": null,
            "height": null,
            "min_height": null,
            "padding": null,
            "grid_auto_rows": null,
            "grid_gap": null,
            "max_width": null,
            "order": null,
            "_view_module_version": "1.2.0",
            "grid_template_areas": null,
            "object_position": null,
            "object_fit": null,
            "grid_auto_columns": null,
            "margin": null,
            "display": null,
            "left": null
          }
        },
        "bac5dadc000c4d0aa1c36f486fa0f398": {
          "model_module": "@jupyter-widgets/controls",
          "model_name": "DescriptionStyleModel",
          "state": {
            "_view_name": "StyleView",
            "_model_name": "DescriptionStyleModel",
            "description_width": "",
            "_view_module": "@jupyter-widgets/base",
            "_model_module_version": "1.5.0",
            "_view_count": null,
            "_view_module_version": "1.2.0",
            "_model_module": "@jupyter-widgets/controls"
          }
        },
        "91f276e9733b4671bdf1047e9941867d": {
          "model_module": "@jupyter-widgets/base",
          "model_name": "LayoutModel",
          "state": {
            "_view_name": "LayoutView",
            "grid_template_rows": null,
            "right": null,
            "justify_content": null,
            "_view_module": "@jupyter-widgets/base",
            "overflow": null,
            "_model_module_version": "1.2.0",
            "_view_count": null,
            "flex_flow": null,
            "width": null,
            "min_width": null,
            "border": null,
            "align_items": null,
            "bottom": null,
            "_model_module": "@jupyter-widgets/base",
            "top": null,
            "grid_column": null,
            "overflow_y": null,
            "overflow_x": null,
            "grid_auto_flow": null,
            "grid_area": null,
            "grid_template_columns": null,
            "flex": null,
            "_model_name": "LayoutModel",
            "justify_items": null,
            "grid_row": null,
            "max_height": null,
            "align_content": null,
            "visibility": null,
            "align_self": null,
            "height": null,
            "min_height": null,
            "padding": null,
            "grid_auto_rows": null,
            "grid_gap": null,
            "max_width": null,
            "order": null,
            "_view_module_version": "1.2.0",
            "grid_template_areas": null,
            "object_position": null,
            "object_fit": null,
            "grid_auto_columns": null,
            "margin": null,
            "display": null,
            "left": null
          }
        },
        "52bd98e0614d44f08251fb967537742f": {
          "model_module": "@jupyter-widgets/controls",
          "model_name": "HBoxModel",
          "state": {
            "_view_name": "HBoxView",
            "_dom_classes": [],
            "_model_name": "HBoxModel",
            "_view_module": "@jupyter-widgets/controls",
            "_model_module_version": "1.5.0",
            "_view_count": null,
            "_view_module_version": "1.5.0",
            "box_style": "",
            "layout": "IPY_MODEL_1692aefdb8c044aa96944572361439fa",
            "_model_module": "@jupyter-widgets/controls",
            "children": [
              "IPY_MODEL_5e696ffce1bb4a80a0bba7d9821b3c7a",
              "IPY_MODEL_f580dac218714c9d97d77f65a1018061"
            ]
          }
        },
        "1692aefdb8c044aa96944572361439fa": {
          "model_module": "@jupyter-widgets/base",
          "model_name": "LayoutModel",
          "state": {
            "_view_name": "LayoutView",
            "grid_template_rows": null,
            "right": null,
            "justify_content": null,
            "_view_module": "@jupyter-widgets/base",
            "overflow": null,
            "_model_module_version": "1.2.0",
            "_view_count": null,
            "flex_flow": null,
            "width": null,
            "min_width": null,
            "border": null,
            "align_items": null,
            "bottom": null,
            "_model_module": "@jupyter-widgets/base",
            "top": null,
            "grid_column": null,
            "overflow_y": null,
            "overflow_x": null,
            "grid_auto_flow": null,
            "grid_area": null,
            "grid_template_columns": null,
            "flex": null,
            "_model_name": "LayoutModel",
            "justify_items": null,
            "grid_row": null,
            "max_height": null,
            "align_content": null,
            "visibility": null,
            "align_self": null,
            "height": null,
            "min_height": null,
            "padding": null,
            "grid_auto_rows": null,
            "grid_gap": null,
            "max_width": null,
            "order": null,
            "_view_module_version": "1.2.0",
            "grid_template_areas": null,
            "object_position": null,
            "object_fit": null,
            "grid_auto_columns": null,
            "margin": null,
            "display": null,
            "left": null
          }
        },
        "5e696ffce1bb4a80a0bba7d9821b3c7a": {
          "model_module": "@jupyter-widgets/controls",
          "model_name": "FloatProgressModel",
          "state": {
            "_view_name": "ProgressView",
            "style": "IPY_MODEL_36ba534ced174996ae1594c38d21d045",
            "_dom_classes": [],
            "description": "#2: 100%",
            "_model_name": "FloatProgressModel",
            "bar_style": "success",
            "max": 56000,
            "_view_module": "@jupyter-widgets/controls",
            "_model_module_version": "1.5.0",
            "value": 56000,
            "_view_count": null,
            "_view_module_version": "1.5.0",
            "orientation": "horizontal",
            "min": 0,
            "description_tooltip": null,
            "_model_module": "@jupyter-widgets/controls",
            "layout": "IPY_MODEL_291231b5af37419fbdee70b6e01384bd"
          }
        },
        "f580dac218714c9d97d77f65a1018061": {
          "model_module": "@jupyter-widgets/controls",
          "model_name": "HTMLModel",
          "state": {
            "_view_name": "HTMLView",
            "style": "IPY_MODEL_2147cfe3cd904a7f89cf6bbecf963594",
            "_dom_classes": [],
            "description": "",
            "_model_name": "HTMLModel",
            "placeholder": "​",
            "_view_module": "@jupyter-widgets/controls",
            "_model_module_version": "1.5.0",
            "value": " 56000/56000 [00:33&lt;00:00, 1666.67ex/s]",
            "_view_count": null,
            "_view_module_version": "1.5.0",
            "description_tooltip": null,
            "_model_module": "@jupyter-widgets/controls",
            "layout": "IPY_MODEL_75c111966c514f8693b95d4160003f05"
          }
        },
        "36ba534ced174996ae1594c38d21d045": {
          "model_module": "@jupyter-widgets/controls",
          "model_name": "ProgressStyleModel",
          "state": {
            "_view_name": "StyleView",
            "_model_name": "ProgressStyleModel",
            "description_width": "initial",
            "_view_module": "@jupyter-widgets/base",
            "_model_module_version": "1.5.0",
            "_view_count": null,
            "_view_module_version": "1.2.0",
            "bar_color": null,
            "_model_module": "@jupyter-widgets/controls"
          }
        },
        "291231b5af37419fbdee70b6e01384bd": {
          "model_module": "@jupyter-widgets/base",
          "model_name": "LayoutModel",
          "state": {
            "_view_name": "LayoutView",
            "grid_template_rows": null,
            "right": null,
            "justify_content": null,
            "_view_module": "@jupyter-widgets/base",
            "overflow": null,
            "_model_module_version": "1.2.0",
            "_view_count": null,
            "flex_flow": null,
            "width": null,
            "min_width": null,
            "border": null,
            "align_items": null,
            "bottom": null,
            "_model_module": "@jupyter-widgets/base",
            "top": null,
            "grid_column": null,
            "overflow_y": null,
            "overflow_x": null,
            "grid_auto_flow": null,
            "grid_area": null,
            "grid_template_columns": null,
            "flex": null,
            "_model_name": "LayoutModel",
            "justify_items": null,
            "grid_row": null,
            "max_height": null,
            "align_content": null,
            "visibility": null,
            "align_self": null,
            "height": null,
            "min_height": null,
            "padding": null,
            "grid_auto_rows": null,
            "grid_gap": null,
            "max_width": null,
            "order": null,
            "_view_module_version": "1.2.0",
            "grid_template_areas": null,
            "object_position": null,
            "object_fit": null,
            "grid_auto_columns": null,
            "margin": null,
            "display": null,
            "left": null
          }
        },
        "2147cfe3cd904a7f89cf6bbecf963594": {
          "model_module": "@jupyter-widgets/controls",
          "model_name": "DescriptionStyleModel",
          "state": {
            "_view_name": "StyleView",
            "_model_name": "DescriptionStyleModel",
            "description_width": "",
            "_view_module": "@jupyter-widgets/base",
            "_model_module_version": "1.5.0",
            "_view_count": null,
            "_view_module_version": "1.2.0",
            "_model_module": "@jupyter-widgets/controls"
          }
        },
        "75c111966c514f8693b95d4160003f05": {
          "model_module": "@jupyter-widgets/base",
          "model_name": "LayoutModel",
          "state": {
            "_view_name": "LayoutView",
            "grid_template_rows": null,
            "right": null,
            "justify_content": null,
            "_view_module": "@jupyter-widgets/base",
            "overflow": null,
            "_model_module_version": "1.2.0",
            "_view_count": null,
            "flex_flow": null,
            "width": null,
            "min_width": null,
            "border": null,
            "align_items": null,
            "bottom": null,
            "_model_module": "@jupyter-widgets/base",
            "top": null,
            "grid_column": null,
            "overflow_y": null,
            "overflow_x": null,
            "grid_auto_flow": null,
            "grid_area": null,
            "grid_template_columns": null,
            "flex": null,
            "_model_name": "LayoutModel",
            "justify_items": null,
            "grid_row": null,
            "max_height": null,
            "align_content": null,
            "visibility": null,
            "align_self": null,
            "height": null,
            "min_height": null,
            "padding": null,
            "grid_auto_rows": null,
            "grid_gap": null,
            "max_width": null,
            "order": null,
            "_view_module_version": "1.2.0",
            "grid_template_areas": null,
            "object_position": null,
            "object_fit": null,
            "grid_auto_columns": null,
            "margin": null,
            "display": null,
            "left": null
          }
        },
        "3f0b660b33bf43b893b3c0c85761799b": {
          "model_module": "@jupyter-widgets/controls",
          "model_name": "HBoxModel",
          "state": {
            "_view_name": "HBoxView",
            "_dom_classes": [],
            "_model_name": "HBoxModel",
            "_view_module": "@jupyter-widgets/controls",
            "_model_module_version": "1.5.0",
            "_view_count": null,
            "_view_module_version": "1.5.0",
            "box_style": "",
            "layout": "IPY_MODEL_19da1fde4eef4b02a2fccde28e4f0cf6",
            "_model_module": "@jupyter-widgets/controls",
            "children": [
              "IPY_MODEL_3241308dc86a430583975d883432820d",
              "IPY_MODEL_f114457e979a4f2cbd97808b6e12de08"
            ]
          }
        },
        "19da1fde4eef4b02a2fccde28e4f0cf6": {
          "model_module": "@jupyter-widgets/base",
          "model_name": "LayoutModel",
          "state": {
            "_view_name": "LayoutView",
            "grid_template_rows": null,
            "right": null,
            "justify_content": null,
            "_view_module": "@jupyter-widgets/base",
            "overflow": null,
            "_model_module_version": "1.2.0",
            "_view_count": null,
            "flex_flow": null,
            "width": null,
            "min_width": null,
            "border": null,
            "align_items": null,
            "bottom": null,
            "_model_module": "@jupyter-widgets/base",
            "top": null,
            "grid_column": null,
            "overflow_y": null,
            "overflow_x": null,
            "grid_auto_flow": null,
            "grid_area": null,
            "grid_template_columns": null,
            "flex": null,
            "_model_name": "LayoutModel",
            "justify_items": null,
            "grid_row": null,
            "max_height": null,
            "align_content": null,
            "visibility": null,
            "align_self": null,
            "height": null,
            "min_height": null,
            "padding": null,
            "grid_auto_rows": null,
            "grid_gap": null,
            "max_width": null,
            "order": null,
            "_view_module_version": "1.2.0",
            "grid_template_areas": null,
            "object_position": null,
            "object_fit": null,
            "grid_auto_columns": null,
            "margin": null,
            "display": null,
            "left": null
          }
        },
        "3241308dc86a430583975d883432820d": {
          "model_module": "@jupyter-widgets/controls",
          "model_name": "FloatProgressModel",
          "state": {
            "_view_name": "ProgressView",
            "style": "IPY_MODEL_c1848c4cf0674d40b33412807b384f59",
            "_dom_classes": [],
            "description": "#3: 100%",
            "_model_name": "FloatProgressModel",
            "bar_style": "success",
            "max": 56000,
            "_view_module": "@jupyter-widgets/controls",
            "_model_module_version": "1.5.0",
            "value": 56000,
            "_view_count": null,
            "_view_module_version": "1.5.0",
            "orientation": "horizontal",
            "min": 0,
            "description_tooltip": null,
            "_model_module": "@jupyter-widgets/controls",
            "layout": "IPY_MODEL_025250a469374fc1989a8b5374a16968"
          }
        },
        "f114457e979a4f2cbd97808b6e12de08": {
          "model_module": "@jupyter-widgets/controls",
          "model_name": "HTMLModel",
          "state": {
            "_view_name": "HTMLView",
            "style": "IPY_MODEL_3d30719ff3ba468a9bf860f39f72b192",
            "_dom_classes": [],
            "description": "",
            "_model_name": "HTMLModel",
            "placeholder": "​",
            "_view_module": "@jupyter-widgets/controls",
            "_model_module_version": "1.5.0",
            "value": " 56000/56000 [00:40&lt;00:00, 1396.42ex/s]",
            "_view_count": null,
            "_view_module_version": "1.5.0",
            "description_tooltip": null,
            "_model_module": "@jupyter-widgets/controls",
            "layout": "IPY_MODEL_893aa7fed91f4e3e9e6367b81b78237a"
          }
        },
        "c1848c4cf0674d40b33412807b384f59": {
          "model_module": "@jupyter-widgets/controls",
          "model_name": "ProgressStyleModel",
          "state": {
            "_view_name": "StyleView",
            "_model_name": "ProgressStyleModel",
            "description_width": "initial",
            "_view_module": "@jupyter-widgets/base",
            "_model_module_version": "1.5.0",
            "_view_count": null,
            "_view_module_version": "1.2.0",
            "bar_color": null,
            "_model_module": "@jupyter-widgets/controls"
          }
        },
        "025250a469374fc1989a8b5374a16968": {
          "model_module": "@jupyter-widgets/base",
          "model_name": "LayoutModel",
          "state": {
            "_view_name": "LayoutView",
            "grid_template_rows": null,
            "right": null,
            "justify_content": null,
            "_view_module": "@jupyter-widgets/base",
            "overflow": null,
            "_model_module_version": "1.2.0",
            "_view_count": null,
            "flex_flow": null,
            "width": null,
            "min_width": null,
            "border": null,
            "align_items": null,
            "bottom": null,
            "_model_module": "@jupyter-widgets/base",
            "top": null,
            "grid_column": null,
            "overflow_y": null,
            "overflow_x": null,
            "grid_auto_flow": null,
            "grid_area": null,
            "grid_template_columns": null,
            "flex": null,
            "_model_name": "LayoutModel",
            "justify_items": null,
            "grid_row": null,
            "max_height": null,
            "align_content": null,
            "visibility": null,
            "align_self": null,
            "height": null,
            "min_height": null,
            "padding": null,
            "grid_auto_rows": null,
            "grid_gap": null,
            "max_width": null,
            "order": null,
            "_view_module_version": "1.2.0",
            "grid_template_areas": null,
            "object_position": null,
            "object_fit": null,
            "grid_auto_columns": null,
            "margin": null,
            "display": null,
            "left": null
          }
        },
        "3d30719ff3ba468a9bf860f39f72b192": {
          "model_module": "@jupyter-widgets/controls",
          "model_name": "DescriptionStyleModel",
          "state": {
            "_view_name": "StyleView",
            "_model_name": "DescriptionStyleModel",
            "description_width": "",
            "_view_module": "@jupyter-widgets/base",
            "_model_module_version": "1.5.0",
            "_view_count": null,
            "_view_module_version": "1.2.0",
            "_model_module": "@jupyter-widgets/controls"
          }
        },
        "893aa7fed91f4e3e9e6367b81b78237a": {
          "model_module": "@jupyter-widgets/base",
          "model_name": "LayoutModel",
          "state": {
            "_view_name": "LayoutView",
            "grid_template_rows": null,
            "right": null,
            "justify_content": null,
            "_view_module": "@jupyter-widgets/base",
            "overflow": null,
            "_model_module_version": "1.2.0",
            "_view_count": null,
            "flex_flow": null,
            "width": null,
            "min_width": null,
            "border": null,
            "align_items": null,
            "bottom": null,
            "_model_module": "@jupyter-widgets/base",
            "top": null,
            "grid_column": null,
            "overflow_y": null,
            "overflow_x": null,
            "grid_auto_flow": null,
            "grid_area": null,
            "grid_template_columns": null,
            "flex": null,
            "_model_name": "LayoutModel",
            "justify_items": null,
            "grid_row": null,
            "max_height": null,
            "align_content": null,
            "visibility": null,
            "align_self": null,
            "height": null,
            "min_height": null,
            "padding": null,
            "grid_auto_rows": null,
            "grid_gap": null,
            "max_width": null,
            "order": null,
            "_view_module_version": "1.2.0",
            "grid_template_areas": null,
            "object_position": null,
            "object_fit": null,
            "grid_auto_columns": null,
            "margin": null,
            "display": null,
            "left": null
          }
        },
        "49c64df78f994dec8002a06214143b10": {
          "model_module": "@jupyter-widgets/controls",
          "model_name": "HBoxModel",
          "state": {
            "_view_name": "HBoxView",
            "_dom_classes": [],
            "_model_name": "HBoxModel",
            "_view_module": "@jupyter-widgets/controls",
            "_model_module_version": "1.5.0",
            "_view_count": null,
            "_view_module_version": "1.5.0",
            "box_style": "",
            "layout": "IPY_MODEL_9b1cc9a76c0a45828b228775bedf0fa9",
            "_model_module": "@jupyter-widgets/controls",
            "children": [
              "IPY_MODEL_a25511e229df4466aca081cc6ec3bc5e",
              "IPY_MODEL_aeed87e78113419cbb5d6512f538dfe4"
            ]
          }
        },
        "9b1cc9a76c0a45828b228775bedf0fa9": {
          "model_module": "@jupyter-widgets/base",
          "model_name": "LayoutModel",
          "state": {
            "_view_name": "LayoutView",
            "grid_template_rows": null,
            "right": null,
            "justify_content": null,
            "_view_module": "@jupyter-widgets/base",
            "overflow": null,
            "_model_module_version": "1.2.0",
            "_view_count": null,
            "flex_flow": null,
            "width": null,
            "min_width": null,
            "border": null,
            "align_items": null,
            "bottom": null,
            "_model_module": "@jupyter-widgets/base",
            "top": null,
            "grid_column": null,
            "overflow_y": null,
            "overflow_x": null,
            "grid_auto_flow": null,
            "grid_area": null,
            "grid_template_columns": null,
            "flex": null,
            "_model_name": "LayoutModel",
            "justify_items": null,
            "grid_row": null,
            "max_height": null,
            "align_content": null,
            "visibility": null,
            "align_self": null,
            "height": null,
            "min_height": null,
            "padding": null,
            "grid_auto_rows": null,
            "grid_gap": null,
            "max_width": null,
            "order": null,
            "_view_module_version": "1.2.0",
            "grid_template_areas": null,
            "object_position": null,
            "object_fit": null,
            "grid_auto_columns": null,
            "margin": null,
            "display": null,
            "left": null
          }
        },
        "a25511e229df4466aca081cc6ec3bc5e": {
          "model_module": "@jupyter-widgets/controls",
          "model_name": "FloatProgressModel",
          "state": {
            "_view_name": "ProgressView",
            "style": "IPY_MODEL_9316d329f9d74ad39a0f8f34d2c053df",
            "_dom_classes": [],
            "description": "#4: 100%",
            "_model_name": "FloatProgressModel",
            "bar_style": "success",
            "max": 56000,
            "_view_module": "@jupyter-widgets/controls",
            "_model_module_version": "1.5.0",
            "value": 56000,
            "_view_count": null,
            "_view_module_version": "1.5.0",
            "orientation": "horizontal",
            "min": 0,
            "description_tooltip": null,
            "_model_module": "@jupyter-widgets/controls",
            "layout": "IPY_MODEL_322c41eab4284c19916a72e80514088d"
          }
        },
        "aeed87e78113419cbb5d6512f538dfe4": {
          "model_module": "@jupyter-widgets/controls",
          "model_name": "HTMLModel",
          "state": {
            "_view_name": "HTMLView",
            "style": "IPY_MODEL_83c78647c8734f30811ade09b5837f4e",
            "_dom_classes": [],
            "description": "",
            "_model_name": "HTMLModel",
            "placeholder": "​",
            "_view_module": "@jupyter-widgets/controls",
            "_model_module_version": "1.5.0",
            "value": " 56000/56000 [00:38&lt;00:00, 1471.34ex/s]",
            "_view_count": null,
            "_view_module_version": "1.5.0",
            "description_tooltip": null,
            "_model_module": "@jupyter-widgets/controls",
            "layout": "IPY_MODEL_7699c6ba0c2e4242a44735185c7af5a4"
          }
        },
        "9316d329f9d74ad39a0f8f34d2c053df": {
          "model_module": "@jupyter-widgets/controls",
          "model_name": "ProgressStyleModel",
          "state": {
            "_view_name": "StyleView",
            "_model_name": "ProgressStyleModel",
            "description_width": "initial",
            "_view_module": "@jupyter-widgets/base",
            "_model_module_version": "1.5.0",
            "_view_count": null,
            "_view_module_version": "1.2.0",
            "bar_color": null,
            "_model_module": "@jupyter-widgets/controls"
          }
        },
        "322c41eab4284c19916a72e80514088d": {
          "model_module": "@jupyter-widgets/base",
          "model_name": "LayoutModel",
          "state": {
            "_view_name": "LayoutView",
            "grid_template_rows": null,
            "right": null,
            "justify_content": null,
            "_view_module": "@jupyter-widgets/base",
            "overflow": null,
            "_model_module_version": "1.2.0",
            "_view_count": null,
            "flex_flow": null,
            "width": null,
            "min_width": null,
            "border": null,
            "align_items": null,
            "bottom": null,
            "_model_module": "@jupyter-widgets/base",
            "top": null,
            "grid_column": null,
            "overflow_y": null,
            "overflow_x": null,
            "grid_auto_flow": null,
            "grid_area": null,
            "grid_template_columns": null,
            "flex": null,
            "_model_name": "LayoutModel",
            "justify_items": null,
            "grid_row": null,
            "max_height": null,
            "align_content": null,
            "visibility": null,
            "align_self": null,
            "height": null,
            "min_height": null,
            "padding": null,
            "grid_auto_rows": null,
            "grid_gap": null,
            "max_width": null,
            "order": null,
            "_view_module_version": "1.2.0",
            "grid_template_areas": null,
            "object_position": null,
            "object_fit": null,
            "grid_auto_columns": null,
            "margin": null,
            "display": null,
            "left": null
          }
        },
        "83c78647c8734f30811ade09b5837f4e": {
          "model_module": "@jupyter-widgets/controls",
          "model_name": "DescriptionStyleModel",
          "state": {
            "_view_name": "StyleView",
            "_model_name": "DescriptionStyleModel",
            "description_width": "",
            "_view_module": "@jupyter-widgets/base",
            "_model_module_version": "1.5.0",
            "_view_count": null,
            "_view_module_version": "1.2.0",
            "_model_module": "@jupyter-widgets/controls"
          }
        },
        "7699c6ba0c2e4242a44735185c7af5a4": {
          "model_module": "@jupyter-widgets/base",
          "model_name": "LayoutModel",
          "state": {
            "_view_name": "LayoutView",
            "grid_template_rows": null,
            "right": null,
            "justify_content": null,
            "_view_module": "@jupyter-widgets/base",
            "overflow": null,
            "_model_module_version": "1.2.0",
            "_view_count": null,
            "flex_flow": null,
            "width": null,
            "min_width": null,
            "border": null,
            "align_items": null,
            "bottom": null,
            "_model_module": "@jupyter-widgets/base",
            "top": null,
            "grid_column": null,
            "overflow_y": null,
            "overflow_x": null,
            "grid_auto_flow": null,
            "grid_area": null,
            "grid_template_columns": null,
            "flex": null,
            "_model_name": "LayoutModel",
            "justify_items": null,
            "grid_row": null,
            "max_height": null,
            "align_content": null,
            "visibility": null,
            "align_self": null,
            "height": null,
            "min_height": null,
            "padding": null,
            "grid_auto_rows": null,
            "grid_gap": null,
            "max_width": null,
            "order": null,
            "_view_module_version": "1.2.0",
            "grid_template_areas": null,
            "object_position": null,
            "object_fit": null,
            "grid_auto_columns": null,
            "margin": null,
            "display": null,
            "left": null
          }
        },
        "3bd0e08a2a184246b3d4bb20dbb0d414": {
          "model_module": "@jupyter-widgets/controls",
          "model_name": "HBoxModel",
          "state": {
            "_view_name": "HBoxView",
            "_dom_classes": [],
            "_model_name": "HBoxModel",
            "_view_module": "@jupyter-widgets/controls",
            "_model_module_version": "1.5.0",
            "_view_count": null,
            "_view_module_version": "1.5.0",
            "box_style": "",
            "layout": "IPY_MODEL_9ee3eafb8e34440db0a81a52d3fa795f",
            "_model_module": "@jupyter-widgets/controls",
            "children": [
              "IPY_MODEL_6db454be0f3647b9925ba0b4c50c9504",
              "IPY_MODEL_8379feda903c4f36bcefce2cf35f224d"
            ]
          }
        },
        "9ee3eafb8e34440db0a81a52d3fa795f": {
          "model_module": "@jupyter-widgets/base",
          "model_name": "LayoutModel",
          "state": {
            "_view_name": "LayoutView",
            "grid_template_rows": null,
            "right": null,
            "justify_content": null,
            "_view_module": "@jupyter-widgets/base",
            "overflow": null,
            "_model_module_version": "1.2.0",
            "_view_count": null,
            "flex_flow": null,
            "width": null,
            "min_width": null,
            "border": null,
            "align_items": null,
            "bottom": null,
            "_model_module": "@jupyter-widgets/base",
            "top": null,
            "grid_column": null,
            "overflow_y": null,
            "overflow_x": null,
            "grid_auto_flow": null,
            "grid_area": null,
            "grid_template_columns": null,
            "flex": null,
            "_model_name": "LayoutModel",
            "justify_items": null,
            "grid_row": null,
            "max_height": null,
            "align_content": null,
            "visibility": null,
            "align_self": null,
            "height": null,
            "min_height": null,
            "padding": null,
            "grid_auto_rows": null,
            "grid_gap": null,
            "max_width": null,
            "order": null,
            "_view_module_version": "1.2.0",
            "grid_template_areas": null,
            "object_position": null,
            "object_fit": null,
            "grid_auto_columns": null,
            "margin": null,
            "display": null,
            "left": null
          }
        },
        "6db454be0f3647b9925ba0b4c50c9504": {
          "model_module": "@jupyter-widgets/controls",
          "model_name": "FloatProgressModel",
          "state": {
            "_view_name": "ProgressView",
            "style": "IPY_MODEL_905172b52a17471e97a42019de0efd07",
            "_dom_classes": [],
            "description": "#5: 100%",
            "_model_name": "FloatProgressModel",
            "bar_style": "success",
            "max": 56000,
            "_view_module": "@jupyter-widgets/controls",
            "_model_module_version": "1.5.0",
            "value": 56000,
            "_view_count": null,
            "_view_module_version": "1.5.0",
            "orientation": "horizontal",
            "min": 0,
            "description_tooltip": null,
            "_model_module": "@jupyter-widgets/controls",
            "layout": "IPY_MODEL_901cf19ee44f433c83fcb1a994b619ef"
          }
        },
        "8379feda903c4f36bcefce2cf35f224d": {
          "model_module": "@jupyter-widgets/controls",
          "model_name": "HTMLModel",
          "state": {
            "_view_name": "HTMLView",
            "style": "IPY_MODEL_e3397549771d44e383b310687df0c90a",
            "_dom_classes": [],
            "description": "",
            "_model_name": "HTMLModel",
            "placeholder": "​",
            "_view_module": "@jupyter-widgets/controls",
            "_model_module_version": "1.5.0",
            "value": " 56000/56000 [00:40&lt;00:00, 1397.21ex/s]",
            "_view_count": null,
            "_view_module_version": "1.5.0",
            "description_tooltip": null,
            "_model_module": "@jupyter-widgets/controls",
            "layout": "IPY_MODEL_7d44dd9026c9414a9a7e602607ade738"
          }
        },
        "905172b52a17471e97a42019de0efd07": {
          "model_module": "@jupyter-widgets/controls",
          "model_name": "ProgressStyleModel",
          "state": {
            "_view_name": "StyleView",
            "_model_name": "ProgressStyleModel",
            "description_width": "initial",
            "_view_module": "@jupyter-widgets/base",
            "_model_module_version": "1.5.0",
            "_view_count": null,
            "_view_module_version": "1.2.0",
            "bar_color": null,
            "_model_module": "@jupyter-widgets/controls"
          }
        },
        "901cf19ee44f433c83fcb1a994b619ef": {
          "model_module": "@jupyter-widgets/base",
          "model_name": "LayoutModel",
          "state": {
            "_view_name": "LayoutView",
            "grid_template_rows": null,
            "right": null,
            "justify_content": null,
            "_view_module": "@jupyter-widgets/base",
            "overflow": null,
            "_model_module_version": "1.2.0",
            "_view_count": null,
            "flex_flow": null,
            "width": null,
            "min_width": null,
            "border": null,
            "align_items": null,
            "bottom": null,
            "_model_module": "@jupyter-widgets/base",
            "top": null,
            "grid_column": null,
            "overflow_y": null,
            "overflow_x": null,
            "grid_auto_flow": null,
            "grid_area": null,
            "grid_template_columns": null,
            "flex": null,
            "_model_name": "LayoutModel",
            "justify_items": null,
            "grid_row": null,
            "max_height": null,
            "align_content": null,
            "visibility": null,
            "align_self": null,
            "height": null,
            "min_height": null,
            "padding": null,
            "grid_auto_rows": null,
            "grid_gap": null,
            "max_width": null,
            "order": null,
            "_view_module_version": "1.2.0",
            "grid_template_areas": null,
            "object_position": null,
            "object_fit": null,
            "grid_auto_columns": null,
            "margin": null,
            "display": null,
            "left": null
          }
        },
        "e3397549771d44e383b310687df0c90a": {
          "model_module": "@jupyter-widgets/controls",
          "model_name": "DescriptionStyleModel",
          "state": {
            "_view_name": "StyleView",
            "_model_name": "DescriptionStyleModel",
            "description_width": "",
            "_view_module": "@jupyter-widgets/base",
            "_model_module_version": "1.5.0",
            "_view_count": null,
            "_view_module_version": "1.2.0",
            "_model_module": "@jupyter-widgets/controls"
          }
        },
        "7d44dd9026c9414a9a7e602607ade738": {
          "model_module": "@jupyter-widgets/base",
          "model_name": "LayoutModel",
          "state": {
            "_view_name": "LayoutView",
            "grid_template_rows": null,
            "right": null,
            "justify_content": null,
            "_view_module": "@jupyter-widgets/base",
            "overflow": null,
            "_model_module_version": "1.2.0",
            "_view_count": null,
            "flex_flow": null,
            "width": null,
            "min_width": null,
            "border": null,
            "align_items": null,
            "bottom": null,
            "_model_module": "@jupyter-widgets/base",
            "top": null,
            "grid_column": null,
            "overflow_y": null,
            "overflow_x": null,
            "grid_auto_flow": null,
            "grid_area": null,
            "grid_template_columns": null,
            "flex": null,
            "_model_name": "LayoutModel",
            "justify_items": null,
            "grid_row": null,
            "max_height": null,
            "align_content": null,
            "visibility": null,
            "align_self": null,
            "height": null,
            "min_height": null,
            "padding": null,
            "grid_auto_rows": null,
            "grid_gap": null,
            "max_width": null,
            "order": null,
            "_view_module_version": "1.2.0",
            "grid_template_areas": null,
            "object_position": null,
            "object_fit": null,
            "grid_auto_columns": null,
            "margin": null,
            "display": null,
            "left": null
          }
        },
        "5c40e96b09c24dddae089e632e0ecbc0": {
          "model_module": "@jupyter-widgets/controls",
          "model_name": "HBoxModel",
          "state": {
            "_view_name": "HBoxView",
            "_dom_classes": [],
            "_model_name": "HBoxModel",
            "_view_module": "@jupyter-widgets/controls",
            "_model_module_version": "1.5.0",
            "_view_count": null,
            "_view_module_version": "1.5.0",
            "box_style": "",
            "layout": "IPY_MODEL_96f113ab3e0b4b50a40515c85097924c",
            "_model_module": "@jupyter-widgets/controls",
            "children": [
              "IPY_MODEL_723a04c23bbd4dfcaedf98c2d52edd90",
              "IPY_MODEL_a4a3adaf2a8d4435b9cbd67c5cab0ad3"
            ]
          }
        },
        "96f113ab3e0b4b50a40515c85097924c": {
          "model_module": "@jupyter-widgets/base",
          "model_name": "LayoutModel",
          "state": {
            "_view_name": "LayoutView",
            "grid_template_rows": null,
            "right": null,
            "justify_content": null,
            "_view_module": "@jupyter-widgets/base",
            "overflow": null,
            "_model_module_version": "1.2.0",
            "_view_count": null,
            "flex_flow": null,
            "width": null,
            "min_width": null,
            "border": null,
            "align_items": null,
            "bottom": null,
            "_model_module": "@jupyter-widgets/base",
            "top": null,
            "grid_column": null,
            "overflow_y": null,
            "overflow_x": null,
            "grid_auto_flow": null,
            "grid_area": null,
            "grid_template_columns": null,
            "flex": null,
            "_model_name": "LayoutModel",
            "justify_items": null,
            "grid_row": null,
            "max_height": null,
            "align_content": null,
            "visibility": null,
            "align_self": null,
            "height": null,
            "min_height": null,
            "padding": null,
            "grid_auto_rows": null,
            "grid_gap": null,
            "max_width": null,
            "order": null,
            "_view_module_version": "1.2.0",
            "grid_template_areas": null,
            "object_position": null,
            "object_fit": null,
            "grid_auto_columns": null,
            "margin": null,
            "display": null,
            "left": null
          }
        },
        "723a04c23bbd4dfcaedf98c2d52edd90": {
          "model_module": "@jupyter-widgets/controls",
          "model_name": "FloatProgressModel",
          "state": {
            "_view_name": "ProgressView",
            "style": "IPY_MODEL_d043f92e27e14073a82ddc582eae9abf",
            "_dom_classes": [],
            "description": "#6: 100%",
            "_model_name": "FloatProgressModel",
            "bar_style": "success",
            "max": 56000,
            "_view_module": "@jupyter-widgets/controls",
            "_model_module_version": "1.5.0",
            "value": 56000,
            "_view_count": null,
            "_view_module_version": "1.5.0",
            "orientation": "horizontal",
            "min": 0,
            "description_tooltip": null,
            "_model_module": "@jupyter-widgets/controls",
            "layout": "IPY_MODEL_0c6ecf6d009c4347a995d4455bc0e609"
          }
        },
        "a4a3adaf2a8d4435b9cbd67c5cab0ad3": {
          "model_module": "@jupyter-widgets/controls",
          "model_name": "HTMLModel",
          "state": {
            "_view_name": "HTMLView",
            "style": "IPY_MODEL_aa017df16be44431b7ba3509517b1390",
            "_dom_classes": [],
            "description": "",
            "_model_name": "HTMLModel",
            "placeholder": "​",
            "_view_module": "@jupyter-widgets/controls",
            "_model_module_version": "1.5.0",
            "value": " 56000/56000 [00:39&lt;00:00, 1423.16ex/s]",
            "_view_count": null,
            "_view_module_version": "1.5.0",
            "description_tooltip": null,
            "_model_module": "@jupyter-widgets/controls",
            "layout": "IPY_MODEL_1d4721f5b7e444e39c3763110e147409"
          }
        },
        "d043f92e27e14073a82ddc582eae9abf": {
          "model_module": "@jupyter-widgets/controls",
          "model_name": "ProgressStyleModel",
          "state": {
            "_view_name": "StyleView",
            "_model_name": "ProgressStyleModel",
            "description_width": "initial",
            "_view_module": "@jupyter-widgets/base",
            "_model_module_version": "1.5.0",
            "_view_count": null,
            "_view_module_version": "1.2.0",
            "bar_color": null,
            "_model_module": "@jupyter-widgets/controls"
          }
        },
        "0c6ecf6d009c4347a995d4455bc0e609": {
          "model_module": "@jupyter-widgets/base",
          "model_name": "LayoutModel",
          "state": {
            "_view_name": "LayoutView",
            "grid_template_rows": null,
            "right": null,
            "justify_content": null,
            "_view_module": "@jupyter-widgets/base",
            "overflow": null,
            "_model_module_version": "1.2.0",
            "_view_count": null,
            "flex_flow": null,
            "width": null,
            "min_width": null,
            "border": null,
            "align_items": null,
            "bottom": null,
            "_model_module": "@jupyter-widgets/base",
            "top": null,
            "grid_column": null,
            "overflow_y": null,
            "overflow_x": null,
            "grid_auto_flow": null,
            "grid_area": null,
            "grid_template_columns": null,
            "flex": null,
            "_model_name": "LayoutModel",
            "justify_items": null,
            "grid_row": null,
            "max_height": null,
            "align_content": null,
            "visibility": null,
            "align_self": null,
            "height": null,
            "min_height": null,
            "padding": null,
            "grid_auto_rows": null,
            "grid_gap": null,
            "max_width": null,
            "order": null,
            "_view_module_version": "1.2.0",
            "grid_template_areas": null,
            "object_position": null,
            "object_fit": null,
            "grid_auto_columns": null,
            "margin": null,
            "display": null,
            "left": null
          }
        },
        "aa017df16be44431b7ba3509517b1390": {
          "model_module": "@jupyter-widgets/controls",
          "model_name": "DescriptionStyleModel",
          "state": {
            "_view_name": "StyleView",
            "_model_name": "DescriptionStyleModel",
            "description_width": "",
            "_view_module": "@jupyter-widgets/base",
            "_model_module_version": "1.5.0",
            "_view_count": null,
            "_view_module_version": "1.2.0",
            "_model_module": "@jupyter-widgets/controls"
          }
        },
        "1d4721f5b7e444e39c3763110e147409": {
          "model_module": "@jupyter-widgets/base",
          "model_name": "LayoutModel",
          "state": {
            "_view_name": "LayoutView",
            "grid_template_rows": null,
            "right": null,
            "justify_content": null,
            "_view_module": "@jupyter-widgets/base",
            "overflow": null,
            "_model_module_version": "1.2.0",
            "_view_count": null,
            "flex_flow": null,
            "width": null,
            "min_width": null,
            "border": null,
            "align_items": null,
            "bottom": null,
            "_model_module": "@jupyter-widgets/base",
            "top": null,
            "grid_column": null,
            "overflow_y": null,
            "overflow_x": null,
            "grid_auto_flow": null,
            "grid_area": null,
            "grid_template_columns": null,
            "flex": null,
            "_model_name": "LayoutModel",
            "justify_items": null,
            "grid_row": null,
            "max_height": null,
            "align_content": null,
            "visibility": null,
            "align_self": null,
            "height": null,
            "min_height": null,
            "padding": null,
            "grid_auto_rows": null,
            "grid_gap": null,
            "max_width": null,
            "order": null,
            "_view_module_version": "1.2.0",
            "grid_template_areas": null,
            "object_position": null,
            "object_fit": null,
            "grid_auto_columns": null,
            "margin": null,
            "display": null,
            "left": null
          }
        },
        "b448332f4a0e4e33856f949674fb70f0": {
          "model_module": "@jupyter-widgets/controls",
          "model_name": "HBoxModel",
          "state": {
            "_view_name": "HBoxView",
            "_dom_classes": [],
            "_model_name": "HBoxModel",
            "_view_module": "@jupyter-widgets/controls",
            "_model_module_version": "1.5.0",
            "_view_count": null,
            "_view_module_version": "1.5.0",
            "box_style": "",
            "layout": "IPY_MODEL_a3db62ec2c344b67b6a781e59fba1f5a",
            "_model_module": "@jupyter-widgets/controls",
            "children": [
              "IPY_MODEL_39c13fb2571f434399cc9e70dd1c85a5",
              "IPY_MODEL_faa57b5839544031bbfc54d3611f27c4"
            ]
          }
        },
        "a3db62ec2c344b67b6a781e59fba1f5a": {
          "model_module": "@jupyter-widgets/base",
          "model_name": "LayoutModel",
          "state": {
            "_view_name": "LayoutView",
            "grid_template_rows": null,
            "right": null,
            "justify_content": null,
            "_view_module": "@jupyter-widgets/base",
            "overflow": null,
            "_model_module_version": "1.2.0",
            "_view_count": null,
            "flex_flow": null,
            "width": null,
            "min_width": null,
            "border": null,
            "align_items": null,
            "bottom": null,
            "_model_module": "@jupyter-widgets/base",
            "top": null,
            "grid_column": null,
            "overflow_y": null,
            "overflow_x": null,
            "grid_auto_flow": null,
            "grid_area": null,
            "grid_template_columns": null,
            "flex": null,
            "_model_name": "LayoutModel",
            "justify_items": null,
            "grid_row": null,
            "max_height": null,
            "align_content": null,
            "visibility": null,
            "align_self": null,
            "height": null,
            "min_height": null,
            "padding": null,
            "grid_auto_rows": null,
            "grid_gap": null,
            "max_width": null,
            "order": null,
            "_view_module_version": "1.2.0",
            "grid_template_areas": null,
            "object_position": null,
            "object_fit": null,
            "grid_auto_columns": null,
            "margin": null,
            "display": null,
            "left": null
          }
        },
        "39c13fb2571f434399cc9e70dd1c85a5": {
          "model_module": "@jupyter-widgets/controls",
          "model_name": "FloatProgressModel",
          "state": {
            "_view_name": "ProgressView",
            "style": "IPY_MODEL_b74431249bae42cd9a23e08997a75b86",
            "_dom_classes": [],
            "description": "#7: 100%",
            "_model_name": "FloatProgressModel",
            "bar_style": "success",
            "max": 56000,
            "_view_module": "@jupyter-widgets/controls",
            "_model_module_version": "1.5.0",
            "value": 56000,
            "_view_count": null,
            "_view_module_version": "1.5.0",
            "orientation": "horizontal",
            "min": 0,
            "description_tooltip": null,
            "_model_module": "@jupyter-widgets/controls",
            "layout": "IPY_MODEL_2c46a1d861be405ab37cf129fdb5c7e3"
          }
        },
        "faa57b5839544031bbfc54d3611f27c4": {
          "model_module": "@jupyter-widgets/controls",
          "model_name": "HTMLModel",
          "state": {
            "_view_name": "HTMLView",
            "style": "IPY_MODEL_3bb80adca157437f8c529ff94742ff7c",
            "_dom_classes": [],
            "description": "",
            "_model_name": "HTMLModel",
            "placeholder": "​",
            "_view_module": "@jupyter-widgets/controls",
            "_model_module_version": "1.5.0",
            "value": " 56000/56000 [00:39&lt;00:00, 1427.81ex/s]",
            "_view_count": null,
            "_view_module_version": "1.5.0",
            "description_tooltip": null,
            "_model_module": "@jupyter-widgets/controls",
            "layout": "IPY_MODEL_19aee17eae8644e48b2d941bb4d13234"
          }
        },
        "b74431249bae42cd9a23e08997a75b86": {
          "model_module": "@jupyter-widgets/controls",
          "model_name": "ProgressStyleModel",
          "state": {
            "_view_name": "StyleView",
            "_model_name": "ProgressStyleModel",
            "description_width": "initial",
            "_view_module": "@jupyter-widgets/base",
            "_model_module_version": "1.5.0",
            "_view_count": null,
            "_view_module_version": "1.2.0",
            "bar_color": null,
            "_model_module": "@jupyter-widgets/controls"
          }
        },
        "2c46a1d861be405ab37cf129fdb5c7e3": {
          "model_module": "@jupyter-widgets/base",
          "model_name": "LayoutModel",
          "state": {
            "_view_name": "LayoutView",
            "grid_template_rows": null,
            "right": null,
            "justify_content": null,
            "_view_module": "@jupyter-widgets/base",
            "overflow": null,
            "_model_module_version": "1.2.0",
            "_view_count": null,
            "flex_flow": null,
            "width": null,
            "min_width": null,
            "border": null,
            "align_items": null,
            "bottom": null,
            "_model_module": "@jupyter-widgets/base",
            "top": null,
            "grid_column": null,
            "overflow_y": null,
            "overflow_x": null,
            "grid_auto_flow": null,
            "grid_area": null,
            "grid_template_columns": null,
            "flex": null,
            "_model_name": "LayoutModel",
            "justify_items": null,
            "grid_row": null,
            "max_height": null,
            "align_content": null,
            "visibility": null,
            "align_self": null,
            "height": null,
            "min_height": null,
            "padding": null,
            "grid_auto_rows": null,
            "grid_gap": null,
            "max_width": null,
            "order": null,
            "_view_module_version": "1.2.0",
            "grid_template_areas": null,
            "object_position": null,
            "object_fit": null,
            "grid_auto_columns": null,
            "margin": null,
            "display": null,
            "left": null
          }
        },
        "3bb80adca157437f8c529ff94742ff7c": {
          "model_module": "@jupyter-widgets/controls",
          "model_name": "DescriptionStyleModel",
          "state": {
            "_view_name": "StyleView",
            "_model_name": "DescriptionStyleModel",
            "description_width": "",
            "_view_module": "@jupyter-widgets/base",
            "_model_module_version": "1.5.0",
            "_view_count": null,
            "_view_module_version": "1.2.0",
            "_model_module": "@jupyter-widgets/controls"
          }
        },
        "19aee17eae8644e48b2d941bb4d13234": {
          "model_module": "@jupyter-widgets/base",
          "model_name": "LayoutModel",
          "state": {
            "_view_name": "LayoutView",
            "grid_template_rows": null,
            "right": null,
            "justify_content": null,
            "_view_module": "@jupyter-widgets/base",
            "overflow": null,
            "_model_module_version": "1.2.0",
            "_view_count": null,
            "flex_flow": null,
            "width": null,
            "min_width": null,
            "border": null,
            "align_items": null,
            "bottom": null,
            "_model_module": "@jupyter-widgets/base",
            "top": null,
            "grid_column": null,
            "overflow_y": null,
            "overflow_x": null,
            "grid_auto_flow": null,
            "grid_area": null,
            "grid_template_columns": null,
            "flex": null,
            "_model_name": "LayoutModel",
            "justify_items": null,
            "grid_row": null,
            "max_height": null,
            "align_content": null,
            "visibility": null,
            "align_self": null,
            "height": null,
            "min_height": null,
            "padding": null,
            "grid_auto_rows": null,
            "grid_gap": null,
            "max_width": null,
            "order": null,
            "_view_module_version": "1.2.0",
            "grid_template_areas": null,
            "object_position": null,
            "object_fit": null,
            "grid_auto_columns": null,
            "margin": null,
            "display": null,
            "left": null
          }
        },
        "0a7f71cf721d449faba3ea5ecbbe0406": {
          "model_module": "@jupyter-widgets/controls",
          "model_name": "HBoxModel",
          "state": {
            "_view_name": "HBoxView",
            "_dom_classes": [],
            "_model_name": "HBoxModel",
            "_view_module": "@jupyter-widgets/controls",
            "_model_module_version": "1.5.0",
            "_view_count": null,
            "_view_module_version": "1.5.0",
            "box_style": "",
            "layout": "IPY_MODEL_1df1d1fd1d2f472dad805060baa1cc4e",
            "_model_module": "@jupyter-widgets/controls",
            "children": [
              "IPY_MODEL_dcc906603a96475abed89750feaec742",
              "IPY_MODEL_0c23a2282923479ea080b3d543a998f6"
            ]
          }
        },
        "1df1d1fd1d2f472dad805060baa1cc4e": {
          "model_module": "@jupyter-widgets/base",
          "model_name": "LayoutModel",
          "state": {
            "_view_name": "LayoutView",
            "grid_template_rows": null,
            "right": null,
            "justify_content": null,
            "_view_module": "@jupyter-widgets/base",
            "overflow": null,
            "_model_module_version": "1.2.0",
            "_view_count": null,
            "flex_flow": null,
            "width": null,
            "min_width": null,
            "border": null,
            "align_items": null,
            "bottom": null,
            "_model_module": "@jupyter-widgets/base",
            "top": null,
            "grid_column": null,
            "overflow_y": null,
            "overflow_x": null,
            "grid_auto_flow": null,
            "grid_area": null,
            "grid_template_columns": null,
            "flex": null,
            "_model_name": "LayoutModel",
            "justify_items": null,
            "grid_row": null,
            "max_height": null,
            "align_content": null,
            "visibility": null,
            "align_self": null,
            "height": null,
            "min_height": null,
            "padding": null,
            "grid_auto_rows": null,
            "grid_gap": null,
            "max_width": null,
            "order": null,
            "_view_module_version": "1.2.0",
            "grid_template_areas": null,
            "object_position": null,
            "object_fit": null,
            "grid_auto_columns": null,
            "margin": null,
            "display": null,
            "left": null
          }
        },
        "dcc906603a96475abed89750feaec742": {
          "model_module": "@jupyter-widgets/controls",
          "model_name": "FloatProgressModel",
          "state": {
            "_view_name": "ProgressView",
            "style": "IPY_MODEL_41f8e056d6374a239400f37a6bc2cf3f",
            "_dom_classes": [],
            "description": "#8: 100%",
            "_model_name": "FloatProgressModel",
            "bar_style": "success",
            "max": 56000,
            "_view_module": "@jupyter-widgets/controls",
            "_model_module_version": "1.5.0",
            "value": 56000,
            "_view_count": null,
            "_view_module_version": "1.5.0",
            "orientation": "horizontal",
            "min": 0,
            "description_tooltip": null,
            "_model_module": "@jupyter-widgets/controls",
            "layout": "IPY_MODEL_dce959dfb876424ca78b0c581e1901cd"
          }
        },
        "0c23a2282923479ea080b3d543a998f6": {
          "model_module": "@jupyter-widgets/controls",
          "model_name": "HTMLModel",
          "state": {
            "_view_name": "HTMLView",
            "style": "IPY_MODEL_a884ba43731a4c7b8b66a1ec44a1e5b6",
            "_dom_classes": [],
            "description": "",
            "_model_name": "HTMLModel",
            "placeholder": "​",
            "_view_module": "@jupyter-widgets/controls",
            "_model_module_version": "1.5.0",
            "value": " 56000/56000 [00:37&lt;00:00, 1478.92ex/s]",
            "_view_count": null,
            "_view_module_version": "1.5.0",
            "description_tooltip": null,
            "_model_module": "@jupyter-widgets/controls",
            "layout": "IPY_MODEL_7657462f5f6d4b76b1ac7f2722e35892"
          }
        },
        "41f8e056d6374a239400f37a6bc2cf3f": {
          "model_module": "@jupyter-widgets/controls",
          "model_name": "ProgressStyleModel",
          "state": {
            "_view_name": "StyleView",
            "_model_name": "ProgressStyleModel",
            "description_width": "initial",
            "_view_module": "@jupyter-widgets/base",
            "_model_module_version": "1.5.0",
            "_view_count": null,
            "_view_module_version": "1.2.0",
            "bar_color": null,
            "_model_module": "@jupyter-widgets/controls"
          }
        },
        "dce959dfb876424ca78b0c581e1901cd": {
          "model_module": "@jupyter-widgets/base",
          "model_name": "LayoutModel",
          "state": {
            "_view_name": "LayoutView",
            "grid_template_rows": null,
            "right": null,
            "justify_content": null,
            "_view_module": "@jupyter-widgets/base",
            "overflow": null,
            "_model_module_version": "1.2.0",
            "_view_count": null,
            "flex_flow": null,
            "width": null,
            "min_width": null,
            "border": null,
            "align_items": null,
            "bottom": null,
            "_model_module": "@jupyter-widgets/base",
            "top": null,
            "grid_column": null,
            "overflow_y": null,
            "overflow_x": null,
            "grid_auto_flow": null,
            "grid_area": null,
            "grid_template_columns": null,
            "flex": null,
            "_model_name": "LayoutModel",
            "justify_items": null,
            "grid_row": null,
            "max_height": null,
            "align_content": null,
            "visibility": null,
            "align_self": null,
            "height": null,
            "min_height": null,
            "padding": null,
            "grid_auto_rows": null,
            "grid_gap": null,
            "max_width": null,
            "order": null,
            "_view_module_version": "1.2.0",
            "grid_template_areas": null,
            "object_position": null,
            "object_fit": null,
            "grid_auto_columns": null,
            "margin": null,
            "display": null,
            "left": null
          }
        },
        "a884ba43731a4c7b8b66a1ec44a1e5b6": {
          "model_module": "@jupyter-widgets/controls",
          "model_name": "DescriptionStyleModel",
          "state": {
            "_view_name": "StyleView",
            "_model_name": "DescriptionStyleModel",
            "description_width": "",
            "_view_module": "@jupyter-widgets/base",
            "_model_module_version": "1.5.0",
            "_view_count": null,
            "_view_module_version": "1.2.0",
            "_model_module": "@jupyter-widgets/controls"
          }
        },
        "7657462f5f6d4b76b1ac7f2722e35892": {
          "model_module": "@jupyter-widgets/base",
          "model_name": "LayoutModel",
          "state": {
            "_view_name": "LayoutView",
            "grid_template_rows": null,
            "right": null,
            "justify_content": null,
            "_view_module": "@jupyter-widgets/base",
            "overflow": null,
            "_model_module_version": "1.2.0",
            "_view_count": null,
            "flex_flow": null,
            "width": null,
            "min_width": null,
            "border": null,
            "align_items": null,
            "bottom": null,
            "_model_module": "@jupyter-widgets/base",
            "top": null,
            "grid_column": null,
            "overflow_y": null,
            "overflow_x": null,
            "grid_auto_flow": null,
            "grid_area": null,
            "grid_template_columns": null,
            "flex": null,
            "_model_name": "LayoutModel",
            "justify_items": null,
            "grid_row": null,
            "max_height": null,
            "align_content": null,
            "visibility": null,
            "align_self": null,
            "height": null,
            "min_height": null,
            "padding": null,
            "grid_auto_rows": null,
            "grid_gap": null,
            "max_width": null,
            "order": null,
            "_view_module_version": "1.2.0",
            "grid_template_areas": null,
            "object_position": null,
            "object_fit": null,
            "grid_auto_columns": null,
            "margin": null,
            "display": null,
            "left": null
          }
        },
        "14e6bbb6e6e04387ae6f70e4f3ce4d9f": {
          "model_module": "@jupyter-widgets/controls",
          "model_name": "HBoxModel",
          "state": {
            "_view_name": "HBoxView",
            "_dom_classes": [],
            "_model_name": "HBoxModel",
            "_view_module": "@jupyter-widgets/controls",
            "_model_module_version": "1.5.0",
            "_view_count": null,
            "_view_module_version": "1.5.0",
            "box_style": "",
            "layout": "IPY_MODEL_01f769ca93974de398c05448c6117060",
            "_model_module": "@jupyter-widgets/controls",
            "children": [
              "IPY_MODEL_6d6f18d8c07e42c1bb078b8e1c1ee91b",
              "IPY_MODEL_ce814765e711440499e43551726c6029"
            ]
          }
        },
        "01f769ca93974de398c05448c6117060": {
          "model_module": "@jupyter-widgets/base",
          "model_name": "LayoutModel",
          "state": {
            "_view_name": "LayoutView",
            "grid_template_rows": null,
            "right": null,
            "justify_content": null,
            "_view_module": "@jupyter-widgets/base",
            "overflow": null,
            "_model_module_version": "1.2.0",
            "_view_count": null,
            "flex_flow": null,
            "width": null,
            "min_width": null,
            "border": null,
            "align_items": null,
            "bottom": null,
            "_model_module": "@jupyter-widgets/base",
            "top": null,
            "grid_column": null,
            "overflow_y": null,
            "overflow_x": null,
            "grid_auto_flow": null,
            "grid_area": null,
            "grid_template_columns": null,
            "flex": null,
            "_model_name": "LayoutModel",
            "justify_items": null,
            "grid_row": null,
            "max_height": null,
            "align_content": null,
            "visibility": null,
            "align_self": null,
            "height": null,
            "min_height": null,
            "padding": null,
            "grid_auto_rows": null,
            "grid_gap": null,
            "max_width": null,
            "order": null,
            "_view_module_version": "1.2.0",
            "grid_template_areas": null,
            "object_position": null,
            "object_fit": null,
            "grid_auto_columns": null,
            "margin": null,
            "display": null,
            "left": null
          }
        },
        "6d6f18d8c07e42c1bb078b8e1c1ee91b": {
          "model_module": "@jupyter-widgets/controls",
          "model_name": "FloatProgressModel",
          "state": {
            "_view_name": "ProgressView",
            "style": "IPY_MODEL_d9ee144fcdfd4542beb21d0670c3648c",
            "_dom_classes": [],
            "description": "#9: 100%",
            "_model_name": "FloatProgressModel",
            "bar_style": "success",
            "max": 56000,
            "_view_module": "@jupyter-widgets/controls",
            "_model_module_version": "1.5.0",
            "value": 56000,
            "_view_count": null,
            "_view_module_version": "1.5.0",
            "orientation": "horizontal",
            "min": 0,
            "description_tooltip": null,
            "_model_module": "@jupyter-widgets/controls",
            "layout": "IPY_MODEL_362a230409ef445ea7492c2a51391832"
          }
        },
        "ce814765e711440499e43551726c6029": {
          "model_module": "@jupyter-widgets/controls",
          "model_name": "HTMLModel",
          "state": {
            "_view_name": "HTMLView",
            "style": "IPY_MODEL_033694a09f52432cbfea62f2e4a446c3",
            "_dom_classes": [],
            "description": "",
            "_model_name": "HTMLModel",
            "placeholder": "​",
            "_view_module": "@jupyter-widgets/controls",
            "_model_module_version": "1.5.0",
            "value": " 56000/56000 [00:37&lt;00:00, 1513.50ex/s]",
            "_view_count": null,
            "_view_module_version": "1.5.0",
            "description_tooltip": null,
            "_model_module": "@jupyter-widgets/controls",
            "layout": "IPY_MODEL_266b7cf146ba4e908f7123eee2578aa0"
          }
        },
        "d9ee144fcdfd4542beb21d0670c3648c": {
          "model_module": "@jupyter-widgets/controls",
          "model_name": "ProgressStyleModel",
          "state": {
            "_view_name": "StyleView",
            "_model_name": "ProgressStyleModel",
            "description_width": "initial",
            "_view_module": "@jupyter-widgets/base",
            "_model_module_version": "1.5.0",
            "_view_count": null,
            "_view_module_version": "1.2.0",
            "bar_color": null,
            "_model_module": "@jupyter-widgets/controls"
          }
        },
        "362a230409ef445ea7492c2a51391832": {
          "model_module": "@jupyter-widgets/base",
          "model_name": "LayoutModel",
          "state": {
            "_view_name": "LayoutView",
            "grid_template_rows": null,
            "right": null,
            "justify_content": null,
            "_view_module": "@jupyter-widgets/base",
            "overflow": null,
            "_model_module_version": "1.2.0",
            "_view_count": null,
            "flex_flow": null,
            "width": null,
            "min_width": null,
            "border": null,
            "align_items": null,
            "bottom": null,
            "_model_module": "@jupyter-widgets/base",
            "top": null,
            "grid_column": null,
            "overflow_y": null,
            "overflow_x": null,
            "grid_auto_flow": null,
            "grid_area": null,
            "grid_template_columns": null,
            "flex": null,
            "_model_name": "LayoutModel",
            "justify_items": null,
            "grid_row": null,
            "max_height": null,
            "align_content": null,
            "visibility": null,
            "align_self": null,
            "height": null,
            "min_height": null,
            "padding": null,
            "grid_auto_rows": null,
            "grid_gap": null,
            "max_width": null,
            "order": null,
            "_view_module_version": "1.2.0",
            "grid_template_areas": null,
            "object_position": null,
            "object_fit": null,
            "grid_auto_columns": null,
            "margin": null,
            "display": null,
            "left": null
          }
        },
        "033694a09f52432cbfea62f2e4a446c3": {
          "model_module": "@jupyter-widgets/controls",
          "model_name": "DescriptionStyleModel",
          "state": {
            "_view_name": "StyleView",
            "_model_name": "DescriptionStyleModel",
            "description_width": "",
            "_view_module": "@jupyter-widgets/base",
            "_model_module_version": "1.5.0",
            "_view_count": null,
            "_view_module_version": "1.2.0",
            "_model_module": "@jupyter-widgets/controls"
          }
        },
        "266b7cf146ba4e908f7123eee2578aa0": {
          "model_module": "@jupyter-widgets/base",
          "model_name": "LayoutModel",
          "state": {
            "_view_name": "LayoutView",
            "grid_template_rows": null,
            "right": null,
            "justify_content": null,
            "_view_module": "@jupyter-widgets/base",
            "overflow": null,
            "_model_module_version": "1.2.0",
            "_view_count": null,
            "flex_flow": null,
            "width": null,
            "min_width": null,
            "border": null,
            "align_items": null,
            "bottom": null,
            "_model_module": "@jupyter-widgets/base",
            "top": null,
            "grid_column": null,
            "overflow_y": null,
            "overflow_x": null,
            "grid_auto_flow": null,
            "grid_area": null,
            "grid_template_columns": null,
            "flex": null,
            "_model_name": "LayoutModel",
            "justify_items": null,
            "grid_row": null,
            "max_height": null,
            "align_content": null,
            "visibility": null,
            "align_self": null,
            "height": null,
            "min_height": null,
            "padding": null,
            "grid_auto_rows": null,
            "grid_gap": null,
            "max_width": null,
            "order": null,
            "_view_module_version": "1.2.0",
            "grid_template_areas": null,
            "object_position": null,
            "object_fit": null,
            "grid_auto_columns": null,
            "margin": null,
            "display": null,
            "left": null
          }
        },
        "16045000903640bc93ba30c0af503571": {
          "model_module": "@jupyter-widgets/controls",
          "model_name": "HBoxModel",
          "state": {
            "_view_name": "HBoxView",
            "_dom_classes": [],
            "_model_name": "HBoxModel",
            "_view_module": "@jupyter-widgets/controls",
            "_model_module_version": "1.5.0",
            "_view_count": null,
            "_view_module_version": "1.5.0",
            "box_style": "",
            "layout": "IPY_MODEL_e6fb5ba9280b428f811c18d108e58c14",
            "_model_module": "@jupyter-widgets/controls",
            "children": [
              "IPY_MODEL_844c0a9b155a4118a9cd8a25175bb461",
              "IPY_MODEL_675d69b6851f4433ac65272e8a969101"
            ]
          }
        },
        "e6fb5ba9280b428f811c18d108e58c14": {
          "model_module": "@jupyter-widgets/base",
          "model_name": "LayoutModel",
          "state": {
            "_view_name": "LayoutView",
            "grid_template_rows": null,
            "right": null,
            "justify_content": null,
            "_view_module": "@jupyter-widgets/base",
            "overflow": null,
            "_model_module_version": "1.2.0",
            "_view_count": null,
            "flex_flow": null,
            "width": null,
            "min_width": null,
            "border": null,
            "align_items": null,
            "bottom": null,
            "_model_module": "@jupyter-widgets/base",
            "top": null,
            "grid_column": null,
            "overflow_y": null,
            "overflow_x": null,
            "grid_auto_flow": null,
            "grid_area": null,
            "grid_template_columns": null,
            "flex": null,
            "_model_name": "LayoutModel",
            "justify_items": null,
            "grid_row": null,
            "max_height": null,
            "align_content": null,
            "visibility": null,
            "align_self": null,
            "height": null,
            "min_height": null,
            "padding": null,
            "grid_auto_rows": null,
            "grid_gap": null,
            "max_width": null,
            "order": null,
            "_view_module_version": "1.2.0",
            "grid_template_areas": null,
            "object_position": null,
            "object_fit": null,
            "grid_auto_columns": null,
            "margin": null,
            "display": null,
            "left": null
          }
        },
        "844c0a9b155a4118a9cd8a25175bb461": {
          "model_module": "@jupyter-widgets/controls",
          "model_name": "FloatProgressModel",
          "state": {
            "_view_name": "ProgressView",
            "style": "IPY_MODEL_944cf6b3eb9b4492acb214058f3566de",
            "_dom_classes": [],
            "description": "#0: 100%",
            "_model_name": "FloatProgressModel",
            "bar_style": "success",
            "max": 7000,
            "_view_module": "@jupyter-widgets/controls",
            "_model_module_version": "1.5.0",
            "value": 7000,
            "_view_count": null,
            "_view_module_version": "1.5.0",
            "orientation": "horizontal",
            "min": 0,
            "description_tooltip": null,
            "_model_module": "@jupyter-widgets/controls",
            "layout": "IPY_MODEL_fa63efd6178149dc8d5bf47303e69c38"
          }
        },
        "675d69b6851f4433ac65272e8a969101": {
          "model_module": "@jupyter-widgets/controls",
          "model_name": "HTMLModel",
          "state": {
            "_view_name": "HTMLView",
            "style": "IPY_MODEL_4d1d6556c66b4dcf9289c674394b1349",
            "_dom_classes": [],
            "description": "",
            "_model_name": "HTMLModel",
            "placeholder": "​",
            "_view_module": "@jupyter-widgets/controls",
            "_model_module_version": "1.5.0",
            "value": " 7000/7000 [00:04&lt;00:00, 1681.61ex/s]",
            "_view_count": null,
            "_view_module_version": "1.5.0",
            "description_tooltip": null,
            "_model_module": "@jupyter-widgets/controls",
            "layout": "IPY_MODEL_ff79f055d96141f58f677d05f775091c"
          }
        },
        "944cf6b3eb9b4492acb214058f3566de": {
          "model_module": "@jupyter-widgets/controls",
          "model_name": "ProgressStyleModel",
          "state": {
            "_view_name": "StyleView",
            "_model_name": "ProgressStyleModel",
            "description_width": "initial",
            "_view_module": "@jupyter-widgets/base",
            "_model_module_version": "1.5.0",
            "_view_count": null,
            "_view_module_version": "1.2.0",
            "bar_color": null,
            "_model_module": "@jupyter-widgets/controls"
          }
        },
        "fa63efd6178149dc8d5bf47303e69c38": {
          "model_module": "@jupyter-widgets/base",
          "model_name": "LayoutModel",
          "state": {
            "_view_name": "LayoutView",
            "grid_template_rows": null,
            "right": null,
            "justify_content": null,
            "_view_module": "@jupyter-widgets/base",
            "overflow": null,
            "_model_module_version": "1.2.0",
            "_view_count": null,
            "flex_flow": null,
            "width": null,
            "min_width": null,
            "border": null,
            "align_items": null,
            "bottom": null,
            "_model_module": "@jupyter-widgets/base",
            "top": null,
            "grid_column": null,
            "overflow_y": null,
            "overflow_x": null,
            "grid_auto_flow": null,
            "grid_area": null,
            "grid_template_columns": null,
            "flex": null,
            "_model_name": "LayoutModel",
            "justify_items": null,
            "grid_row": null,
            "max_height": null,
            "align_content": null,
            "visibility": null,
            "align_self": null,
            "height": null,
            "min_height": null,
            "padding": null,
            "grid_auto_rows": null,
            "grid_gap": null,
            "max_width": null,
            "order": null,
            "_view_module_version": "1.2.0",
            "grid_template_areas": null,
            "object_position": null,
            "object_fit": null,
            "grid_auto_columns": null,
            "margin": null,
            "display": null,
            "left": null
          }
        },
        "4d1d6556c66b4dcf9289c674394b1349": {
          "model_module": "@jupyter-widgets/controls",
          "model_name": "DescriptionStyleModel",
          "state": {
            "_view_name": "StyleView",
            "_model_name": "DescriptionStyleModel",
            "description_width": "",
            "_view_module": "@jupyter-widgets/base",
            "_model_module_version": "1.5.0",
            "_view_count": null,
            "_view_module_version": "1.2.0",
            "_model_module": "@jupyter-widgets/controls"
          }
        },
        "ff79f055d96141f58f677d05f775091c": {
          "model_module": "@jupyter-widgets/base",
          "model_name": "LayoutModel",
          "state": {
            "_view_name": "LayoutView",
            "grid_template_rows": null,
            "right": null,
            "justify_content": null,
            "_view_module": "@jupyter-widgets/base",
            "overflow": null,
            "_model_module_version": "1.2.0",
            "_view_count": null,
            "flex_flow": null,
            "width": null,
            "min_width": null,
            "border": null,
            "align_items": null,
            "bottom": null,
            "_model_module": "@jupyter-widgets/base",
            "top": null,
            "grid_column": null,
            "overflow_y": null,
            "overflow_x": null,
            "grid_auto_flow": null,
            "grid_area": null,
            "grid_template_columns": null,
            "flex": null,
            "_model_name": "LayoutModel",
            "justify_items": null,
            "grid_row": null,
            "max_height": null,
            "align_content": null,
            "visibility": null,
            "align_self": null,
            "height": null,
            "min_height": null,
            "padding": null,
            "grid_auto_rows": null,
            "grid_gap": null,
            "max_width": null,
            "order": null,
            "_view_module_version": "1.2.0",
            "grid_template_areas": null,
            "object_position": null,
            "object_fit": null,
            "grid_auto_columns": null,
            "margin": null,
            "display": null,
            "left": null
          }
        },
        "24a7361c7ab549ffa70a04d2dfbb358f": {
          "model_module": "@jupyter-widgets/controls",
          "model_name": "HBoxModel",
          "state": {
            "_view_name": "HBoxView",
            "_dom_classes": [],
            "_model_name": "HBoxModel",
            "_view_module": "@jupyter-widgets/controls",
            "_model_module_version": "1.5.0",
            "_view_count": null,
            "_view_module_version": "1.5.0",
            "box_style": "",
            "layout": "IPY_MODEL_305dfd2bcb634018b2f2161d53df7805",
            "_model_module": "@jupyter-widgets/controls",
            "children": [
              "IPY_MODEL_c2845d7b70aa4440bff9bb083f69889d",
              "IPY_MODEL_f3c48a8746084547899817cfc991fe5f"
            ]
          }
        },
        "305dfd2bcb634018b2f2161d53df7805": {
          "model_module": "@jupyter-widgets/base",
          "model_name": "LayoutModel",
          "state": {
            "_view_name": "LayoutView",
            "grid_template_rows": null,
            "right": null,
            "justify_content": null,
            "_view_module": "@jupyter-widgets/base",
            "overflow": null,
            "_model_module_version": "1.2.0",
            "_view_count": null,
            "flex_flow": null,
            "width": null,
            "min_width": null,
            "border": null,
            "align_items": null,
            "bottom": null,
            "_model_module": "@jupyter-widgets/base",
            "top": null,
            "grid_column": null,
            "overflow_y": null,
            "overflow_x": null,
            "grid_auto_flow": null,
            "grid_area": null,
            "grid_template_columns": null,
            "flex": null,
            "_model_name": "LayoutModel",
            "justify_items": null,
            "grid_row": null,
            "max_height": null,
            "align_content": null,
            "visibility": null,
            "align_self": null,
            "height": null,
            "min_height": null,
            "padding": null,
            "grid_auto_rows": null,
            "grid_gap": null,
            "max_width": null,
            "order": null,
            "_view_module_version": "1.2.0",
            "grid_template_areas": null,
            "object_position": null,
            "object_fit": null,
            "grid_auto_columns": null,
            "margin": null,
            "display": null,
            "left": null
          }
        },
        "c2845d7b70aa4440bff9bb083f69889d": {
          "model_module": "@jupyter-widgets/controls",
          "model_name": "FloatProgressModel",
          "state": {
            "_view_name": "ProgressView",
            "style": "IPY_MODEL_d1c547a4c0e84a18a87f9d0076be5ab9",
            "_dom_classes": [],
            "description": "#1: 100%",
            "_model_name": "FloatProgressModel",
            "bar_style": "success",
            "max": 7000,
            "_view_module": "@jupyter-widgets/controls",
            "_model_module_version": "1.5.0",
            "value": 7000,
            "_view_count": null,
            "_view_module_version": "1.5.0",
            "orientation": "horizontal",
            "min": 0,
            "description_tooltip": null,
            "_model_module": "@jupyter-widgets/controls",
            "layout": "IPY_MODEL_a2bd6c6c6cd8448eae75ce446afef1f1"
          }
        },
        "f3c48a8746084547899817cfc991fe5f": {
          "model_module": "@jupyter-widgets/controls",
          "model_name": "HTMLModel",
          "state": {
            "_view_name": "HTMLView",
            "style": "IPY_MODEL_bb690603092d4d60b2655d7e93bb8a35",
            "_dom_classes": [],
            "description": "",
            "_model_name": "HTMLModel",
            "placeholder": "​",
            "_view_module": "@jupyter-widgets/controls",
            "_model_module_version": "1.5.0",
            "value": " 7000/7000 [00:07&lt;00:00, 940.92ex/s]",
            "_view_count": null,
            "_view_module_version": "1.5.0",
            "description_tooltip": null,
            "_model_module": "@jupyter-widgets/controls",
            "layout": "IPY_MODEL_0b783b45f6274d7589e4967bf1581bd5"
          }
        },
        "d1c547a4c0e84a18a87f9d0076be5ab9": {
          "model_module": "@jupyter-widgets/controls",
          "model_name": "ProgressStyleModel",
          "state": {
            "_view_name": "StyleView",
            "_model_name": "ProgressStyleModel",
            "description_width": "initial",
            "_view_module": "@jupyter-widgets/base",
            "_model_module_version": "1.5.0",
            "_view_count": null,
            "_view_module_version": "1.2.0",
            "bar_color": null,
            "_model_module": "@jupyter-widgets/controls"
          }
        },
        "a2bd6c6c6cd8448eae75ce446afef1f1": {
          "model_module": "@jupyter-widgets/base",
          "model_name": "LayoutModel",
          "state": {
            "_view_name": "LayoutView",
            "grid_template_rows": null,
            "right": null,
            "justify_content": null,
            "_view_module": "@jupyter-widgets/base",
            "overflow": null,
            "_model_module_version": "1.2.0",
            "_view_count": null,
            "flex_flow": null,
            "width": null,
            "min_width": null,
            "border": null,
            "align_items": null,
            "bottom": null,
            "_model_module": "@jupyter-widgets/base",
            "top": null,
            "grid_column": null,
            "overflow_y": null,
            "overflow_x": null,
            "grid_auto_flow": null,
            "grid_area": null,
            "grid_template_columns": null,
            "flex": null,
            "_model_name": "LayoutModel",
            "justify_items": null,
            "grid_row": null,
            "max_height": null,
            "align_content": null,
            "visibility": null,
            "align_self": null,
            "height": null,
            "min_height": null,
            "padding": null,
            "grid_auto_rows": null,
            "grid_gap": null,
            "max_width": null,
            "order": null,
            "_view_module_version": "1.2.0",
            "grid_template_areas": null,
            "object_position": null,
            "object_fit": null,
            "grid_auto_columns": null,
            "margin": null,
            "display": null,
            "left": null
          }
        },
        "bb690603092d4d60b2655d7e93bb8a35": {
          "model_module": "@jupyter-widgets/controls",
          "model_name": "DescriptionStyleModel",
          "state": {
            "_view_name": "StyleView",
            "_model_name": "DescriptionStyleModel",
            "description_width": "",
            "_view_module": "@jupyter-widgets/base",
            "_model_module_version": "1.5.0",
            "_view_count": null,
            "_view_module_version": "1.2.0",
            "_model_module": "@jupyter-widgets/controls"
          }
        },
        "0b783b45f6274d7589e4967bf1581bd5": {
          "model_module": "@jupyter-widgets/base",
          "model_name": "LayoutModel",
          "state": {
            "_view_name": "LayoutView",
            "grid_template_rows": null,
            "right": null,
            "justify_content": null,
            "_view_module": "@jupyter-widgets/base",
            "overflow": null,
            "_model_module_version": "1.2.0",
            "_view_count": null,
            "flex_flow": null,
            "width": null,
            "min_width": null,
            "border": null,
            "align_items": null,
            "bottom": null,
            "_model_module": "@jupyter-widgets/base",
            "top": null,
            "grid_column": null,
            "overflow_y": null,
            "overflow_x": null,
            "grid_auto_flow": null,
            "grid_area": null,
            "grid_template_columns": null,
            "flex": null,
            "_model_name": "LayoutModel",
            "justify_items": null,
            "grid_row": null,
            "max_height": null,
            "align_content": null,
            "visibility": null,
            "align_self": null,
            "height": null,
            "min_height": null,
            "padding": null,
            "grid_auto_rows": null,
            "grid_gap": null,
            "max_width": null,
            "order": null,
            "_view_module_version": "1.2.0",
            "grid_template_areas": null,
            "object_position": null,
            "object_fit": null,
            "grid_auto_columns": null,
            "margin": null,
            "display": null,
            "left": null
          }
        },
        "e45b86f9721644238653788a92b01606": {
          "model_module": "@jupyter-widgets/controls",
          "model_name": "HBoxModel",
          "state": {
            "_view_name": "HBoxView",
            "_dom_classes": [],
            "_model_name": "HBoxModel",
            "_view_module": "@jupyter-widgets/controls",
            "_model_module_version": "1.5.0",
            "_view_count": null,
            "_view_module_version": "1.5.0",
            "box_style": "",
            "layout": "IPY_MODEL_58130d4a878647648ea39b39fd61b4d6",
            "_model_module": "@jupyter-widgets/controls",
            "children": [
              "IPY_MODEL_58bd8e9ece364908a4a024697fcbc307",
              "IPY_MODEL_1ecc09f46b334a7eba734e8874b973a8"
            ]
          }
        },
        "58130d4a878647648ea39b39fd61b4d6": {
          "model_module": "@jupyter-widgets/base",
          "model_name": "LayoutModel",
          "state": {
            "_view_name": "LayoutView",
            "grid_template_rows": null,
            "right": null,
            "justify_content": null,
            "_view_module": "@jupyter-widgets/base",
            "overflow": null,
            "_model_module_version": "1.2.0",
            "_view_count": null,
            "flex_flow": null,
            "width": null,
            "min_width": null,
            "border": null,
            "align_items": null,
            "bottom": null,
            "_model_module": "@jupyter-widgets/base",
            "top": null,
            "grid_column": null,
            "overflow_y": null,
            "overflow_x": null,
            "grid_auto_flow": null,
            "grid_area": null,
            "grid_template_columns": null,
            "flex": null,
            "_model_name": "LayoutModel",
            "justify_items": null,
            "grid_row": null,
            "max_height": null,
            "align_content": null,
            "visibility": null,
            "align_self": null,
            "height": null,
            "min_height": null,
            "padding": null,
            "grid_auto_rows": null,
            "grid_gap": null,
            "max_width": null,
            "order": null,
            "_view_module_version": "1.2.0",
            "grid_template_areas": null,
            "object_position": null,
            "object_fit": null,
            "grid_auto_columns": null,
            "margin": null,
            "display": null,
            "left": null
          }
        },
        "58bd8e9ece364908a4a024697fcbc307": {
          "model_module": "@jupyter-widgets/controls",
          "model_name": "FloatProgressModel",
          "state": {
            "_view_name": "ProgressView",
            "style": "IPY_MODEL_2adb5cb9e658404bbef8b92d21794f75",
            "_dom_classes": [],
            "description": "#2: 100%",
            "_model_name": "FloatProgressModel",
            "bar_style": "success",
            "max": 7000,
            "_view_module": "@jupyter-widgets/controls",
            "_model_module_version": "1.5.0",
            "value": 7000,
            "_view_count": null,
            "_view_module_version": "1.5.0",
            "orientation": "horizontal",
            "min": 0,
            "description_tooltip": null,
            "_model_module": "@jupyter-widgets/controls",
            "layout": "IPY_MODEL_2ad25515c42c41aab028dc3fe3183fc6"
          }
        },
        "1ecc09f46b334a7eba734e8874b973a8": {
          "model_module": "@jupyter-widgets/controls",
          "model_name": "HTMLModel",
          "state": {
            "_view_name": "HTMLView",
            "style": "IPY_MODEL_6598f9458a9d45e3ae5d876cb088b4d6",
            "_dom_classes": [],
            "description": "",
            "_model_name": "HTMLModel",
            "placeholder": "​",
            "_view_module": "@jupyter-widgets/controls",
            "_model_module_version": "1.5.0",
            "value": " 7000/7000 [00:07&lt;00:00, 933.87ex/s]",
            "_view_count": null,
            "_view_module_version": "1.5.0",
            "description_tooltip": null,
            "_model_module": "@jupyter-widgets/controls",
            "layout": "IPY_MODEL_e379182b0785404aa8f1e9b3e9251fb8"
          }
        },
        "2adb5cb9e658404bbef8b92d21794f75": {
          "model_module": "@jupyter-widgets/controls",
          "model_name": "ProgressStyleModel",
          "state": {
            "_view_name": "StyleView",
            "_model_name": "ProgressStyleModel",
            "description_width": "initial",
            "_view_module": "@jupyter-widgets/base",
            "_model_module_version": "1.5.0",
            "_view_count": null,
            "_view_module_version": "1.2.0",
            "bar_color": null,
            "_model_module": "@jupyter-widgets/controls"
          }
        },
        "2ad25515c42c41aab028dc3fe3183fc6": {
          "model_module": "@jupyter-widgets/base",
          "model_name": "LayoutModel",
          "state": {
            "_view_name": "LayoutView",
            "grid_template_rows": null,
            "right": null,
            "justify_content": null,
            "_view_module": "@jupyter-widgets/base",
            "overflow": null,
            "_model_module_version": "1.2.0",
            "_view_count": null,
            "flex_flow": null,
            "width": null,
            "min_width": null,
            "border": null,
            "align_items": null,
            "bottom": null,
            "_model_module": "@jupyter-widgets/base",
            "top": null,
            "grid_column": null,
            "overflow_y": null,
            "overflow_x": null,
            "grid_auto_flow": null,
            "grid_area": null,
            "grid_template_columns": null,
            "flex": null,
            "_model_name": "LayoutModel",
            "justify_items": null,
            "grid_row": null,
            "max_height": null,
            "align_content": null,
            "visibility": null,
            "align_self": null,
            "height": null,
            "min_height": null,
            "padding": null,
            "grid_auto_rows": null,
            "grid_gap": null,
            "max_width": null,
            "order": null,
            "_view_module_version": "1.2.0",
            "grid_template_areas": null,
            "object_position": null,
            "object_fit": null,
            "grid_auto_columns": null,
            "margin": null,
            "display": null,
            "left": null
          }
        },
        "6598f9458a9d45e3ae5d876cb088b4d6": {
          "model_module": "@jupyter-widgets/controls",
          "model_name": "DescriptionStyleModel",
          "state": {
            "_view_name": "StyleView",
            "_model_name": "DescriptionStyleModel",
            "description_width": "",
            "_view_module": "@jupyter-widgets/base",
            "_model_module_version": "1.5.0",
            "_view_count": null,
            "_view_module_version": "1.2.0",
            "_model_module": "@jupyter-widgets/controls"
          }
        },
        "e379182b0785404aa8f1e9b3e9251fb8": {
          "model_module": "@jupyter-widgets/base",
          "model_name": "LayoutModel",
          "state": {
            "_view_name": "LayoutView",
            "grid_template_rows": null,
            "right": null,
            "justify_content": null,
            "_view_module": "@jupyter-widgets/base",
            "overflow": null,
            "_model_module_version": "1.2.0",
            "_view_count": null,
            "flex_flow": null,
            "width": null,
            "min_width": null,
            "border": null,
            "align_items": null,
            "bottom": null,
            "_model_module": "@jupyter-widgets/base",
            "top": null,
            "grid_column": null,
            "overflow_y": null,
            "overflow_x": null,
            "grid_auto_flow": null,
            "grid_area": null,
            "grid_template_columns": null,
            "flex": null,
            "_model_name": "LayoutModel",
            "justify_items": null,
            "grid_row": null,
            "max_height": null,
            "align_content": null,
            "visibility": null,
            "align_self": null,
            "height": null,
            "min_height": null,
            "padding": null,
            "grid_auto_rows": null,
            "grid_gap": null,
            "max_width": null,
            "order": null,
            "_view_module_version": "1.2.0",
            "grid_template_areas": null,
            "object_position": null,
            "object_fit": null,
            "grid_auto_columns": null,
            "margin": null,
            "display": null,
            "left": null
          }
        },
        "3cb995664c364f778d768d676a8cb2cd": {
          "model_module": "@jupyter-widgets/controls",
          "model_name": "HBoxModel",
          "state": {
            "_view_name": "HBoxView",
            "_dom_classes": [],
            "_model_name": "HBoxModel",
            "_view_module": "@jupyter-widgets/controls",
            "_model_module_version": "1.5.0",
            "_view_count": null,
            "_view_module_version": "1.5.0",
            "box_style": "",
            "layout": "IPY_MODEL_beaeadad88f948f5bf91bd04f44bca5b",
            "_model_module": "@jupyter-widgets/controls",
            "children": [
              "IPY_MODEL_635c0964ac5948d0bc27e20c44ac2882",
              "IPY_MODEL_3ec3fe5fc7a44b22a30a9112c747f44a"
            ]
          }
        },
        "beaeadad88f948f5bf91bd04f44bca5b": {
          "model_module": "@jupyter-widgets/base",
          "model_name": "LayoutModel",
          "state": {
            "_view_name": "LayoutView",
            "grid_template_rows": null,
            "right": null,
            "justify_content": null,
            "_view_module": "@jupyter-widgets/base",
            "overflow": null,
            "_model_module_version": "1.2.0",
            "_view_count": null,
            "flex_flow": null,
            "width": null,
            "min_width": null,
            "border": null,
            "align_items": null,
            "bottom": null,
            "_model_module": "@jupyter-widgets/base",
            "top": null,
            "grid_column": null,
            "overflow_y": null,
            "overflow_x": null,
            "grid_auto_flow": null,
            "grid_area": null,
            "grid_template_columns": null,
            "flex": null,
            "_model_name": "LayoutModel",
            "justify_items": null,
            "grid_row": null,
            "max_height": null,
            "align_content": null,
            "visibility": null,
            "align_self": null,
            "height": null,
            "min_height": null,
            "padding": null,
            "grid_auto_rows": null,
            "grid_gap": null,
            "max_width": null,
            "order": null,
            "_view_module_version": "1.2.0",
            "grid_template_areas": null,
            "object_position": null,
            "object_fit": null,
            "grid_auto_columns": null,
            "margin": null,
            "display": null,
            "left": null
          }
        },
        "635c0964ac5948d0bc27e20c44ac2882": {
          "model_module": "@jupyter-widgets/controls",
          "model_name": "FloatProgressModel",
          "state": {
            "_view_name": "ProgressView",
            "style": "IPY_MODEL_cee832d32130479ca69ec4922894c9da",
            "_dom_classes": [],
            "description": "#3: 100%",
            "_model_name": "FloatProgressModel",
            "bar_style": "success",
            "max": 7000,
            "_view_module": "@jupyter-widgets/controls",
            "_model_module_version": "1.5.0",
            "value": 7000,
            "_view_count": null,
            "_view_module_version": "1.5.0",
            "orientation": "horizontal",
            "min": 0,
            "description_tooltip": null,
            "_model_module": "@jupyter-widgets/controls",
            "layout": "IPY_MODEL_ed3a0ceb856b4a9c89a6baf68b6cf2dc"
          }
        },
        "3ec3fe5fc7a44b22a30a9112c747f44a": {
          "model_module": "@jupyter-widgets/controls",
          "model_name": "HTMLModel",
          "state": {
            "_view_name": "HTMLView",
            "style": "IPY_MODEL_3bd4fd1ec80e4a899460bd5deee3c710",
            "_dom_classes": [],
            "description": "",
            "_model_name": "HTMLModel",
            "placeholder": "​",
            "_view_module": "@jupyter-widgets/controls",
            "_model_module_version": "1.5.0",
            "value": " 7000/7000 [00:06&lt;00:00, 1090.28ex/s]",
            "_view_count": null,
            "_view_module_version": "1.5.0",
            "description_tooltip": null,
            "_model_module": "@jupyter-widgets/controls",
            "layout": "IPY_MODEL_8b30c416bf964c77b17ef4ca39fac425"
          }
        },
        "cee832d32130479ca69ec4922894c9da": {
          "model_module": "@jupyter-widgets/controls",
          "model_name": "ProgressStyleModel",
          "state": {
            "_view_name": "StyleView",
            "_model_name": "ProgressStyleModel",
            "description_width": "initial",
            "_view_module": "@jupyter-widgets/base",
            "_model_module_version": "1.5.0",
            "_view_count": null,
            "_view_module_version": "1.2.0",
            "bar_color": null,
            "_model_module": "@jupyter-widgets/controls"
          }
        },
        "ed3a0ceb856b4a9c89a6baf68b6cf2dc": {
          "model_module": "@jupyter-widgets/base",
          "model_name": "LayoutModel",
          "state": {
            "_view_name": "LayoutView",
            "grid_template_rows": null,
            "right": null,
            "justify_content": null,
            "_view_module": "@jupyter-widgets/base",
            "overflow": null,
            "_model_module_version": "1.2.0",
            "_view_count": null,
            "flex_flow": null,
            "width": null,
            "min_width": null,
            "border": null,
            "align_items": null,
            "bottom": null,
            "_model_module": "@jupyter-widgets/base",
            "top": null,
            "grid_column": null,
            "overflow_y": null,
            "overflow_x": null,
            "grid_auto_flow": null,
            "grid_area": null,
            "grid_template_columns": null,
            "flex": null,
            "_model_name": "LayoutModel",
            "justify_items": null,
            "grid_row": null,
            "max_height": null,
            "align_content": null,
            "visibility": null,
            "align_self": null,
            "height": null,
            "min_height": null,
            "padding": null,
            "grid_auto_rows": null,
            "grid_gap": null,
            "max_width": null,
            "order": null,
            "_view_module_version": "1.2.0",
            "grid_template_areas": null,
            "object_position": null,
            "object_fit": null,
            "grid_auto_columns": null,
            "margin": null,
            "display": null,
            "left": null
          }
        },
        "3bd4fd1ec80e4a899460bd5deee3c710": {
          "model_module": "@jupyter-widgets/controls",
          "model_name": "DescriptionStyleModel",
          "state": {
            "_view_name": "StyleView",
            "_model_name": "DescriptionStyleModel",
            "description_width": "",
            "_view_module": "@jupyter-widgets/base",
            "_model_module_version": "1.5.0",
            "_view_count": null,
            "_view_module_version": "1.2.0",
            "_model_module": "@jupyter-widgets/controls"
          }
        },
        "8b30c416bf964c77b17ef4ca39fac425": {
          "model_module": "@jupyter-widgets/base",
          "model_name": "LayoutModel",
          "state": {
            "_view_name": "LayoutView",
            "grid_template_rows": null,
            "right": null,
            "justify_content": null,
            "_view_module": "@jupyter-widgets/base",
            "overflow": null,
            "_model_module_version": "1.2.0",
            "_view_count": null,
            "flex_flow": null,
            "width": null,
            "min_width": null,
            "border": null,
            "align_items": null,
            "bottom": null,
            "_model_module": "@jupyter-widgets/base",
            "top": null,
            "grid_column": null,
            "overflow_y": null,
            "overflow_x": null,
            "grid_auto_flow": null,
            "grid_area": null,
            "grid_template_columns": null,
            "flex": null,
            "_model_name": "LayoutModel",
            "justify_items": null,
            "grid_row": null,
            "max_height": null,
            "align_content": null,
            "visibility": null,
            "align_self": null,
            "height": null,
            "min_height": null,
            "padding": null,
            "grid_auto_rows": null,
            "grid_gap": null,
            "max_width": null,
            "order": null,
            "_view_module_version": "1.2.0",
            "grid_template_areas": null,
            "object_position": null,
            "object_fit": null,
            "grid_auto_columns": null,
            "margin": null,
            "display": null,
            "left": null
          }
        },
        "8da290957ea949f9b394a0777a8b7435": {
          "model_module": "@jupyter-widgets/controls",
          "model_name": "HBoxModel",
          "state": {
            "_view_name": "HBoxView",
            "_dom_classes": [],
            "_model_name": "HBoxModel",
            "_view_module": "@jupyter-widgets/controls",
            "_model_module_version": "1.5.0",
            "_view_count": null,
            "_view_module_version": "1.5.0",
            "box_style": "",
            "layout": "IPY_MODEL_8e3e211654ab4a33a1854ebfb63532e3",
            "_model_module": "@jupyter-widgets/controls",
            "children": [
              "IPY_MODEL_d55594f714ad4af79f8cee979be97a4d",
              "IPY_MODEL_1701cc695e6440b6ad48dd6853cc0b23"
            ]
          }
        },
        "8e3e211654ab4a33a1854ebfb63532e3": {
          "model_module": "@jupyter-widgets/base",
          "model_name": "LayoutModel",
          "state": {
            "_view_name": "LayoutView",
            "grid_template_rows": null,
            "right": null,
            "justify_content": null,
            "_view_module": "@jupyter-widgets/base",
            "overflow": null,
            "_model_module_version": "1.2.0",
            "_view_count": null,
            "flex_flow": null,
            "width": null,
            "min_width": null,
            "border": null,
            "align_items": null,
            "bottom": null,
            "_model_module": "@jupyter-widgets/base",
            "top": null,
            "grid_column": null,
            "overflow_y": null,
            "overflow_x": null,
            "grid_auto_flow": null,
            "grid_area": null,
            "grid_template_columns": null,
            "flex": null,
            "_model_name": "LayoutModel",
            "justify_items": null,
            "grid_row": null,
            "max_height": null,
            "align_content": null,
            "visibility": null,
            "align_self": null,
            "height": null,
            "min_height": null,
            "padding": null,
            "grid_auto_rows": null,
            "grid_gap": null,
            "max_width": null,
            "order": null,
            "_view_module_version": "1.2.0",
            "grid_template_areas": null,
            "object_position": null,
            "object_fit": null,
            "grid_auto_columns": null,
            "margin": null,
            "display": null,
            "left": null
          }
        },
        "d55594f714ad4af79f8cee979be97a4d": {
          "model_module": "@jupyter-widgets/controls",
          "model_name": "FloatProgressModel",
          "state": {
            "_view_name": "ProgressView",
            "style": "IPY_MODEL_a9ac374df1564896a30b5d6f160d81d9",
            "_dom_classes": [],
            "description": "#4: 100%",
            "_model_name": "FloatProgressModel",
            "bar_style": "success",
            "max": 7000,
            "_view_module": "@jupyter-widgets/controls",
            "_model_module_version": "1.5.0",
            "value": 7000,
            "_view_count": null,
            "_view_module_version": "1.5.0",
            "orientation": "horizontal",
            "min": 0,
            "description_tooltip": null,
            "_model_module": "@jupyter-widgets/controls",
            "layout": "IPY_MODEL_c667c94fe6534022a2147496ec5dad93"
          }
        },
        "1701cc695e6440b6ad48dd6853cc0b23": {
          "model_module": "@jupyter-widgets/controls",
          "model_name": "HTMLModel",
          "state": {
            "_view_name": "HTMLView",
            "style": "IPY_MODEL_d21ca17d713b427a84d6db1d2427057b",
            "_dom_classes": [],
            "description": "",
            "_model_name": "HTMLModel",
            "placeholder": "​",
            "_view_module": "@jupyter-widgets/controls",
            "_model_module_version": "1.5.0",
            "value": " 7000/7000 [00:07&lt;00:00, 917.48ex/s]",
            "_view_count": null,
            "_view_module_version": "1.5.0",
            "description_tooltip": null,
            "_model_module": "@jupyter-widgets/controls",
            "layout": "IPY_MODEL_3fcef84daff847e5abf78bc710832be8"
          }
        },
        "a9ac374df1564896a30b5d6f160d81d9": {
          "model_module": "@jupyter-widgets/controls",
          "model_name": "ProgressStyleModel",
          "state": {
            "_view_name": "StyleView",
            "_model_name": "ProgressStyleModel",
            "description_width": "initial",
            "_view_module": "@jupyter-widgets/base",
            "_model_module_version": "1.5.0",
            "_view_count": null,
            "_view_module_version": "1.2.0",
            "bar_color": null,
            "_model_module": "@jupyter-widgets/controls"
          }
        },
        "c667c94fe6534022a2147496ec5dad93": {
          "model_module": "@jupyter-widgets/base",
          "model_name": "LayoutModel",
          "state": {
            "_view_name": "LayoutView",
            "grid_template_rows": null,
            "right": null,
            "justify_content": null,
            "_view_module": "@jupyter-widgets/base",
            "overflow": null,
            "_model_module_version": "1.2.0",
            "_view_count": null,
            "flex_flow": null,
            "width": null,
            "min_width": null,
            "border": null,
            "align_items": null,
            "bottom": null,
            "_model_module": "@jupyter-widgets/base",
            "top": null,
            "grid_column": null,
            "overflow_y": null,
            "overflow_x": null,
            "grid_auto_flow": null,
            "grid_area": null,
            "grid_template_columns": null,
            "flex": null,
            "_model_name": "LayoutModel",
            "justify_items": null,
            "grid_row": null,
            "max_height": null,
            "align_content": null,
            "visibility": null,
            "align_self": null,
            "height": null,
            "min_height": null,
            "padding": null,
            "grid_auto_rows": null,
            "grid_gap": null,
            "max_width": null,
            "order": null,
            "_view_module_version": "1.2.0",
            "grid_template_areas": null,
            "object_position": null,
            "object_fit": null,
            "grid_auto_columns": null,
            "margin": null,
            "display": null,
            "left": null
          }
        },
        "d21ca17d713b427a84d6db1d2427057b": {
          "model_module": "@jupyter-widgets/controls",
          "model_name": "DescriptionStyleModel",
          "state": {
            "_view_name": "StyleView",
            "_model_name": "DescriptionStyleModel",
            "description_width": "",
            "_view_module": "@jupyter-widgets/base",
            "_model_module_version": "1.5.0",
            "_view_count": null,
            "_view_module_version": "1.2.0",
            "_model_module": "@jupyter-widgets/controls"
          }
        },
        "3fcef84daff847e5abf78bc710832be8": {
          "model_module": "@jupyter-widgets/base",
          "model_name": "LayoutModel",
          "state": {
            "_view_name": "LayoutView",
            "grid_template_rows": null,
            "right": null,
            "justify_content": null,
            "_view_module": "@jupyter-widgets/base",
            "overflow": null,
            "_model_module_version": "1.2.0",
            "_view_count": null,
            "flex_flow": null,
            "width": null,
            "min_width": null,
            "border": null,
            "align_items": null,
            "bottom": null,
            "_model_module": "@jupyter-widgets/base",
            "top": null,
            "grid_column": null,
            "overflow_y": null,
            "overflow_x": null,
            "grid_auto_flow": null,
            "grid_area": null,
            "grid_template_columns": null,
            "flex": null,
            "_model_name": "LayoutModel",
            "justify_items": null,
            "grid_row": null,
            "max_height": null,
            "align_content": null,
            "visibility": null,
            "align_self": null,
            "height": null,
            "min_height": null,
            "padding": null,
            "grid_auto_rows": null,
            "grid_gap": null,
            "max_width": null,
            "order": null,
            "_view_module_version": "1.2.0",
            "grid_template_areas": null,
            "object_position": null,
            "object_fit": null,
            "grid_auto_columns": null,
            "margin": null,
            "display": null,
            "left": null
          }
        },
        "dc3ef985dec247879f1de1ac72182a8c": {
          "model_module": "@jupyter-widgets/controls",
          "model_name": "HBoxModel",
          "state": {
            "_view_name": "HBoxView",
            "_dom_classes": [],
            "_model_name": "HBoxModel",
            "_view_module": "@jupyter-widgets/controls",
            "_model_module_version": "1.5.0",
            "_view_count": null,
            "_view_module_version": "1.5.0",
            "box_style": "",
            "layout": "IPY_MODEL_1cbf40b1f4c746cd92da1c587bb6bd69",
            "_model_module": "@jupyter-widgets/controls",
            "children": [
              "IPY_MODEL_6a7b2c4abaaf4eab9f42c97e32c84ecf",
              "IPY_MODEL_e3ebf9e792da4e71870602ae306dd830"
            ]
          }
        },
        "1cbf40b1f4c746cd92da1c587bb6bd69": {
          "model_module": "@jupyter-widgets/base",
          "model_name": "LayoutModel",
          "state": {
            "_view_name": "LayoutView",
            "grid_template_rows": null,
            "right": null,
            "justify_content": null,
            "_view_module": "@jupyter-widgets/base",
            "overflow": null,
            "_model_module_version": "1.2.0",
            "_view_count": null,
            "flex_flow": null,
            "width": null,
            "min_width": null,
            "border": null,
            "align_items": null,
            "bottom": null,
            "_model_module": "@jupyter-widgets/base",
            "top": null,
            "grid_column": null,
            "overflow_y": null,
            "overflow_x": null,
            "grid_auto_flow": null,
            "grid_area": null,
            "grid_template_columns": null,
            "flex": null,
            "_model_name": "LayoutModel",
            "justify_items": null,
            "grid_row": null,
            "max_height": null,
            "align_content": null,
            "visibility": null,
            "align_self": null,
            "height": null,
            "min_height": null,
            "padding": null,
            "grid_auto_rows": null,
            "grid_gap": null,
            "max_width": null,
            "order": null,
            "_view_module_version": "1.2.0",
            "grid_template_areas": null,
            "object_position": null,
            "object_fit": null,
            "grid_auto_columns": null,
            "margin": null,
            "display": null,
            "left": null
          }
        },
        "6a7b2c4abaaf4eab9f42c97e32c84ecf": {
          "model_module": "@jupyter-widgets/controls",
          "model_name": "FloatProgressModel",
          "state": {
            "_view_name": "ProgressView",
            "style": "IPY_MODEL_b07896ae32c14dc59cf173dac81a3774",
            "_dom_classes": [],
            "description": "#5: 100%",
            "_model_name": "FloatProgressModel",
            "bar_style": "success",
            "max": 7000,
            "_view_module": "@jupyter-widgets/controls",
            "_model_module_version": "1.5.0",
            "value": 7000,
            "_view_count": null,
            "_view_module_version": "1.5.0",
            "orientation": "horizontal",
            "min": 0,
            "description_tooltip": null,
            "_model_module": "@jupyter-widgets/controls",
            "layout": "IPY_MODEL_d9dbaa2f7b8f451aa37f11bf852a60f6"
          }
        },
        "e3ebf9e792da4e71870602ae306dd830": {
          "model_module": "@jupyter-widgets/controls",
          "model_name": "HTMLModel",
          "state": {
            "_view_name": "HTMLView",
            "style": "IPY_MODEL_99c71b1eba0f4043831773903f17ea41",
            "_dom_classes": [],
            "description": "",
            "_model_name": "HTMLModel",
            "placeholder": "​",
            "_view_module": "@jupyter-widgets/controls",
            "_model_module_version": "1.5.0",
            "value": " 7000/7000 [00:07&lt;00:00, 952.43ex/s]",
            "_view_count": null,
            "_view_module_version": "1.5.0",
            "description_tooltip": null,
            "_model_module": "@jupyter-widgets/controls",
            "layout": "IPY_MODEL_d20fedf673544a1783c8cd9e717bb4b9"
          }
        },
        "b07896ae32c14dc59cf173dac81a3774": {
          "model_module": "@jupyter-widgets/controls",
          "model_name": "ProgressStyleModel",
          "state": {
            "_view_name": "StyleView",
            "_model_name": "ProgressStyleModel",
            "description_width": "initial",
            "_view_module": "@jupyter-widgets/base",
            "_model_module_version": "1.5.0",
            "_view_count": null,
            "_view_module_version": "1.2.0",
            "bar_color": null,
            "_model_module": "@jupyter-widgets/controls"
          }
        },
        "d9dbaa2f7b8f451aa37f11bf852a60f6": {
          "model_module": "@jupyter-widgets/base",
          "model_name": "LayoutModel",
          "state": {
            "_view_name": "LayoutView",
            "grid_template_rows": null,
            "right": null,
            "justify_content": null,
            "_view_module": "@jupyter-widgets/base",
            "overflow": null,
            "_model_module_version": "1.2.0",
            "_view_count": null,
            "flex_flow": null,
            "width": null,
            "min_width": null,
            "border": null,
            "align_items": null,
            "bottom": null,
            "_model_module": "@jupyter-widgets/base",
            "top": null,
            "grid_column": null,
            "overflow_y": null,
            "overflow_x": null,
            "grid_auto_flow": null,
            "grid_area": null,
            "grid_template_columns": null,
            "flex": null,
            "_model_name": "LayoutModel",
            "justify_items": null,
            "grid_row": null,
            "max_height": null,
            "align_content": null,
            "visibility": null,
            "align_self": null,
            "height": null,
            "min_height": null,
            "padding": null,
            "grid_auto_rows": null,
            "grid_gap": null,
            "max_width": null,
            "order": null,
            "_view_module_version": "1.2.0",
            "grid_template_areas": null,
            "object_position": null,
            "object_fit": null,
            "grid_auto_columns": null,
            "margin": null,
            "display": null,
            "left": null
          }
        },
        "99c71b1eba0f4043831773903f17ea41": {
          "model_module": "@jupyter-widgets/controls",
          "model_name": "DescriptionStyleModel",
          "state": {
            "_view_name": "StyleView",
            "_model_name": "DescriptionStyleModel",
            "description_width": "",
            "_view_module": "@jupyter-widgets/base",
            "_model_module_version": "1.5.0",
            "_view_count": null,
            "_view_module_version": "1.2.0",
            "_model_module": "@jupyter-widgets/controls"
          }
        },
        "d20fedf673544a1783c8cd9e717bb4b9": {
          "model_module": "@jupyter-widgets/base",
          "model_name": "LayoutModel",
          "state": {
            "_view_name": "LayoutView",
            "grid_template_rows": null,
            "right": null,
            "justify_content": null,
            "_view_module": "@jupyter-widgets/base",
            "overflow": null,
            "_model_module_version": "1.2.0",
            "_view_count": null,
            "flex_flow": null,
            "width": null,
            "min_width": null,
            "border": null,
            "align_items": null,
            "bottom": null,
            "_model_module": "@jupyter-widgets/base",
            "top": null,
            "grid_column": null,
            "overflow_y": null,
            "overflow_x": null,
            "grid_auto_flow": null,
            "grid_area": null,
            "grid_template_columns": null,
            "flex": null,
            "_model_name": "LayoutModel",
            "justify_items": null,
            "grid_row": null,
            "max_height": null,
            "align_content": null,
            "visibility": null,
            "align_self": null,
            "height": null,
            "min_height": null,
            "padding": null,
            "grid_auto_rows": null,
            "grid_gap": null,
            "max_width": null,
            "order": null,
            "_view_module_version": "1.2.0",
            "grid_template_areas": null,
            "object_position": null,
            "object_fit": null,
            "grid_auto_columns": null,
            "margin": null,
            "display": null,
            "left": null
          }
        },
        "b5d71bcc96094e70b498d2cd81eb1772": {
          "model_module": "@jupyter-widgets/controls",
          "model_name": "HBoxModel",
          "state": {
            "_view_name": "HBoxView",
            "_dom_classes": [],
            "_model_name": "HBoxModel",
            "_view_module": "@jupyter-widgets/controls",
            "_model_module_version": "1.5.0",
            "_view_count": null,
            "_view_module_version": "1.5.0",
            "box_style": "",
            "layout": "IPY_MODEL_0560cc601bd843f1a6875bd3635c2735",
            "_model_module": "@jupyter-widgets/controls",
            "children": [
              "IPY_MODEL_a5bc0b3780714b6dadbe17c744008302",
              "IPY_MODEL_f1fde048a7d044668e995b30093f4583"
            ]
          }
        },
        "0560cc601bd843f1a6875bd3635c2735": {
          "model_module": "@jupyter-widgets/base",
          "model_name": "LayoutModel",
          "state": {
            "_view_name": "LayoutView",
            "grid_template_rows": null,
            "right": null,
            "justify_content": null,
            "_view_module": "@jupyter-widgets/base",
            "overflow": null,
            "_model_module_version": "1.2.0",
            "_view_count": null,
            "flex_flow": null,
            "width": null,
            "min_width": null,
            "border": null,
            "align_items": null,
            "bottom": null,
            "_model_module": "@jupyter-widgets/base",
            "top": null,
            "grid_column": null,
            "overflow_y": null,
            "overflow_x": null,
            "grid_auto_flow": null,
            "grid_area": null,
            "grid_template_columns": null,
            "flex": null,
            "_model_name": "LayoutModel",
            "justify_items": null,
            "grid_row": null,
            "max_height": null,
            "align_content": null,
            "visibility": null,
            "align_self": null,
            "height": null,
            "min_height": null,
            "padding": null,
            "grid_auto_rows": null,
            "grid_gap": null,
            "max_width": null,
            "order": null,
            "_view_module_version": "1.2.0",
            "grid_template_areas": null,
            "object_position": null,
            "object_fit": null,
            "grid_auto_columns": null,
            "margin": null,
            "display": null,
            "left": null
          }
        },
        "a5bc0b3780714b6dadbe17c744008302": {
          "model_module": "@jupyter-widgets/controls",
          "model_name": "FloatProgressModel",
          "state": {
            "_view_name": "ProgressView",
            "style": "IPY_MODEL_45246ee52bf14fadbdd53cac4fa7d0aa",
            "_dom_classes": [],
            "description": "#6: 100%",
            "_model_name": "FloatProgressModel",
            "bar_style": "success",
            "max": 7000,
            "_view_module": "@jupyter-widgets/controls",
            "_model_module_version": "1.5.0",
            "value": 7000,
            "_view_count": null,
            "_view_module_version": "1.5.0",
            "orientation": "horizontal",
            "min": 0,
            "description_tooltip": null,
            "_model_module": "@jupyter-widgets/controls",
            "layout": "IPY_MODEL_a9874dfe68524b12a5da6ae961aa5cce"
          }
        },
        "f1fde048a7d044668e995b30093f4583": {
          "model_module": "@jupyter-widgets/controls",
          "model_name": "HTMLModel",
          "state": {
            "_view_name": "HTMLView",
            "style": "IPY_MODEL_91b4f52d3dd449bd828401ef81ecb830",
            "_dom_classes": [],
            "description": "",
            "_model_name": "HTMLModel",
            "placeholder": "​",
            "_view_module": "@jupyter-widgets/controls",
            "_model_module_version": "1.5.0",
            "value": " 7000/7000 [00:07&lt;00:00, 972.89ex/s]",
            "_view_count": null,
            "_view_module_version": "1.5.0",
            "description_tooltip": null,
            "_model_module": "@jupyter-widgets/controls",
            "layout": "IPY_MODEL_0dabfd91af7749e28c592ae5525cf3b3"
          }
        },
        "45246ee52bf14fadbdd53cac4fa7d0aa": {
          "model_module": "@jupyter-widgets/controls",
          "model_name": "ProgressStyleModel",
          "state": {
            "_view_name": "StyleView",
            "_model_name": "ProgressStyleModel",
            "description_width": "initial",
            "_view_module": "@jupyter-widgets/base",
            "_model_module_version": "1.5.0",
            "_view_count": null,
            "_view_module_version": "1.2.0",
            "bar_color": null,
            "_model_module": "@jupyter-widgets/controls"
          }
        },
        "a9874dfe68524b12a5da6ae961aa5cce": {
          "model_module": "@jupyter-widgets/base",
          "model_name": "LayoutModel",
          "state": {
            "_view_name": "LayoutView",
            "grid_template_rows": null,
            "right": null,
            "justify_content": null,
            "_view_module": "@jupyter-widgets/base",
            "overflow": null,
            "_model_module_version": "1.2.0",
            "_view_count": null,
            "flex_flow": null,
            "width": null,
            "min_width": null,
            "border": null,
            "align_items": null,
            "bottom": null,
            "_model_module": "@jupyter-widgets/base",
            "top": null,
            "grid_column": null,
            "overflow_y": null,
            "overflow_x": null,
            "grid_auto_flow": null,
            "grid_area": null,
            "grid_template_columns": null,
            "flex": null,
            "_model_name": "LayoutModel",
            "justify_items": null,
            "grid_row": null,
            "max_height": null,
            "align_content": null,
            "visibility": null,
            "align_self": null,
            "height": null,
            "min_height": null,
            "padding": null,
            "grid_auto_rows": null,
            "grid_gap": null,
            "max_width": null,
            "order": null,
            "_view_module_version": "1.2.0",
            "grid_template_areas": null,
            "object_position": null,
            "object_fit": null,
            "grid_auto_columns": null,
            "margin": null,
            "display": null,
            "left": null
          }
        },
        "91b4f52d3dd449bd828401ef81ecb830": {
          "model_module": "@jupyter-widgets/controls",
          "model_name": "DescriptionStyleModel",
          "state": {
            "_view_name": "StyleView",
            "_model_name": "DescriptionStyleModel",
            "description_width": "",
            "_view_module": "@jupyter-widgets/base",
            "_model_module_version": "1.5.0",
            "_view_count": null,
            "_view_module_version": "1.2.0",
            "_model_module": "@jupyter-widgets/controls"
          }
        },
        "0dabfd91af7749e28c592ae5525cf3b3": {
          "model_module": "@jupyter-widgets/base",
          "model_name": "LayoutModel",
          "state": {
            "_view_name": "LayoutView",
            "grid_template_rows": null,
            "right": null,
            "justify_content": null,
            "_view_module": "@jupyter-widgets/base",
            "overflow": null,
            "_model_module_version": "1.2.0",
            "_view_count": null,
            "flex_flow": null,
            "width": null,
            "min_width": null,
            "border": null,
            "align_items": null,
            "bottom": null,
            "_model_module": "@jupyter-widgets/base",
            "top": null,
            "grid_column": null,
            "overflow_y": null,
            "overflow_x": null,
            "grid_auto_flow": null,
            "grid_area": null,
            "grid_template_columns": null,
            "flex": null,
            "_model_name": "LayoutModel",
            "justify_items": null,
            "grid_row": null,
            "max_height": null,
            "align_content": null,
            "visibility": null,
            "align_self": null,
            "height": null,
            "min_height": null,
            "padding": null,
            "grid_auto_rows": null,
            "grid_gap": null,
            "max_width": null,
            "order": null,
            "_view_module_version": "1.2.0",
            "grid_template_areas": null,
            "object_position": null,
            "object_fit": null,
            "grid_auto_columns": null,
            "margin": null,
            "display": null,
            "left": null
          }
        },
        "1284636a06ce4fa18847f25246e9a846": {
          "model_module": "@jupyter-widgets/controls",
          "model_name": "HBoxModel",
          "state": {
            "_view_name": "HBoxView",
            "_dom_classes": [],
            "_model_name": "HBoxModel",
            "_view_module": "@jupyter-widgets/controls",
            "_model_module_version": "1.5.0",
            "_view_count": null,
            "_view_module_version": "1.5.0",
            "box_style": "",
            "layout": "IPY_MODEL_396f2c15f90145b59c78b23091e3b219",
            "_model_module": "@jupyter-widgets/controls",
            "children": [
              "IPY_MODEL_847f3347ef3448a39ec9d36d77fedb8b",
              "IPY_MODEL_42453550ac854be1b8f0ad17ecd6fbba"
            ]
          }
        },
        "396f2c15f90145b59c78b23091e3b219": {
          "model_module": "@jupyter-widgets/base",
          "model_name": "LayoutModel",
          "state": {
            "_view_name": "LayoutView",
            "grid_template_rows": null,
            "right": null,
            "justify_content": null,
            "_view_module": "@jupyter-widgets/base",
            "overflow": null,
            "_model_module_version": "1.2.0",
            "_view_count": null,
            "flex_flow": null,
            "width": null,
            "min_width": null,
            "border": null,
            "align_items": null,
            "bottom": null,
            "_model_module": "@jupyter-widgets/base",
            "top": null,
            "grid_column": null,
            "overflow_y": null,
            "overflow_x": null,
            "grid_auto_flow": null,
            "grid_area": null,
            "grid_template_columns": null,
            "flex": null,
            "_model_name": "LayoutModel",
            "justify_items": null,
            "grid_row": null,
            "max_height": null,
            "align_content": null,
            "visibility": null,
            "align_self": null,
            "height": null,
            "min_height": null,
            "padding": null,
            "grid_auto_rows": null,
            "grid_gap": null,
            "max_width": null,
            "order": null,
            "_view_module_version": "1.2.0",
            "grid_template_areas": null,
            "object_position": null,
            "object_fit": null,
            "grid_auto_columns": null,
            "margin": null,
            "display": null,
            "left": null
          }
        },
        "847f3347ef3448a39ec9d36d77fedb8b": {
          "model_module": "@jupyter-widgets/controls",
          "model_name": "FloatProgressModel",
          "state": {
            "_view_name": "ProgressView",
            "style": "IPY_MODEL_455c5981569a407a936aef284c9cfad7",
            "_dom_classes": [],
            "description": "#7: 100%",
            "_model_name": "FloatProgressModel",
            "bar_style": "success",
            "max": 7000,
            "_view_module": "@jupyter-widgets/controls",
            "_model_module_version": "1.5.0",
            "value": 7000,
            "_view_count": null,
            "_view_module_version": "1.5.0",
            "orientation": "horizontal",
            "min": 0,
            "description_tooltip": null,
            "_model_module": "@jupyter-widgets/controls",
            "layout": "IPY_MODEL_6bde740e80f04155b2c39caeba8cfe02"
          }
        },
        "42453550ac854be1b8f0ad17ecd6fbba": {
          "model_module": "@jupyter-widgets/controls",
          "model_name": "HTMLModel",
          "state": {
            "_view_name": "HTMLView",
            "style": "IPY_MODEL_8d4eff8462b44152bab567cb6206e3b9",
            "_dom_classes": [],
            "description": "",
            "_model_name": "HTMLModel",
            "placeholder": "​",
            "_view_module": "@jupyter-widgets/controls",
            "_model_module_version": "1.5.0",
            "value": " 7000/7000 [00:06&lt;00:00, 1082.81ex/s]",
            "_view_count": null,
            "_view_module_version": "1.5.0",
            "description_tooltip": null,
            "_model_module": "@jupyter-widgets/controls",
            "layout": "IPY_MODEL_7d95809ba38b4a45bf852394055dfb3e"
          }
        },
        "455c5981569a407a936aef284c9cfad7": {
          "model_module": "@jupyter-widgets/controls",
          "model_name": "ProgressStyleModel",
          "state": {
            "_view_name": "StyleView",
            "_model_name": "ProgressStyleModel",
            "description_width": "initial",
            "_view_module": "@jupyter-widgets/base",
            "_model_module_version": "1.5.0",
            "_view_count": null,
            "_view_module_version": "1.2.0",
            "bar_color": null,
            "_model_module": "@jupyter-widgets/controls"
          }
        },
        "6bde740e80f04155b2c39caeba8cfe02": {
          "model_module": "@jupyter-widgets/base",
          "model_name": "LayoutModel",
          "state": {
            "_view_name": "LayoutView",
            "grid_template_rows": null,
            "right": null,
            "justify_content": null,
            "_view_module": "@jupyter-widgets/base",
            "overflow": null,
            "_model_module_version": "1.2.0",
            "_view_count": null,
            "flex_flow": null,
            "width": null,
            "min_width": null,
            "border": null,
            "align_items": null,
            "bottom": null,
            "_model_module": "@jupyter-widgets/base",
            "top": null,
            "grid_column": null,
            "overflow_y": null,
            "overflow_x": null,
            "grid_auto_flow": null,
            "grid_area": null,
            "grid_template_columns": null,
            "flex": null,
            "_model_name": "LayoutModel",
            "justify_items": null,
            "grid_row": null,
            "max_height": null,
            "align_content": null,
            "visibility": null,
            "align_self": null,
            "height": null,
            "min_height": null,
            "padding": null,
            "grid_auto_rows": null,
            "grid_gap": null,
            "max_width": null,
            "order": null,
            "_view_module_version": "1.2.0",
            "grid_template_areas": null,
            "object_position": null,
            "object_fit": null,
            "grid_auto_columns": null,
            "margin": null,
            "display": null,
            "left": null
          }
        },
        "8d4eff8462b44152bab567cb6206e3b9": {
          "model_module": "@jupyter-widgets/controls",
          "model_name": "DescriptionStyleModel",
          "state": {
            "_view_name": "StyleView",
            "_model_name": "DescriptionStyleModel",
            "description_width": "",
            "_view_module": "@jupyter-widgets/base",
            "_model_module_version": "1.5.0",
            "_view_count": null,
            "_view_module_version": "1.2.0",
            "_model_module": "@jupyter-widgets/controls"
          }
        },
        "7d95809ba38b4a45bf852394055dfb3e": {
          "model_module": "@jupyter-widgets/base",
          "model_name": "LayoutModel",
          "state": {
            "_view_name": "LayoutView",
            "grid_template_rows": null,
            "right": null,
            "justify_content": null,
            "_view_module": "@jupyter-widgets/base",
            "overflow": null,
            "_model_module_version": "1.2.0",
            "_view_count": null,
            "flex_flow": null,
            "width": null,
            "min_width": null,
            "border": null,
            "align_items": null,
            "bottom": null,
            "_model_module": "@jupyter-widgets/base",
            "top": null,
            "grid_column": null,
            "overflow_y": null,
            "overflow_x": null,
            "grid_auto_flow": null,
            "grid_area": null,
            "grid_template_columns": null,
            "flex": null,
            "_model_name": "LayoutModel",
            "justify_items": null,
            "grid_row": null,
            "max_height": null,
            "align_content": null,
            "visibility": null,
            "align_self": null,
            "height": null,
            "min_height": null,
            "padding": null,
            "grid_auto_rows": null,
            "grid_gap": null,
            "max_width": null,
            "order": null,
            "_view_module_version": "1.2.0",
            "grid_template_areas": null,
            "object_position": null,
            "object_fit": null,
            "grid_auto_columns": null,
            "margin": null,
            "display": null,
            "left": null
          }
        },
        "9abe7d5d3be34ce4984f6ba53a0e034c": {
          "model_module": "@jupyter-widgets/controls",
          "model_name": "HBoxModel",
          "state": {
            "_view_name": "HBoxView",
            "_dom_classes": [],
            "_model_name": "HBoxModel",
            "_view_module": "@jupyter-widgets/controls",
            "_model_module_version": "1.5.0",
            "_view_count": null,
            "_view_module_version": "1.5.0",
            "box_style": "",
            "layout": "IPY_MODEL_0f7a00fb3adf41c1aa1104e13890e823",
            "_model_module": "@jupyter-widgets/controls",
            "children": [
              "IPY_MODEL_1ac8067806524f1baa5a8117c404b2c8",
              "IPY_MODEL_e7fb621297b84ef08ade38900b361337"
            ]
          }
        },
        "0f7a00fb3adf41c1aa1104e13890e823": {
          "model_module": "@jupyter-widgets/base",
          "model_name": "LayoutModel",
          "state": {
            "_view_name": "LayoutView",
            "grid_template_rows": null,
            "right": null,
            "justify_content": null,
            "_view_module": "@jupyter-widgets/base",
            "overflow": null,
            "_model_module_version": "1.2.0",
            "_view_count": null,
            "flex_flow": null,
            "width": null,
            "min_width": null,
            "border": null,
            "align_items": null,
            "bottom": null,
            "_model_module": "@jupyter-widgets/base",
            "top": null,
            "grid_column": null,
            "overflow_y": null,
            "overflow_x": null,
            "grid_auto_flow": null,
            "grid_area": null,
            "grid_template_columns": null,
            "flex": null,
            "_model_name": "LayoutModel",
            "justify_items": null,
            "grid_row": null,
            "max_height": null,
            "align_content": null,
            "visibility": null,
            "align_self": null,
            "height": null,
            "min_height": null,
            "padding": null,
            "grid_auto_rows": null,
            "grid_gap": null,
            "max_width": null,
            "order": null,
            "_view_module_version": "1.2.0",
            "grid_template_areas": null,
            "object_position": null,
            "object_fit": null,
            "grid_auto_columns": null,
            "margin": null,
            "display": null,
            "left": null
          }
        },
        "1ac8067806524f1baa5a8117c404b2c8": {
          "model_module": "@jupyter-widgets/controls",
          "model_name": "FloatProgressModel",
          "state": {
            "_view_name": "ProgressView",
            "style": "IPY_MODEL_96b7ac9c137b4c42b4deeaf0589f5021",
            "_dom_classes": [],
            "description": "#9: 100%",
            "_model_name": "FloatProgressModel",
            "bar_style": "success",
            "max": 7000,
            "_view_module": "@jupyter-widgets/controls",
            "_model_module_version": "1.5.0",
            "value": 7000,
            "_view_count": null,
            "_view_module_version": "1.5.0",
            "orientation": "horizontal",
            "min": 0,
            "description_tooltip": null,
            "_model_module": "@jupyter-widgets/controls",
            "layout": "IPY_MODEL_c9f9ee07316e498bb8bb86232faefbd5"
          }
        },
        "e7fb621297b84ef08ade38900b361337": {
          "model_module": "@jupyter-widgets/controls",
          "model_name": "HTMLModel",
          "state": {
            "_view_name": "HTMLView",
            "style": "IPY_MODEL_8de718391ca8415ab3d0dd36afc8e708",
            "_dom_classes": [],
            "description": "",
            "_model_name": "HTMLModel",
            "placeholder": "​",
            "_view_module": "@jupyter-widgets/controls",
            "_model_module_version": "1.5.0",
            "value": " 7000/7000 [00:06&lt;00:00, 1036.82ex/s]",
            "_view_count": null,
            "_view_module_version": "1.5.0",
            "description_tooltip": null,
            "_model_module": "@jupyter-widgets/controls",
            "layout": "IPY_MODEL_00b817d974974cceb0b310c46bb6aaa2"
          }
        },
        "96b7ac9c137b4c42b4deeaf0589f5021": {
          "model_module": "@jupyter-widgets/controls",
          "model_name": "ProgressStyleModel",
          "state": {
            "_view_name": "StyleView",
            "_model_name": "ProgressStyleModel",
            "description_width": "initial",
            "_view_module": "@jupyter-widgets/base",
            "_model_module_version": "1.5.0",
            "_view_count": null,
            "_view_module_version": "1.2.0",
            "bar_color": null,
            "_model_module": "@jupyter-widgets/controls"
          }
        },
        "c9f9ee07316e498bb8bb86232faefbd5": {
          "model_module": "@jupyter-widgets/base",
          "model_name": "LayoutModel",
          "state": {
            "_view_name": "LayoutView",
            "grid_template_rows": null,
            "right": null,
            "justify_content": null,
            "_view_module": "@jupyter-widgets/base",
            "overflow": null,
            "_model_module_version": "1.2.0",
            "_view_count": null,
            "flex_flow": null,
            "width": null,
            "min_width": null,
            "border": null,
            "align_items": null,
            "bottom": null,
            "_model_module": "@jupyter-widgets/base",
            "top": null,
            "grid_column": null,
            "overflow_y": null,
            "overflow_x": null,
            "grid_auto_flow": null,
            "grid_area": null,
            "grid_template_columns": null,
            "flex": null,
            "_model_name": "LayoutModel",
            "justify_items": null,
            "grid_row": null,
            "max_height": null,
            "align_content": null,
            "visibility": null,
            "align_self": null,
            "height": null,
            "min_height": null,
            "padding": null,
            "grid_auto_rows": null,
            "grid_gap": null,
            "max_width": null,
            "order": null,
            "_view_module_version": "1.2.0",
            "grid_template_areas": null,
            "object_position": null,
            "object_fit": null,
            "grid_auto_columns": null,
            "margin": null,
            "display": null,
            "left": null
          }
        },
        "8de718391ca8415ab3d0dd36afc8e708": {
          "model_module": "@jupyter-widgets/controls",
          "model_name": "DescriptionStyleModel",
          "state": {
            "_view_name": "StyleView",
            "_model_name": "DescriptionStyleModel",
            "description_width": "",
            "_view_module": "@jupyter-widgets/base",
            "_model_module_version": "1.5.0",
            "_view_count": null,
            "_view_module_version": "1.2.0",
            "_model_module": "@jupyter-widgets/controls"
          }
        },
        "00b817d974974cceb0b310c46bb6aaa2": {
          "model_module": "@jupyter-widgets/base",
          "model_name": "LayoutModel",
          "state": {
            "_view_name": "LayoutView",
            "grid_template_rows": null,
            "right": null,
            "justify_content": null,
            "_view_module": "@jupyter-widgets/base",
            "overflow": null,
            "_model_module_version": "1.2.0",
            "_view_count": null,
            "flex_flow": null,
            "width": null,
            "min_width": null,
            "border": null,
            "align_items": null,
            "bottom": null,
            "_model_module": "@jupyter-widgets/base",
            "top": null,
            "grid_column": null,
            "overflow_y": null,
            "overflow_x": null,
            "grid_auto_flow": null,
            "grid_area": null,
            "grid_template_columns": null,
            "flex": null,
            "_model_name": "LayoutModel",
            "justify_items": null,
            "grid_row": null,
            "max_height": null,
            "align_content": null,
            "visibility": null,
            "align_self": null,
            "height": null,
            "min_height": null,
            "padding": null,
            "grid_auto_rows": null,
            "grid_gap": null,
            "max_width": null,
            "order": null,
            "_view_module_version": "1.2.0",
            "grid_template_areas": null,
            "object_position": null,
            "object_fit": null,
            "grid_auto_columns": null,
            "margin": null,
            "display": null,
            "left": null
          }
        },
        "122ff488443e412da40becde598c1a70": {
          "model_module": "@jupyter-widgets/controls",
          "model_name": "HBoxModel",
          "state": {
            "_view_name": "HBoxView",
            "_dom_classes": [],
            "_model_name": "HBoxModel",
            "_view_module": "@jupyter-widgets/controls",
            "_model_module_version": "1.5.0",
            "_view_count": null,
            "_view_module_version": "1.5.0",
            "box_style": "",
            "layout": "IPY_MODEL_0a00b06601294a46803b51240999b491",
            "_model_module": "@jupyter-widgets/controls",
            "children": [
              "IPY_MODEL_b0906d4f1c0047b6919aa855042ade8e",
              "IPY_MODEL_574c8fbaf1de4e1394437b8533bb808e"
            ]
          }
        },
        "0a00b06601294a46803b51240999b491": {
          "model_module": "@jupyter-widgets/base",
          "model_name": "LayoutModel",
          "state": {
            "_view_name": "LayoutView",
            "grid_template_rows": null,
            "right": null,
            "justify_content": null,
            "_view_module": "@jupyter-widgets/base",
            "overflow": null,
            "_model_module_version": "1.2.0",
            "_view_count": null,
            "flex_flow": null,
            "width": null,
            "min_width": null,
            "border": null,
            "align_items": null,
            "bottom": null,
            "_model_module": "@jupyter-widgets/base",
            "top": null,
            "grid_column": null,
            "overflow_y": null,
            "overflow_x": null,
            "grid_auto_flow": null,
            "grid_area": null,
            "grid_template_columns": null,
            "flex": null,
            "_model_name": "LayoutModel",
            "justify_items": null,
            "grid_row": null,
            "max_height": null,
            "align_content": null,
            "visibility": null,
            "align_self": null,
            "height": null,
            "min_height": null,
            "padding": null,
            "grid_auto_rows": null,
            "grid_gap": null,
            "max_width": null,
            "order": null,
            "_view_module_version": "1.2.0",
            "grid_template_areas": null,
            "object_position": null,
            "object_fit": null,
            "grid_auto_columns": null,
            "margin": null,
            "display": null,
            "left": null
          }
        },
        "b0906d4f1c0047b6919aa855042ade8e": {
          "model_module": "@jupyter-widgets/controls",
          "model_name": "FloatProgressModel",
          "state": {
            "_view_name": "ProgressView",
            "style": "IPY_MODEL_f44cc4dda6b44efe95f68fa78784e924",
            "_dom_classes": [],
            "description": "#8: 100%",
            "_model_name": "FloatProgressModel",
            "bar_style": "success",
            "max": 7000,
            "_view_module": "@jupyter-widgets/controls",
            "_model_module_version": "1.5.0",
            "value": 7000,
            "_view_count": null,
            "_view_module_version": "1.5.0",
            "orientation": "horizontal",
            "min": 0,
            "description_tooltip": null,
            "_model_module": "@jupyter-widgets/controls",
            "layout": "IPY_MODEL_d1172124d84a45d6979ec7ab547c75d8"
          }
        },
        "574c8fbaf1de4e1394437b8533bb808e": {
          "model_module": "@jupyter-widgets/controls",
          "model_name": "HTMLModel",
          "state": {
            "_view_name": "HTMLView",
            "style": "IPY_MODEL_1b4144447c6c455a886b23976ec6fc54",
            "_dom_classes": [],
            "description": "",
            "_model_name": "HTMLModel",
            "placeholder": "​",
            "_view_module": "@jupyter-widgets/controls",
            "_model_module_version": "1.5.0",
            "value": " 7000/7000 [00:06&lt;00:00, 1128.03ex/s]",
            "_view_count": null,
            "_view_module_version": "1.5.0",
            "description_tooltip": null,
            "_model_module": "@jupyter-widgets/controls",
            "layout": "IPY_MODEL_73a26a3ae726419da452f23a66cba376"
          }
        },
        "f44cc4dda6b44efe95f68fa78784e924": {
          "model_module": "@jupyter-widgets/controls",
          "model_name": "ProgressStyleModel",
          "state": {
            "_view_name": "StyleView",
            "_model_name": "ProgressStyleModel",
            "description_width": "initial",
            "_view_module": "@jupyter-widgets/base",
            "_model_module_version": "1.5.0",
            "_view_count": null,
            "_view_module_version": "1.2.0",
            "bar_color": null,
            "_model_module": "@jupyter-widgets/controls"
          }
        },
        "d1172124d84a45d6979ec7ab547c75d8": {
          "model_module": "@jupyter-widgets/base",
          "model_name": "LayoutModel",
          "state": {
            "_view_name": "LayoutView",
            "grid_template_rows": null,
            "right": null,
            "justify_content": null,
            "_view_module": "@jupyter-widgets/base",
            "overflow": null,
            "_model_module_version": "1.2.0",
            "_view_count": null,
            "flex_flow": null,
            "width": null,
            "min_width": null,
            "border": null,
            "align_items": null,
            "bottom": null,
            "_model_module": "@jupyter-widgets/base",
            "top": null,
            "grid_column": null,
            "overflow_y": null,
            "overflow_x": null,
            "grid_auto_flow": null,
            "grid_area": null,
            "grid_template_columns": null,
            "flex": null,
            "_model_name": "LayoutModel",
            "justify_items": null,
            "grid_row": null,
            "max_height": null,
            "align_content": null,
            "visibility": null,
            "align_self": null,
            "height": null,
            "min_height": null,
            "padding": null,
            "grid_auto_rows": null,
            "grid_gap": null,
            "max_width": null,
            "order": null,
            "_view_module_version": "1.2.0",
            "grid_template_areas": null,
            "object_position": null,
            "object_fit": null,
            "grid_auto_columns": null,
            "margin": null,
            "display": null,
            "left": null
          }
        },
        "1b4144447c6c455a886b23976ec6fc54": {
          "model_module": "@jupyter-widgets/controls",
          "model_name": "DescriptionStyleModel",
          "state": {
            "_view_name": "StyleView",
            "_model_name": "DescriptionStyleModel",
            "description_width": "",
            "_view_module": "@jupyter-widgets/base",
            "_model_module_version": "1.5.0",
            "_view_count": null,
            "_view_module_version": "1.2.0",
            "_model_module": "@jupyter-widgets/controls"
          }
        },
        "73a26a3ae726419da452f23a66cba376": {
          "model_module": "@jupyter-widgets/base",
          "model_name": "LayoutModel",
          "state": {
            "_view_name": "LayoutView",
            "grid_template_rows": null,
            "right": null,
            "justify_content": null,
            "_view_module": "@jupyter-widgets/base",
            "overflow": null,
            "_model_module_version": "1.2.0",
            "_view_count": null,
            "flex_flow": null,
            "width": null,
            "min_width": null,
            "border": null,
            "align_items": null,
            "bottom": null,
            "_model_module": "@jupyter-widgets/base",
            "top": null,
            "grid_column": null,
            "overflow_y": null,
            "overflow_x": null,
            "grid_auto_flow": null,
            "grid_area": null,
            "grid_template_columns": null,
            "flex": null,
            "_model_name": "LayoutModel",
            "justify_items": null,
            "grid_row": null,
            "max_height": null,
            "align_content": null,
            "visibility": null,
            "align_self": null,
            "height": null,
            "min_height": null,
            "padding": null,
            "grid_auto_rows": null,
            "grid_gap": null,
            "max_width": null,
            "order": null,
            "_view_module_version": "1.2.0",
            "grid_template_areas": null,
            "object_position": null,
            "object_fit": null,
            "grid_auto_columns": null,
            "margin": null,
            "display": null,
            "left": null
          }
        },
        "65b54c3b7b49458bb6bdf22fc0ec62b9": {
          "model_module": "@jupyter-widgets/controls",
          "model_name": "HBoxModel",
          "state": {
            "_view_name": "HBoxView",
            "_dom_classes": [],
            "_model_name": "HBoxModel",
            "_view_module": "@jupyter-widgets/controls",
            "_model_module_version": "1.5.0",
            "_view_count": null,
            "_view_module_version": "1.5.0",
            "box_style": "",
            "layout": "IPY_MODEL_fc8b95d4fae94dc68ab78ae2ba920003",
            "_model_module": "@jupyter-widgets/controls",
            "children": [
              "IPY_MODEL_3187071a24cb4c55b94995f42eaf625e",
              "IPY_MODEL_648a5521307d4433a3d7e88f32ee97c6"
            ]
          }
        },
        "fc8b95d4fae94dc68ab78ae2ba920003": {
          "model_module": "@jupyter-widgets/base",
          "model_name": "LayoutModel",
          "state": {
            "_view_name": "LayoutView",
            "grid_template_rows": null,
            "right": null,
            "justify_content": null,
            "_view_module": "@jupyter-widgets/base",
            "overflow": null,
            "_model_module_version": "1.2.0",
            "_view_count": null,
            "flex_flow": null,
            "width": null,
            "min_width": null,
            "border": null,
            "align_items": null,
            "bottom": null,
            "_model_module": "@jupyter-widgets/base",
            "top": null,
            "grid_column": null,
            "overflow_y": null,
            "overflow_x": null,
            "grid_auto_flow": null,
            "grid_area": null,
            "grid_template_columns": null,
            "flex": null,
            "_model_name": "LayoutModel",
            "justify_items": null,
            "grid_row": null,
            "max_height": null,
            "align_content": null,
            "visibility": null,
            "align_self": null,
            "height": null,
            "min_height": null,
            "padding": null,
            "grid_auto_rows": null,
            "grid_gap": null,
            "max_width": null,
            "order": null,
            "_view_module_version": "1.2.0",
            "grid_template_areas": null,
            "object_position": null,
            "object_fit": null,
            "grid_auto_columns": null,
            "margin": null,
            "display": null,
            "left": null
          }
        },
        "3187071a24cb4c55b94995f42eaf625e": {
          "model_module": "@jupyter-widgets/controls",
          "model_name": "FloatProgressModel",
          "state": {
            "_view_name": "ProgressView",
            "style": "IPY_MODEL_ba84013a20f74953943644012e9e744a",
            "_dom_classes": [],
            "description": "Downloading: 100%",
            "_model_name": "FloatProgressModel",
            "bar_style": "success",
            "max": 570,
            "_view_module": "@jupyter-widgets/controls",
            "_model_module_version": "1.5.0",
            "value": 570,
            "_view_count": null,
            "_view_module_version": "1.5.0",
            "orientation": "horizontal",
            "min": 0,
            "description_tooltip": null,
            "_model_module": "@jupyter-widgets/controls",
            "layout": "IPY_MODEL_4cf4dd68963c41afb085c7695efeecad"
          }
        },
        "648a5521307d4433a3d7e88f32ee97c6": {
          "model_module": "@jupyter-widgets/controls",
          "model_name": "HTMLModel",
          "state": {
            "_view_name": "HTMLView",
            "style": "IPY_MODEL_142fcf53f9024d37bec4232819f8a2dd",
            "_dom_classes": [],
            "description": "",
            "_model_name": "HTMLModel",
            "placeholder": "​",
            "_view_module": "@jupyter-widgets/controls",
            "_model_module_version": "1.5.0",
            "value": " 570/570 [00:01&lt;00:00, 442B/s]",
            "_view_count": null,
            "_view_module_version": "1.5.0",
            "description_tooltip": null,
            "_model_module": "@jupyter-widgets/controls",
            "layout": "IPY_MODEL_c46f3a93cd2c4f72a3d5234c89711ffe"
          }
        },
        "ba84013a20f74953943644012e9e744a": {
          "model_module": "@jupyter-widgets/controls",
          "model_name": "ProgressStyleModel",
          "state": {
            "_view_name": "StyleView",
            "_model_name": "ProgressStyleModel",
            "description_width": "initial",
            "_view_module": "@jupyter-widgets/base",
            "_model_module_version": "1.5.0",
            "_view_count": null,
            "_view_module_version": "1.2.0",
            "bar_color": null,
            "_model_module": "@jupyter-widgets/controls"
          }
        },
        "4cf4dd68963c41afb085c7695efeecad": {
          "model_module": "@jupyter-widgets/base",
          "model_name": "LayoutModel",
          "state": {
            "_view_name": "LayoutView",
            "grid_template_rows": null,
            "right": null,
            "justify_content": null,
            "_view_module": "@jupyter-widgets/base",
            "overflow": null,
            "_model_module_version": "1.2.0",
            "_view_count": null,
            "flex_flow": null,
            "width": null,
            "min_width": null,
            "border": null,
            "align_items": null,
            "bottom": null,
            "_model_module": "@jupyter-widgets/base",
            "top": null,
            "grid_column": null,
            "overflow_y": null,
            "overflow_x": null,
            "grid_auto_flow": null,
            "grid_area": null,
            "grid_template_columns": null,
            "flex": null,
            "_model_name": "LayoutModel",
            "justify_items": null,
            "grid_row": null,
            "max_height": null,
            "align_content": null,
            "visibility": null,
            "align_self": null,
            "height": null,
            "min_height": null,
            "padding": null,
            "grid_auto_rows": null,
            "grid_gap": null,
            "max_width": null,
            "order": null,
            "_view_module_version": "1.2.0",
            "grid_template_areas": null,
            "object_position": null,
            "object_fit": null,
            "grid_auto_columns": null,
            "margin": null,
            "display": null,
            "left": null
          }
        },
        "142fcf53f9024d37bec4232819f8a2dd": {
          "model_module": "@jupyter-widgets/controls",
          "model_name": "DescriptionStyleModel",
          "state": {
            "_view_name": "StyleView",
            "_model_name": "DescriptionStyleModel",
            "description_width": "",
            "_view_module": "@jupyter-widgets/base",
            "_model_module_version": "1.5.0",
            "_view_count": null,
            "_view_module_version": "1.2.0",
            "_model_module": "@jupyter-widgets/controls"
          }
        },
        "c46f3a93cd2c4f72a3d5234c89711ffe": {
          "model_module": "@jupyter-widgets/base",
          "model_name": "LayoutModel",
          "state": {
            "_view_name": "LayoutView",
            "grid_template_rows": null,
            "right": null,
            "justify_content": null,
            "_view_module": "@jupyter-widgets/base",
            "overflow": null,
            "_model_module_version": "1.2.0",
            "_view_count": null,
            "flex_flow": null,
            "width": null,
            "min_width": null,
            "border": null,
            "align_items": null,
            "bottom": null,
            "_model_module": "@jupyter-widgets/base",
            "top": null,
            "grid_column": null,
            "overflow_y": null,
            "overflow_x": null,
            "grid_auto_flow": null,
            "grid_area": null,
            "grid_template_columns": null,
            "flex": null,
            "_model_name": "LayoutModel",
            "justify_items": null,
            "grid_row": null,
            "max_height": null,
            "align_content": null,
            "visibility": null,
            "align_self": null,
            "height": null,
            "min_height": null,
            "padding": null,
            "grid_auto_rows": null,
            "grid_gap": null,
            "max_width": null,
            "order": null,
            "_view_module_version": "1.2.0",
            "grid_template_areas": null,
            "object_position": null,
            "object_fit": null,
            "grid_auto_columns": null,
            "margin": null,
            "display": null,
            "left": null
          }
        },
        "412dbc9022b64038976c518c6734bd99": {
          "model_module": "@jupyter-widgets/controls",
          "model_name": "HBoxModel",
          "state": {
            "_view_name": "HBoxView",
            "_dom_classes": [],
            "_model_name": "HBoxModel",
            "_view_module": "@jupyter-widgets/controls",
            "_model_module_version": "1.5.0",
            "_view_count": null,
            "_view_module_version": "1.5.0",
            "box_style": "",
            "layout": "IPY_MODEL_67b50b49bb404c6ca08121de051f367c",
            "_model_module": "@jupyter-widgets/controls",
            "children": [
              "IPY_MODEL_43d990d992e94bbea05ed40930efe351",
              "IPY_MODEL_abc10831b5254cc283ccb9a21f8f9be0"
            ]
          }
        },
        "67b50b49bb404c6ca08121de051f367c": {
          "model_module": "@jupyter-widgets/base",
          "model_name": "LayoutModel",
          "state": {
            "_view_name": "LayoutView",
            "grid_template_rows": null,
            "right": null,
            "justify_content": null,
            "_view_module": "@jupyter-widgets/base",
            "overflow": null,
            "_model_module_version": "1.2.0",
            "_view_count": null,
            "flex_flow": null,
            "width": null,
            "min_width": null,
            "border": null,
            "align_items": null,
            "bottom": null,
            "_model_module": "@jupyter-widgets/base",
            "top": null,
            "grid_column": null,
            "overflow_y": null,
            "overflow_x": null,
            "grid_auto_flow": null,
            "grid_area": null,
            "grid_template_columns": null,
            "flex": null,
            "_model_name": "LayoutModel",
            "justify_items": null,
            "grid_row": null,
            "max_height": null,
            "align_content": null,
            "visibility": null,
            "align_self": null,
            "height": null,
            "min_height": null,
            "padding": null,
            "grid_auto_rows": null,
            "grid_gap": null,
            "max_width": null,
            "order": null,
            "_view_module_version": "1.2.0",
            "grid_template_areas": null,
            "object_position": null,
            "object_fit": null,
            "grid_auto_columns": null,
            "margin": null,
            "display": null,
            "left": null
          }
        },
        "43d990d992e94bbea05ed40930efe351": {
          "model_module": "@jupyter-widgets/controls",
          "model_name": "FloatProgressModel",
          "state": {
            "_view_name": "ProgressView",
            "style": "IPY_MODEL_0b93ebf666c34949ae7e04898b7af848",
            "_dom_classes": [],
            "description": "Downloading: 100%",
            "_model_name": "FloatProgressModel",
            "bar_style": "success",
            "max": 213450,
            "_view_module": "@jupyter-widgets/controls",
            "_model_module_version": "1.5.0",
            "value": 213450,
            "_view_count": null,
            "_view_module_version": "1.5.0",
            "orientation": "horizontal",
            "min": 0,
            "description_tooltip": null,
            "_model_module": "@jupyter-widgets/controls",
            "layout": "IPY_MODEL_51fba0325af54cd28e29c23b46274771"
          }
        },
        "abc10831b5254cc283ccb9a21f8f9be0": {
          "model_module": "@jupyter-widgets/controls",
          "model_name": "HTMLModel",
          "state": {
            "_view_name": "HTMLView",
            "style": "IPY_MODEL_511d46a7cacb463ab4bde7bb90d0932d",
            "_dom_classes": [],
            "description": "",
            "_model_name": "HTMLModel",
            "placeholder": "​",
            "_view_module": "@jupyter-widgets/controls",
            "_model_module_version": "1.5.0",
            "value": " 213k/213k [00:00&lt;00:00, 300kB/s]",
            "_view_count": null,
            "_view_module_version": "1.5.0",
            "description_tooltip": null,
            "_model_module": "@jupyter-widgets/controls",
            "layout": "IPY_MODEL_c2867d75ef3f4518ad4e02582aab543f"
          }
        },
        "0b93ebf666c34949ae7e04898b7af848": {
          "model_module": "@jupyter-widgets/controls",
          "model_name": "ProgressStyleModel",
          "state": {
            "_view_name": "StyleView",
            "_model_name": "ProgressStyleModel",
            "description_width": "initial",
            "_view_module": "@jupyter-widgets/base",
            "_model_module_version": "1.5.0",
            "_view_count": null,
            "_view_module_version": "1.2.0",
            "bar_color": null,
            "_model_module": "@jupyter-widgets/controls"
          }
        },
        "51fba0325af54cd28e29c23b46274771": {
          "model_module": "@jupyter-widgets/base",
          "model_name": "LayoutModel",
          "state": {
            "_view_name": "LayoutView",
            "grid_template_rows": null,
            "right": null,
            "justify_content": null,
            "_view_module": "@jupyter-widgets/base",
            "overflow": null,
            "_model_module_version": "1.2.0",
            "_view_count": null,
            "flex_flow": null,
            "width": null,
            "min_width": null,
            "border": null,
            "align_items": null,
            "bottom": null,
            "_model_module": "@jupyter-widgets/base",
            "top": null,
            "grid_column": null,
            "overflow_y": null,
            "overflow_x": null,
            "grid_auto_flow": null,
            "grid_area": null,
            "grid_template_columns": null,
            "flex": null,
            "_model_name": "LayoutModel",
            "justify_items": null,
            "grid_row": null,
            "max_height": null,
            "align_content": null,
            "visibility": null,
            "align_self": null,
            "height": null,
            "min_height": null,
            "padding": null,
            "grid_auto_rows": null,
            "grid_gap": null,
            "max_width": null,
            "order": null,
            "_view_module_version": "1.2.0",
            "grid_template_areas": null,
            "object_position": null,
            "object_fit": null,
            "grid_auto_columns": null,
            "margin": null,
            "display": null,
            "left": null
          }
        },
        "511d46a7cacb463ab4bde7bb90d0932d": {
          "model_module": "@jupyter-widgets/controls",
          "model_name": "DescriptionStyleModel",
          "state": {
            "_view_name": "StyleView",
            "_model_name": "DescriptionStyleModel",
            "description_width": "",
            "_view_module": "@jupyter-widgets/base",
            "_model_module_version": "1.5.0",
            "_view_count": null,
            "_view_module_version": "1.2.0",
            "_model_module": "@jupyter-widgets/controls"
          }
        },
        "c2867d75ef3f4518ad4e02582aab543f": {
          "model_module": "@jupyter-widgets/base",
          "model_name": "LayoutModel",
          "state": {
            "_view_name": "LayoutView",
            "grid_template_rows": null,
            "right": null,
            "justify_content": null,
            "_view_module": "@jupyter-widgets/base",
            "overflow": null,
            "_model_module_version": "1.2.0",
            "_view_count": null,
            "flex_flow": null,
            "width": null,
            "min_width": null,
            "border": null,
            "align_items": null,
            "bottom": null,
            "_model_module": "@jupyter-widgets/base",
            "top": null,
            "grid_column": null,
            "overflow_y": null,
            "overflow_x": null,
            "grid_auto_flow": null,
            "grid_area": null,
            "grid_template_columns": null,
            "flex": null,
            "_model_name": "LayoutModel",
            "justify_items": null,
            "grid_row": null,
            "max_height": null,
            "align_content": null,
            "visibility": null,
            "align_self": null,
            "height": null,
            "min_height": null,
            "padding": null,
            "grid_auto_rows": null,
            "grid_gap": null,
            "max_width": null,
            "order": null,
            "_view_module_version": "1.2.0",
            "grid_template_areas": null,
            "object_position": null,
            "object_fit": null,
            "grid_auto_columns": null,
            "margin": null,
            "display": null,
            "left": null
          }
        },
        "3718e924e25247bda5c72e69f31e6005": {
          "model_module": "@jupyter-widgets/controls",
          "model_name": "HBoxModel",
          "state": {
            "_view_name": "HBoxView",
            "_dom_classes": [],
            "_model_name": "HBoxModel",
            "_view_module": "@jupyter-widgets/controls",
            "_model_module_version": "1.5.0",
            "_view_count": null,
            "_view_module_version": "1.5.0",
            "box_style": "",
            "layout": "IPY_MODEL_9f3fa6a7f7f34390930bbf42764c2203",
            "_model_module": "@jupyter-widgets/controls",
            "children": [
              "IPY_MODEL_1a680f5c233d4212a0cf9a70e9de1079",
              "IPY_MODEL_36d15a6a57f046dc8d08ca1c2517d607"
            ]
          }
        },
        "9f3fa6a7f7f34390930bbf42764c2203": {
          "model_module": "@jupyter-widgets/base",
          "model_name": "LayoutModel",
          "state": {
            "_view_name": "LayoutView",
            "grid_template_rows": null,
            "right": null,
            "justify_content": null,
            "_view_module": "@jupyter-widgets/base",
            "overflow": null,
            "_model_module_version": "1.2.0",
            "_view_count": null,
            "flex_flow": null,
            "width": null,
            "min_width": null,
            "border": null,
            "align_items": null,
            "bottom": null,
            "_model_module": "@jupyter-widgets/base",
            "top": null,
            "grid_column": null,
            "overflow_y": null,
            "overflow_x": null,
            "grid_auto_flow": null,
            "grid_area": null,
            "grid_template_columns": null,
            "flex": null,
            "_model_name": "LayoutModel",
            "justify_items": null,
            "grid_row": null,
            "max_height": null,
            "align_content": null,
            "visibility": null,
            "align_self": null,
            "height": null,
            "min_height": null,
            "padding": null,
            "grid_auto_rows": null,
            "grid_gap": null,
            "max_width": null,
            "order": null,
            "_view_module_version": "1.2.0",
            "grid_template_areas": null,
            "object_position": null,
            "object_fit": null,
            "grid_auto_columns": null,
            "margin": null,
            "display": null,
            "left": null
          }
        },
        "1a680f5c233d4212a0cf9a70e9de1079": {
          "model_module": "@jupyter-widgets/controls",
          "model_name": "FloatProgressModel",
          "state": {
            "_view_name": "ProgressView",
            "style": "IPY_MODEL_f2f7abb9c0884fc8acf4f79c3569da35",
            "_dom_classes": [],
            "description": "Downloading: 100%",
            "_model_name": "FloatProgressModel",
            "bar_style": "success",
            "max": 435797,
            "_view_module": "@jupyter-widgets/controls",
            "_model_module_version": "1.5.0",
            "value": 435797,
            "_view_count": null,
            "_view_module_version": "1.5.0",
            "orientation": "horizontal",
            "min": 0,
            "description_tooltip": null,
            "_model_module": "@jupyter-widgets/controls",
            "layout": "IPY_MODEL_f24b937f8a2d42c79d906d0536f16cc7"
          }
        },
        "36d15a6a57f046dc8d08ca1c2517d607": {
          "model_module": "@jupyter-widgets/controls",
          "model_name": "HTMLModel",
          "state": {
            "_view_name": "HTMLView",
            "style": "IPY_MODEL_af9cb620a3ff46b3be94fb3a65a58f18",
            "_dom_classes": [],
            "description": "",
            "_model_name": "HTMLModel",
            "placeholder": "​",
            "_view_module": "@jupyter-widgets/controls",
            "_model_module_version": "1.5.0",
            "value": " 436k/436k [00:06&lt;00:00, 63.0kB/s]",
            "_view_count": null,
            "_view_module_version": "1.5.0",
            "description_tooltip": null,
            "_model_module": "@jupyter-widgets/controls",
            "layout": "IPY_MODEL_0dd9a348fdc0437abca74c6221ecf033"
          }
        },
        "f2f7abb9c0884fc8acf4f79c3569da35": {
          "model_module": "@jupyter-widgets/controls",
          "model_name": "ProgressStyleModel",
          "state": {
            "_view_name": "StyleView",
            "_model_name": "ProgressStyleModel",
            "description_width": "initial",
            "_view_module": "@jupyter-widgets/base",
            "_model_module_version": "1.5.0",
            "_view_count": null,
            "_view_module_version": "1.2.0",
            "bar_color": null,
            "_model_module": "@jupyter-widgets/controls"
          }
        },
        "f24b937f8a2d42c79d906d0536f16cc7": {
          "model_module": "@jupyter-widgets/base",
          "model_name": "LayoutModel",
          "state": {
            "_view_name": "LayoutView",
            "grid_template_rows": null,
            "right": null,
            "justify_content": null,
            "_view_module": "@jupyter-widgets/base",
            "overflow": null,
            "_model_module_version": "1.2.0",
            "_view_count": null,
            "flex_flow": null,
            "width": null,
            "min_width": null,
            "border": null,
            "align_items": null,
            "bottom": null,
            "_model_module": "@jupyter-widgets/base",
            "top": null,
            "grid_column": null,
            "overflow_y": null,
            "overflow_x": null,
            "grid_auto_flow": null,
            "grid_area": null,
            "grid_template_columns": null,
            "flex": null,
            "_model_name": "LayoutModel",
            "justify_items": null,
            "grid_row": null,
            "max_height": null,
            "align_content": null,
            "visibility": null,
            "align_self": null,
            "height": null,
            "min_height": null,
            "padding": null,
            "grid_auto_rows": null,
            "grid_gap": null,
            "max_width": null,
            "order": null,
            "_view_module_version": "1.2.0",
            "grid_template_areas": null,
            "object_position": null,
            "object_fit": null,
            "grid_auto_columns": null,
            "margin": null,
            "display": null,
            "left": null
          }
        },
        "af9cb620a3ff46b3be94fb3a65a58f18": {
          "model_module": "@jupyter-widgets/controls",
          "model_name": "DescriptionStyleModel",
          "state": {
            "_view_name": "StyleView",
            "_model_name": "DescriptionStyleModel",
            "description_width": "",
            "_view_module": "@jupyter-widgets/base",
            "_model_module_version": "1.5.0",
            "_view_count": null,
            "_view_module_version": "1.2.0",
            "_model_module": "@jupyter-widgets/controls"
          }
        },
        "0dd9a348fdc0437abca74c6221ecf033": {
          "model_module": "@jupyter-widgets/base",
          "model_name": "LayoutModel",
          "state": {
            "_view_name": "LayoutView",
            "grid_template_rows": null,
            "right": null,
            "justify_content": null,
            "_view_module": "@jupyter-widgets/base",
            "overflow": null,
            "_model_module_version": "1.2.0",
            "_view_count": null,
            "flex_flow": null,
            "width": null,
            "min_width": null,
            "border": null,
            "align_items": null,
            "bottom": null,
            "_model_module": "@jupyter-widgets/base",
            "top": null,
            "grid_column": null,
            "overflow_y": null,
            "overflow_x": null,
            "grid_auto_flow": null,
            "grid_area": null,
            "grid_template_columns": null,
            "flex": null,
            "_model_name": "LayoutModel",
            "justify_items": null,
            "grid_row": null,
            "max_height": null,
            "align_content": null,
            "visibility": null,
            "align_self": null,
            "height": null,
            "min_height": null,
            "padding": null,
            "grid_auto_rows": null,
            "grid_gap": null,
            "max_width": null,
            "order": null,
            "_view_module_version": "1.2.0",
            "grid_template_areas": null,
            "object_position": null,
            "object_fit": null,
            "grid_auto_columns": null,
            "margin": null,
            "display": null,
            "left": null
          }
        },
        "82f6e35cb2c84145b866a6aa05b0012a": {
          "model_module": "@jupyter-widgets/controls",
          "model_name": "HBoxModel",
          "state": {
            "_view_name": "HBoxView",
            "_dom_classes": [],
            "_model_name": "HBoxModel",
            "_view_module": "@jupyter-widgets/controls",
            "_model_module_version": "1.5.0",
            "_view_count": null,
            "_view_module_version": "1.5.0",
            "box_style": "",
            "layout": "IPY_MODEL_17de89bcee324ca1ab31ba9636cce24d",
            "_model_module": "@jupyter-widgets/controls",
            "children": [
              "IPY_MODEL_861ad5262d534a9db809ebc1065930e1",
              "IPY_MODEL_85024247c8ae445f8cad8b22d3879fe6"
            ]
          }
        },
        "17de89bcee324ca1ab31ba9636cce24d": {
          "model_module": "@jupyter-widgets/base",
          "model_name": "LayoutModel",
          "state": {
            "_view_name": "LayoutView",
            "grid_template_rows": null,
            "right": null,
            "justify_content": null,
            "_view_module": "@jupyter-widgets/base",
            "overflow": null,
            "_model_module_version": "1.2.0",
            "_view_count": null,
            "flex_flow": null,
            "width": null,
            "min_width": null,
            "border": null,
            "align_items": null,
            "bottom": null,
            "_model_module": "@jupyter-widgets/base",
            "top": null,
            "grid_column": null,
            "overflow_y": null,
            "overflow_x": null,
            "grid_auto_flow": null,
            "grid_area": null,
            "grid_template_columns": null,
            "flex": null,
            "_model_name": "LayoutModel",
            "justify_items": null,
            "grid_row": null,
            "max_height": null,
            "align_content": null,
            "visibility": null,
            "align_self": null,
            "height": null,
            "min_height": null,
            "padding": null,
            "grid_auto_rows": null,
            "grid_gap": null,
            "max_width": null,
            "order": null,
            "_view_module_version": "1.2.0",
            "grid_template_areas": null,
            "object_position": null,
            "object_fit": null,
            "grid_auto_columns": null,
            "margin": null,
            "display": null,
            "left": null
          }
        },
        "861ad5262d534a9db809ebc1065930e1": {
          "model_module": "@jupyter-widgets/controls",
          "model_name": "FloatProgressModel",
          "state": {
            "_view_name": "ProgressView",
            "style": "IPY_MODEL_94e1251d22f041e59f4c32116fae2290",
            "_dom_classes": [],
            "description": "Downloading: 100%",
            "_model_name": "FloatProgressModel",
            "bar_style": "success",
            "max": 29,
            "_view_module": "@jupyter-widgets/controls",
            "_model_module_version": "1.5.0",
            "value": 29,
            "_view_count": null,
            "_view_module_version": "1.5.0",
            "orientation": "horizontal",
            "min": 0,
            "description_tooltip": null,
            "_model_module": "@jupyter-widgets/controls",
            "layout": "IPY_MODEL_973ca39ced1e4c40806e784c4b20feaf"
          }
        },
        "85024247c8ae445f8cad8b22d3879fe6": {
          "model_module": "@jupyter-widgets/controls",
          "model_name": "HTMLModel",
          "state": {
            "_view_name": "HTMLView",
            "style": "IPY_MODEL_e3d3a99a31aa42e8a30a597074a79cd5",
            "_dom_classes": [],
            "description": "",
            "_model_name": "HTMLModel",
            "placeholder": "​",
            "_view_module": "@jupyter-widgets/controls",
            "_model_module_version": "1.5.0",
            "value": " 29.0/29.0 [00:05&lt;00:00, 5.38B/s]",
            "_view_count": null,
            "_view_module_version": "1.5.0",
            "description_tooltip": null,
            "_model_module": "@jupyter-widgets/controls",
            "layout": "IPY_MODEL_6d6cc52358b74e0b8688bad04804e4a1"
          }
        },
        "94e1251d22f041e59f4c32116fae2290": {
          "model_module": "@jupyter-widgets/controls",
          "model_name": "ProgressStyleModel",
          "state": {
            "_view_name": "StyleView",
            "_model_name": "ProgressStyleModel",
            "description_width": "initial",
            "_view_module": "@jupyter-widgets/base",
            "_model_module_version": "1.5.0",
            "_view_count": null,
            "_view_module_version": "1.2.0",
            "bar_color": null,
            "_model_module": "@jupyter-widgets/controls"
          }
        },
        "973ca39ced1e4c40806e784c4b20feaf": {
          "model_module": "@jupyter-widgets/base",
          "model_name": "LayoutModel",
          "state": {
            "_view_name": "LayoutView",
            "grid_template_rows": null,
            "right": null,
            "justify_content": null,
            "_view_module": "@jupyter-widgets/base",
            "overflow": null,
            "_model_module_version": "1.2.0",
            "_view_count": null,
            "flex_flow": null,
            "width": null,
            "min_width": null,
            "border": null,
            "align_items": null,
            "bottom": null,
            "_model_module": "@jupyter-widgets/base",
            "top": null,
            "grid_column": null,
            "overflow_y": null,
            "overflow_x": null,
            "grid_auto_flow": null,
            "grid_area": null,
            "grid_template_columns": null,
            "flex": null,
            "_model_name": "LayoutModel",
            "justify_items": null,
            "grid_row": null,
            "max_height": null,
            "align_content": null,
            "visibility": null,
            "align_self": null,
            "height": null,
            "min_height": null,
            "padding": null,
            "grid_auto_rows": null,
            "grid_gap": null,
            "max_width": null,
            "order": null,
            "_view_module_version": "1.2.0",
            "grid_template_areas": null,
            "object_position": null,
            "object_fit": null,
            "grid_auto_columns": null,
            "margin": null,
            "display": null,
            "left": null
          }
        },
        "e3d3a99a31aa42e8a30a597074a79cd5": {
          "model_module": "@jupyter-widgets/controls",
          "model_name": "DescriptionStyleModel",
          "state": {
            "_view_name": "StyleView",
            "_model_name": "DescriptionStyleModel",
            "description_width": "",
            "_view_module": "@jupyter-widgets/base",
            "_model_module_version": "1.5.0",
            "_view_count": null,
            "_view_module_version": "1.2.0",
            "_model_module": "@jupyter-widgets/controls"
          }
        },
        "6d6cc52358b74e0b8688bad04804e4a1": {
          "model_module": "@jupyter-widgets/base",
          "model_name": "LayoutModel",
          "state": {
            "_view_name": "LayoutView",
            "grid_template_rows": null,
            "right": null,
            "justify_content": null,
            "_view_module": "@jupyter-widgets/base",
            "overflow": null,
            "_model_module_version": "1.2.0",
            "_view_count": null,
            "flex_flow": null,
            "width": null,
            "min_width": null,
            "border": null,
            "align_items": null,
            "bottom": null,
            "_model_module": "@jupyter-widgets/base",
            "top": null,
            "grid_column": null,
            "overflow_y": null,
            "overflow_x": null,
            "grid_auto_flow": null,
            "grid_area": null,
            "grid_template_columns": null,
            "flex": null,
            "_model_name": "LayoutModel",
            "justify_items": null,
            "grid_row": null,
            "max_height": null,
            "align_content": null,
            "visibility": null,
            "align_self": null,
            "height": null,
            "min_height": null,
            "padding": null,
            "grid_auto_rows": null,
            "grid_gap": null,
            "max_width": null,
            "order": null,
            "_view_module_version": "1.2.0",
            "grid_template_areas": null,
            "object_position": null,
            "object_fit": null,
            "grid_auto_columns": null,
            "margin": null,
            "display": null,
            "left": null
          }
        }
      }
    },
    "accelerator": "GPU"
  },
  "cells": [
    {
      "cell_type": "markdown",
      "metadata": {
        "id": "view-in-github",
        "colab_type": "text"
      },
      "source": [
        "<a href=\"https://colab.research.google.com/github/JayThibs/Weak-Supervised-Learning-Case-Study/blob/main/text_classifier/notebooks/03_dbpedia_14_snorkel_dataset_labeling.ipynb\" target=\"_parent\"><img src=\"https://colab.research.google.com/assets/colab-badge.svg\" alt=\"Open In Colab\"/></a>"
      ]
    },
    {
      "cell_type": "markdown",
      "metadata": {
        "id": "0zxVp3sJntMZ"
      },
      "source": [
        "# Creating a Multi-Class Classification Dataset with Snorkel\n",
        "\n",
        "In this notebook, we will be preparing a new version of the DBpedia dataset with snorkel. The goal is to gain experience building multi-class dataset with Snorkel and training a multi-class classification model on the new labeled data.\n",
        "\n",
        "DBpedia is already a labeled dataset, but for labeling purposes we will assume that only a small sample of the dataset was labeled to test the accuracy of the Snorkel labeling process for this particular dataset. Instead of using an unlabeled dataset, this will speed up the labeling process since we already have a list of labels and we can build the labeling functions quicker by looking at them. On an unlabeled dataset, this would be a lot more tedious of a process because we'd need to label a portion of the dataset ourselves. With this approach we can quickly get experience with snorkel and set up a pipeline.\n",
        "\n",
        "Though we have not yet implemented it yet, part of the goal of this for this project is to use Snorkel to label any text datasets by users, provided that they give us their text data, the labels they are interested in, the corresponding keywords for each label, and what part of text they are looking to classify (paragraphs, sentences, only sections about x, etc.) The output would be a brand new dataset that they can use for their particular use-case like prioritizing paragraphs in a large collection of PDFs (for example, regulators trying to assign tasks for each subject matter expert to read PDFs sent by companies)."
      ]
    },
    {
      "cell_type": "code",
      "metadata": {
        "colab": {
          "base_uri": "https://localhost:8080/"
        },
        "id": "tPA8MqyVUwu7",
        "outputId": "861f56a8-9b0e-4a2d-fcf6-8ce47de3f468"
      },
      "source": [
        "!pip install snorkel --quiet\n",
        "!pip install datasets --quiet\n",
        "!pip install spacy --quiet\n",
        "!pip install pytorch-lightning==1.2.8 --quiet\n",
        "!pip install transformers==4.5.1 --quiet\n",
        "!pip install wandb --quiet\n",
        "!pip install onnxruntime --quiet"
      ],
      "execution_count": 5,
      "outputs": [
        {
          "output_type": "stream",
          "text": [
            "\u001b[31mERROR: tensorflow 2.4.1 has requirement tensorboard~=2.4, but you'll have tensorboard 1.15.0 which is incompatible.\u001b[0m\n",
            "\u001b[31mERROR: pytorch-lightning 1.2.8 has requirement tensorboard>=2.2.0, but you'll have tensorboard 1.15.0 which is incompatible.\u001b[0m\n",
            "\u001b[31mERROR: snorkel 0.9.7 has requirement tensorboard<2.0.0,>=1.14.0, but you'll have tensorboard 2.5.0 which is incompatible.\u001b[0m\n"
          ],
          "name": "stdout"
        }
      ]
    },
    {
      "cell_type": "code",
      "metadata": {
        "id": "nW8DUsioYQTo",
        "colab": {
          "base_uri": "https://localhost:8080/"
        },
        "outputId": "077b1df3-bd97-45d7-a231-53b84097f21a"
      },
      "source": [
        "from datasets import load_dataset\n",
        "import re\n",
        "\n",
        "import pandas as pd\n",
        "import numpy as np\n",
        "import os\n",
        "from snorkel.labeling import labeling_function\n",
        "from snorkel.labeling import LabelingFunction\n",
        "from snorkel.labeling.lf.nlp import nlp_labeling_function\n",
        "from snorkel.preprocess import preprocessor\n",
        "from textblob import TextBlob\n",
        "from snorkel.labeling import PandasLFApplier\n",
        "from snorkel.labeling.apply.dask import DaskLFApplier\n",
        "from sklearn.model_selection import train_test_split\n",
        "import spacy\n",
        "from spacy.matcher import Matcher\n",
        "import numpy as np\n",
        "nlp = spacy.load(\"en_core_web_sm\")\n",
        "from spacy.matcher import PhraseMatcher\n",
        "\n",
        "from tqdm.auto import tqdm\n",
        "\n",
        "import torch\n",
        "import torch.nn as nn\n",
        "from torch.utils.data import Dataset, DataLoader\n",
        "\n",
        "from transformers import BertTokenizerFast, AutoTokenizer, AutoModel, BertModel, BertTokenizer, AdamW, get_linear_schedule_with_warmup, DistilBertTokenizerFast, DistilBertForSequenceClassification\n",
        "from transformers import AutoModelForSequenceClassification\n",
        "\n",
        "import pytorch_lightning as pl\n",
        "from pytorch_lightning.metrics.functional import accuracy, f1, auroc\n",
        "from pytorch_lightning.callbacks import ModelCheckpoint, EarlyStopping, BackboneFinetuning, QuantizationAwareTraining, ModelPruning\n",
        "from pytorch_lightning.loggers import TensorBoardLogger\n",
        "RANDOM_SEED = 42\n",
        "pl.seed_everything(RANDOM_SEED)\n",
        "\n",
        "# weights and biases\n",
        "import wandb\n",
        "\n",
        "# lightning plus wandb\n",
        "from pytorch_lightning.loggers import WandbLogger\n",
        "\n",
        "# downloading files from colab\n",
        "from google.colab import files\n",
        "\n",
        "# Saving and running model with ONNX\n",
        "import onnxruntime"
      ],
      "execution_count": 6,
      "outputs": [
        {
          "output_type": "stream",
          "text": [
            "/usr/local/lib/python3.7/dist-packages/distributed/config.py:20: YAMLLoadWarning: calling yaml.load() without Loader=... is deprecated, as the default Loader is unsafe. Please read https://msg.pyyaml.org/load for full details.\n",
            "  defaults = yaml.load(f)\n",
            "Global seed set to 42\n"
          ],
          "name": "stderr"
        }
      ]
    },
    {
      "cell_type": "code",
      "metadata": {
        "colab": {
          "base_uri": "https://localhost:8080/"
        },
        "id": "CWBycVNbpcwJ",
        "outputId": "ea4dc7b2-6682-45eb-b2bd-bed2ae34c0d5"
      },
      "source": [
        "!nvidia-smi"
      ],
      "execution_count": 7,
      "outputs": [
        {
          "output_type": "stream",
          "text": [
            "Sat May 15 02:24:04 2021       \n",
            "+-----------------------------------------------------------------------------+\n",
            "| NVIDIA-SMI 465.19.01    Driver Version: 460.32.03    CUDA Version: 11.2     |\n",
            "|-------------------------------+----------------------+----------------------+\n",
            "| GPU  Name        Persistence-M| Bus-Id        Disp.A | Volatile Uncorr. ECC |\n",
            "| Fan  Temp  Perf  Pwr:Usage/Cap|         Memory-Usage | GPU-Util  Compute M. |\n",
            "|                               |                      |               MIG M. |\n",
            "|===============================+======================+======================|\n",
            "|   0  Tesla V100-SXM2...  Off  | 00000000:00:04.0 Off |                    0 |\n",
            "| N/A   31C    P0    23W / 300W |      0MiB / 16160MiB |      0%      Default |\n",
            "|                               |                      |                  N/A |\n",
            "+-------------------------------+----------------------+----------------------+\n",
            "                                                                               \n",
            "+-----------------------------------------------------------------------------+\n",
            "| Processes:                                                                  |\n",
            "|  GPU   GI   CI        PID   Type   Process name                  GPU Memory |\n",
            "|        ID   ID                                                   Usage      |\n",
            "|=============================================================================|\n",
            "|  No running processes found                                                 |\n",
            "+-----------------------------------------------------------------------------+\n"
          ],
          "name": "stdout"
        }
      ]
    },
    {
      "cell_type": "markdown",
      "metadata": {
        "id": "xJiC6Ynzp0Zx"
      },
      "source": [
        "## Loading the DBpedia-14 Dataset"
      ]
    },
    {
      "cell_type": "code",
      "metadata": {
        "colab": {
          "base_uri": "https://localhost:8080/"
        },
        "id": "6GRRtUsCYcgS",
        "outputId": "cc3ba0fe-bec6-45b3-81b1-da7b72a9eec0"
      },
      "source": [
        "dbpedia_dataset = load_dataset('dbpedia_14')"
      ],
      "execution_count": 8,
      "outputs": [
        {
          "output_type": "stream",
          "text": [
            "Reusing dataset d_bpedia14 (/root/.cache/huggingface/datasets/d_bpedia14/dbpedia_14/2.0.0/7f0577ea0f4397b6b89bfe5c5f2c6b1b420990a1fc5e8538c7ab4ec40e46fa3e)\n"
          ],
          "name": "stderr"
        }
      ]
    },
    {
      "cell_type": "code",
      "metadata": {
        "colab": {
          "base_uri": "https://localhost:8080/"
        },
        "id": "KYiffNWIp7fk",
        "outputId": "c898287c-4dd9-48b1-d02e-ff232f29cad0"
      },
      "source": [
        "dbpedia_dataset"
      ],
      "execution_count": 9,
      "outputs": [
        {
          "output_type": "execute_result",
          "data": {
            "text/plain": [
              "DatasetDict({\n",
              "    train: Dataset({\n",
              "        features: ['label', 'title', 'content'],\n",
              "        num_rows: 560000\n",
              "    })\n",
              "    test: Dataset({\n",
              "        features: ['label', 'title', 'content'],\n",
              "        num_rows: 70000\n",
              "    })\n",
              "})"
            ]
          },
          "metadata": {
            "tags": []
          },
          "execution_count": 9
        }
      ]
    },
    {
      "cell_type": "code",
      "metadata": {
        "id": "IsL50upSd_vN"
      },
      "source": [
        "dbpedia_dataset = dbpedia_dataset.rename_column(\"label\", \"labels\") # snorkel uses \"label\""
      ],
      "execution_count": 10,
      "outputs": []
    },
    {
      "cell_type": "markdown",
      "metadata": {
        "id": "2I9T4NgcqfIw"
      },
      "source": [
        "## Merging the Text Title with the Content"
      ]
    },
    {
      "cell_type": "code",
      "metadata": {
        "id": "hXIPWQHIfdmq"
      },
      "source": [
        "def merge_title_with_content(example):\n",
        "    example[\"content\"] = example[\"title\"] + \" \" + example[\"content\"]\n",
        "    return example"
      ],
      "execution_count": 11,
      "outputs": []
    },
    {
      "cell_type": "code",
      "metadata": {
        "colab": {
          "base_uri": "https://localhost:8080/",
          "height": 1000,
          "referenced_widgets": [
            "8b06fd85019841fb96913432b1b262f7",
            "a0b2ebac3818401c93f399daa4eeafc3",
            "cf414310ce9d4469841abf685648720e",
            "c3ebbb030fc6489390bc5af058cd8187",
            "f762313ddb1647a7a8d6d9047d5e1f5e",
            "be5e10a3ef4b456b810ab9cc7e2017fa",
            "6aa22d7deb0f460d98f8c292da52633d",
            "b3b06fe260014e1dae1c838c961028ee",
            "aac93d053703472aba8a7f763c9f0342",
            "f7febec87fbb410e8c1ea1a4686aaeca",
            "07d101b3ad0e4db7a96bdc59c2105bd3",
            "e0ed8177a9ef47b2975ef12f0426d390",
            "f3d39a40ef284decadab4863ea15c659",
            "8faa09a39d6e4fc1bcd0429b512c5753",
            "bac5dadc000c4d0aa1c36f486fa0f398",
            "91f276e9733b4671bdf1047e9941867d",
            "52bd98e0614d44f08251fb967537742f",
            "1692aefdb8c044aa96944572361439fa",
            "5e696ffce1bb4a80a0bba7d9821b3c7a",
            "f580dac218714c9d97d77f65a1018061",
            "36ba534ced174996ae1594c38d21d045",
            "291231b5af37419fbdee70b6e01384bd",
            "2147cfe3cd904a7f89cf6bbecf963594",
            "75c111966c514f8693b95d4160003f05",
            "3f0b660b33bf43b893b3c0c85761799b",
            "19da1fde4eef4b02a2fccde28e4f0cf6",
            "3241308dc86a430583975d883432820d",
            "f114457e979a4f2cbd97808b6e12de08",
            "c1848c4cf0674d40b33412807b384f59",
            "025250a469374fc1989a8b5374a16968",
            "3d30719ff3ba468a9bf860f39f72b192",
            "893aa7fed91f4e3e9e6367b81b78237a",
            "49c64df78f994dec8002a06214143b10",
            "9b1cc9a76c0a45828b228775bedf0fa9",
            "a25511e229df4466aca081cc6ec3bc5e",
            "aeed87e78113419cbb5d6512f538dfe4",
            "9316d329f9d74ad39a0f8f34d2c053df",
            "322c41eab4284c19916a72e80514088d",
            "83c78647c8734f30811ade09b5837f4e",
            "7699c6ba0c2e4242a44735185c7af5a4",
            "3bd0e08a2a184246b3d4bb20dbb0d414",
            "9ee3eafb8e34440db0a81a52d3fa795f",
            "6db454be0f3647b9925ba0b4c50c9504",
            "8379feda903c4f36bcefce2cf35f224d",
            "905172b52a17471e97a42019de0efd07",
            "901cf19ee44f433c83fcb1a994b619ef",
            "e3397549771d44e383b310687df0c90a",
            "7d44dd9026c9414a9a7e602607ade738",
            "5c40e96b09c24dddae089e632e0ecbc0",
            "96f113ab3e0b4b50a40515c85097924c",
            "723a04c23bbd4dfcaedf98c2d52edd90",
            "a4a3adaf2a8d4435b9cbd67c5cab0ad3",
            "d043f92e27e14073a82ddc582eae9abf",
            "0c6ecf6d009c4347a995d4455bc0e609",
            "aa017df16be44431b7ba3509517b1390",
            "1d4721f5b7e444e39c3763110e147409",
            "b448332f4a0e4e33856f949674fb70f0",
            "a3db62ec2c344b67b6a781e59fba1f5a",
            "39c13fb2571f434399cc9e70dd1c85a5",
            "faa57b5839544031bbfc54d3611f27c4",
            "b74431249bae42cd9a23e08997a75b86",
            "2c46a1d861be405ab37cf129fdb5c7e3",
            "3bb80adca157437f8c529ff94742ff7c",
            "19aee17eae8644e48b2d941bb4d13234",
            "0a7f71cf721d449faba3ea5ecbbe0406",
            "1df1d1fd1d2f472dad805060baa1cc4e",
            "dcc906603a96475abed89750feaec742",
            "0c23a2282923479ea080b3d543a998f6",
            "41f8e056d6374a239400f37a6bc2cf3f",
            "dce959dfb876424ca78b0c581e1901cd",
            "a884ba43731a4c7b8b66a1ec44a1e5b6",
            "7657462f5f6d4b76b1ac7f2722e35892",
            "14e6bbb6e6e04387ae6f70e4f3ce4d9f",
            "01f769ca93974de398c05448c6117060",
            "6d6f18d8c07e42c1bb078b8e1c1ee91b",
            "ce814765e711440499e43551726c6029",
            "d9ee144fcdfd4542beb21d0670c3648c",
            "362a230409ef445ea7492c2a51391832",
            "033694a09f52432cbfea62f2e4a446c3",
            "266b7cf146ba4e908f7123eee2578aa0",
            "16045000903640bc93ba30c0af503571",
            "e6fb5ba9280b428f811c18d108e58c14",
            "844c0a9b155a4118a9cd8a25175bb461",
            "675d69b6851f4433ac65272e8a969101",
            "944cf6b3eb9b4492acb214058f3566de",
            "fa63efd6178149dc8d5bf47303e69c38",
            "4d1d6556c66b4dcf9289c674394b1349",
            "ff79f055d96141f58f677d05f775091c",
            "24a7361c7ab549ffa70a04d2dfbb358f",
            "305dfd2bcb634018b2f2161d53df7805",
            "c2845d7b70aa4440bff9bb083f69889d",
            "f3c48a8746084547899817cfc991fe5f",
            "d1c547a4c0e84a18a87f9d0076be5ab9",
            "a2bd6c6c6cd8448eae75ce446afef1f1",
            "bb690603092d4d60b2655d7e93bb8a35",
            "0b783b45f6274d7589e4967bf1581bd5",
            "e45b86f9721644238653788a92b01606",
            "58130d4a878647648ea39b39fd61b4d6",
            "58bd8e9ece364908a4a024697fcbc307",
            "1ecc09f46b334a7eba734e8874b973a8",
            "2adb5cb9e658404bbef8b92d21794f75",
            "2ad25515c42c41aab028dc3fe3183fc6",
            "6598f9458a9d45e3ae5d876cb088b4d6",
            "e379182b0785404aa8f1e9b3e9251fb8",
            "3cb995664c364f778d768d676a8cb2cd",
            "beaeadad88f948f5bf91bd04f44bca5b",
            "635c0964ac5948d0bc27e20c44ac2882",
            "3ec3fe5fc7a44b22a30a9112c747f44a",
            "cee832d32130479ca69ec4922894c9da",
            "ed3a0ceb856b4a9c89a6baf68b6cf2dc",
            "3bd4fd1ec80e4a899460bd5deee3c710",
            "8b30c416bf964c77b17ef4ca39fac425",
            "8da290957ea949f9b394a0777a8b7435",
            "8e3e211654ab4a33a1854ebfb63532e3",
            "d55594f714ad4af79f8cee979be97a4d",
            "1701cc695e6440b6ad48dd6853cc0b23",
            "a9ac374df1564896a30b5d6f160d81d9",
            "c667c94fe6534022a2147496ec5dad93",
            "d21ca17d713b427a84d6db1d2427057b",
            "3fcef84daff847e5abf78bc710832be8",
            "dc3ef985dec247879f1de1ac72182a8c",
            "1cbf40b1f4c746cd92da1c587bb6bd69",
            "6a7b2c4abaaf4eab9f42c97e32c84ecf",
            "e3ebf9e792da4e71870602ae306dd830",
            "b07896ae32c14dc59cf173dac81a3774",
            "d9dbaa2f7b8f451aa37f11bf852a60f6",
            "99c71b1eba0f4043831773903f17ea41",
            "d20fedf673544a1783c8cd9e717bb4b9",
            "b5d71bcc96094e70b498d2cd81eb1772",
            "0560cc601bd843f1a6875bd3635c2735",
            "a5bc0b3780714b6dadbe17c744008302",
            "f1fde048a7d044668e995b30093f4583",
            "45246ee52bf14fadbdd53cac4fa7d0aa",
            "a9874dfe68524b12a5da6ae961aa5cce",
            "91b4f52d3dd449bd828401ef81ecb830",
            "0dabfd91af7749e28c592ae5525cf3b3",
            "1284636a06ce4fa18847f25246e9a846",
            "396f2c15f90145b59c78b23091e3b219",
            "847f3347ef3448a39ec9d36d77fedb8b",
            "42453550ac854be1b8f0ad17ecd6fbba",
            "455c5981569a407a936aef284c9cfad7",
            "6bde740e80f04155b2c39caeba8cfe02",
            "8d4eff8462b44152bab567cb6206e3b9",
            "7d95809ba38b4a45bf852394055dfb3e",
            "9abe7d5d3be34ce4984f6ba53a0e034c",
            "0f7a00fb3adf41c1aa1104e13890e823",
            "1ac8067806524f1baa5a8117c404b2c8",
            "e7fb621297b84ef08ade38900b361337",
            "96b7ac9c137b4c42b4deeaf0589f5021",
            "c9f9ee07316e498bb8bb86232faefbd5",
            "8de718391ca8415ab3d0dd36afc8e708",
            "00b817d974974cceb0b310c46bb6aaa2",
            "122ff488443e412da40becde598c1a70",
            "0a00b06601294a46803b51240999b491",
            "b0906d4f1c0047b6919aa855042ade8e",
            "574c8fbaf1de4e1394437b8533bb808e",
            "f44cc4dda6b44efe95f68fa78784e924",
            "d1172124d84a45d6979ec7ab547c75d8",
            "1b4144447c6c455a886b23976ec6fc54",
            "73a26a3ae726419da452f23a66cba376"
          ]
        },
        "id": "8AFZbBL2254b",
        "outputId": "50d89326-dbbf-47aa-f552-044f3daecb0e"
      },
      "source": [
        "dbpedia_dataset = dbpedia_dataset.map(merge_title_with_content, num_proc=10)"
      ],
      "execution_count": 12,
      "outputs": [
        {
          "output_type": "stream",
          "text": [
            " "
          ],
          "name": "stdout"
        },
        {
          "output_type": "display_data",
          "data": {
            "application/vnd.jupyter.widget-view+json": {
              "model_id": "8b06fd85019841fb96913432b1b262f7",
              "version_minor": 0,
              "version_major": 2
            },
            "text/plain": [
              "HBox(children=(FloatProgress(value=0.0, description='#0', max=56000.0, style=ProgressStyle(description_width='…"
            ]
          },
          "metadata": {
            "tags": []
          }
        },
        {
          "output_type": "stream",
          "text": [
            " "
          ],
          "name": "stdout"
        },
        {
          "output_type": "display_data",
          "data": {
            "application/vnd.jupyter.widget-view+json": {
              "model_id": "aac93d053703472aba8a7f763c9f0342",
              "version_minor": 0,
              "version_major": 2
            },
            "text/plain": [
              "HBox(children=(FloatProgress(value=0.0, description='#1', max=56000.0, style=ProgressStyle(description_width='…"
            ]
          },
          "metadata": {
            "tags": []
          }
        },
        {
          "output_type": "stream",
          "text": [
            " "
          ],
          "name": "stdout"
        },
        {
          "output_type": "display_data",
          "data": {
            "application/vnd.jupyter.widget-view+json": {
              "model_id": "52bd98e0614d44f08251fb967537742f",
              "version_minor": 0,
              "version_major": 2
            },
            "text/plain": [
              "HBox(children=(FloatProgress(value=0.0, description='#2', max=56000.0, style=ProgressStyle(description_width='…"
            ]
          },
          "metadata": {
            "tags": []
          }
        },
        {
          "output_type": "stream",
          "text": [
            " "
          ],
          "name": "stdout"
        },
        {
          "output_type": "display_data",
          "data": {
            "application/vnd.jupyter.widget-view+json": {
              "model_id": "3f0b660b33bf43b893b3c0c85761799b",
              "version_minor": 0,
              "version_major": 2
            },
            "text/plain": [
              "HBox(children=(FloatProgress(value=0.0, description='#3', max=56000.0, style=ProgressStyle(description_width='…"
            ]
          },
          "metadata": {
            "tags": []
          }
        },
        {
          "output_type": "stream",
          "text": [
            " "
          ],
          "name": "stdout"
        },
        {
          "output_type": "display_data",
          "data": {
            "application/vnd.jupyter.widget-view+json": {
              "model_id": "49c64df78f994dec8002a06214143b10",
              "version_minor": 0,
              "version_major": 2
            },
            "text/plain": [
              "HBox(children=(FloatProgress(value=0.0, description='#4', max=56000.0, style=ProgressStyle(description_width='…"
            ]
          },
          "metadata": {
            "tags": []
          }
        },
        {
          "output_type": "stream",
          "text": [
            " "
          ],
          "name": "stdout"
        },
        {
          "output_type": "display_data",
          "data": {
            "application/vnd.jupyter.widget-view+json": {
              "model_id": "3bd0e08a2a184246b3d4bb20dbb0d414",
              "version_minor": 0,
              "version_major": 2
            },
            "text/plain": [
              "HBox(children=(FloatProgress(value=0.0, description='#5', max=56000.0, style=ProgressStyle(description_width='…"
            ]
          },
          "metadata": {
            "tags": []
          }
        },
        {
          "output_type": "stream",
          "text": [
            " "
          ],
          "name": "stdout"
        },
        {
          "output_type": "display_data",
          "data": {
            "application/vnd.jupyter.widget-view+json": {
              "model_id": "5c40e96b09c24dddae089e632e0ecbc0",
              "version_minor": 0,
              "version_major": 2
            },
            "text/plain": [
              "HBox(children=(FloatProgress(value=0.0, description='#6', max=56000.0, style=ProgressStyle(description_width='…"
            ]
          },
          "metadata": {
            "tags": []
          }
        },
        {
          "output_type": "stream",
          "text": [
            " "
          ],
          "name": "stdout"
        },
        {
          "output_type": "display_data",
          "data": {
            "application/vnd.jupyter.widget-view+json": {
              "model_id": "b448332f4a0e4e33856f949674fb70f0",
              "version_minor": 0,
              "version_major": 2
            },
            "text/plain": [
              "HBox(children=(FloatProgress(value=0.0, description='#7', max=56000.0, style=ProgressStyle(description_width='…"
            ]
          },
          "metadata": {
            "tags": []
          }
        },
        {
          "output_type": "stream",
          "text": [
            " "
          ],
          "name": "stdout"
        },
        {
          "output_type": "display_data",
          "data": {
            "application/vnd.jupyter.widget-view+json": {
              "model_id": "0a7f71cf721d449faba3ea5ecbbe0406",
              "version_minor": 0,
              "version_major": 2
            },
            "text/plain": [
              "HBox(children=(FloatProgress(value=0.0, description='#8', max=56000.0, style=ProgressStyle(description_width='…"
            ]
          },
          "metadata": {
            "tags": []
          }
        },
        {
          "output_type": "stream",
          "text": [
            " "
          ],
          "name": "stdout"
        },
        {
          "output_type": "display_data",
          "data": {
            "application/vnd.jupyter.widget-view+json": {
              "model_id": "14e6bbb6e6e04387ae6f70e4f3ce4d9f",
              "version_minor": 0,
              "version_major": 2
            },
            "text/plain": [
              "HBox(children=(FloatProgress(value=0.0, description='#9', max=56000.0, style=ProgressStyle(description_width='…"
            ]
          },
          "metadata": {
            "tags": []
          }
        },
        {
          "output_type": "stream",
          "text": [
            "\n",
            "\n",
            "\n",
            "\n",
            "\n",
            "\n",
            "\n",
            "\n",
            "\n",
            "\n",
            " "
          ],
          "name": "stdout"
        },
        {
          "output_type": "display_data",
          "data": {
            "application/vnd.jupyter.widget-view+json": {
              "model_id": "16045000903640bc93ba30c0af503571",
              "version_minor": 0,
              "version_major": 2
            },
            "text/plain": [
              "HBox(children=(FloatProgress(value=0.0, description='#0', max=7000.0, style=ProgressStyle(description_width='i…"
            ]
          },
          "metadata": {
            "tags": []
          }
        },
        {
          "output_type": "stream",
          "text": [
            " "
          ],
          "name": "stdout"
        },
        {
          "output_type": "display_data",
          "data": {
            "application/vnd.jupyter.widget-view+json": {
              "model_id": "24a7361c7ab549ffa70a04d2dfbb358f",
              "version_minor": 0,
              "version_major": 2
            },
            "text/plain": [
              "HBox(children=(FloatProgress(value=0.0, description='#1', max=7000.0, style=ProgressStyle(description_width='i…"
            ]
          },
          "metadata": {
            "tags": []
          }
        },
        {
          "output_type": "stream",
          "text": [
            "  "
          ],
          "name": "stdout"
        },
        {
          "output_type": "display_data",
          "data": {
            "application/vnd.jupyter.widget-view+json": {
              "model_id": "e45b86f9721644238653788a92b01606",
              "version_minor": 0,
              "version_major": 2
            },
            "text/plain": [
              "HBox(children=(FloatProgress(value=0.0, description='#2', max=7000.0, style=ProgressStyle(description_width='i…"
            ]
          },
          "metadata": {
            "tags": []
          }
        },
        {
          "output_type": "stream",
          "text": [
            " "
          ],
          "name": "stdout"
        },
        {
          "output_type": "display_data",
          "data": {
            "application/vnd.jupyter.widget-view+json": {
              "model_id": "3cb995664c364f778d768d676a8cb2cd",
              "version_minor": 0,
              "version_major": 2
            },
            "text/plain": [
              "HBox(children=(FloatProgress(value=0.0, description='#3', max=7000.0, style=ProgressStyle(description_width='i…"
            ]
          },
          "metadata": {
            "tags": []
          }
        },
        {
          "output_type": "stream",
          "text": [
            " "
          ],
          "name": "stdout"
        },
        {
          "output_type": "display_data",
          "data": {
            "application/vnd.jupyter.widget-view+json": {
              "model_id": "8da290957ea949f9b394a0777a8b7435",
              "version_minor": 0,
              "version_major": 2
            },
            "text/plain": [
              "HBox(children=(FloatProgress(value=0.0, description='#4', max=7000.0, style=ProgressStyle(description_width='i…"
            ]
          },
          "metadata": {
            "tags": []
          }
        },
        {
          "output_type": "stream",
          "text": [
            " "
          ],
          "name": "stdout"
        },
        {
          "output_type": "display_data",
          "data": {
            "application/vnd.jupyter.widget-view+json": {
              "model_id": "dc3ef985dec247879f1de1ac72182a8c",
              "version_minor": 0,
              "version_major": 2
            },
            "text/plain": [
              "HBox(children=(FloatProgress(value=0.0, description='#5', max=7000.0, style=ProgressStyle(description_width='i…"
            ]
          },
          "metadata": {
            "tags": []
          }
        },
        {
          "output_type": "stream",
          "text": [
            " "
          ],
          "name": "stdout"
        },
        {
          "output_type": "display_data",
          "data": {
            "application/vnd.jupyter.widget-view+json": {
              "model_id": "b5d71bcc96094e70b498d2cd81eb1772",
              "version_minor": 0,
              "version_major": 2
            },
            "text/plain": [
              "HBox(children=(FloatProgress(value=0.0, description='#6', max=7000.0, style=ProgressStyle(description_width='i…"
            ]
          },
          "metadata": {
            "tags": []
          }
        },
        {
          "output_type": "stream",
          "text": [
            "  "
          ],
          "name": "stdout"
        },
        {
          "output_type": "display_data",
          "data": {
            "application/vnd.jupyter.widget-view+json": {
              "model_id": "1284636a06ce4fa18847f25246e9a846",
              "version_minor": 0,
              "version_major": 2
            },
            "text/plain": [
              "HBox(children=(FloatProgress(value=0.0, description='#7', max=7000.0, style=ProgressStyle(description_width='i…"
            ]
          },
          "metadata": {
            "tags": []
          }
        },
        {
          "output_type": "display_data",
          "data": {
            "application/vnd.jupyter.widget-view+json": {
              "model_id": "9abe7d5d3be34ce4984f6ba53a0e034c",
              "version_minor": 0,
              "version_major": 2
            },
            "text/plain": [
              "HBox(children=(FloatProgress(value=0.0, description='#9', max=7000.0, style=ProgressStyle(description_width='i…"
            ]
          },
          "metadata": {
            "tags": []
          }
        },
        {
          "output_type": "display_data",
          "data": {
            "application/vnd.jupyter.widget-view+json": {
              "model_id": "122ff488443e412da40becde598c1a70",
              "version_minor": 0,
              "version_major": 2
            },
            "text/plain": [
              "HBox(children=(FloatProgress(value=0.0, description='#8', max=7000.0, style=ProgressStyle(description_width='i…"
            ]
          },
          "metadata": {
            "tags": []
          }
        },
        {
          "output_type": "stream",
          "text": [
            "\n",
            "\n",
            "\n",
            "\n",
            "\n",
            "\n",
            "\n",
            "\n",
            "\n",
            "\n"
          ],
          "name": "stdout"
        }
      ]
    },
    {
      "cell_type": "code",
      "metadata": {
        "colab": {
          "base_uri": "https://localhost:8080/"
        },
        "id": "SX_pDxaxBwoe",
        "outputId": "9577f476-ad23-4c69-ad37-9dbe7e8f282b"
      },
      "source": [
        "dbpedia_dataset['train']"
      ],
      "execution_count": 13,
      "outputs": [
        {
          "output_type": "execute_result",
          "data": {
            "text/plain": [
              "Dataset({\n",
              "    features: ['content', 'labels', 'title'],\n",
              "    num_rows: 560000\n",
              "})"
            ]
          },
          "metadata": {
            "tags": []
          },
          "execution_count": 13
        }
      ]
    },
    {
      "cell_type": "markdown",
      "metadata": {
        "id": "AjTuFKDPqyHl"
      },
      "source": [
        "## Creating a Pandas DataFrame of the Dataset\n",
        "\n",
        "We need to prepare a Pandas DataFrame of our dataset so that Snorkel can label it."
      ]
    },
    {
      "cell_type": "markdown",
      "metadata": {
        "id": "-vJno_tprcD2"
      },
      "source": [
        "### Creating a Training Set DataFrame"
      ]
    },
    {
      "cell_type": "code",
      "metadata": {
        "colab": {
          "base_uri": "https://localhost:8080/",
          "height": 424
        },
        "id": "AD9gB8WYZrjw",
        "outputId": "8ad8af10-14cb-4537-b03c-3494b8469b53"
      },
      "source": [
        "data = {'label': dbpedia_dataset['train']['labels'], # these values will be replaced during the labeling process for the training set\n",
        "        'text': dbpedia_dataset['train']['content']} # need to replace \"content\" with \"text\" for snorkel to work\n",
        "\n",
        "train_df = pd.DataFrame(data)\n",
        "train_df['text'] = train_df['text'].str.lower()\n",
        "train_df"
      ],
      "execution_count": 46,
      "outputs": [
        {
          "output_type": "execute_result",
          "data": {
            "text/html": [
              "<div>\n",
              "<style scoped>\n",
              "    .dataframe tbody tr th:only-of-type {\n",
              "        vertical-align: middle;\n",
              "    }\n",
              "\n",
              "    .dataframe tbody tr th {\n",
              "        vertical-align: top;\n",
              "    }\n",
              "\n",
              "    .dataframe thead th {\n",
              "        text-align: right;\n",
              "    }\n",
              "</style>\n",
              "<table border=\"1\" class=\"dataframe\">\n",
              "  <thead>\n",
              "    <tr style=\"text-align: right;\">\n",
              "      <th></th>\n",
              "      <th>label</th>\n",
              "      <th>text</th>\n",
              "    </tr>\n",
              "  </thead>\n",
              "  <tbody>\n",
              "    <tr>\n",
              "      <th>0</th>\n",
              "      <td>0</td>\n",
              "      <td>e. d. abbott ltd  abbott of farnham e d abbott...</td>\n",
              "    </tr>\n",
              "    <tr>\n",
              "      <th>1</th>\n",
              "      <td>0</td>\n",
              "      <td>schwan-stabilo  schwan-stabilo is a german mak...</td>\n",
              "    </tr>\n",
              "    <tr>\n",
              "      <th>2</th>\n",
              "      <td>0</td>\n",
              "      <td>q-workshop  q-workshop is a polish company loc...</td>\n",
              "    </tr>\n",
              "    <tr>\n",
              "      <th>3</th>\n",
              "      <td>0</td>\n",
              "      <td>marvell software solutions israel  marvell sof...</td>\n",
              "    </tr>\n",
              "    <tr>\n",
              "      <th>4</th>\n",
              "      <td>0</td>\n",
              "      <td>bergan mercy medical center  bergan mercy medi...</td>\n",
              "    </tr>\n",
              "    <tr>\n",
              "      <th>...</th>\n",
              "      <td>...</td>\n",
              "      <td>...</td>\n",
              "    </tr>\n",
              "    <tr>\n",
              "      <th>559995</th>\n",
              "      <td>13</td>\n",
              "      <td>barking in essex  barking in essex is a black ...</td>\n",
              "    </tr>\n",
              "    <tr>\n",
              "      <th>559996</th>\n",
              "      <td>13</td>\n",
              "      <td>science &amp; spirit  science &amp; spirit is a discon...</td>\n",
              "    </tr>\n",
              "    <tr>\n",
              "      <th>559997</th>\n",
              "      <td>13</td>\n",
              "      <td>the blithedale romance  the blithedale romance...</td>\n",
              "    </tr>\n",
              "    <tr>\n",
              "      <th>559998</th>\n",
              "      <td>13</td>\n",
              "      <td>razadarit ayedawbon  razadarit ayedawbon (burm...</td>\n",
              "    </tr>\n",
              "    <tr>\n",
              "      <th>559999</th>\n",
              "      <td>13</td>\n",
              "      <td>the vinyl cafe notebooks  vinyl cafe notebooks...</td>\n",
              "    </tr>\n",
              "  </tbody>\n",
              "</table>\n",
              "<p>560000 rows × 2 columns</p>\n",
              "</div>"
            ],
            "text/plain": [
              "        label                                               text\n",
              "0           0  e. d. abbott ltd  abbott of farnham e d abbott...\n",
              "1           0  schwan-stabilo  schwan-stabilo is a german mak...\n",
              "2           0  q-workshop  q-workshop is a polish company loc...\n",
              "3           0  marvell software solutions israel  marvell sof...\n",
              "4           0  bergan mercy medical center  bergan mercy medi...\n",
              "...       ...                                                ...\n",
              "559995     13  barking in essex  barking in essex is a black ...\n",
              "559996     13  science & spirit  science & spirit is a discon...\n",
              "559997     13  the blithedale romance  the blithedale romance...\n",
              "559998     13  razadarit ayedawbon  razadarit ayedawbon (burm...\n",
              "559999     13  the vinyl cafe notebooks  vinyl cafe notebooks...\n",
              "\n",
              "[560000 rows x 2 columns]"
            ]
          },
          "metadata": {
            "tags": []
          },
          "execution_count": 46
        }
      ]
    },
    {
      "cell_type": "markdown",
      "metadata": {
        "id": "b_09XbUErlh4"
      },
      "source": [
        "### Creating a Test Set DataFrame"
      ]
    },
    {
      "cell_type": "code",
      "metadata": {
        "colab": {
          "base_uri": "https://localhost:8080/",
          "height": 424
        },
        "id": "NQ5CIKkrh5-q",
        "outputId": "f6919e77-b57f-4353-ab54-0bf249396974"
      },
      "source": [
        "data = {'label': dbpedia_dataset['test']['labels'],\n",
        "        'text': dbpedia_dataset['test']['content']} # need to replace \"content\" with \"text\" for snorkel to work\n",
        "\n",
        "test_df = pd.DataFrame(data)\n",
        "del data\n",
        "test_df['text'] = test_df['text'].str.lower()\n",
        "test_df"
      ],
      "execution_count": 47,
      "outputs": [
        {
          "output_type": "execute_result",
          "data": {
            "text/html": [
              "<div>\n",
              "<style scoped>\n",
              "    .dataframe tbody tr th:only-of-type {\n",
              "        vertical-align: middle;\n",
              "    }\n",
              "\n",
              "    .dataframe tbody tr th {\n",
              "        vertical-align: top;\n",
              "    }\n",
              "\n",
              "    .dataframe thead th {\n",
              "        text-align: right;\n",
              "    }\n",
              "</style>\n",
              "<table border=\"1\" class=\"dataframe\">\n",
              "  <thead>\n",
              "    <tr style=\"text-align: right;\">\n",
              "      <th></th>\n",
              "      <th>label</th>\n",
              "      <th>text</th>\n",
              "    </tr>\n",
              "  </thead>\n",
              "  <tbody>\n",
              "    <tr>\n",
              "      <th>0</th>\n",
              "      <td>0</td>\n",
              "      <td>ty ku  ty ku /taɪkuː/ is an american alcoholic...</td>\n",
              "    </tr>\n",
              "    <tr>\n",
              "      <th>1</th>\n",
              "      <td>0</td>\n",
              "      <td>odd lot entertainment  oddlot entertainment fo...</td>\n",
              "    </tr>\n",
              "    <tr>\n",
              "      <th>2</th>\n",
              "      <td>0</td>\n",
              "      <td>henkel  henkel ag &amp; company kgaa operates worl...</td>\n",
              "    </tr>\n",
              "    <tr>\n",
              "      <th>3</th>\n",
              "      <td>0</td>\n",
              "      <td>goat store  the goat store (games of all type ...</td>\n",
              "    </tr>\n",
              "    <tr>\n",
              "      <th>4</th>\n",
              "      <td>0</td>\n",
              "      <td>ragwing aircraft designs  ragwing aircraft des...</td>\n",
              "    </tr>\n",
              "    <tr>\n",
              "      <th>...</th>\n",
              "      <td>...</td>\n",
              "      <td>...</td>\n",
              "    </tr>\n",
              "    <tr>\n",
              "      <th>69995</th>\n",
              "      <td>13</td>\n",
              "      <td>energy victory  energy victory: winning the wa...</td>\n",
              "    </tr>\n",
              "    <tr>\n",
              "      <th>69996</th>\n",
              "      <td>13</td>\n",
              "      <td>bestiario  bestiario is a book of 8 short stor...</td>\n",
              "    </tr>\n",
              "    <tr>\n",
              "      <th>69997</th>\n",
              "      <td>13</td>\n",
              "      <td>wuthering heights  wuthering heights is a nove...</td>\n",
              "    </tr>\n",
              "    <tr>\n",
              "      <th>69998</th>\n",
              "      <td>13</td>\n",
              "      <td>l'indépendant  l'indépendant is a newspaper pu...</td>\n",
              "    </tr>\n",
              "    <tr>\n",
              "      <th>69999</th>\n",
              "      <td>13</td>\n",
              "      <td>the prophecy (novel)  the prophecy is the fift...</td>\n",
              "    </tr>\n",
              "  </tbody>\n",
              "</table>\n",
              "<p>70000 rows × 2 columns</p>\n",
              "</div>"
            ],
            "text/plain": [
              "       label                                               text\n",
              "0          0  ty ku  ty ku /taɪkuː/ is an american alcoholic...\n",
              "1          0  odd lot entertainment  oddlot entertainment fo...\n",
              "2          0  henkel  henkel ag & company kgaa operates worl...\n",
              "3          0  goat store  the goat store (games of all type ...\n",
              "4          0  ragwing aircraft designs  ragwing aircraft des...\n",
              "...      ...                                                ...\n",
              "69995     13  energy victory  energy victory: winning the wa...\n",
              "69996     13  bestiario  bestiario is a book of 8 short stor...\n",
              "69997     13  wuthering heights  wuthering heights is a nove...\n",
              "69998     13  l'indépendant  l'indépendant is a newspaper pu...\n",
              "69999     13  the prophecy (novel)  the prophecy is the fift...\n",
              "\n",
              "[70000 rows x 2 columns]"
            ]
          },
          "metadata": {
            "tags": []
          },
          "execution_count": 47
        }
      ]
    },
    {
      "cell_type": "markdown",
      "metadata": {
        "id": "Uif15axrsKo2"
      },
      "source": [
        "Here we create 4 dataset splits. We are emulating the situation where we have a small labeled dataset where we can use for model training, and then mesure our Labeling Function accuracy. What we call `fine_tune_df` (Fine-Tune Set), `val_df` (Validation Set), and `test_df` (Test Set) contain labeled data. The `train_df` is the unlabeled dataset we will be using Snorkel to label.\n",
        "\n",
        "*   `fine_tune_df`: Labeled data we use for fine-tuning the bert model before putting model into a Snorkel Labeling Function.\n",
        "*   `val_df`: This is our small dataset split we will use to measure the performance of the bert model trained with `fine_tune_df`.\n",
        "*    `train_df`: As mentioned, the `train_df` is the unlabeled dataset we will be using Snorkel to label.\n",
        "*    `test_df`: This is our dataset split for testing Snorkel's Label Model to get an estimate on how many labels were correctly labeled in our `train_df`.\n",
        "\n",
        "We only label 30k examples in the training set and 4.5k in the test set in the interest of time."
      ]
    },
    {
      "cell_type": "code",
      "metadata": {
        "id": "zoH-1rcWzyNJ"
      },
      "source": [
        "train_df = train_df.sample(31400, random_state=123)\n",
        "test_df = test_df.sample(5000, random_state=123)"
      ],
      "execution_count": 48,
      "outputs": []
    },
    {
      "cell_type": "code",
      "metadata": {
        "colab": {
          "base_uri": "https://localhost:8080/"
        },
        "id": "5DPPboF1sIP9",
        "outputId": "c2958e8c-740c-4d12-c18e-7eeaaab54621"
      },
      "source": [
        "fine_tune_df = train_df.groupby('label').apply(lambda s: s.sample(100, random_state=123)).reset_index(level=0, drop=True)\n",
        "train_df.drop(fine_tune_df.index, inplace=True)\n",
        "\n",
        "val_df = test_df.sample(frac=0.1)\n",
        "test_df.drop(val_df.index, inplace=True)\n",
        "\n",
        "print('\\t Fine-Tune Set:', len(fine_tune_df), 'Valid:', len(val_df), '\\t', 'Train:', len(train_df), '\\t Test:', len(test_df),)"
      ],
      "execution_count": 49,
      "outputs": [
        {
          "output_type": "stream",
          "text": [
            "\t Fine-Tune Set: 1400 Valid: 500 \t Train: 30000 \t Test: 4500\n"
          ],
          "name": "stdout"
        }
      ]
    },
    {
      "cell_type": "code",
      "metadata": {
        "colab": {
          "base_uri": "https://localhost:8080/",
          "height": 424
        },
        "id": "bBirCiq1zQB5",
        "outputId": "d3493be6-1d1b-45f7-a563-227d19cf292b"
      },
      "source": [
        "fine_tune_df"
      ],
      "execution_count": 50,
      "outputs": [
        {
          "output_type": "execute_result",
          "data": {
            "text/html": [
              "<div>\n",
              "<style scoped>\n",
              "    .dataframe tbody tr th:only-of-type {\n",
              "        vertical-align: middle;\n",
              "    }\n",
              "\n",
              "    .dataframe tbody tr th {\n",
              "        vertical-align: top;\n",
              "    }\n",
              "\n",
              "    .dataframe thead th {\n",
              "        text-align: right;\n",
              "    }\n",
              "</style>\n",
              "<table border=\"1\" class=\"dataframe\">\n",
              "  <thead>\n",
              "    <tr style=\"text-align: right;\">\n",
              "      <th></th>\n",
              "      <th>label</th>\n",
              "      <th>text</th>\n",
              "    </tr>\n",
              "  </thead>\n",
              "  <tbody>\n",
              "    <tr>\n",
              "      <th>27110</th>\n",
              "      <td>0</td>\n",
              "      <td>autoliv  autoliv is a swedish-american company...</td>\n",
              "    </tr>\n",
              "    <tr>\n",
              "      <th>36059</th>\n",
              "      <td>0</td>\n",
              "      <td>zymo research  zymo research is a manufacturer...</td>\n",
              "    </tr>\n",
              "    <tr>\n",
              "      <th>32146</th>\n",
              "      <td>0</td>\n",
              "      <td>hcr relocation  hcr group is a global relocati...</td>\n",
              "    </tr>\n",
              "    <tr>\n",
              "      <th>6938</th>\n",
              "      <td>0</td>\n",
              "      <td>rs technologies  resin systems inc. is a canad...</td>\n",
              "    </tr>\n",
              "    <tr>\n",
              "      <th>14322</th>\n",
              "      <td>0</td>\n",
              "      <td>united coffee  united coffee is one of europe’...</td>\n",
              "    </tr>\n",
              "    <tr>\n",
              "      <th>...</th>\n",
              "      <td>...</td>\n",
              "      <td>...</td>\n",
              "    </tr>\n",
              "    <tr>\n",
              "      <th>529531</th>\n",
              "      <td>13</td>\n",
              "      <td>the year's best fantasy stories: 12  the year'...</td>\n",
              "    </tr>\n",
              "    <tr>\n",
              "      <th>531528</th>\n",
              "      <td>13</td>\n",
              "      <td>qs world university rankings  the qs world uni...</td>\n",
              "    </tr>\n",
              "    <tr>\n",
              "      <th>545113</th>\n",
              "      <td>13</td>\n",
              "      <td>the golden khan of ethengar  the golden khan o...</td>\n",
              "    </tr>\n",
              "    <tr>\n",
              "      <th>551661</th>\n",
              "      <td>13</td>\n",
              "      <td>the road to mars  the road to mars is a 1999 s...</td>\n",
              "    </tr>\n",
              "    <tr>\n",
              "      <th>531370</th>\n",
              "      <td>13</td>\n",
              "      <td>the reason i jump  the reason i jump: one boy'...</td>\n",
              "    </tr>\n",
              "  </tbody>\n",
              "</table>\n",
              "<p>1400 rows × 2 columns</p>\n",
              "</div>"
            ],
            "text/plain": [
              "        label                                               text\n",
              "27110       0  autoliv  autoliv is a swedish-american company...\n",
              "36059       0  zymo research  zymo research is a manufacturer...\n",
              "32146       0  hcr relocation  hcr group is a global relocati...\n",
              "6938        0  rs technologies  resin systems inc. is a canad...\n",
              "14322       0  united coffee  united coffee is one of europe’...\n",
              "...       ...                                                ...\n",
              "529531     13  the year's best fantasy stories: 12  the year'...\n",
              "531528     13  qs world university rankings  the qs world uni...\n",
              "545113     13  the golden khan of ethengar  the golden khan o...\n",
              "551661     13  the road to mars  the road to mars is a 1999 s...\n",
              "531370     13  the reason i jump  the reason i jump: one boy'...\n",
              "\n",
              "[1400 rows x 2 columns]"
            ]
          },
          "metadata": {
            "tags": []
          },
          "execution_count": 50
        }
      ]
    },
    {
      "cell_type": "markdown",
      "metadata": {
        "id": "fbiTOGqozsZ1"
      },
      "source": [
        "## A gentle introduction to LFs\n",
        "\n",
        "Labeling functions (LFs) help users encode domain knowledge and other supervision sources programmatically.\n",
        "\n",
        "LFs are heuristics that take as input a data point and either assign a label to it (in this case, HAM or SPAM) or abstain (don’t assign any label). Labeling functions can be noisy: they don’t have perfect accuracy and don’t have to label every data point. Moreover, different labeling functions can overlap (label the same data point) and even conflict (assign different labels to the same data point). This is expected, and we demonstrate how we deal with this later.\n",
        "\n",
        "Because their only requirement is that they map a data point a label (or abstain), they can wrap a wide variety of forms of supervision. Examples include, but are not limited to:\n",
        "\n",
        "    Keyword searches: looking for specific words in a sentence\n",
        "    Pattern matching: looking for specific syntactical patterns\n",
        "    Third-party models: using an pre-trained model (usually a model for a different task than the one at hand)\n",
        "    Distant supervision: using external knowledge base\n",
        "    Crowdworker labels: treating each crowdworker as a black-box function that assigns labels to subsets of the data\n",
        "\n",
        "### a) Exploring the training set for initial ideas\n",
        "\n",
        "We’ll start by looking at 20 random data points from the train set to generate some ideas for LFs.\n"
      ]
    },
    {
      "cell_type": "code",
      "metadata": {
        "id": "mWwdAGVzig6t"
      },
      "source": [
        "ABSTAIN = -1\n",
        "Company = 0\n",
        "EducationalInstitution = 1\n",
        "Artist = 2\n",
        "Athlete = 3\n",
        "OfficeHolder = 4\n",
        "MeanOfTransportation = 5\n",
        "Building = 6\n",
        "NaturalPlace = 7\n",
        "Village = 8\n",
        "Animal = 9\n",
        "Plant = 10\n",
        "Album = 11\n",
        "Film = 12\n",
        "WrittenWork = 13\n",
        "\n",
        "labels_num_list = [Company,\n",
        "EducationalInstitution,\n",
        "Artist,\n",
        "Athlete,\n",
        "OfficeHolder,\n",
        "MeanOfTransportation,\n",
        "Building,\n",
        "NaturalPlace,\n",
        "Village,\n",
        "Animal,\n",
        "Plant,\n",
        "Album,\n",
        "Film,\n",
        "WrittenWork]"
      ],
      "execution_count": 51,
      "outputs": []
    },
    {
      "cell_type": "code",
      "metadata": {
        "colab": {
          "base_uri": "https://localhost:8080/"
        },
        "id": "J-33uYaRFE5Y",
        "outputId": "590db60f-d0c2-4f3f-e453-060e00d97a0f"
      },
      "source": [
        "labels_num_list"
      ],
      "execution_count": 52,
      "outputs": [
        {
          "output_type": "execute_result",
          "data": {
            "text/plain": [
              "[0, 1, 2, 3, 4, 5, 6, 7, 8, 9, 10, 11, 12, 13]"
            ]
          },
          "metadata": {
            "tags": []
          },
          "execution_count": 52
        }
      ]
    },
    {
      "cell_type": "code",
      "metadata": {
        "id": "7m9KyeDc09jQ"
      },
      "source": [
        "pd.set_option('display.max_colwidth', None)\n",
        "pd.set_option('display.max_rows', 200)"
      ],
      "execution_count": 53,
      "outputs": []
    },
    {
      "cell_type": "code",
      "metadata": {
        "colab": {
          "base_uri": "https://localhost:8080/",
          "height": 684
        },
        "id": "s4Mm_3WzzQCD",
        "outputId": "67a37e62-2731-4f2c-f4d1-28eb1846ba58"
      },
      "source": [
        "# # for keyword creation\n",
        "df_view = train_df[train_df['label'] == 13].sample(1000, random_state=42)\n",
        "df_view"
      ],
      "execution_count": 54,
      "outputs": [
        {
          "output_type": "execute_result",
          "data": {
            "text/html": [
              "<div>\n",
              "<style scoped>\n",
              "    .dataframe tbody tr th:only-of-type {\n",
              "        vertical-align: middle;\n",
              "    }\n",
              "\n",
              "    .dataframe tbody tr th {\n",
              "        vertical-align: top;\n",
              "    }\n",
              "\n",
              "    .dataframe thead th {\n",
              "        text-align: right;\n",
              "    }\n",
              "</style>\n",
              "<table border=\"1\" class=\"dataframe\">\n",
              "  <thead>\n",
              "    <tr style=\"text-align: right;\">\n",
              "      <th></th>\n",
              "      <th>label</th>\n",
              "      <th>text</th>\n",
              "    </tr>\n",
              "  </thead>\n",
              "  <tbody>\n",
              "    <tr>\n",
              "      <th>524803</th>\n",
              "      <td>13</td>\n",
              "      <td>the begum's fortune  the begum's fortune (french: les cinq cents millions de la bégum) also published as the begum's millions is an 1879 novel by jules verne with some elements which could be described as utopian and others which seem clearly dystopian. it is remarkable as the first published book in which verne was cautionary and to some degree pessimistic about the development of science and technology.</td>\n",
              "    </tr>\n",
              "    <tr>\n",
              "      <th>557439</th>\n",
              "      <td>13</td>\n",
              "      <td>the touch (mccullough novel)  the touch is a historical novel by colleen mccullough published in 2003. it is about the life of a scotswoman elizabeth drummond who travels from her home in kinross scotland to new south wales in order to marry her wealthy cousin alexander kinross. the story takes place over the latter half of the 19th century.</td>\n",
              "    </tr>\n",
              "    <tr>\n",
              "      <th>546926</th>\n",
              "      <td>13</td>\n",
              "      <td>the developers  the developers published in 2005 is a tech-humor fiction novel by author ben woods.</td>\n",
              "    </tr>\n",
              "    <tr>\n",
              "      <th>543891</th>\n",
              "      <td>13</td>\n",
              "      <td>threepenny novel  threepenny novel is a work of fiction written by bertolt brecht first published in amsterdam by allert de lange (nl) in 1934 as dreigroschenroman. the novel retains certain elements of the the threepenny opera – for instance characters such as macheath and polly – but is essentially a completely separate work in tone ambition and purpose.</td>\n",
              "    </tr>\n",
              "    <tr>\n",
              "      <th>523594</th>\n",
              "      <td>13</td>\n",
              "      <td>blue moon rising  blue moon rising is a fantasy novel by british author simon r. green. the first in a series of four books in the forest kingdom series with the main protagonists appearing in six books in the hawk &amp; fisher series by green.the book had a troubled launch with many publishers rejecting green before being published by roc. the book became green's first bestseller.as with other green books it is written in a style which combines dramatic storytelling with plenty of wry humour and light relief.</td>\n",
              "    </tr>\n",
              "    <tr>\n",
              "      <th>...</th>\n",
              "      <td>...</td>\n",
              "      <td>...</td>\n",
              "    </tr>\n",
              "    <tr>\n",
              "      <th>555209</th>\n",
              "      <td>13</td>\n",
              "      <td>the man of the crowd  the man of the crowd is a short story written by edgar allan poe about a nameless narrator following a man through a crowded london first published in 1840.</td>\n",
              "    </tr>\n",
              "    <tr>\n",
              "      <th>525454</th>\n",
              "      <td>13</td>\n",
              "      <td>alireza  alireza is a memoir written by iranian american author arion golmakani translated into persian by shadi hamedi and published in january 2014. the book told in first person perspective tells the story of an abandoned little boy growing up on the streets of iran before the iranian islamic revolution of 1979.</td>\n",
              "    </tr>\n",
              "    <tr>\n",
              "      <th>536845</th>\n",
              "      <td>13</td>\n",
              "      <td>the mistress of wholesome  the mistress of wholesome is a play by jacob appel that premiered at the little theatre of alexandria on may 16 2008.the play was directed by keith waters and starred kacie greenwood danielle y. eure and jung weil. a second production at the openstage theater in pittsburgh won the theatre league of western pennsylvania's top honors for 2008. the pittsburgh post gazette described the play as quirky yet delectable.</td>\n",
              "    </tr>\n",
              "    <tr>\n",
              "      <th>528819</th>\n",
              "      <td>13</td>\n",
              "      <td>fanfare (magazine)  fanfare is an american bimonthly magazine devoted to reviewing recorded music in all playback formats. it mainly covers classical music but since inception has also featured a jazz column in every issue.the magazine now runs to over 600 pages in a 6 x 9 format with about 80% of the editorial copy devoted to record reviews and a front section with a substantial number of interviews and feature articles.</td>\n",
              "    </tr>\n",
              "    <tr>\n",
              "      <th>557476</th>\n",
              "      <td>13</td>\n",
              "      <td>the big u  the big u (1984) is neal stephenson's first published novel a satire of campus life.</td>\n",
              "    </tr>\n",
              "  </tbody>\n",
              "</table>\n",
              "<p>1000 rows × 2 columns</p>\n",
              "</div>"
            ],
            "text/plain": [
              "        label                                                                                                                                                                                                                                                                                                                                                                                                                                                                                                                             text\n",
              "524803     13                                                                                                         the begum's fortune  the begum's fortune (french: les cinq cents millions de la bégum) also published as the begum's millions is an 1879 novel by jules verne with some elements which could be described as utopian and others which seem clearly dystopian. it is remarkable as the first published book in which verne was cautionary and to some degree pessimistic about the development of science and technology.\n",
              "557439     13                                                                                                                                                                          the touch (mccullough novel)  the touch is a historical novel by colleen mccullough published in 2003. it is about the life of a scotswoman elizabeth drummond who travels from her home in kinross scotland to new south wales in order to marry her wealthy cousin alexander kinross. the story takes place over the latter half of the 19th century.\n",
              "546926     13                                                                                                                                                                                                                                                                                                                                                                                                                              the developers  the developers published in 2005 is a tech-humor fiction novel by author ben woods.\n",
              "543891     13                                                                                                                                                           threepenny novel  threepenny novel is a work of fiction written by bertolt brecht first published in amsterdam by allert de lange (nl) in 1934 as dreigroschenroman. the novel retains certain elements of the the threepenny opera – for instance characters such as macheath and polly – but is essentially a completely separate work in tone ambition and purpose.\n",
              "523594     13  blue moon rising  blue moon rising is a fantasy novel by british author simon r. green. the first in a series of four books in the forest kingdom series with the main protagonists appearing in six books in the hawk & fisher series by green.the book had a troubled launch with many publishers rejecting green before being published by roc. the book became green's first bestseller.as with other green books it is written in a style which combines dramatic storytelling with plenty of wry humour and light relief.\n",
              "...       ...                                                                                                                                                                                                                                                                                                                                                                                                                                                                                                                              ...\n",
              "555209     13                                                                                                                                                                                                                                                                                                                                               the man of the crowd  the man of the crowd is a short story written by edgar allan poe about a nameless narrator following a man through a crowded london first published in 1840.\n",
              "525454     13                                                                                                                                                                                                     alireza  alireza is a memoir written by iranian american author arion golmakani translated into persian by shadi hamedi and published in january 2014. the book told in first person perspective tells the story of an abandoned little boy growing up on the streets of iran before the iranian islamic revolution of 1979.\n",
              "536845     13                                                                      the mistress of wholesome  the mistress of wholesome is a play by jacob appel that premiered at the little theatre of alexandria on may 16 2008.the play was directed by keith waters and starred kacie greenwood danielle y. eure and jung weil. a second production at the openstage theater in pittsburgh won the theatre league of western pennsylvania's top honors for 2008. the pittsburgh post gazette described the play as quirky yet delectable.\n",
              "528819     13                                                                                        fanfare (magazine)  fanfare is an american bimonthly magazine devoted to reviewing recorded music in all playback formats. it mainly covers classical music but since inception has also featured a jazz column in every issue.the magazine now runs to over 600 pages in a 6 x 9 format with about 80% of the editorial copy devoted to record reviews and a front section with a substantial number of interviews and feature articles.\n",
              "557476     13                                                                                                                                                                                                                                                                                                                                                                                                                                  the big u  the big u (1984) is neal stephenson's first published novel a satire of campus life.\n",
              "\n",
              "[1000 rows x 2 columns]"
            ]
          },
          "metadata": {
            "tags": []
          },
          "execution_count": 54
        }
      ]
    },
    {
      "cell_type": "code",
      "metadata": {
        "colab": {
          "base_uri": "https://localhost:8080/"
        },
        "id": "6pQwy9MAlpgA",
        "outputId": "d7e469ea-a3e7-4876-fb69-c5d056ab1f1f"
      },
      "source": [
        "# Showing the most common words to make the keyword creation process quicker\n",
        "# We are choosing some of words in this list to populate the label:keyword dictionary\n",
        "\n",
        "# from collections import Counter\n",
        "# Counter(\" \".join(df_view[\"content\"]).split()).most_common(100) # slower than pd.Series()\n",
        "\n",
        "# faster\n",
        "pd.Series(' '.join(df_view.text).lower().split()).value_counts()[:100]"
      ],
      "execution_count": 55,
      "outputs": [
        {
          "output_type": "execute_result",
          "data": {
            "text/plain": [
              "the              3923\n",
              "of               1936\n",
              "in               1799\n",
              "a                1705\n",
              "and              1668\n",
              "is               1528\n",
              "by               1310\n",
              "was               663\n",
              "it                618\n",
              "published         589\n",
              "to                496\n",
              "book              428\n",
              "novel             420\n",
              "on                378\n",
              "as                343\n",
              "for               319\n",
              "first             295\n",
              "an                293\n",
              "journal           269\n",
              "written           247\n",
              "with              237\n",
              "from              212\n",
              "magazine          201\n",
              "series            185\n",
              "that              160\n",
              "story             156\n",
              "his               153\n",
              "newspaper         143\n",
              "has               134\n",
              "at                131\n",
              "its               127\n",
              "which             127\n",
              "who               125\n",
              "new               122\n",
              "science           119\n",
              "american          119\n",
              "fiction           117\n",
              "author            113\n",
              "stories           106\n",
              "short              93\n",
              "daily              85\n",
              "into               83\n",
              "collection         82\n",
              "been               79\n",
              "about              79\n",
              "peer-reviewed      77\n",
              "books              76\n",
              "one                75\n",
              "also               75\n",
              "&                  75\n",
              "her                70\n",
              "english            67\n",
              "are                67\n",
              "united             66\n",
              "originally         65\n",
              "fantasy            65\n",
              "title              65\n",
              "manga              64\n",
              "(novel)            63\n",
              "writer             63\n",
              "this               62\n",
              "times              62\n",
              "world              62\n",
              "set                60\n",
              "law                59\n",
              "after              58\n",
              "two                58\n",
              "released           57\n",
              "second             56\n",
              "comic              54\n",
              "he                 54\n",
              "international      54\n",
              "established        53\n",
              "other              53\n",
              "founded            52\n",
              "their              51\n",
              "university         51\n",
              "be                 49\n",
              "based              49\n",
              "since              49\n",
              "war                49\n",
              "research           49\n",
              "life               49\n",
              "york               48\n",
              "john               48\n",
              "de                 48\n",
              "or                 48\n",
              "british            48\n",
              "academic           47\n",
              "between            46\n",
              "all                46\n",
              "media              46\n",
              "weekly             45\n",
              "known              44\n",
              "news               44\n",
              "during             43\n",
              "best               43\n",
              "publication        43\n",
              "review             43\n",
              "illustrated        42\n",
              "dtype: int64"
            ]
          },
          "metadata": {
            "tags": []
          },
          "execution_count": 55
        }
      ]
    },
    {
      "cell_type": "markdown",
      "metadata": {
        "id": "_SR9FU80z1nW"
      },
      "source": [
        "## Creating Label:Keyword Dictionary\n",
        "\n",
        "We are creating a massive list of keywords for all of the labels in our dataset. These keywords will either feed into our spaCy matcher during the labeling process or into a keyword lookup function, depending on which approach we take.\n",
        "\n",
        "We are using the spaCy PhraseMatcher (only looks for keywords) instead of the Matcher (can take into lemmatization, part-of-speech, etc.) because the PhraseMatcher is much faster than the Matcher.  This decision was made because we wanted to have a fast snorkel labeler that would reduce the amount of wai time for users who are using a web app (one that we'd create) to label their data.\n",
        "\n",
        "That said, we realized that using a keyword lookup function was faster than the PhraseMatcher so we went with the keyword lookup instead.\n",
        "\n",
        "Going forward, I would say that you should use keyword lookup if you want to feed specific words into you labeling function, and only user the spaCy Matcher if you want to do special things like looking a lemmatization of small amount of words or use some of the other features of the Matcher that simply doesn't work with a keyword lookup. You can basically disregard the PhraseMatcher for Snorkel Labeling."
      ]
    },
    {
      "cell_type": "code",
      "metadata": {
        "colab": {
          "base_uri": "https://localhost:8080/"
        },
        "id": "Rxds_bEgAFot",
        "outputId": "1236403e-eacc-43be-b34b-eb3228add282"
      },
      "source": [
        "import spacy\n",
        "from spacy.matcher import PhraseMatcher\n",
        "\n",
        "# Creating keyword lists with string and split(', ').\n",
        "\n",
        "# keywords_list = [\"\"\"company, headquarter, corporate, finance, ltd., airline, firm, commerce, manufacturer, factory, based in, based out of, founded, corporation, inc., foundation, newspaper\"\"\".split(', '),\n",
        "#                  \"\"\"university, students, bachelor, degree, school, academy, college, high, located, public, city, academy, county, institute, national, research, business, grammar, government, technology, medicine, mascot, academic, board, program, co-educational, economics, junior, science, schools, faculty\"\"\".split(', '),\n",
        "#                  \"\"\"dancer, writer, artist, actor, singer-songwriter, teacher, scholar, professor, composer, actress, pianist, novelist, singer, songwriter, born, english, american, chinese, guitarist, author, drummer, vocalist, saxophonist, painter, Canadian, member of, screenwriter, prose, poet, career, jazz, folk\"\"\".split(', '),\n",
        "#                  \"\"\"rugby, player, football, professional, nfl, league, injury, 1st round, contract, footballer, wrestling, lineman, cricketer, born, retired, former, mlb, pitcher, fencer, driver, american, canadian, english, belgian, attended, season, champion, motorcycle\"\"\".split(', '),\n",
        "#                  \"\"\"born, author, commentator, director, professor, leader, governor, politician, minister, president, died, representatives, assembly, republic, democratic, house of representatives, house, election, member of parliament, party, speaker, president, lawyer, liberal, candidate, election, deputy, prime minister, official\"\"\".split(', '),\n",
        "#                  \"\"\"ship, aircraft, boeing, navy, destroyer, diesel, rail, warship, transport, submarine, trike, aerobatic, motorcar, railway, monoplane, vessel, motorcycle, navigation, railway, cars, airliner, naval, whaleship, rail, automobile, flown, ferry, wing, tailplane, car, convoy, flown, naval, locomotive, vehicle, flagship, cruise ship, boat, convoy, automaker, battleships\"\"\".split(', '),\n",
        "#                  \"\"\"church, church, center, house, historic, dam, district, district, castle, hospital, institution, museum, victorian, farm, building, mall, restaurant, shopping mall, centre, supermarket, built in\"\"\".split(', '),\n",
        "#                  \"\"\"river, mountain, hill, hills, land, lake, km, m, forest, creek, ocean, stream, strait, gulf, peak, elevation, glacier, volcanic, corona, tributary, mount, flows, border, watershed\"\"\".split(', '),\n",
        "#                  \"\"\"rural, population, census, central, province, state, village, district, eastern, western, kilometres, km, mi, county, south, north, south-west, south-east, north-west, north-east, town, border, regional, capital, municipality, block, located, families, administrative, federation, india, united states, turkey, iran\"\"\".split(', '),\n",
        "#                  \"\"\"habitat, species, beetles, subfamily, snail, endemic, family, extinct, shelled, squids, octopuses, wingspan, moth, frogs, dry land, humidity, fruit flies, genus, horse, racehorse, thoroughbred, farm, farms, frog, butterfly, class, flatworm, fish, bred, shark, tropical, subtropical, sphinx, dog, cat, mouse, lion, jaguar, sea, habitats, subclass, populations, fossil\"\"\".split(', '),\n",
        "#                  \"\"\"plant, family, species, vegetative subspecies, dipterocarpaceae, tillandsia, genus, endemic, orchid, daisy, flower, flowering, plants, legume, habitat, green alga, lettuce, kelp, gutweed, succulent, microphylia, ulmus, coffee, soil, tropical, forest, wood, leaf, cultivated, tree, trees, aster, algae, sedge, grows, evergreen, fruit, seed, seeds, herbs, herb, bulrush, subtropical, violet, floral, meliaceae, wild, grass\"\"\".split(', '),\n",
        "#                  \"\"\"album, country, singer, band, vocalist, member, guitarist, debut, studio, metal, records, produced, songs, live at, performance, indie, folk, musician, released, ep, music, rapper, official, cd, label, tracks, remastered, reissued, pop, release, recorded, producer, full-length, bonus, chart, reunited, grammy, billboard, featured, concert, singer-songwriter, songs\"\"\".split(', '),\n",
        "#                  \"\"\"film, directed, starring, drama, based, released, novel, comedy, american, stars, produced, international, cinema, festival, documentary, biographical, love, romance, comedy-romance, movie\"\"\".split(', '),\n",
        "#                  \"\"\"published, book, novel, journal, series, written, story, magazine, newspaper, daily, stories, peer-reviewed, fiction, covers, comic, volume, science, fantasy, edition, writer, law, created, research, established, history, weekly, issue, travel, academic, mystery, media, author, work, god\"\"\".split(', ')]\n",
        "\n",
        "keywords_list = [\"\"\"company, headquarter, corporate, finance, ltd., airline, firm, commerce, manufacturer, factory, based in, based out of, founded, corporation, inc., foundation, newspaper, services, service, products, group, bank, game, business, management, independent, owned, software, operates, limited, technology, brand, offices, million, financial, public, commercial, publishing, media, companies, operated, systems, mobile, games\"\"\".split(', '),\n",
        "                 \"\"\"university, students, bachelor, degree, school, academy, college, high, located, public, city, academy, county, institute, national, research, business, grammar, government, technology, medicine, mascot, academic, board, program, co-educational, economics, junior, science, schools, faculty, education, private, engineering, catholic, community, christian, medical, elementary, law, higher, founded\"\"\".split(', '),\n",
        "                 \"\"\"dancer, writer, artist, actor, singer-songwriter, teacher, scholar, professor, composer, actress, pianist, novelist, singer, songwriter, born, English, American, Chinese, guitarist, author, drummer, vocalist, saxophonist, painter, Canadian, member of, film, screenwriter, prose, poet, career, jazz, folk, member, work, album, producer, released, award, career, painter, band, musician, rock, album, author, university, television, school, art, released, composer\"\"\".split(', '),\n",
        "                 \"\"\"rugby, player, football, professional, nfl, league, injury, 1st round, contract, footballer, wrestling, lineman, cricketer, born, retired, former, mlb, pitcher, fencer, driver, american, canadian, english, attended, season, champion, motorcycle, (born, played, world, playing, major, plays, national, team, won, baseball, hockey, cricket, career, club, rugby, league., australian, olympics, seasons, championship, team., medal, ice, cup, round, player.\"\"\".split(', '),\n",
        "                 \"\"\"born, author, commentator, director, professor, leader, governor, politician, minister, president, died, representatives, assembly, republic, democratic, house of representatives, house, election, member of parliament, party, speaker, president, lawyer, liberal, candidate, election, deputy, prime minister, official, served, district, elected, district, republican, county, general, university, mayor, government, legislative, secretary, serving, political, appointed, represented, national, politician., prime, lawyer, senate, former\"\"\".split(', '),\n",
        "                 \"\"\"ship, aircraft, boeing, navy, destroyer, diesel, rail, warship, transport, submarine, trike, aerobatic, motorcar, railway, monoplane, vessel, motorcycle, navigation, railway, cars, airliner, naval, whaleship, rail, automobile, flown, ferry, wing, tailplane, car, convoy, flown, naval, locomotive, vehicle, flagship, cruise ship, boat, convoy, automaker, battleships, built, hms, royal, world, service, designed, commissioned, company, produced, laid, launched, ss, operated, design, sponsored, class, uss, war\"\"\".split(', '),\n",
        "                 \"\"\"church, church, center, house, historic, dam, district, district, castle, hospital, institution, museum, victorian, farm, building, mall, restaurant, shopping mall, centre, supermarket, built in, located, national, register, places, county, listed, museum, street, city, hospital, hotel, centre, designed, school, home, park, brick, mall, art, tower, revival, complex, village, parish, castle, main, features, architect, cathedral, road, farm, structure, office, downtown, area, frame, constructed, style, hall, site\"\"\".split(', '),\n",
        "                 \"\"\"river, mountain, hill, hills, land, lake, km, m, forest, forests, creek, ocean, stream, strait, gulf, peak, elevation, glacier, volcanic, corona, tributary, mount, flows, border, watershed, located, county, range, peak, mountains, part, highest, crater, lies, national, elevation, sea, water, park, reservoir, high, situated, bay, river.\"\"\".split(', '),\n",
        "                 \"\"\"rural, population, census, central, province, state, village, district, eastern, western, kilometres, km, mi, county, south, north, south-west, south-east, north-west, north-east, town, border, regional, capital, municipality, block, located, families, administrative, federation, india, united states, turkey, iran, mi), families., approximately, history, region, town, area, romanized, gmina\"\"\".split(', '),\n",
        "                 \"\"\"habitat, species, forest, forests, beetles, subfamily, snail, endemic, family, extinct, shelled, squids, octopuses, wingspan, moth, frogs, dry land, humidity, fruit flies, genus, horse, racehorse, thoroughbred, farm, farms, frog, butterfly, class, flatworm, fish, bred, shark, tropical, subtropical, sphinx, dog, cat, mouse, lion, jaguar, sea, habitats, subclass, populations, fossil, found, gastropod, described, mollusk, marine, larvae, native, arctiidae, moist, bird, notiobia, feed\"\"\".split(', '),\n",
        "                 \"\"\"plant, family, species, vegetative subspecies, dipterocarpaceae, tillandsia, genus, endemic, orchid, daisy, flower, flowering, plants, legume, habitat, green alga, lettuce, kelp, gutweed, succulent, microphylia, ulmus, coffee, soil, tropical, forest, wood, leaf, cultivated, tree, trees, aster, algae, sedge, grows, evergreen, fruit, seed, seeds, herbs, herb, bulrush, subtropical, violet, floral, meliaceae, wild, grass, native, known, found, leaves, grows, plants, flowers, growing, forests\"\"\".split(', '),\n",
        "                 \"\"\"album, country, singer, band, vocalist, member, guitarist, debut, studio, metal, records, produced, songs, live at, performance, indie, folk, musician, released, ep, music, rapper, official, cd, label, tracks, remastered, reissued, pop, release, recorded, producer, full-length, bonus, chart, reunited, grammy, billboard, featured, concert, singer-songwriter, songs, live, recorded, rock, album), records., release, compilation, single, label, cover\"\"\".split(', '),\n",
        "                 \"\"\"film, directed, starring, drama, based, released, novel, comedy, american, stars, produced, international, cinema, festival, documentary, biographical, love, romance, comedy-romance, movie, director, roles., series, life, award, music, screenplay, romantic, thriller, shot, action, horror, (film), written, based, silent\"\"\".split(', '),\n",
        "                 \"\"\"published, book, novel, journal, series, written, story, magazine, newspaper, daily, stories, peer-reviewed, fiction, covers, comic, volume, science, fantasy, edition, writer, law, created, research, established, history, weekly, issue, travel, academic, mystery, media, author, work, god, manga, world, (novel), illustrated, award, news, fantasy, books, collection, life, publication, edition, based, established\"\"\".split(', ')]\n",
        "\n",
        "\n",
        "labels_list = ['Company', 'EducationalInstitution', 'Artist', 'Athlete', 'OfficeHolder',\n",
        "               'MeanOfTransportation','Building', 'NaturalPlace', 'Village',\n",
        "               'Animal', 'Plant', 'Album', 'Film', 'WrittenWork']\n",
        "\n",
        "label_keyword_dict = dict(zip(labels_list, keywords_list))\n",
        "print(label_keyword_dict['NaturalPlace'])\n",
        "\n",
        "nlp = spacy.load(\"en_core_web_sm\")\n",
        "matcher = PhraseMatcher(nlp.vocab)"
      ],
      "execution_count": 56,
      "outputs": [
        {
          "output_type": "stream",
          "text": [
            "['river', 'mountain', 'hill', 'hills', 'land', 'lake', 'km', 'm', 'forest', 'forests', 'creek', 'ocean', 'stream', 'strait', 'gulf', 'peak', 'elevation', 'glacier', 'volcanic', 'corona', 'tributary', 'mount', 'flows', 'border', 'watershed', 'located', 'county', 'range', 'peak', 'mountains', 'part', 'highest', 'crater', 'lies', 'national', 'elevation', 'sea', 'water', 'park', 'reservoir', 'high', 'situated', 'bay', 'river.']\n"
          ],
          "name": "stdout"
        }
      ]
    },
    {
      "cell_type": "code",
      "metadata": {
        "id": "vtEjosUBu8cd"
      },
      "source": [
        "# Running nlp.make_doc to speed things up\n",
        "for label in label_keyword_dict:\n",
        "  patterns = [nlp.make_doc(text) for text in label_keyword_dict[label]]\n",
        "  matcher.add(label, patterns)"
      ],
      "execution_count": 57,
      "outputs": []
    },
    {
      "cell_type": "markdown",
      "metadata": {
        "id": "Diug1La5wXXj"
      },
      "source": [
        "### Testing our spaCy matcher "
      ]
    },
    {
      "cell_type": "code",
      "metadata": {
        "colab": {
          "base_uri": "https://localhost:8080/"
        },
        "id": "eokAGwkuu4g_",
        "outputId": "f1ecaeb2-5233-435a-82c1-2800a56522b4"
      },
      "source": [
        "doc = nlp(\"monika bohge monika bohge (lüdenscheid 1947) is a german writer and actor.\")\n",
        "matches = matcher(doc)\n",
        "for match_id, start, end in matches:\n",
        "    rule_id = nlp.vocab.strings[match_id]\n",
        "    span = doc[start:end]\n",
        "    print(rule_id, span.text)"
      ],
      "execution_count": 58,
      "outputs": [
        {
          "output_type": "stream",
          "text": [
            "WrittenWork writer\n",
            "Artist writer\n",
            "Artist actor\n"
          ],
          "name": "stdout"
        }
      ]
    },
    {
      "cell_type": "code",
      "metadata": {
        "colab": {
          "base_uri": "https://localhost:8080/"
        },
        "id": "NQ0bVClaAzv4",
        "outputId": "e8cc9f00-dfa2-4c3e-b4eb-dd533112310a"
      },
      "source": [
        "matches[0]"
      ],
      "execution_count": 59,
      "outputs": [
        {
          "output_type": "execute_result",
          "data": {
            "text/plain": [
              "(10780820017166675169, 11, 12)"
            ]
          },
          "metadata": {
            "tags": []
          },
          "execution_count": 59
        }
      ]
    },
    {
      "cell_type": "markdown",
      "metadata": {
        "id": "wlZiBth9ziRf"
      },
      "source": [
        "## Snorkel with Automated Labeling Functions\n",
        "\n",
        "The goal of this section was to create a list containing n functions (n is decided by the user) for each label described by the user. If I can get it working, it would allow users to import text, add n labels of their choice (along with the related keywords) and n functions would be created for every label. This would, at the same time, greatly reduce the amount of work from the user (they only need to import a text dataset and give a list of keywords for the corresponding label) and would open up the labeling feature in a web app for all multi-class text dataset creation.\n",
        "\n",
        "I spent a lot of time on this section, but, as I said, I wasn't able to make it work. I was able to get it mostly working, but I'm running into an issue where all the functions have the same name and snorkel labeling doesn't work if all the functions have the same name! I tried many things to change the names of the functions, but I wansn't able to change them internally when it's running in snorkel because `nlp_labeling_function()` wraps the function in a spaCy processor and I can't change the internal function name after the fact. If you have any ideas on how to resolve this, let me know!\n",
        "\n",
        "Note: This section is commented out for the reasons above!"
      ]
    },
    {
      "cell_type": "code",
      "metadata": {
        "id": "j-7rBHFcwwKi"
      },
      "source": [
        "# # labeling function for all labels\n",
        "# @nlp_labeling_function() # labeling function for using spaCy\n",
        "# def lf_labeler(x, label_keyword_dict):\n",
        "#     labels = []\n",
        "#     doc = nlp(x) # tokenizing the input text\n",
        "#     matches = PhraseMatcher(doc) # finding all the token words that match a specific label\n",
        "#     for match_id in matches:\n",
        "#         labels.append(nlp.vocab.strings[match_id]) # adds every label where there was a match\n",
        "#     if labels: # runs if labels is not empty\n",
        "#         return labels # this would return all the labels that were matches in the text document. Not sure if it's possible to return the list of labels like this.\n",
        "#     else:\n",
        "#         return ABSTAIN # abstains from using this text example in the dataset creation because there was no match"
      ],
      "execution_count": 60,
      "outputs": []
    },
    {
      "cell_type": "code",
      "metadata": {
        "id": "76f5bIjMNCkD"
      },
      "source": [
        "# class all_labeling_functions(object):\n",
        "#     def __init__(self, labels):\n",
        "#         for label in labels:\n",
        "#             setattr(self, label, functools.partial(self._myfunction, label))\n",
        "    \n",
        "#     @nlp_labeling_function() # labeling function for using spaCy\n",
        "#     def lf_labeler(x, label_keyword_dict=label_keyword_dict):\n",
        "#         labels = []\n",
        "#         doc = nlp(x) # tokenizing the input text\n",
        "#         matches = PhraseMatcher(doc) # finding all the token words that match a specific label\n",
        "        \n",
        "#         for match_id in matches:\n",
        "#           labels.append(nlp.vocab.strings[match_id]) # adds every label where there was a match\n",
        "        \n",
        "#         if len(labels) != 0: # runs if labels is not empty\n",
        "#           return labels # this would return all the labels that were matches in the text document. Not sure if it's possible to return the list of labels like this.\n",
        "        \n",
        "#         else:\n",
        "#           return ABSTAIN # abstains from using this text example in the dataset creation because there was no match\n",
        "\n",
        "# lfs = []\n",
        "\n",
        "# for i in range(len(labels_list)):\n",
        "#   lf_labeler = all_labeling_functions(i)\n",
        "#   # namespace['lf_labeler_%s'%i] = functools.partial(all_labeling_functions, i)\n",
        "\n",
        "#   lfs.append(all_labeling_functions(labels_list))\n",
        "\n",
        "# # myfunction = all_labeling_functions(labels_list)\n",
        "# # print(myfunction)"
      ],
      "execution_count": 61,
      "outputs": []
    },
    {
      "cell_type": "code",
      "metadata": {
        "id": "TMzYkPn6Qr05"
      },
      "source": [
        "# from types import FunctionType\n",
        "# from copy import copy\n",
        "\n",
        "# lf_list = []\n",
        "\n",
        "# @nlp_labeling_function() # labeling function for using spaCy\n",
        "# def lf_labeler(x):\n",
        "#     labels = []\n",
        "#     doc = nlp(x) # tokenizing the input text\n",
        "#     matches = PhraseMatcher(doc) # finding all the token words that match a specific label\n",
        "    \n",
        "#     for match_id in matches:\n",
        "#       labels.append(nlp.vocab.strings[match_id]) # adds every label where there was a match\n",
        "    \n",
        "#     if len(labels) != 0: # runs if labels is not empty\n",
        "#       return labels # this would return all the labels that were matches in the text document. Not sure if it's possible to return the list of labels like this.\n",
        "    \n",
        "#     else:\n",
        "#       return ABSTAIN # abstains from using this text example in the dataset creation because there was no match\n",
        "\n",
        "#   # namespace = sys._getframe(0).f_globals\n",
        "#   # namespace['lf_labeler_%s'%i] = functools.partial(all_labeling_functions, i)\n",
        "\n",
        "# def copy_function(fn, name):\n",
        "\n",
        "#     return FunctionType(name=name)\n",
        "\n",
        "# for label in labels_list:\n",
        "#     name = 'lf_labeler_' + str(label)\n",
        "#     lf_list.append(copy_function(lf_labeler, name))\n",
        "\n",
        "# lf_list"
      ],
      "execution_count": 62,
      "outputs": []
    },
    {
      "cell_type": "code",
      "metadata": {
        "id": "xT0KCb4O46qd"
      },
      "source": [
        "# from snorkel.labeling.lf.nlp import nlp_labeling_function\n",
        "# from functools import partial\n",
        "# import sys\n",
        "\n",
        "# namespace = sys._getframe(0).f_globals\n",
        "\n",
        "# def all_labeling_functions(label): # labeling function for all labels\n",
        "\n",
        "#   @nlp_labeling_function() # labeling function for using spaCy\n",
        "#   def lf_labeler(x):\n",
        "#       labels = []\n",
        "#       doc = nlp(x) # tokenizing the input text\n",
        "#       matches = PhraseMatcher(doc) # finding all the token words that match a specific label\n",
        "      \n",
        "#       for match_id in matches:\n",
        "#         labels.append(nlp.vocab.strings[match_id]) # adds every label where there was a match\n",
        "      \n",
        "#       if len(labels) != 0: # runs if labels is not empty\n",
        "#         return labels # this would return all the labels that were matches in the text document. Not sure if it's possible to return the list of labels like this.\n",
        "      \n",
        "#       else:\n",
        "#         return ABSTAIN # abstains from using this text example in the dataset creation because there was no match\n",
        "\n",
        "#     # namespace = sys._getframe(0).f_globals\n",
        "#     # namespace['lf_labeler_%s'%i] = functools.partial(all_labeling_functions, i)\n",
        "\n",
        "#   return lf_labeler\n",
        "\n",
        "# lfs = []\n",
        "\n",
        "# lf_labeler_list = {f'lf_labeler_{k}': partial(lf_labeler, i=k) for k in range(len(labels_list))}\n",
        "# for i in range(len(labels_list)):\n",
        "#   lfs.append(lf_labeler_list[f'lf_labeler_{i}'])\n",
        "\n",
        "\n",
        "# # lf_labeler_list = {f'lf_labeler_{k}': partial(lf_labeler, i=k) for k in range(len(labels_list))}\n",
        "# for label in labels_list:\n",
        "#   lfs[f'lf_labeler_{label}'] = all_labeling_functions(label)"
      ],
      "execution_count": 63,
      "outputs": []
    },
    {
      "cell_type": "code",
      "metadata": {
        "id": "xTZ9MAOvF4vN"
      },
      "source": [
        "# from snorkel.labeling import LabelingFunction\n",
        "\n",
        "\n",
        "# def keyword_lookup(x, keywords, label):\n",
        "#     if any(word in x.text.lower() for word in keywords):\n",
        "#         return label\n",
        "#     return ABSTAIN\n",
        "\n",
        "\n",
        "# def make_keyword_lf(keywords, label=SPAM):\n",
        "#     return LabelingFunction(\n",
        "#         name=f\"keyword_{keywords[0]}\",\n",
        "#         f=keyword_lookup,\n",
        "#         resources=dict(keywords=keywords, label=label),\n",
        "#     )"
      ],
      "execution_count": 64,
      "outputs": []
    },
    {
      "cell_type": "markdown",
      "metadata": {
        "id": "zowNLE1XzXhY"
      },
      "source": [
        "## Snorkel with Manual Labeling Functions\n",
        "\n",
        "Here we will created labeling functions manually by writing at least one lableling function for every label.\n",
        "\n",
        "After trying both the spaCy PhraseMatcher approach and the keyword lookup approach, we decided to opt for the keyword lookup approche since it performed similarly to the spaCy PhraseMatcher approach, but was much faster. We want our labeling to be fast so that it can be used by users in as close to real-time as possible. "
      ]
    },
    {
      "cell_type": "markdown",
      "metadata": {
        "id": "ae7W7EAbzgj4"
      },
      "source": [
        "### Matcher Approach"
      ]
    },
    {
      "cell_type": "code",
      "metadata": {
        "id": "WG5N7NvDUHMa"
      },
      "source": [
        "from snorkel.labeling.lf.nlp import nlp_labeling_function\n",
        "\n",
        "@nlp_labeling_function()\n",
        "def lf_company(x):\n",
        "    doc = nlp(str(x)) # tokenizing the input text\n",
        "    matches = matcher(doc) # finding all the token words that match a specific label\n",
        "    label_ids = [item[0] for item in matches]\n",
        "    if any([nlp.vocab.strings[label_id] == 'Company' for label_id in label_ids]):\n",
        "        return Company # this would return all the labels that were matches in the text document. Not sure if it's possible to return the list of labels like this.\n",
        "    else:\n",
        "        return ABSTAIN # abstains from using this text example in the dataset creation because there was no match\n",
        "\n",
        "@nlp_labeling_function()\n",
        "def lf_educational_institution(x):\n",
        "    doc = nlp(str(x)) # tokenizing the input text\n",
        "    matches = matcher(doc) # finding all the token words that match a specific label\n",
        "    label_ids = [item[0] for item in matches]\n",
        "    if any([nlp.vocab.strings[label_id] == 'EducationalInstitution' for label_id in label_ids]):\n",
        "        return EducationalInstitution # this would return all the labels that were matches in the text document. Not sure if it's possible to return the list of labels like this.\n",
        "    else:\n",
        "        return ABSTAIN # abstains from using this text example in the dataset creation because there was no match\n",
        "\n",
        "@nlp_labeling_function()\n",
        "def lf_artist(x):\n",
        "    doc = nlp(str(x)) # tokenizing the input text\n",
        "    matches = matcher(doc) # finding all the token words that match a specific label\n",
        "    label_ids = [item[0] for item in matches]\n",
        "    if any([nlp.vocab.strings[label_id] == 'Artist' for label_id in label_ids]):\n",
        "        return Artist # this would return all the labels that were matches in the text document. Not sure if it's possible to return the list of labels like this.\n",
        "    else:\n",
        "        return ABSTAIN # abstains from using this text example in the dataset creation because there was no match\n",
        "\n",
        "@nlp_labeling_function()\n",
        "def lf_athlete(x):\n",
        "    doc = nlp(str(x)) # tokenizing the input text\n",
        "    matches = matcher(doc) # finding all the token words that match a specific label\n",
        "    label_ids = [item[0] for item in matches]\n",
        "    if any([nlp.vocab.strings[label_id] == 'Athlete' for label_id in label_ids]):\n",
        "        return Athlete # this would return all the labels that were matches in the text document. Not sure if it's possible to return the list of labels like this.\n",
        "    else:\n",
        "        return ABSTAIN # abstains from using this text example in the dataset creation because there was no match\n",
        "\n",
        "@nlp_labeling_function()\n",
        "def lf_office_holder(x):\n",
        "    doc = nlp(str(x)) # tokenizing the input text\n",
        "    matches = matcher(doc) # finding all the token words that match a specific label\n",
        "    label_ids = [item[0] for item in matches]\n",
        "    if any([nlp.vocab.strings[label_id] == 'OfficeHolder' for label_id in label_ids]):\n",
        "        return OfficeHolder # this would return all the labels that were matches in the text document. Not sure if it's possible to return the list of labels like this.\n",
        "    else:\n",
        "        return ABSTAIN # abstains from using this text example in the dataset creation because there was no match\n",
        "\n",
        "\n",
        "@nlp_labeling_function()\n",
        "def lf_mean_of_transportation(x):\n",
        "    doc = nlp(str(x)) # tokenizing the input text\n",
        "    matches = matcher(doc) # finding all the token words that match a specific label\n",
        "    label_ids = [item[0] for item in matches]\n",
        "    if any([nlp.vocab.strings[label_id] == 'MeanOfTransportation' for label_id in label_ids]):\n",
        "        return MeanOfTransportation # this would return all the labels that were matches in the text document. Not sure if it's possible to return the list of labels like this.\n",
        "    else:\n",
        "        return ABSTAIN # abstains from using this text example in the dataset creation because there was no match\n",
        "\n",
        "\n",
        "@nlp_labeling_function()\n",
        "def lf_building(x):\n",
        "    doc = nlp(str(x)) # tokenizing the input text\n",
        "    matches = matcher(doc) # finding all the token words that match a specific label\n",
        "    label_ids = [item[0] for item in matches]\n",
        "    if any([nlp.vocab.strings[label_id] == 'Building' for label_id in label_ids]):\n",
        "        return Building # this would return all the labels that were matches in the text document. Not sure if it's possible to return the list of labels like this.\n",
        "    else:\n",
        "        return ABSTAIN # abstains from using this text example in the dataset creation because there was no match\n",
        "\n",
        "\n",
        "@nlp_labeling_function()\n",
        "def lf_natural_place(x):\n",
        "    doc = nlp(str(x)) # tokenizing the input text\n",
        "    matches = matcher(doc) # finding all the token words that match a specific label\n",
        "    label_ids = [item[0] for item in matches]\n",
        "    if any([nlp.vocab.strings[label_id] == 'NaturalPlace' for label_id in label_ids]):\n",
        "        return NaturalPlace # this would return all the labels that were matches in the text document. Not sure if it's possible to return the list of labels like this.\n",
        "    else:\n",
        "        return ABSTAIN # abstains from using this text example in the dataset creation because there was no match\n",
        "\n",
        "\n",
        "@nlp_labeling_function()\n",
        "def lf_village(x):\n",
        "    doc = nlp(str(x)) # tokenizing the input text\n",
        "    matches = matcher(doc) # finding all the token words that match a specific label\n",
        "    label_ids = [item[0] for item in matches]\n",
        "    if any([nlp.vocab.strings[label_id] == 'Village' for label_id in label_ids]):\n",
        "        return Village # this would return all the labels that were matches in the text document. Not sure if it's possible to return the list of labels like this.\n",
        "    else:\n",
        "        return ABSTAIN # abstains from using this text example in the dataset creation because there was no match\n",
        "\n",
        "\n",
        "@nlp_labeling_function()\n",
        "def lf_animal(x):\n",
        "    doc = nlp(str(x)) # tokenizing the input text\n",
        "    matches = matcher(doc) # finding all the token words that match a specific label\n",
        "    label_ids = [item[0] for item in matches]\n",
        "    if any([nlp.vocab.strings[label_id] == 'Animal' for label_id in label_ids]):\n",
        "        return Animal # this would return all the labels that were matches in the text document. Not sure if it's possible to return the list of labels like this.\n",
        "    else:\n",
        "        return ABSTAIN # abstains from using this text example in the dataset creation because there was no match\n",
        "\n",
        "\n",
        "@nlp_labeling_function()\n",
        "def lf_plant(x):\n",
        "    doc = nlp(str(x)) # tokenizing the input text\n",
        "    matches = matcher(doc) # finding all the token words that match a specific label\n",
        "    label_ids = [item[0] for item in matches]\n",
        "    if any([nlp.vocab.strings[label_id] == 'Plant' for label_id in label_ids]):\n",
        "        return Plant # this would return all the labels that were matches in the text document. Not sure if it's possible to return the list of labels like this.\n",
        "    else:\n",
        "        return ABSTAIN # abstains from using this text example in the dataset creation because there was no match\n",
        "\n",
        "\n",
        "@nlp_labeling_function()\n",
        "def lf_album(x):\n",
        "    doc = nlp(str(x)) # tokenizing the input text\n",
        "    matches = matcher(doc) # finding all the token words that match a specific label\n",
        "    label_ids = [item[0] for item in matches]\n",
        "    if any([nlp.vocab.strings[label_id] == 'Album' for label_id in label_ids]):\n",
        "        return Album # this would return all the labels that were matches in the text document. Not sure if it's possible to return the list of labels like this.\n",
        "    else:\n",
        "        return ABSTAIN # abstains from using this text example in the dataset creation because there was no match\n",
        "\n",
        "@nlp_labeling_function()\n",
        "def lf_film(x):\n",
        "    doc = nlp(str(x)) # tokenizing the input text\n",
        "    matches = matcher(doc) # finding all the token words that match a specific label\n",
        "    label_ids = [item[0] for item in matches]\n",
        "    if any([nlp.vocab.strings[label_id] == 'Film' for label_id in label_ids]):\n",
        "        return Film # this would return all the labels that were matches in the text document. Not sure if it's possible to return the list of labels like this.\n",
        "    else:\n",
        "        return ABSTAIN # abstains from using this text example in the dataset creation because there was no match\n",
        "\n",
        "@nlp_labeling_function()\n",
        "def lf_written_work(x):\n",
        "    doc = nlp(str(x)) # tokenizing the input text\n",
        "    matches = matcher(doc) # finding all the token words that match a specific label\n",
        "    label_ids = [item[0] for item in matches]\n",
        "    if any([nlp.vocab.strings[label_id] == 'WrittenWork' for label_id in label_ids]):\n",
        "        return WrittenWork # this would return all the labels that were matches in the text document. Not sure if it's possible to return the list of labels like this.\n",
        "    else:\n",
        "        return ABSTAIN # abstains from using this text example in the dataset creation because there was no match"
      ],
      "execution_count": null,
      "outputs": []
    },
    {
      "cell_type": "markdown",
      "metadata": {
        "id": "BixWo-YFzowm"
      },
      "source": [
        "### Keyword Lookup Approach"
      ]
    },
    {
      "cell_type": "code",
      "metadata": {
        "colab": {
          "base_uri": "https://localhost:8080/"
        },
        "id": "V7TT1UGp4btD",
        "outputId": "09259f49-d87a-41a4-a8d1-b2f8d1afc0d0"
      },
      "source": [
        "Company_keywords = label_keyword_dict['Company']\n",
        "EducationalInstitution_keywords = label_keyword_dict['EducationalInstitution']\n",
        "Artist_keywords = label_keyword_dict['Artist']\n",
        "Athlete_keywords = label_keyword_dict['Athlete']\n",
        "OfficeHolder_keywords = label_keyword_dict['OfficeHolder']\n",
        "MeanOfTransportation_keywords = label_keyword_dict['MeanOfTransportation']\n",
        "Building_keywords = label_keyword_dict['Building']\n",
        "NaturalPlace_keywords = label_keyword_dict['NaturalPlace']\n",
        "Village_keywords = label_keyword_dict['Village']\n",
        "Animal_keywords = label_keyword_dict['Animal']\n",
        "Plant_keywords = label_keyword_dict['Plant']\n",
        "Album_keywords = label_keyword_dict['Album']\n",
        "Film_keywords = label_keyword_dict['Film']\n",
        "WrittenWork_keywords = label_keyword_dict['WrittenWork']\n",
        "\n",
        "company_keywords"
      ],
      "execution_count": null,
      "outputs": [
        {
          "output_type": "execute_result",
          "data": {
            "text/plain": [
              "['published',\n",
              " 'book',\n",
              " 'novel',\n",
              " 'journal',\n",
              " 'series',\n",
              " 'written',\n",
              " 'story',\n",
              " 'magazine',\n",
              " 'newspaper',\n",
              " 'daily',\n",
              " 'stories',\n",
              " 'peer-reviewed',\n",
              " 'fiction',\n",
              " 'covers',\n",
              " 'comic',\n",
              " 'volume',\n",
              " 'science',\n",
              " 'fantasy',\n",
              " 'edition',\n",
              " 'writer',\n",
              " 'law',\n",
              " 'created',\n",
              " 'research',\n",
              " 'established',\n",
              " 'history',\n",
              " 'weekly',\n",
              " 'issue',\n",
              " 'travel',\n",
              " 'academic',\n",
              " 'mystery',\n",
              " 'media',\n",
              " 'author',\n",
              " 'work',\n",
              " 'god']"
            ]
          },
          "metadata": {
            "tags": []
          },
          "execution_count": 186
        }
      ]
    },
    {
      "cell_type": "code",
      "metadata": {
        "id": "SLrBCcYqzyBP"
      },
      "source": [
        "from snorkel.labeling.lf.nlp import nlp_labeling_function\n",
        "\n",
        "def keyword_lookup(x, keywords, label):\n",
        "    tokens = ''.join([token.text for token in x.doc])\n",
        "    if any(word in tokens for word in keywords):\n",
        "        return label\n",
        "    return ABSTAIN\n",
        "\n",
        "\n",
        "@nlp_labeling_function()\n",
        "def lf_company(x):\n",
        "  return keyword_lookup(x, keywords_list[0], labels_num_list[0])\n",
        "\n",
        "@nlp_labeling_function()\n",
        "def lf_educational_institution(x):\n",
        "  return keyword_lookup(x, keywords_list[1], labels_num_list[1])\n",
        "\n",
        "@nlp_labeling_function()\n",
        "def lf_artist(x):\n",
        "  return keyword_lookup(x, keywords_list[2], labels_num_list[2])\n",
        "\n",
        "@nlp_labeling_function()\n",
        "def lf_athlete(x):\n",
        "  return keyword_lookup(x, keywords_list[3], labels_num_list[3])\n",
        "\n",
        "@nlp_labeling_function()\n",
        "def lf_office_holder(x):\n",
        "  return keyword_lookup(x, keywords_list[4], labels_num_list[4])\n",
        "\n",
        "@nlp_labeling_function()\n",
        "def lf_mean_of_transportation(x):\n",
        "  return keyword_lookup(x, keywords_list[5], labels_num_list[5])\n",
        "\n",
        "@nlp_labeling_function()\n",
        "def lf_building(x):\n",
        "  return keyword_lookup(x, keywords_list[6], labels_num_list[6])\n",
        "\n",
        "@nlp_labeling_function()\n",
        "def lf_natural_place(x):\n",
        "  return keyword_lookup(x, keywords_list[7], labels_num_list[7])\n",
        "\n",
        "@nlp_labeling_function()\n",
        "def lf_village(x):\n",
        "  return keyword_lookup(x, keywords_list[8], labels_num_list[8])\n",
        "\n",
        "@nlp_labeling_function()\n",
        "def lf_animal(x):\n",
        "  return keyword_lookup(x, keywords_list[9], labels_num_list[9])\n",
        "\n",
        "@nlp_labeling_function()\n",
        "def lf_plant(x):\n",
        "  return keyword_lookup(x, keywords_list[10], labels_num_list[10])\n",
        "\n",
        "@nlp_labeling_function()\n",
        "def lf_album(x):\n",
        "  return keyword_lookup(x, keywords_list[11], labels_num_list[11])\n",
        "\n",
        "@nlp_labeling_function()\n",
        "def lf_film(x):\n",
        "  return keyword_lookup(x, keywords_list[12], labels_num_list[12])\n",
        "\n",
        "@nlp_labeling_function()\n",
        "def lf_written_work(x):\n",
        "  return keyword_lookup(x, keywords_list[13], labels_num_list[13])\n"
      ],
      "execution_count": null,
      "outputs": []
    },
    {
      "cell_type": "code",
      "metadata": {
        "id": "1NXov_M6M_s_"
      },
      "source": [
        "lfs = [\n",
        "       lf_company,\n",
        "       lf_educational_institution,\n",
        "       lf_artist,\n",
        "       lf_athlete,\n",
        "       lf_office_holder,\n",
        "       lf_mean_of_transportation,\n",
        "       lf_building,\n",
        "       lf_natural_place,\n",
        "       lf_village,\n",
        "       lf_animal,\n",
        "       lf_plant,\n",
        "       lf_album,\n",
        "       lf_film,\n",
        "       lf_written_work\n",
        "]"
      ],
      "execution_count": null,
      "outputs": []
    },
    {
      "cell_type": "markdown",
      "metadata": {
        "id": "9zd2UWvkzqu0"
      },
      "source": [
        "## Applying Snorkel Labeling Functions"
      ]
    },
    {
      "cell_type": "code",
      "metadata": {
        "colab": {
          "base_uri": "https://localhost:8080/",
          "height": 511
        },
        "id": "zdCN89b-HiuE",
        "outputId": "be6eefe7-c07a-42c6-fae6-082a7405ea6d"
      },
      "source": [
        "# company_dataset = dbpedia_train_df.iloc[0:1000]\n",
        "# company_dataset\n",
        "\n",
        "df_small_train_dbpedia = dbpedia_train_df.sample(1000, random_state=42).reset_index(drop=True)\n",
        "df_small_test_dbpedia = dbpedia_test_df.sample(1000, random_state=42).reset_index(drop=True)\n",
        "df_small_train_dbpedia"
      ],
      "execution_count": null,
      "outputs": [
        {
          "output_type": "execute_result",
          "data": {
            "text/html": [
              "<div>\n",
              "<style scoped>\n",
              "    .dataframe tbody tr th:only-of-type {\n",
              "        vertical-align: middle;\n",
              "    }\n",
              "\n",
              "    .dataframe tbody tr th {\n",
              "        vertical-align: top;\n",
              "    }\n",
              "\n",
              "    .dataframe thead th {\n",
              "        text-align: right;\n",
              "    }\n",
              "</style>\n",
              "<table border=\"1\" class=\"dataframe\">\n",
              "  <thead>\n",
              "    <tr style=\"text-align: right;\">\n",
              "      <th></th>\n",
              "      <th>labels</th>\n",
              "      <th>text</th>\n",
              "    </tr>\n",
              "  </thead>\n",
              "  <tbody>\n",
              "    <tr>\n",
              "      <th>0</th>\n",
              "      <td>0</td>\n",
              "      <td>sterling piano company  the sterling piano company was a piano manufacturer in derby connecticut. the company was founded in 1873 by charles a. sterling as the sterling organ company. sterling had purchased the birmingham organ company in 1871 and had $30000 to fund the company. the sterling organ company began making pianos in 1885.</td>\n",
              "    </tr>\n",
              "    <tr>\n",
              "      <th>1</th>\n",
              "      <td>5</td>\n",
              "      <td>nyc s-motor  s-motor was the class designation given by the new york central to its alco-ge built s-1 s-2 s-2a and s-3 electric locomotives. the s-motors hold the distinction of being the world's first mass-produced main line electric locomotives with the prototype #6000 being constructed in 1904. the s-motors would serve alone until the more powerful t-motors began to arrive in 1913 eventually displacing them from main line passenger duties.</td>\n",
              "    </tr>\n",
              "    <tr>\n",
              "      <th>2</th>\n",
              "      <td>2</td>\n",
              "      <td>axel zwingenberger  axel zwingenberger (born may 7 1955 hamburg germany) is a blues and boogie-woogie pianist and songwriter. he is considered one of the finest boogie-woogie music masters in the world.</td>\n",
              "    </tr>\n",
              "    <tr>\n",
              "      <th>3</th>\n",
              "      <td>9</td>\n",
              "      <td>sceptrophasma hispidulum  sceptrophasma hispidulum commonly known as the andaman islands stick insect is a species of the stick insect family. it originates from the andaman islands and is commonly found in tropical forests there. they eat a variety of foliage though in captivity they commonly eat blackberry bramble hawthorn oak rose and lettuce. the species has the phasmid study group number psg183.</td>\n",
              "    </tr>\n",
              "    <tr>\n",
              "      <th>4</th>\n",
              "      <td>7</td>\n",
              "      <td>nucet river (chiojdeanca)  the nucet river is a tributary of the chiojdeanca river in romania.</td>\n",
              "    </tr>\n",
              "    <tr>\n",
              "      <th>...</th>\n",
              "      <td>...</td>\n",
              "      <td>...</td>\n",
              "    </tr>\n",
              "    <tr>\n",
              "      <th>995</th>\n",
              "      <td>2</td>\n",
              "      <td>pat arrowsmith  pat arrowsmith (born march 2 1930) is a british author and peace campaigner.arrowsmith was educated at cheltenham ladies college read history at the university of cambridge and then read social science at the university of liverpool and at ohio university as a us-uk fulbright scholar. she is a co-founder of the campaign for nuclear disarmament.she has served eleven prison sentences for her political activities.</td>\n",
              "    </tr>\n",
              "    <tr>\n",
              "      <th>996</th>\n",
              "      <td>10</td>\n",
              "      <td>cleistanthus  cleistanthus is a plant genus of the family phyllanthaceae. the genus comprises 140 species found from africa to the pacific islands. cleistanthus collinus is known for being toxic and frequently used for homicidal or suicidal purposes.</td>\n",
              "    </tr>\n",
              "    <tr>\n",
              "      <th>997</th>\n",
              "      <td>13</td>\n",
              "      <td>kyunghyang shinmun  the kyunghyang shinmun or kyonghyang sinmun is a major daily newspaper published in south korea. it is based in seoul. the name literally means urbi et orbi daily news.</td>\n",
              "    </tr>\n",
              "    <tr>\n",
              "      <th>998</th>\n",
              "      <td>10</td>\n",
              "      <td>cyathea atropurpurea  cyathea atropurpurea is a species of tree fern native to the islands of luzon mindanao leyte and mindanao in the philippines where it grows in forest at above 1000 m. the erect trunk is slender and may be up to 3 m tall. fronds are bipinnate and 1-2 m long. characteristically of this species the final pair of pinnae are usually reduced and occur towards the base of the stipe. these along with the stipe bases are persistent and retained around the trunk long after withering.</td>\n",
              "    </tr>\n",
              "    <tr>\n",
              "      <th>999</th>\n",
              "      <td>2</td>\n",
              "      <td>sara martins  sara martins (born 19 august 1977 in faro portugal) is a french-portuguese actress.she is known in france for her roles on television and in film and theatre. in 2011 she appeared as detective sergeant camille bordey alongside ben miller in the first and second series and kris marshall in the third series in the joint british-french crime comedy-drama death in paradise which is filmed in guadeloupe a french overseas department.</td>\n",
              "    </tr>\n",
              "  </tbody>\n",
              "</table>\n",
              "<p>1000 rows × 2 columns</p>\n",
              "</div>"
            ],
            "text/plain": [
              "     labels                                                                                                                                                                                                                                                                                                                                                                                                                                                                                                                  text\n",
              "0         0                                                                                                                                                                       sterling piano company  the sterling piano company was a piano manufacturer in derby connecticut. the company was founded in 1873 by charles a. sterling as the sterling organ company. sterling had purchased the birmingham organ company in 1871 and had $30000 to fund the company. the sterling organ company began making pianos in 1885.\n",
              "1         5                                                        nyc s-motor  s-motor was the class designation given by the new york central to its alco-ge built s-1 s-2 s-2a and s-3 electric locomotives. the s-motors hold the distinction of being the world's first mass-produced main line electric locomotives with the prototype #6000 being constructed in 1904. the s-motors would serve alone until the more powerful t-motors began to arrive in 1913 eventually displacing them from main line passenger duties.\n",
              "2         2                                                                                                                                                                                                                                                                                                            axel zwingenberger  axel zwingenberger (born may 7 1955 hamburg germany) is a blues and boogie-woogie pianist and songwriter. he is considered one of the finest boogie-woogie music masters in the world.\n",
              "3         9                                                                                                   sceptrophasma hispidulum  sceptrophasma hispidulum commonly known as the andaman islands stick insect is a species of the stick insect family. it originates from the andaman islands and is commonly found in tropical forests there. they eat a variety of foliage though in captivity they commonly eat blackberry bramble hawthorn oak rose and lettuce. the species has the phasmid study group number psg183.\n",
              "4         7                                                                                                                                                                                                                                                                                                                                                                                                                        nucet river (chiojdeanca)  the nucet river is a tributary of the chiojdeanca river in romania.\n",
              "..      ...                                                                                                                                                                                                                                                                                                                                                                                                                                                                                                                   ...\n",
              "995       2                                                                        pat arrowsmith  pat arrowsmith (born march 2 1930) is a british author and peace campaigner.arrowsmith was educated at cheltenham ladies college read history at the university of cambridge and then read social science at the university of liverpool and at ohio university as a us-uk fulbright scholar. she is a co-founder of the campaign for nuclear disarmament.she has served eleven prison sentences for her political activities.\n",
              "996      10                                                                                                                                                                                                                                                            cleistanthus  cleistanthus is a plant genus of the family phyllanthaceae. the genus comprises 140 species found from africa to the pacific islands. cleistanthus collinus is known for being toxic and frequently used for homicidal or suicidal purposes.\n",
              "997      13                                                                                                                                                                                                                                                                                                                          kyunghyang shinmun  the kyunghyang shinmun or kyonghyang sinmun is a major daily newspaper published in south korea. it is based in seoul. the name literally means urbi et orbi daily news.\n",
              "998      10  cyathea atropurpurea  cyathea atropurpurea is a species of tree fern native to the islands of luzon mindanao leyte and mindanao in the philippines where it grows in forest at above 1000 m. the erect trunk is slender and may be up to 3 m tall. fronds are bipinnate and 1-2 m long. characteristically of this species the final pair of pinnae are usually reduced and occur towards the base of the stipe. these along with the stipe bases are persistent and retained around the trunk long after withering.\n",
              "999       2                                                         sara martins  sara martins (born 19 august 1977 in faro portugal) is a french-portuguese actress.she is known in france for her roles on television and in film and theatre. in 2011 she appeared as detective sergeant camille bordey alongside ben miller in the first and second series and kris marshall in the third series in the joint british-french crime comedy-drama death in paradise which is filmed in guadeloupe a french overseas department.\n",
              "\n",
              "[1000 rows x 2 columns]"
            ]
          },
          "metadata": {
            "tags": []
          },
          "execution_count": 268
        }
      ]
    },
    {
      "cell_type": "code",
      "metadata": {
        "colab": {
          "base_uri": "https://localhost:8080/"
        },
        "id": "99U9RXPrqY2F",
        "outputId": "556b8d6e-4131-4a0d-c4b3-6004cd3b5322"
      },
      "source": [
        "from snorkel.labeling import PandasLFApplier\n",
        "applier = PandasLFApplier(lfs=lfs)\n",
        "L_train = applier.apply(df=df_small_train_dbpedia)\n",
        "L_test = applier.apply(df=df_small_test_dbpedia)"
      ],
      "execution_count": null,
      "outputs": [
        {
          "output_type": "stream",
          "text": [
            "/usr/local/lib/python3.7/dist-packages/tqdm/std.py:658: FutureWarning: The Panel class is removed from pandas. Accessing it from the top-level namespace will also be removed in the next version\n",
            "  from pandas import Panel\n",
            "\n",
            "\n",
            "\n",
            "\n",
            "\n",
            "\n",
            "\n",
            "\n",
            "\n",
            "\n",
            "\n",
            "  0%|          | 0/1000 [00:00<?, ?it/s]\u001b[A\u001b[A\u001b[A\u001b[A\u001b[A\u001b[A\u001b[A\u001b[A\u001b[A\u001b[A\u001b[A\n",
            "\n",
            "\n",
            "\n",
            "\n",
            "\n",
            "\n",
            "\n",
            "\n",
            "\n",
            "\n",
            " 13%|█▎        | 127/1000 [00:00<00:00, 1262.55it/s]\u001b[A\u001b[A\u001b[A\u001b[A\u001b[A\u001b[A\u001b[A\u001b[A\u001b[A\u001b[A\u001b[A\n",
            "\n",
            "\n",
            "\n",
            "\n",
            "\n",
            "\n",
            "\n",
            "\n",
            "\n",
            "\n",
            " 24%|██▍       | 244/1000 [00:00<00:00, 1231.66it/s]\u001b[A\u001b[A\u001b[A\u001b[A\u001b[A\u001b[A\u001b[A\u001b[A\u001b[A\u001b[A\u001b[A\n",
            "\n",
            "\n",
            "\n",
            "\n",
            "\n",
            "\n",
            "\n",
            "\n",
            "\n",
            "\n",
            " 36%|███▌      | 357/1000 [00:00<00:00, 1198.25it/s]\u001b[A\u001b[A\u001b[A\u001b[A\u001b[A\u001b[A\u001b[A\u001b[A\u001b[A\u001b[A\u001b[A\n",
            "\n",
            "\n",
            "\n",
            "\n",
            "\n",
            "\n",
            "\n",
            "\n",
            "\n",
            "\n",
            " 47%|████▋     | 469/1000 [00:00<00:00, 1171.31it/s]\u001b[A\u001b[A\u001b[A\u001b[A\u001b[A\u001b[A\u001b[A\u001b[A\u001b[A\u001b[A\u001b[A\n",
            "\n",
            "\n",
            "\n",
            "\n",
            "\n",
            "\n",
            "\n",
            "\n",
            "\n",
            "\n",
            " 58%|█████▊    | 579/1000 [00:00<00:00, 1144.46it/s]\u001b[A\u001b[A\u001b[A\u001b[A\u001b[A\u001b[A\u001b[A\u001b[A\u001b[A\u001b[A\u001b[A\n",
            "\n",
            "\n",
            "\n",
            "\n",
            "\n",
            "\n",
            "\n",
            "\n",
            "\n",
            "\n",
            " 69%|██████▉   | 691/1000 [00:00<00:00, 1136.42it/s]\u001b[A\u001b[A\u001b[A\u001b[A\u001b[A\u001b[A\u001b[A\u001b[A\u001b[A\u001b[A\u001b[A\n",
            "\n",
            "\n",
            "\n",
            "\n",
            "\n",
            "\n",
            "\n",
            "\n",
            "\n",
            "\n",
            " 80%|████████  | 803/1000 [00:00<00:00, 1129.33it/s]\u001b[A\u001b[A\u001b[A\u001b[A\u001b[A\u001b[A\u001b[A\u001b[A\u001b[A\u001b[A\u001b[A\n",
            "\n",
            "\n",
            "\n",
            "\n",
            "\n",
            "\n",
            "\n",
            "\n",
            "\n",
            "\n",
            "100%|██████████| 1000/1000 [00:00<00:00, 1145.39it/s]\n",
            "\n",
            "\n",
            "\n",
            "\n",
            "\n",
            "\n",
            "\n",
            "\n",
            "\n",
            "\n",
            "\n",
            "  0%|          | 0/1000 [00:00<?, ?it/s]\u001b[A\u001b[A\u001b[A\u001b[A\u001b[A\u001b[A\u001b[A\u001b[A\u001b[A\u001b[A\u001b[A\n",
            "\n",
            "\n",
            "\n",
            "\n",
            "\n",
            "\n",
            "\n",
            "\n",
            "\n",
            "\n",
            " 12%|█▏        | 122/1000 [00:00<00:00, 1208.05it/s]\u001b[A\u001b[A\u001b[A\u001b[A\u001b[A\u001b[A\u001b[A\u001b[A\u001b[A\u001b[A\u001b[A\n",
            "\n",
            "\n",
            "\n",
            "\n",
            "\n",
            "\n",
            "\n",
            "\n",
            "\n",
            "\n",
            " 24%|██▎       | 237/1000 [00:00<00:00, 1184.98it/s]\u001b[A\u001b[A\u001b[A\u001b[A\u001b[A\u001b[A\u001b[A\u001b[A\u001b[A\u001b[A\u001b[A\n",
            "\n",
            "\n",
            "\n",
            "\n",
            "\n",
            "\n",
            "\n",
            "\n",
            "\n",
            "\n",
            " 36%|███▌      | 358/1000 [00:00<00:00, 1189.05it/s]\u001b[A\u001b[A\u001b[A\u001b[A\u001b[A\u001b[A\u001b[A\u001b[A\u001b[A\u001b[A\u001b[A\n",
            "\n",
            "\n",
            "\n",
            "\n",
            "\n",
            "\n",
            "\n",
            "\n",
            "\n",
            "\n",
            " 48%|████▊     | 476/1000 [00:00<00:00, 1185.94it/s]\u001b[A\u001b[A\u001b[A\u001b[A\u001b[A\u001b[A\u001b[A\u001b[A\u001b[A\u001b[A\u001b[A\n",
            "\n",
            "\n",
            "\n",
            "\n",
            "\n",
            "\n",
            "\n",
            "\n",
            "\n",
            "\n",
            " 59%|█████▊    | 587/1000 [00:00<00:00, 1161.28it/s]\u001b[A\u001b[A\u001b[A\u001b[A\u001b[A\u001b[A\u001b[A\u001b[A\u001b[A\u001b[A\u001b[A\n",
            "\n",
            "\n",
            "\n",
            "\n",
            "\n",
            "\n",
            "\n",
            "\n",
            "\n",
            "\n",
            " 70%|██████▉   | 696/1000 [00:00<00:00, 1137.04it/s]\u001b[A\u001b[A\u001b[A\u001b[A\u001b[A\u001b[A\u001b[A\u001b[A\u001b[A\u001b[A\u001b[A\n",
            "\n",
            "\n",
            "\n",
            "\n",
            "\n",
            "\n",
            "\n",
            "\n",
            "\n",
            "\n",
            " 82%|████████▏ | 815/1000 [00:00<00:00, 1151.33it/s]\u001b[A\u001b[A\u001b[A\u001b[A\u001b[A\u001b[A\u001b[A\u001b[A\u001b[A\u001b[A\u001b[A\n",
            "\n",
            "\n",
            "\n",
            "\n",
            "\n",
            "\n",
            "\n",
            "\n",
            "\n",
            "\n",
            "100%|██████████| 1000/1000 [00:00<00:00, 1148.78it/s]\n"
          ],
          "name": "stderr"
        }
      ]
    },
    {
      "cell_type": "code",
      "metadata": {
        "colab": {
          "base_uri": "https://localhost:8080/"
        },
        "id": "IVXZwyON0SV-",
        "outputId": "98eb9678-7310-4cf3-dfa5-e39d639d6d81"
      },
      "source": [
        "L_train"
      ],
      "execution_count": null,
      "outputs": [
        {
          "output_type": "execute_result",
          "data": {
            "text/plain": [
              "array([[ 0,  1, -1, ..., -1, -1, -1],\n",
              "       [-1, -1, -1, ..., 11, 12, 13],\n",
              "       [-1, -1,  2, ..., 11, 12, 13],\n",
              "       ...,\n",
              "       [ 0, -1, -1, ..., -1, 12, 13],\n",
              "       [-1, -1, -1, ..., 11, -1, -1],\n",
              "       [-1, -1,  2, ..., 11, 12, 13]])"
            ]
          },
          "metadata": {
            "tags": []
          },
          "execution_count": 270
        }
      ]
    },
    {
      "cell_type": "code",
      "metadata": {
        "colab": {
          "base_uri": "https://localhost:8080/"
        },
        "id": "Pnnr-f3d0uMp",
        "outputId": "721d42dd-2342-4d7b-b28c-dd2bdb8e9bb5"
      },
      "source": [
        "type(L_train)"
      ],
      "execution_count": null,
      "outputs": [
        {
          "output_type": "execute_result",
          "data": {
            "text/plain": [
              "numpy.ndarray"
            ]
          },
          "metadata": {
            "tags": []
          },
          "execution_count": 271
        }
      ]
    },
    {
      "cell_type": "code",
      "metadata": {
        "colab": {
          "base_uri": "https://localhost:8080/"
        },
        "id": "zyPkQbdR01yH",
        "outputId": "c77a8a29-7242-42ef-9a24-956a0e2a530e"
      },
      "source": [
        "import pickle\n",
        "\n",
        "with open('L_train_1k_keyword_lookup.pkl','wb') as f:\n",
        "  pickle.dump(L_train, f)\n",
        "with open('L_train_1k_keyword_lookup.pkl','rb') as f:\n",
        "  L_train = pickle.load(f)\n",
        "  print(x.shape)"
      ],
      "execution_count": null,
      "outputs": [
        {
          "output_type": "stream",
          "text": [
            "(1000, 14)\n"
          ],
          "name": "stdout"
        }
      ]
    },
    {
      "cell_type": "code",
      "metadata": {
        "colab": {
          "base_uri": "https://localhost:8080/"
        },
        "id": "qpd-THnp4zlo",
        "outputId": "3f2b6312-4438-400e-9347-641da62000c9"
      },
      "source": [
        "with open('L_test_1k_keyword_lookup.pkl','wb') as f:\n",
        "  pickle.dump(L_test, f)\n",
        "with open('L_test_1k_keyword_lookup.pkl','rb') as f:\n",
        "  L_test = pickle.load(f)\n",
        "  print(x.shape)"
      ],
      "execution_count": null,
      "outputs": [
        {
          "output_type": "stream",
          "text": [
            "(1000, 14)\n"
          ],
          "name": "stdout"
        }
      ]
    },
    {
      "cell_type": "code",
      "metadata": {
        "colab": {
          "base_uri": "https://localhost:8080/",
          "height": 489
        },
        "id": "PjDzSRf9qY45",
        "outputId": "45420b39-4246-4801-93b0-f195f21523a2"
      },
      "source": [
        "from snorkel.labeling import LFAnalysis\n",
        "LFAnalysis(L=L_train, lfs=lfs).lf_summary()"
      ],
      "execution_count": null,
      "outputs": [
        {
          "output_type": "execute_result",
          "data": {
            "text/html": [
              "<div>\n",
              "<style scoped>\n",
              "    .dataframe tbody tr th:only-of-type {\n",
              "        vertical-align: middle;\n",
              "    }\n",
              "\n",
              "    .dataframe tbody tr th {\n",
              "        vertical-align: top;\n",
              "    }\n",
              "\n",
              "    .dataframe thead th {\n",
              "        text-align: right;\n",
              "    }\n",
              "</style>\n",
              "<table border=\"1\" class=\"dataframe\">\n",
              "  <thead>\n",
              "    <tr style=\"text-align: right;\">\n",
              "      <th></th>\n",
              "      <th>j</th>\n",
              "      <th>Polarity</th>\n",
              "      <th>Coverage</th>\n",
              "      <th>Overlaps</th>\n",
              "      <th>Conflicts</th>\n",
              "    </tr>\n",
              "  </thead>\n",
              "  <tbody>\n",
              "    <tr>\n",
              "      <th>lf_company</th>\n",
              "      <td>0</td>\n",
              "      <td>[0]</td>\n",
              "      <td>0.286</td>\n",
              "      <td>0.286</td>\n",
              "      <td>0.286</td>\n",
              "    </tr>\n",
              "    <tr>\n",
              "      <th>lf_educational_institution</th>\n",
              "      <td>1</td>\n",
              "      <td>[1]</td>\n",
              "      <td>0.472</td>\n",
              "      <td>0.472</td>\n",
              "      <td>0.472</td>\n",
              "    </tr>\n",
              "    <tr>\n",
              "      <th>lf_artist</th>\n",
              "      <td>2</td>\n",
              "      <td>[2]</td>\n",
              "      <td>0.614</td>\n",
              "      <td>0.614</td>\n",
              "      <td>0.614</td>\n",
              "    </tr>\n",
              "    <tr>\n",
              "      <th>lf_athlete</th>\n",
              "      <td>3</td>\n",
              "      <td>[3]</td>\n",
              "      <td>0.530</td>\n",
              "      <td>0.530</td>\n",
              "      <td>0.530</td>\n",
              "    </tr>\n",
              "    <tr>\n",
              "      <th>lf_office_holder</th>\n",
              "      <td>4</td>\n",
              "      <td>[4]</td>\n",
              "      <td>0.499</td>\n",
              "      <td>0.499</td>\n",
              "      <td>0.499</td>\n",
              "    </tr>\n",
              "    <tr>\n",
              "      <th>lf_mean_of_transportation</th>\n",
              "      <td>5</td>\n",
              "      <td>[5]</td>\n",
              "      <td>0.642</td>\n",
              "      <td>0.642</td>\n",
              "      <td>0.642</td>\n",
              "    </tr>\n",
              "    <tr>\n",
              "      <th>lf_building</th>\n",
              "      <td>6</td>\n",
              "      <td>[6]</td>\n",
              "      <td>0.642</td>\n",
              "      <td>0.642</td>\n",
              "      <td>0.642</td>\n",
              "    </tr>\n",
              "    <tr>\n",
              "      <th>lf_natural_place</th>\n",
              "      <td>7</td>\n",
              "      <td>[7]</td>\n",
              "      <td>0.992</td>\n",
              "      <td>0.987</td>\n",
              "      <td>0.987</td>\n",
              "    </tr>\n",
              "    <tr>\n",
              "      <th>lf_village</th>\n",
              "      <td>8</td>\n",
              "      <td>[8]</td>\n",
              "      <td>0.710</td>\n",
              "      <td>0.710</td>\n",
              "      <td>0.710</td>\n",
              "    </tr>\n",
              "    <tr>\n",
              "      <th>lf_animal</th>\n",
              "      <td>9</td>\n",
              "      <td>[9]</td>\n",
              "      <td>0.482</td>\n",
              "      <td>0.482</td>\n",
              "      <td>0.482</td>\n",
              "    </tr>\n",
              "    <tr>\n",
              "      <th>lf_plant</th>\n",
              "      <td>10</td>\n",
              "      <td>[10]</td>\n",
              "      <td>0.360</td>\n",
              "      <td>0.360</td>\n",
              "      <td>0.360</td>\n",
              "    </tr>\n",
              "    <tr>\n",
              "      <th>lf_album</th>\n",
              "      <td>11</td>\n",
              "      <td>[11]</td>\n",
              "      <td>0.636</td>\n",
              "      <td>0.636</td>\n",
              "      <td>0.636</td>\n",
              "    </tr>\n",
              "    <tr>\n",
              "      <th>lf_film</th>\n",
              "      <td>12</td>\n",
              "      <td>[12]</td>\n",
              "      <td>0.402</td>\n",
              "      <td>0.402</td>\n",
              "      <td>0.402</td>\n",
              "    </tr>\n",
              "    <tr>\n",
              "      <th>lf_written_work</th>\n",
              "      <td>13</td>\n",
              "      <td>[13]</td>\n",
              "      <td>0.376</td>\n",
              "      <td>0.376</td>\n",
              "      <td>0.376</td>\n",
              "    </tr>\n",
              "  </tbody>\n",
              "</table>\n",
              "</div>"
            ],
            "text/plain": [
              "                             j Polarity  Coverage  Overlaps  Conflicts\n",
              "lf_company                   0      [0]     0.286     0.286      0.286\n",
              "lf_educational_institution   1      [1]     0.472     0.472      0.472\n",
              "lf_artist                    2      [2]     0.614     0.614      0.614\n",
              "lf_athlete                   3      [3]     0.530     0.530      0.530\n",
              "lf_office_holder             4      [4]     0.499     0.499      0.499\n",
              "lf_mean_of_transportation    5      [5]     0.642     0.642      0.642\n",
              "lf_building                  6      [6]     0.642     0.642      0.642\n",
              "lf_natural_place             7      [7]     0.992     0.987      0.987\n",
              "lf_village                   8      [8]     0.710     0.710      0.710\n",
              "lf_animal                    9      [9]     0.482     0.482      0.482\n",
              "lf_plant                    10     [10]     0.360     0.360      0.360\n",
              "lf_album                    11     [11]     0.636     0.636      0.636\n",
              "lf_film                     12     [12]     0.402     0.402      0.402\n",
              "lf_written_work             13     [13]     0.376     0.376      0.376"
            ]
          },
          "metadata": {
            "tags": []
          },
          "execution_count": 274
        }
      ]
    },
    {
      "cell_type": "code",
      "metadata": {
        "id": "uiKOUUoeqY7m"
      },
      "source": [
        "from snorkel.labeling.model import LabelModel\n",
        "\n",
        "label_model = LabelModel(cardinality=14, verbose=True)\n",
        "label_model.fit(L_train=L_train, n_epochs=500, log_freq=100, seed=123)"
      ],
      "execution_count": null,
      "outputs": []
    },
    {
      "cell_type": "code",
      "metadata": {
        "colab": {
          "base_uri": "https://localhost:8080/",
          "height": 489
        },
        "id": "nWPNU9a75lz6",
        "outputId": "232d658b-b65c-4a7e-fd8d-9eafd2a3c800"
      },
      "source": [
        "Y_test = df_small_test_dbpedia.labels.values\n",
        "LFAnalysis(L_test, lfs).lf_summary(Y_test)"
      ],
      "execution_count": null,
      "outputs": [
        {
          "output_type": "execute_result",
          "data": {
            "text/html": [
              "<div>\n",
              "<style scoped>\n",
              "    .dataframe tbody tr th:only-of-type {\n",
              "        vertical-align: middle;\n",
              "    }\n",
              "\n",
              "    .dataframe tbody tr th {\n",
              "        vertical-align: top;\n",
              "    }\n",
              "\n",
              "    .dataframe thead th {\n",
              "        text-align: right;\n",
              "    }\n",
              "</style>\n",
              "<table border=\"1\" class=\"dataframe\">\n",
              "  <thead>\n",
              "    <tr style=\"text-align: right;\">\n",
              "      <th></th>\n",
              "      <th>j</th>\n",
              "      <th>Polarity</th>\n",
              "      <th>Coverage</th>\n",
              "      <th>Overlaps</th>\n",
              "      <th>Conflicts</th>\n",
              "      <th>Correct</th>\n",
              "      <th>Incorrect</th>\n",
              "      <th>Emp. Acc.</th>\n",
              "    </tr>\n",
              "  </thead>\n",
              "  <tbody>\n",
              "    <tr>\n",
              "      <th>lf_company</th>\n",
              "      <td>0</td>\n",
              "      <td>[0]</td>\n",
              "      <td>0.262</td>\n",
              "      <td>0.262</td>\n",
              "      <td>0.262</td>\n",
              "      <td>59</td>\n",
              "      <td>203</td>\n",
              "      <td>0.225191</td>\n",
              "    </tr>\n",
              "    <tr>\n",
              "      <th>lf_educational_institution</th>\n",
              "      <td>1</td>\n",
              "      <td>[1]</td>\n",
              "      <td>0.457</td>\n",
              "      <td>0.457</td>\n",
              "      <td>0.457</td>\n",
              "      <td>71</td>\n",
              "      <td>386</td>\n",
              "      <td>0.155361</td>\n",
              "    </tr>\n",
              "    <tr>\n",
              "      <th>lf_artist</th>\n",
              "      <td>2</td>\n",
              "      <td>[2]</td>\n",
              "      <td>0.579</td>\n",
              "      <td>0.579</td>\n",
              "      <td>0.579</td>\n",
              "      <td>66</td>\n",
              "      <td>513</td>\n",
              "      <td>0.113990</td>\n",
              "    </tr>\n",
              "    <tr>\n",
              "      <th>lf_athlete</th>\n",
              "      <td>3</td>\n",
              "      <td>[3]</td>\n",
              "      <td>0.483</td>\n",
              "      <td>0.483</td>\n",
              "      <td>0.483</td>\n",
              "      <td>69</td>\n",
              "      <td>414</td>\n",
              "      <td>0.142857</td>\n",
              "    </tr>\n",
              "    <tr>\n",
              "      <th>lf_office_holder</th>\n",
              "      <td>4</td>\n",
              "      <td>[4]</td>\n",
              "      <td>0.468</td>\n",
              "      <td>0.468</td>\n",
              "      <td>0.468</td>\n",
              "      <td>68</td>\n",
              "      <td>400</td>\n",
              "      <td>0.145299</td>\n",
              "    </tr>\n",
              "    <tr>\n",
              "      <th>lf_mean_of_transportation</th>\n",
              "      <td>5</td>\n",
              "      <td>[5]</td>\n",
              "      <td>0.678</td>\n",
              "      <td>0.678</td>\n",
              "      <td>0.678</td>\n",
              "      <td>75</td>\n",
              "      <td>603</td>\n",
              "      <td>0.110619</td>\n",
              "    </tr>\n",
              "    <tr>\n",
              "      <th>lf_building</th>\n",
              "      <td>6</td>\n",
              "      <td>[6]</td>\n",
              "      <td>0.643</td>\n",
              "      <td>0.643</td>\n",
              "      <td>0.643</td>\n",
              "      <td>90</td>\n",
              "      <td>553</td>\n",
              "      <td>0.139969</td>\n",
              "    </tr>\n",
              "    <tr>\n",
              "      <th>lf_natural_place</th>\n",
              "      <td>7</td>\n",
              "      <td>[7]</td>\n",
              "      <td>0.989</td>\n",
              "      <td>0.984</td>\n",
              "      <td>0.984</td>\n",
              "      <td>66</td>\n",
              "      <td>923</td>\n",
              "      <td>0.066734</td>\n",
              "    </tr>\n",
              "    <tr>\n",
              "      <th>lf_village</th>\n",
              "      <td>8</td>\n",
              "      <td>[8]</td>\n",
              "      <td>0.741</td>\n",
              "      <td>0.741</td>\n",
              "      <td>0.741</td>\n",
              "      <td>69</td>\n",
              "      <td>672</td>\n",
              "      <td>0.093117</td>\n",
              "    </tr>\n",
              "    <tr>\n",
              "      <th>lf_animal</th>\n",
              "      <td>9</td>\n",
              "      <td>[9]</td>\n",
              "      <td>0.491</td>\n",
              "      <td>0.491</td>\n",
              "      <td>0.491</td>\n",
              "      <td>70</td>\n",
              "      <td>421</td>\n",
              "      <td>0.142566</td>\n",
              "    </tr>\n",
              "    <tr>\n",
              "      <th>lf_plant</th>\n",
              "      <td>10</td>\n",
              "      <td>[10]</td>\n",
              "      <td>0.381</td>\n",
              "      <td>0.381</td>\n",
              "      <td>0.381</td>\n",
              "      <td>75</td>\n",
              "      <td>306</td>\n",
              "      <td>0.196850</td>\n",
              "    </tr>\n",
              "    <tr>\n",
              "      <th>lf_album</th>\n",
              "      <td>11</td>\n",
              "      <td>[11]</td>\n",
              "      <td>0.577</td>\n",
              "      <td>0.577</td>\n",
              "      <td>0.577</td>\n",
              "      <td>62</td>\n",
              "      <td>515</td>\n",
              "      <td>0.107452</td>\n",
              "    </tr>\n",
              "    <tr>\n",
              "      <th>lf_film</th>\n",
              "      <td>12</td>\n",
              "      <td>[12]</td>\n",
              "      <td>0.348</td>\n",
              "      <td>0.348</td>\n",
              "      <td>0.348</td>\n",
              "      <td>73</td>\n",
              "      <td>275</td>\n",
              "      <td>0.209770</td>\n",
              "    </tr>\n",
              "    <tr>\n",
              "      <th>lf_written_work</th>\n",
              "      <td>13</td>\n",
              "      <td>[13]</td>\n",
              "      <td>0.367</td>\n",
              "      <td>0.367</td>\n",
              "      <td>0.367</td>\n",
              "      <td>76</td>\n",
              "      <td>291</td>\n",
              "      <td>0.207084</td>\n",
              "    </tr>\n",
              "  </tbody>\n",
              "</table>\n",
              "</div>"
            ],
            "text/plain": [
              "                             j Polarity  ...  Incorrect  Emp. Acc.\n",
              "lf_company                   0      [0]  ...        203   0.225191\n",
              "lf_educational_institution   1      [1]  ...        386   0.155361\n",
              "lf_artist                    2      [2]  ...        513   0.113990\n",
              "lf_athlete                   3      [3]  ...        414   0.142857\n",
              "lf_office_holder             4      [4]  ...        400   0.145299\n",
              "lf_mean_of_transportation    5      [5]  ...        603   0.110619\n",
              "lf_building                  6      [6]  ...        553   0.139969\n",
              "lf_natural_place             7      [7]  ...        923   0.066734\n",
              "lf_village                   8      [8]  ...        672   0.093117\n",
              "lf_animal                    9      [9]  ...        421   0.142566\n",
              "lf_plant                    10     [10]  ...        306   0.196850\n",
              "lf_album                    11     [11]  ...        515   0.107452\n",
              "lf_film                     12     [12]  ...        275   0.209770\n",
              "lf_written_work             13     [13]  ...        291   0.207084\n",
              "\n",
              "[14 rows x 8 columns]"
            ]
          },
          "metadata": {
            "tags": []
          },
          "execution_count": 276
        }
      ]
    },
    {
      "cell_type": "code",
      "metadata": {
        "colab": {
          "base_uri": "https://localhost:8080/"
        },
        "id": "MMBATpOsqY-Q",
        "outputId": "06bc02a8-c80b-4b52-f95a-c0fa90553c7d"
      },
      "source": [
        "label_acc = label_model.score(L=L_test, Y=Y_test, tie_break_policy=\"random\")[\n",
        "    \"accuracy\"\n",
        "]\n",
        "print(f\"{'Majority Vote Accuracy:':<25} {label_acc * 100:.1f}%\")\n",
        "\n",
        "label_model_acc = label_model.score(L=L_test, Y=Y_test, tie_break_policy=\"random\")[\n",
        "    \"accuracy\"\n",
        "]\n",
        "print(f\"{'Label Model Accuracy:':<25} {label_model_acc * 100:.1f}%\")"
      ],
      "execution_count": null,
      "outputs": [
        {
          "output_type": "stream",
          "text": [
            "Majority Vote Accuracy:   13.8%\n",
            "Label Model Accuracy:     13.8%\n"
          ],
          "name": "stdout"
        }
      ]
    },
    {
      "cell_type": "markdown",
      "metadata": {
        "id": "MFjVytV-tQu-"
      },
      "source": [
        "## Filtering out unlabeled data points\n",
        "\n",
        "As we saw earlier, some of the data points in our train set received no labels from any of our LFs. These data points convey no supervision signal and tend to hurt performance, so we filter them out before training using a built-in utility."
      ]
    },
    {
      "cell_type": "code",
      "metadata": {
        "colab": {
          "base_uri": "https://localhost:8080/"
        },
        "id": "rtbxJaKR8qp3",
        "outputId": "66400d66-02e5-4958-a127-ec47f7b7bfe6"
      },
      "source": [
        "probs_train = label_model.predict_proba(L_train)\n",
        "probs_train"
      ],
      "execution_count": null,
      "outputs": [
        {
          "output_type": "execute_result",
          "data": {
            "text/plain": [
              "array([[4.52733310e-01, 1.09449255e-01, 1.76981234e-02, ...,\n",
              "        3.46087310e-02, 1.17073017e-01, 9.79146147e-02],\n",
              "       [1.28138792e-01, 3.94428720e-04, 1.00144036e-01, ...,\n",
              "        2.54975012e-01, 4.19615135e-03, 3.61581578e-02],\n",
              "       [7.96311597e-05, 6.82134611e-04, 4.13196281e-01, ...,\n",
              "        4.85173945e-02, 3.89070362e-02, 3.33404765e-03],\n",
              "       ...,\n",
              "       [3.72906810e-01, 1.20257606e-01, 8.46017360e-03, ...,\n",
              "        2.23398397e-02, 1.26739285e-01, 3.08053323e-01],\n",
              "       [1.12634277e-03, 7.68121763e-07, 9.87970092e-05, ...,\n",
              "        4.62459227e-06, 9.52367601e-09, 2.59774852e-05],\n",
              "       [1.78858109e-04, 2.17281014e-03, 4.57318604e-01, ...,\n",
              "        2.46892531e-02, 7.90342664e-02, 2.46838993e-02]])"
            ]
          },
          "metadata": {
            "tags": []
          },
          "execution_count": 114
        }
      ]
    },
    {
      "cell_type": "code",
      "metadata": {
        "id": "g-VAn24jqZA8"
      },
      "source": [
        "from snorkel.labeling import filter_unlabeled_dataframe\n",
        "\n",
        "df_train_filtered, probs_train_filtered = filter_unlabeled_dataframe(\n",
        "    X=df_small_train_dbpedia, y=probs_train, L=L_train\n",
        ")"
      ],
      "execution_count": null,
      "outputs": []
    },
    {
      "cell_type": "code",
      "metadata": {
        "id": "jGJD6GZ9DP4v"
      },
      "source": [
        "df_small_train_dbpedia['labels'] = label_model.predict(L_train)"
      ],
      "execution_count": null,
      "outputs": []
    },
    {
      "cell_type": "code",
      "metadata": {
        "id": "dIDG5MEJUGRi"
      },
      "source": [
        "df_small_train_dbpedia.to_csv('./df_small_train_dbpedia.csv')"
      ],
      "execution_count": null,
      "outputs": []
    },
    {
      "cell_type": "code",
      "metadata": {
        "colab": {
          "base_uri": "https://localhost:8080/"
        },
        "id": "YrKWKXTZ98XL",
        "outputId": "5ed79418-0794-40be-b140-5c219e94884c"
      },
      "source": [
        "!pip install transformers==4.5.1 --quiet\n",
        "!pip install pytorch_lightning==1.2.10 --quiet\n",
        "!pip install wandb --quiet"
      ],
      "execution_count": null,
      "outputs": [
        {
          "output_type": "stream",
          "text": [
            "\u001b[K     |████████████████████████████████| 2.1MB 10.0MB/s \n",
            "\u001b[K     |████████████████████████████████| 901kB 59.0MB/s \n",
            "\u001b[K     |████████████████████████████████| 3.3MB 48.1MB/s \n",
            "\u001b[K     |████████████████████████████████| 849kB 11.2MB/s \n",
            "\u001b[K     |████████████████████████████████| 184kB 52.5MB/s \n",
            "\u001b[K     |████████████████████████████████| 276kB 43.5MB/s \n",
            "\u001b[K     |████████████████████████████████| 10.6MB 21.6MB/s \n",
            "\u001b[K     |████████████████████████████████| 829kB 72.4MB/s \n",
            "\u001b[K     |████████████████████████████████| 1.3MB 57.9MB/s \n",
            "\u001b[K     |████████████████████████████████| 296kB 62.0MB/s \n",
            "\u001b[K     |████████████████████████████████| 143kB 62.7MB/s \n",
            "\u001b[?25h  Building wheel for PyYAML (setup.py) ... \u001b[?25l\u001b[?25hdone\n",
            "  Building wheel for future (setup.py) ... \u001b[?25l\u001b[?25hdone\n",
            "\u001b[31mERROR: snorkel 0.9.7 has requirement tensorboard<2.0.0,>=1.14.0, but you'll have tensorboard 2.4.1 which is incompatible.\u001b[0m\n",
            "\u001b[K     |████████████████████████████████| 1.8MB 11.7MB/s \n",
            "\u001b[K     |████████████████████████████████| 102kB 8.1MB/s \n",
            "\u001b[K     |████████████████████████████████| 133kB 60.2MB/s \n",
            "\u001b[K     |████████████████████████████████| 163kB 43.8MB/s \n",
            "\u001b[K     |████████████████████████████████| 71kB 5.0MB/s \n",
            "\u001b[?25h  Building wheel for subprocess32 (setup.py) ... \u001b[?25l\u001b[?25hdone\n",
            "  Building wheel for pathtools (setup.py) ... \u001b[?25l\u001b[?25hdone\n"
          ],
          "name": "stdout"
        }
      ]
    },
    {
      "cell_type": "code",
      "metadata": {
        "id": "ukzCGlhk98Zt"
      },
      "source": [
        "import pandas as pd\n",
        "import numpy as np\n",
        "import torch\n",
        "import torch.nn as nn\n",
        "from torch.utils.data import Dataset, DataLoader\n",
        "from transformers import BertModel, AdamW, get_linear_schedule_with_warmup, AutoModelForSequenceClassification, AutoTokenizer\n",
        "from sklearn.model_selection import train_test_split\n",
        "from sklearn.metrics import f1_score\n",
        "import pytorch_lightning as pl\n",
        "from pytorch_lightning.metrics.functional.classification import auroc\n",
        "from datasets import load_dataset\n",
        "\n",
        "import seaborn as sns\n",
        "from pylab import rcParams\n",
        "import matplotlib.pyplot as plt\n",
        "\n",
        "from tqdm import tqdm\n",
        "import wandb"
      ],
      "execution_count": null,
      "outputs": []
    },
    {
      "cell_type": "code",
      "metadata": {
        "colab": {
          "base_uri": "https://localhost:8080/"
        },
        "id": "DMHoQuUf98cU",
        "outputId": "f66aede8-4396-47ce-bf3e-4f6f05e40293"
      },
      "source": [
        "%matplotlib inline\n",
        "%config InlineBackend.figure_format = 'retina'\n",
        "\n",
        "RANDOM_SEED = 42\n",
        "BASE_MODEL_NAME = 'bert-base-cased'\n",
        "\n",
        "np.random.seed(RANDOM_SEED)\n",
        "torch.manual_seed(RANDOM_SEED)"
      ],
      "execution_count": null,
      "outputs": [
        {
          "output_type": "execute_result",
          "data": {
            "text/plain": [
              "<torch._C.Generator at 0x7f48d36d2730>"
            ]
          },
          "metadata": {
            "tags": []
          },
          "execution_count": 119
        }
      ]
    },
    {
      "cell_type": "code",
      "metadata": {
        "colab": {
          "base_uri": "https://localhost:8080/",
          "height": 108
        },
        "id": "vlI7b_AB98fA",
        "outputId": "b080376a-b8fa-4eac-b856-935ff1b85a68"
      },
      "source": [
        "wandb.login()"
      ],
      "execution_count": null,
      "outputs": [
        {
          "output_type": "display_data",
          "data": {
            "application/javascript": [
              "\n",
              "        window._wandbApiKey = new Promise((resolve, reject) => {\n",
              "            function loadScript(url) {\n",
              "            return new Promise(function(resolve, reject) {\n",
              "                let newScript = document.createElement(\"script\");\n",
              "                newScript.onerror = reject;\n",
              "                newScript.onload = resolve;\n",
              "                document.body.appendChild(newScript);\n",
              "                newScript.src = url;\n",
              "            });\n",
              "            }\n",
              "            loadScript(\"https://cdn.jsdelivr.net/npm/postmate/build/postmate.min.js\").then(() => {\n",
              "            const iframe = document.createElement('iframe')\n",
              "            iframe.style.cssText = \"width:0;height:0;border:none\"\n",
              "            document.body.appendChild(iframe)\n",
              "            const handshake = new Postmate({\n",
              "                container: iframe,\n",
              "                url: 'https://wandb.ai/authorize'\n",
              "            });\n",
              "            const timeout = setTimeout(() => reject(\"Couldn't auto authenticate\"), 5000)\n",
              "            handshake.then(function(child) {\n",
              "                child.on('authorize', data => {\n",
              "                    clearTimeout(timeout)\n",
              "                    resolve(data)\n",
              "                });\n",
              "            });\n",
              "            })\n",
              "        });\n",
              "    "
            ],
            "text/plain": [
              "<IPython.core.display.Javascript object>"
            ]
          },
          "metadata": {
            "tags": []
          }
        },
        {
          "output_type": "stream",
          "text": [
            "\u001b[34m\u001b[1mwandb\u001b[0m: You can find your API key in your browser here: https://wandb.ai/authorize\n"
          ],
          "name": "stderr"
        },
        {
          "output_type": "stream",
          "text": [
            "wandb: Paste an API key from your profile and hit enter: ··········\n"
          ],
          "name": "stdout"
        },
        {
          "output_type": "stream",
          "text": [
            "\u001b[34m\u001b[1mwandb\u001b[0m: Appending key for api.wandb.ai to your netrc file: /root/.netrc\n"
          ],
          "name": "stderr"
        },
        {
          "output_type": "execute_result",
          "data": {
            "text/plain": [
              "True"
            ]
          },
          "metadata": {
            "tags": []
          },
          "execution_count": 120
        }
      ]
    },
    {
      "cell_type": "code",
      "metadata": {
        "colab": {
          "base_uri": "https://localhost:8080/"
        },
        "id": "BSGQ0DSt-OB3",
        "outputId": "556e548f-deb6-44be-de2c-1429ccb14e7e"
      },
      "source": [
        "%env WANDB_LOG_MODEL=true"
      ],
      "execution_count": null,
      "outputs": [
        {
          "output_type": "stream",
          "text": [
            "env: WANDB_LOG_MODEL=true\n"
          ],
          "name": "stdout"
        }
      ]
    },
    {
      "cell_type": "code",
      "metadata": {
        "colab": {
          "base_uri": "https://localhost:8080/",
          "height": 218,
          "referenced_widgets": [
            "65b54c3b7b49458bb6bdf22fc0ec62b9",
            "fc8b95d4fae94dc68ab78ae2ba920003",
            "3187071a24cb4c55b94995f42eaf625e",
            "648a5521307d4433a3d7e88f32ee97c6",
            "ba84013a20f74953943644012e9e744a",
            "4cf4dd68963c41afb085c7695efeecad",
            "142fcf53f9024d37bec4232819f8a2dd",
            "c46f3a93cd2c4f72a3d5234c89711ffe",
            "412dbc9022b64038976c518c6734bd99",
            "67b50b49bb404c6ca08121de051f367c",
            "43d990d992e94bbea05ed40930efe351",
            "abc10831b5254cc283ccb9a21f8f9be0",
            "0b93ebf666c34949ae7e04898b7af848",
            "51fba0325af54cd28e29c23b46274771",
            "511d46a7cacb463ab4bde7bb90d0932d",
            "c2867d75ef3f4518ad4e02582aab543f",
            "3718e924e25247bda5c72e69f31e6005",
            "9f3fa6a7f7f34390930bbf42764c2203",
            "1a680f5c233d4212a0cf9a70e9de1079",
            "36d15a6a57f046dc8d08ca1c2517d607",
            "f2f7abb9c0884fc8acf4f79c3569da35",
            "f24b937f8a2d42c79d906d0536f16cc7",
            "af9cb620a3ff46b3be94fb3a65a58f18",
            "0dd9a348fdc0437abca74c6221ecf033",
            "82f6e35cb2c84145b866a6aa05b0012a",
            "17de89bcee324ca1ab31ba9636cce24d",
            "861ad5262d534a9db809ebc1065930e1",
            "85024247c8ae445f8cad8b22d3879fe6",
            "94e1251d22f041e59f4c32116fae2290",
            "973ca39ced1e4c40806e784c4b20feaf",
            "e3d3a99a31aa42e8a30a597074a79cd5",
            "6d6cc52358b74e0b8688bad04804e4a1"
          ]
        },
        "id": "V8Vkx2-Me9ic",
        "outputId": "913f6889-080a-4dcd-9ba2-28fe119dc133"
      },
      "source": [
        "tokenizer = AutoTokenizer.from_pretrained(BASE_MODEL_NAME)"
      ],
      "execution_count": null,
      "outputs": [
        {
          "output_type": "display_data",
          "data": {
            "application/vnd.jupyter.widget-view+json": {
              "model_id": "65b54c3b7b49458bb6bdf22fc0ec62b9",
              "version_minor": 0,
              "version_major": 2
            },
            "text/plain": [
              "HBox(children=(FloatProgress(value=0.0, description='Downloading', max=570.0, style=ProgressStyle(description_…"
            ]
          },
          "metadata": {
            "tags": []
          }
        },
        {
          "output_type": "stream",
          "text": [
            "\n"
          ],
          "name": "stdout"
        },
        {
          "output_type": "display_data",
          "data": {
            "application/vnd.jupyter.widget-view+json": {
              "model_id": "412dbc9022b64038976c518c6734bd99",
              "version_minor": 0,
              "version_major": 2
            },
            "text/plain": [
              "HBox(children=(FloatProgress(value=0.0, description='Downloading', max=213450.0, style=ProgressStyle(descripti…"
            ]
          },
          "metadata": {
            "tags": []
          }
        },
        {
          "output_type": "stream",
          "text": [
            "\n"
          ],
          "name": "stdout"
        },
        {
          "output_type": "display_data",
          "data": {
            "application/vnd.jupyter.widget-view+json": {
              "model_id": "3718e924e25247bda5c72e69f31e6005",
              "version_minor": 0,
              "version_major": 2
            },
            "text/plain": [
              "HBox(children=(FloatProgress(value=0.0, description='Downloading', max=435797.0, style=ProgressStyle(descripti…"
            ]
          },
          "metadata": {
            "tags": []
          }
        },
        {
          "output_type": "stream",
          "text": [
            "\n"
          ],
          "name": "stdout"
        },
        {
          "output_type": "display_data",
          "data": {
            "application/vnd.jupyter.widget-view+json": {
              "model_id": "82f6e35cb2c84145b866a6aa05b0012a",
              "version_minor": 0,
              "version_major": 2
            },
            "text/plain": [
              "HBox(children=(FloatProgress(value=0.0, description='Downloading', max=29.0, style=ProgressStyle(description_w…"
            ]
          },
          "metadata": {
            "tags": []
          }
        },
        {
          "output_type": "stream",
          "text": [
            "\n"
          ],
          "name": "stdout"
        }
      ]
    },
    {
      "cell_type": "code",
      "metadata": {
        "id": "mdMDgi-HMJZq"
      },
      "source": [
        "class dbpediaDataset(Dataset):\n",
        "\n",
        "  def __init__(\n",
        "      self,\n",
        "      data: pd.DataFrame,\n",
        "      tokenizer: tokenizer,\n",
        "      text_max_token_len: int = 512\n",
        "  ):\n",
        "\n",
        "    self.tokenizer = tokenizer\n",
        "    self.data = data\n",
        "    self.text_max_token_len = text_max_token_len\n",
        "\n",
        "  def __len__(self):\n",
        "    return len(self.data)\n",
        "\n",
        "  def __getitem__(self, index: int):\n",
        "    data_row = self.data.iloc[index]\n",
        "\n",
        "    text = data_row['text']\n",
        "\n",
        "    text_encoding = tokenizer(\n",
        "        text,\n",
        "        add_special_tokens=True,\n",
        "        max_length=512,\n",
        "        padding=\"max_length\",\n",
        "        truncation=True,\n",
        "        return_attention_mask=True,\n",
        "        return_tensors=\"np\",\n",
        "    )"
      ],
      "execution_count": null,
      "outputs": []
    },
    {
      "cell_type": "code",
      "metadata": {
        "id": "zcFDcG1S-OEj"
      },
      "source": [
        "def encode(batch):\n",
        "    return tokenizer(\n",
        "        batch,\n",
        "        add_special_tokens=True,\n",
        "        max_length=512,\n",
        "        padding=\"max_length\",\n",
        "        truncation=True,\n",
        "        return_attention_mask=True,\n",
        "        return_tensors=\"np\",\n",
        "    )"
      ],
      "execution_count": null,
      "outputs": []
    },
    {
      "cell_type": "code",
      "metadata": {
        "colab": {
          "base_uri": "https://localhost:8080/",
          "height": 226
        },
        "id": "H9z6er8C-OHJ",
        "outputId": "5a8d048b-0955-49ce-9a12-a934e608a8aa"
      },
      "source": [
        "df_small_train_dbpedia_torch = df_small_train_dbpedia['text'].map(encode, batched=True, num_proc=10)\n",
        "df_small_train_dbpedia_torch.set_format(type=\"torch\", \n",
        "                           columns=[\"input_ids\", \"token_type_ids\", \n",
        "                                    \"attention_mask\", \"labels\"])"
      ],
      "execution_count": null,
      "outputs": [
        {
          "output_type": "error",
          "ename": "TypeError",
          "evalue": "ignored",
          "traceback": [
            "\u001b[0;31m---------------------------------------------------------------------------\u001b[0m",
            "\u001b[0;31mTypeError\u001b[0m                                 Traceback (most recent call last)",
            "\u001b[0;32m<ipython-input-132-e9b868c4f2fc>\u001b[0m in \u001b[0;36m<module>\u001b[0;34m()\u001b[0m\n\u001b[0;32m----> 1\u001b[0;31m \u001b[0mdf_small_train_dbpedia_torch\u001b[0m \u001b[0;34m=\u001b[0m \u001b[0mdf_small_train_dbpedia\u001b[0m\u001b[0;34m[\u001b[0m\u001b[0;34m'text'\u001b[0m\u001b[0;34m]\u001b[0m\u001b[0;34m.\u001b[0m\u001b[0mmap\u001b[0m\u001b[0;34m(\u001b[0m\u001b[0mencode\u001b[0m\u001b[0;34m,\u001b[0m \u001b[0mbatched\u001b[0m\u001b[0;34m=\u001b[0m\u001b[0;32mTrue\u001b[0m\u001b[0;34m,\u001b[0m \u001b[0mnum_proc\u001b[0m\u001b[0;34m=\u001b[0m\u001b[0;36m10\u001b[0m\u001b[0;34m)\u001b[0m\u001b[0;34m\u001b[0m\u001b[0;34m\u001b[0m\u001b[0m\n\u001b[0m\u001b[1;32m      2\u001b[0m df_small_train_dbpedia_torch.set_format(type=\"torch\", \n\u001b[1;32m      3\u001b[0m                            columns=[\"input_ids\", \"token_type_ids\", \n\u001b[1;32m      4\u001b[0m                                     \"attention_mask\", \"labels\"])\n",
            "\u001b[0;31mTypeError\u001b[0m: map() got an unexpected keyword argument 'batched'"
          ]
        }
      ]
    },
    {
      "cell_type": "code",
      "metadata": {
        "id": "KsPeAwXq-OMg"
      },
      "source": [
        ""
      ],
      "execution_count": null,
      "outputs": []
    },
    {
      "cell_type": "code",
      "metadata": {
        "id": "NexeKqnU-OPI"
      },
      "source": [
        ""
      ],
      "execution_count": null,
      "outputs": []
    },
    {
      "cell_type": "code",
      "metadata": {
        "id": "W5emsyx7-ORo"
      },
      "source": [
        ""
      ],
      "execution_count": null,
      "outputs": []
    },
    {
      "cell_type": "code",
      "metadata": {
        "id": "cHgwQoyg98hC"
      },
      "source": [
        ""
      ],
      "execution_count": null,
      "outputs": []
    },
    {
      "cell_type": "code",
      "metadata": {
        "id": "UhQ4-UFo-8dz"
      },
      "source": [
        ""
      ],
      "execution_count": null,
      "outputs": []
    },
    {
      "cell_type": "code",
      "metadata": {
        "id": "_UTsbbRo-8gp"
      },
      "source": [
        ""
      ],
      "execution_count": null,
      "outputs": []
    },
    {
      "cell_type": "code",
      "metadata": {
        "id": "THtzsFHh-8jm"
      },
      "source": [
        ""
      ],
      "execution_count": null,
      "outputs": []
    },
    {
      "cell_type": "code",
      "metadata": {
        "id": "iIqAAEho-8l8"
      },
      "source": [
        ""
      ],
      "execution_count": null,
      "outputs": []
    },
    {
      "cell_type": "code",
      "metadata": {
        "id": "zfMzGEUa-8pg"
      },
      "source": [
        ""
      ],
      "execution_count": null,
      "outputs": []
    },
    {
      "cell_type": "code",
      "metadata": {
        "id": "wLrKaxby-8ro"
      },
      "source": [
        ""
      ],
      "execution_count": null,
      "outputs": []
    },
    {
      "cell_type": "code",
      "metadata": {
        "id": "KqlTEaP--8ud"
      },
      "source": [
        ""
      ],
      "execution_count": null,
      "outputs": []
    },
    {
      "cell_type": "code",
      "metadata": {
        "id": "MV8m_hnG-8w5"
      },
      "source": [
        ""
      ],
      "execution_count": null,
      "outputs": []
    },
    {
      "cell_type": "code",
      "metadata": {
        "id": "Bj79U8tjqZDz"
      },
      "source": [
        "from snorkel.classification import DictDataLoader\n",
        "from model import SceneGraphDataset, create_model\n",
        "\n",
        "df_train[\"labels\"] = label_model.predict(L_train)\n",
        "\n",
        "if sample:\n",
        "    TRAIN_DIR = \"data/VRD/sg_dataset/samples\"\n",
        "else:\n",
        "    TRAIN_DIR = \"data/VRD/sg_dataset/sg_train_images\"\n",
        "\n",
        "dl_train = DictDataLoader(\n",
        "    SceneGraphDataset(\"train_dataset\", \"train\", TRAIN_DIR, df_train),\n",
        "    batch_size=16,\n",
        "    shuffle=True,\n",
        ")\n",
        "\n",
        "dl_valid = DictDataLoader(\n",
        "    SceneGraphDataset(\"valid_dataset\", \"valid\", TRAIN_DIR, df_valid),\n",
        "    batch_size=16,\n",
        "    shuffle=False,\n",
        ")"
      ],
      "execution_count": null,
      "outputs": []
    }
  ]
}