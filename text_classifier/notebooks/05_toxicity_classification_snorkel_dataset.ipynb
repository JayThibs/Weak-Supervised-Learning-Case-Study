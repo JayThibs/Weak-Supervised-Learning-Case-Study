{
  "nbformat": 4,
  "nbformat_minor": 0,
  "metadata": {
    "colab": {
      "name": "05_toxicity_classification_snorkel_dataset.ipynb",
      "provenance": [],
      "collapsed_sections": [
        "jkUrK_WuT7Zo",
        "VTK0H8CNVRTQ",
        "XQUFQ-KcZdHR",
        "wANMvHnJZBRc",
        "z7x7xckBeUbA",
        "a5LFR-R0eYO4",
        "f0wdEU-UeceZ",
        "oNOfniQnfctT",
        "4yIOHCbGp_uT",
        "jeAw3qRvfc05",
        "PNOB62kefpEi",
        "1y3uWbbVhbRO",
        "9Dv3nOM8hh-Y"
      ],
      "machine_shape": "hm",
      "authorship_tag": "ABX9TyNsYksBGyH79vm7o9ul+hKQ",
      "include_colab_link": true
    },
    "kernelspec": {
      "name": "python3",
      "display_name": "Python 3"
    },
    "language_info": {
      "name": "python"
    },
    "accelerator": "GPU",
    "widgets": {
      "application/vnd.jupyter.widget-state+json": {
        "6479e9f7588647b48de25a7e170aaf9d": {
          "model_module": "@jupyter-widgets/controls",
          "model_name": "HBoxModel",
          "state": {
            "_view_name": "HBoxView",
            "_dom_classes": [],
            "_model_name": "HBoxModel",
            "_view_module": "@jupyter-widgets/controls",
            "_model_module_version": "1.5.0",
            "_view_count": null,
            "_view_module_version": "1.5.0",
            "box_style": "",
            "layout": "IPY_MODEL_164084f699114ba5985e3d3fcdc0825c",
            "_model_module": "@jupyter-widgets/controls",
            "children": [
              "IPY_MODEL_028ab20f76d24bf4919d59cd7149d873",
              "IPY_MODEL_66e545583a4e41c798e324c38a1ba5db"
            ]
          }
        },
        "164084f699114ba5985e3d3fcdc0825c": {
          "model_module": "@jupyter-widgets/base",
          "model_name": "LayoutModel",
          "state": {
            "_view_name": "LayoutView",
            "grid_template_rows": null,
            "right": null,
            "justify_content": null,
            "_view_module": "@jupyter-widgets/base",
            "overflow": null,
            "_model_module_version": "1.2.0",
            "_view_count": null,
            "flex_flow": "row wrap",
            "width": "100%",
            "min_width": null,
            "border": null,
            "align_items": null,
            "bottom": null,
            "_model_module": "@jupyter-widgets/base",
            "top": null,
            "grid_column": null,
            "overflow_y": null,
            "overflow_x": null,
            "grid_auto_flow": null,
            "grid_area": null,
            "grid_template_columns": null,
            "flex": null,
            "_model_name": "LayoutModel",
            "justify_items": null,
            "grid_row": null,
            "max_height": null,
            "align_content": null,
            "visibility": null,
            "align_self": null,
            "height": null,
            "min_height": null,
            "padding": null,
            "grid_auto_rows": null,
            "grid_gap": null,
            "max_width": null,
            "order": null,
            "_view_module_version": "1.2.0",
            "grid_template_areas": null,
            "object_position": null,
            "object_fit": null,
            "grid_auto_columns": null,
            "margin": null,
            "display": "inline-flex",
            "left": null
          }
        },
        "028ab20f76d24bf4919d59cd7149d873": {
          "model_module": "@jupyter-widgets/controls",
          "model_name": "FloatProgressModel",
          "state": {
            "_view_name": "ProgressView",
            "style": "IPY_MODEL_f3311bbe52b545fa945519fdff8be92e",
            "_dom_classes": [],
            "description": "Validation sanity check:   0%",
            "_model_name": "FloatProgressModel",
            "bar_style": "danger",
            "max": 2,
            "_view_module": "@jupyter-widgets/controls",
            "_model_module_version": "1.5.0",
            "value": 0,
            "_view_count": null,
            "_view_module_version": "1.5.0",
            "orientation": "horizontal",
            "min": 0,
            "description_tooltip": null,
            "_model_module": "@jupyter-widgets/controls",
            "layout": "IPY_MODEL_345e2f260a0b45c984db0b12598202a5"
          }
        },
        "66e545583a4e41c798e324c38a1ba5db": {
          "model_module": "@jupyter-widgets/controls",
          "model_name": "HTMLModel",
          "state": {
            "_view_name": "HTMLView",
            "style": "IPY_MODEL_682e591fe15842f194daa92961f87e7a",
            "_dom_classes": [],
            "description": "",
            "_model_name": "HTMLModel",
            "placeholder": "​",
            "_view_module": "@jupyter-widgets/controls",
            "_model_module_version": "1.5.0",
            "value": " 0/2 [55:20&lt;?, ?it/s]",
            "_view_count": null,
            "_view_module_version": "1.5.0",
            "description_tooltip": null,
            "_model_module": "@jupyter-widgets/controls",
            "layout": "IPY_MODEL_ac681db01ddd4feda1ae27eb878259ad"
          }
        },
        "f3311bbe52b545fa945519fdff8be92e": {
          "model_module": "@jupyter-widgets/controls",
          "model_name": "ProgressStyleModel",
          "state": {
            "_view_name": "StyleView",
            "_model_name": "ProgressStyleModel",
            "description_width": "initial",
            "_view_module": "@jupyter-widgets/base",
            "_model_module_version": "1.5.0",
            "_view_count": null,
            "_view_module_version": "1.2.0",
            "bar_color": null,
            "_model_module": "@jupyter-widgets/controls"
          }
        },
        "345e2f260a0b45c984db0b12598202a5": {
          "model_module": "@jupyter-widgets/base",
          "model_name": "LayoutModel",
          "state": {
            "_view_name": "LayoutView",
            "grid_template_rows": null,
            "right": null,
            "justify_content": null,
            "_view_module": "@jupyter-widgets/base",
            "overflow": null,
            "_model_module_version": "1.2.0",
            "_view_count": null,
            "flex_flow": null,
            "width": null,
            "min_width": null,
            "border": null,
            "align_items": null,
            "bottom": null,
            "_model_module": "@jupyter-widgets/base",
            "top": null,
            "grid_column": null,
            "overflow_y": null,
            "overflow_x": null,
            "grid_auto_flow": null,
            "grid_area": null,
            "grid_template_columns": null,
            "flex": "2",
            "_model_name": "LayoutModel",
            "justify_items": null,
            "grid_row": null,
            "max_height": null,
            "align_content": null,
            "visibility": null,
            "align_self": null,
            "height": null,
            "min_height": null,
            "padding": null,
            "grid_auto_rows": null,
            "grid_gap": null,
            "max_width": null,
            "order": null,
            "_view_module_version": "1.2.0",
            "grid_template_areas": null,
            "object_position": null,
            "object_fit": null,
            "grid_auto_columns": null,
            "margin": null,
            "display": null,
            "left": null
          }
        },
        "682e591fe15842f194daa92961f87e7a": {
          "model_module": "@jupyter-widgets/controls",
          "model_name": "DescriptionStyleModel",
          "state": {
            "_view_name": "StyleView",
            "_model_name": "DescriptionStyleModel",
            "description_width": "",
            "_view_module": "@jupyter-widgets/base",
            "_model_module_version": "1.5.0",
            "_view_count": null,
            "_view_module_version": "1.2.0",
            "_model_module": "@jupyter-widgets/controls"
          }
        },
        "ac681db01ddd4feda1ae27eb878259ad": {
          "model_module": "@jupyter-widgets/base",
          "model_name": "LayoutModel",
          "state": {
            "_view_name": "LayoutView",
            "grid_template_rows": null,
            "right": null,
            "justify_content": null,
            "_view_module": "@jupyter-widgets/base",
            "overflow": null,
            "_model_module_version": "1.2.0",
            "_view_count": null,
            "flex_flow": null,
            "width": null,
            "min_width": null,
            "border": null,
            "align_items": null,
            "bottom": null,
            "_model_module": "@jupyter-widgets/base",
            "top": null,
            "grid_column": null,
            "overflow_y": null,
            "overflow_x": null,
            "grid_auto_flow": null,
            "grid_area": null,
            "grid_template_columns": null,
            "flex": null,
            "_model_name": "LayoutModel",
            "justify_items": null,
            "grid_row": null,
            "max_height": null,
            "align_content": null,
            "visibility": null,
            "align_self": null,
            "height": null,
            "min_height": null,
            "padding": null,
            "grid_auto_rows": null,
            "grid_gap": null,
            "max_width": null,
            "order": null,
            "_view_module_version": "1.2.0",
            "grid_template_areas": null,
            "object_position": null,
            "object_fit": null,
            "grid_auto_columns": null,
            "margin": null,
            "display": null,
            "left": null
          }
        },
        "f6392fb8f20d423c9878c5817c55fc2b": {
          "model_module": "@jupyter-widgets/controls",
          "model_name": "HBoxModel",
          "state": {
            "_view_name": "HBoxView",
            "_dom_classes": [],
            "_model_name": "HBoxModel",
            "_view_module": "@jupyter-widgets/controls",
            "_model_module_version": "1.5.0",
            "_view_count": null,
            "_view_module_version": "1.5.0",
            "box_style": "",
            "layout": "IPY_MODEL_386073750ac74542bd0d42c70537bff5",
            "_model_module": "@jupyter-widgets/controls",
            "children": [
              "IPY_MODEL_406640b9702045f7a6ed9ad1cbb68554",
              "IPY_MODEL_34f5dcb36bc54d3cb842e5dc6acbf59a"
            ]
          }
        },
        "386073750ac74542bd0d42c70537bff5": {
          "model_module": "@jupyter-widgets/base",
          "model_name": "LayoutModel",
          "state": {
            "_view_name": "LayoutView",
            "grid_template_rows": null,
            "right": null,
            "justify_content": null,
            "_view_module": "@jupyter-widgets/base",
            "overflow": null,
            "_model_module_version": "1.2.0",
            "_view_count": null,
            "flex_flow": "row wrap",
            "width": "100%",
            "min_width": null,
            "border": null,
            "align_items": null,
            "bottom": null,
            "_model_module": "@jupyter-widgets/base",
            "top": null,
            "grid_column": null,
            "overflow_y": null,
            "overflow_x": null,
            "grid_auto_flow": null,
            "grid_area": null,
            "grid_template_columns": null,
            "flex": null,
            "_model_name": "LayoutModel",
            "justify_items": null,
            "grid_row": null,
            "max_height": null,
            "align_content": null,
            "visibility": null,
            "align_self": null,
            "height": null,
            "min_height": null,
            "padding": null,
            "grid_auto_rows": null,
            "grid_gap": null,
            "max_width": null,
            "order": null,
            "_view_module_version": "1.2.0",
            "grid_template_areas": null,
            "object_position": null,
            "object_fit": null,
            "grid_auto_columns": null,
            "margin": null,
            "display": "inline-flex",
            "left": null
          }
        },
        "406640b9702045f7a6ed9ad1cbb68554": {
          "model_module": "@jupyter-widgets/controls",
          "model_name": "FloatProgressModel",
          "state": {
            "_view_name": "ProgressView",
            "style": "IPY_MODEL_854e70e07793443d8c893590b7a40314",
            "_dom_classes": [],
            "description": "Epoch 8: 100%",
            "_model_name": "FloatProgressModel",
            "bar_style": "success",
            "max": 55,
            "_view_module": "@jupyter-widgets/controls",
            "_model_module_version": "1.5.0",
            "value": 55,
            "_view_count": null,
            "_view_module_version": "1.5.0",
            "orientation": "horizontal",
            "min": 0,
            "description_tooltip": null,
            "_model_module": "@jupyter-widgets/controls",
            "layout": "IPY_MODEL_dad8ca0d7830405d8ab94005b2ce81da"
          }
        },
        "34f5dcb36bc54d3cb842e5dc6acbf59a": {
          "model_module": "@jupyter-widgets/controls",
          "model_name": "HTMLModel",
          "state": {
            "_view_name": "HTMLView",
            "style": "IPY_MODEL_ad27493b1bae4b43a4e9e84c68e98569",
            "_dom_classes": [],
            "description": "",
            "_model_name": "HTMLModel",
            "placeholder": "​",
            "_view_module": "@jupyter-widgets/controls",
            "_model_module_version": "1.5.0",
            "value": " 55/55 [00:38&lt;00:00,  1.42it/s, loss=0.345, v_num=n1ad]",
            "_view_count": null,
            "_view_module_version": "1.5.0",
            "description_tooltip": null,
            "_model_module": "@jupyter-widgets/controls",
            "layout": "IPY_MODEL_4df3204c9f7b45a3956a6a2b2b62baeb"
          }
        },
        "854e70e07793443d8c893590b7a40314": {
          "model_module": "@jupyter-widgets/controls",
          "model_name": "ProgressStyleModel",
          "state": {
            "_view_name": "StyleView",
            "_model_name": "ProgressStyleModel",
            "description_width": "initial",
            "_view_module": "@jupyter-widgets/base",
            "_model_module_version": "1.5.0",
            "_view_count": null,
            "_view_module_version": "1.2.0",
            "bar_color": null,
            "_model_module": "@jupyter-widgets/controls"
          }
        },
        "dad8ca0d7830405d8ab94005b2ce81da": {
          "model_module": "@jupyter-widgets/base",
          "model_name": "LayoutModel",
          "state": {
            "_view_name": "LayoutView",
            "grid_template_rows": null,
            "right": null,
            "justify_content": null,
            "_view_module": "@jupyter-widgets/base",
            "overflow": null,
            "_model_module_version": "1.2.0",
            "_view_count": null,
            "flex_flow": null,
            "width": null,
            "min_width": null,
            "border": null,
            "align_items": null,
            "bottom": null,
            "_model_module": "@jupyter-widgets/base",
            "top": null,
            "grid_column": null,
            "overflow_y": null,
            "overflow_x": null,
            "grid_auto_flow": null,
            "grid_area": null,
            "grid_template_columns": null,
            "flex": "2",
            "_model_name": "LayoutModel",
            "justify_items": null,
            "grid_row": null,
            "max_height": null,
            "align_content": null,
            "visibility": null,
            "align_self": null,
            "height": null,
            "min_height": null,
            "padding": null,
            "grid_auto_rows": null,
            "grid_gap": null,
            "max_width": null,
            "order": null,
            "_view_module_version": "1.2.0",
            "grid_template_areas": null,
            "object_position": null,
            "object_fit": null,
            "grid_auto_columns": null,
            "margin": null,
            "display": null,
            "left": null
          }
        },
        "ad27493b1bae4b43a4e9e84c68e98569": {
          "model_module": "@jupyter-widgets/controls",
          "model_name": "DescriptionStyleModel",
          "state": {
            "_view_name": "StyleView",
            "_model_name": "DescriptionStyleModel",
            "description_width": "",
            "_view_module": "@jupyter-widgets/base",
            "_model_module_version": "1.5.0",
            "_view_count": null,
            "_view_module_version": "1.2.0",
            "_model_module": "@jupyter-widgets/controls"
          }
        },
        "4df3204c9f7b45a3956a6a2b2b62baeb": {
          "model_module": "@jupyter-widgets/base",
          "model_name": "LayoutModel",
          "state": {
            "_view_name": "LayoutView",
            "grid_template_rows": null,
            "right": null,
            "justify_content": null,
            "_view_module": "@jupyter-widgets/base",
            "overflow": null,
            "_model_module_version": "1.2.0",
            "_view_count": null,
            "flex_flow": null,
            "width": null,
            "min_width": null,
            "border": null,
            "align_items": null,
            "bottom": null,
            "_model_module": "@jupyter-widgets/base",
            "top": null,
            "grid_column": null,
            "overflow_y": null,
            "overflow_x": null,
            "grid_auto_flow": null,
            "grid_area": null,
            "grid_template_columns": null,
            "flex": null,
            "_model_name": "LayoutModel",
            "justify_items": null,
            "grid_row": null,
            "max_height": null,
            "align_content": null,
            "visibility": null,
            "align_self": null,
            "height": null,
            "min_height": null,
            "padding": null,
            "grid_auto_rows": null,
            "grid_gap": null,
            "max_width": null,
            "order": null,
            "_view_module_version": "1.2.0",
            "grid_template_areas": null,
            "object_position": null,
            "object_fit": null,
            "grid_auto_columns": null,
            "margin": null,
            "display": null,
            "left": null
          }
        },
        "33e6d7dbb00f411b9a7498d8a758bdb1": {
          "model_module": "@jupyter-widgets/controls",
          "model_name": "HBoxModel",
          "state": {
            "_view_name": "HBoxView",
            "_dom_classes": [],
            "_model_name": "HBoxModel",
            "_view_module": "@jupyter-widgets/controls",
            "_model_module_version": "1.5.0",
            "_view_count": null,
            "_view_module_version": "1.5.0",
            "box_style": "",
            "layout": "IPY_MODEL_5dd70256f4f34c74a8694f3c7f525f70",
            "_model_module": "@jupyter-widgets/controls",
            "children": [
              "IPY_MODEL_280c7b71554848f1b607a5dd0ad8f39c",
              "IPY_MODEL_62776441fd614fbc88b2fc2ecd9b12a4"
            ]
          }
        },
        "5dd70256f4f34c74a8694f3c7f525f70": {
          "model_module": "@jupyter-widgets/base",
          "model_name": "LayoutModel",
          "state": {
            "_view_name": "LayoutView",
            "grid_template_rows": null,
            "right": null,
            "justify_content": null,
            "_view_module": "@jupyter-widgets/base",
            "overflow": null,
            "_model_module_version": "1.2.0",
            "_view_count": null,
            "flex_flow": "row wrap",
            "width": "100%",
            "min_width": null,
            "border": null,
            "align_items": null,
            "bottom": null,
            "_model_module": "@jupyter-widgets/base",
            "top": null,
            "grid_column": null,
            "overflow_y": null,
            "overflow_x": null,
            "grid_auto_flow": null,
            "grid_area": null,
            "grid_template_columns": null,
            "flex": null,
            "_model_name": "LayoutModel",
            "justify_items": null,
            "grid_row": null,
            "max_height": null,
            "align_content": null,
            "visibility": null,
            "align_self": null,
            "height": null,
            "min_height": null,
            "padding": null,
            "grid_auto_rows": null,
            "grid_gap": null,
            "max_width": null,
            "order": null,
            "_view_module_version": "1.2.0",
            "grid_template_areas": null,
            "object_position": null,
            "object_fit": null,
            "grid_auto_columns": null,
            "margin": null,
            "display": "inline-flex",
            "left": null
          }
        },
        "280c7b71554848f1b607a5dd0ad8f39c": {
          "model_module": "@jupyter-widgets/controls",
          "model_name": "FloatProgressModel",
          "state": {
            "_view_name": "ProgressView",
            "style": "IPY_MODEL_d3c8d360e2f0488aa91bb410fea6fb61",
            "_dom_classes": [],
            "description": "Validating: 100%",
            "_model_name": "FloatProgressModel",
            "bar_style": "info",
            "max": 5,
            "_view_module": "@jupyter-widgets/controls",
            "_model_module_version": "1.5.0",
            "value": 5,
            "_view_count": null,
            "_view_module_version": "1.5.0",
            "orientation": "horizontal",
            "min": 0,
            "description_tooltip": null,
            "_model_module": "@jupyter-widgets/controls",
            "layout": "IPY_MODEL_e95d0d73c83244e08cf3535aea63f234"
          }
        },
        "62776441fd614fbc88b2fc2ecd9b12a4": {
          "model_module": "@jupyter-widgets/controls",
          "model_name": "HTMLModel",
          "state": {
            "_view_name": "HTMLView",
            "style": "IPY_MODEL_b468ae0933d6446ca9bf1edbe018bdd4",
            "_dom_classes": [],
            "description": "",
            "_model_name": "HTMLModel",
            "placeholder": "​",
            "_view_module": "@jupyter-widgets/controls",
            "_model_module_version": "1.5.0",
            "value": " 5/5 [00:02&lt;00:00,  2.79it/s]",
            "_view_count": null,
            "_view_module_version": "1.5.0",
            "description_tooltip": null,
            "_model_module": "@jupyter-widgets/controls",
            "layout": "IPY_MODEL_02715e8fd60341cbb8fe016cb4585784"
          }
        },
        "d3c8d360e2f0488aa91bb410fea6fb61": {
          "model_module": "@jupyter-widgets/controls",
          "model_name": "ProgressStyleModel",
          "state": {
            "_view_name": "StyleView",
            "_model_name": "ProgressStyleModel",
            "description_width": "initial",
            "_view_module": "@jupyter-widgets/base",
            "_model_module_version": "1.5.0",
            "_view_count": null,
            "_view_module_version": "1.2.0",
            "bar_color": null,
            "_model_module": "@jupyter-widgets/controls"
          }
        },
        "e95d0d73c83244e08cf3535aea63f234": {
          "model_module": "@jupyter-widgets/base",
          "model_name": "LayoutModel",
          "state": {
            "_view_name": "LayoutView",
            "grid_template_rows": null,
            "right": null,
            "justify_content": null,
            "_view_module": "@jupyter-widgets/base",
            "overflow": null,
            "_model_module_version": "1.2.0",
            "_view_count": null,
            "flex_flow": null,
            "width": null,
            "min_width": null,
            "border": null,
            "align_items": null,
            "bottom": null,
            "_model_module": "@jupyter-widgets/base",
            "top": null,
            "grid_column": null,
            "overflow_y": null,
            "overflow_x": null,
            "grid_auto_flow": null,
            "grid_area": null,
            "grid_template_columns": null,
            "flex": "2",
            "_model_name": "LayoutModel",
            "justify_items": null,
            "grid_row": null,
            "max_height": null,
            "align_content": null,
            "visibility": null,
            "align_self": null,
            "height": null,
            "min_height": null,
            "padding": null,
            "grid_auto_rows": null,
            "grid_gap": null,
            "max_width": null,
            "order": null,
            "_view_module_version": "1.2.0",
            "grid_template_areas": null,
            "object_position": null,
            "object_fit": null,
            "grid_auto_columns": null,
            "margin": null,
            "display": null,
            "left": null
          }
        },
        "b468ae0933d6446ca9bf1edbe018bdd4": {
          "model_module": "@jupyter-widgets/controls",
          "model_name": "DescriptionStyleModel",
          "state": {
            "_view_name": "StyleView",
            "_model_name": "DescriptionStyleModel",
            "description_width": "",
            "_view_module": "@jupyter-widgets/base",
            "_model_module_version": "1.5.0",
            "_view_count": null,
            "_view_module_version": "1.2.0",
            "_model_module": "@jupyter-widgets/controls"
          }
        },
        "02715e8fd60341cbb8fe016cb4585784": {
          "model_module": "@jupyter-widgets/base",
          "model_name": "LayoutModel",
          "state": {
            "_view_name": "LayoutView",
            "grid_template_rows": null,
            "right": null,
            "justify_content": null,
            "_view_module": "@jupyter-widgets/base",
            "overflow": null,
            "_model_module_version": "1.2.0",
            "_view_count": null,
            "flex_flow": null,
            "width": null,
            "min_width": null,
            "border": null,
            "align_items": null,
            "bottom": null,
            "_model_module": "@jupyter-widgets/base",
            "top": null,
            "grid_column": null,
            "overflow_y": null,
            "overflow_x": null,
            "grid_auto_flow": null,
            "grid_area": null,
            "grid_template_columns": null,
            "flex": null,
            "_model_name": "LayoutModel",
            "justify_items": null,
            "grid_row": null,
            "max_height": null,
            "align_content": null,
            "visibility": null,
            "align_self": null,
            "height": null,
            "min_height": null,
            "padding": null,
            "grid_auto_rows": null,
            "grid_gap": null,
            "max_width": null,
            "order": null,
            "_view_module_version": "1.2.0",
            "grid_template_areas": null,
            "object_position": null,
            "object_fit": null,
            "grid_auto_columns": null,
            "margin": null,
            "display": null,
            "left": null
          }
        },
        "571343ee07c84bd0ba1647358b94bfac": {
          "model_module": "@jupyter-widgets/controls",
          "model_name": "HBoxModel",
          "state": {
            "_view_name": "HBoxView",
            "_dom_classes": [],
            "_model_name": "HBoxModel",
            "_view_module": "@jupyter-widgets/controls",
            "_model_module_version": "1.5.0",
            "_view_count": null,
            "_view_module_version": "1.5.0",
            "box_style": "",
            "layout": "IPY_MODEL_da3f4f99643f41e2b2089c1927858096",
            "_model_module": "@jupyter-widgets/controls",
            "children": [
              "IPY_MODEL_82bf0e14638a4297bcc2f7b50ac47d5f",
              "IPY_MODEL_2d4eb82a96474f28bba04936bd6a1c2e"
            ]
          }
        },
        "da3f4f99643f41e2b2089c1927858096": {
          "model_module": "@jupyter-widgets/base",
          "model_name": "LayoutModel",
          "state": {
            "_view_name": "LayoutView",
            "grid_template_rows": null,
            "right": null,
            "justify_content": null,
            "_view_module": "@jupyter-widgets/base",
            "overflow": null,
            "_model_module_version": "1.2.0",
            "_view_count": null,
            "flex_flow": "row wrap",
            "width": "100%",
            "min_width": null,
            "border": null,
            "align_items": null,
            "bottom": null,
            "_model_module": "@jupyter-widgets/base",
            "top": null,
            "grid_column": null,
            "overflow_y": null,
            "overflow_x": null,
            "grid_auto_flow": null,
            "grid_area": null,
            "grid_template_columns": null,
            "flex": null,
            "_model_name": "LayoutModel",
            "justify_items": null,
            "grid_row": null,
            "max_height": null,
            "align_content": null,
            "visibility": null,
            "align_self": null,
            "height": null,
            "min_height": null,
            "padding": null,
            "grid_auto_rows": null,
            "grid_gap": null,
            "max_width": null,
            "order": null,
            "_view_module_version": "1.2.0",
            "grid_template_areas": null,
            "object_position": null,
            "object_fit": null,
            "grid_auto_columns": null,
            "margin": null,
            "display": "inline-flex",
            "left": null
          }
        },
        "82bf0e14638a4297bcc2f7b50ac47d5f": {
          "model_module": "@jupyter-widgets/controls",
          "model_name": "FloatProgressModel",
          "state": {
            "_view_name": "ProgressView",
            "style": "IPY_MODEL_7d0d3ef98df14731ada4c6807b70dfc9",
            "_dom_classes": [],
            "description": "Validating: 100%",
            "_model_name": "FloatProgressModel",
            "bar_style": "info",
            "max": 5,
            "_view_module": "@jupyter-widgets/controls",
            "_model_module_version": "1.5.0",
            "value": 5,
            "_view_count": null,
            "_view_module_version": "1.5.0",
            "orientation": "horizontal",
            "min": 0,
            "description_tooltip": null,
            "_model_module": "@jupyter-widgets/controls",
            "layout": "IPY_MODEL_f5e0b3833c714e64b89c4c9321c474e6"
          }
        },
        "2d4eb82a96474f28bba04936bd6a1c2e": {
          "model_module": "@jupyter-widgets/controls",
          "model_name": "HTMLModel",
          "state": {
            "_view_name": "HTMLView",
            "style": "IPY_MODEL_d8b0104bd9a945bd92cf8dc5ce192f87",
            "_dom_classes": [],
            "description": "",
            "_model_name": "HTMLModel",
            "placeholder": "​",
            "_view_module": "@jupyter-widgets/controls",
            "_model_module_version": "1.5.0",
            "value": " 5/5 [00:02&lt;00:00,  2.80it/s]",
            "_view_count": null,
            "_view_module_version": "1.5.0",
            "description_tooltip": null,
            "_model_module": "@jupyter-widgets/controls",
            "layout": "IPY_MODEL_797d89b173d94621954c0804bcd1d045"
          }
        },
        "7d0d3ef98df14731ada4c6807b70dfc9": {
          "model_module": "@jupyter-widgets/controls",
          "model_name": "ProgressStyleModel",
          "state": {
            "_view_name": "StyleView",
            "_model_name": "ProgressStyleModel",
            "description_width": "initial",
            "_view_module": "@jupyter-widgets/base",
            "_model_module_version": "1.5.0",
            "_view_count": null,
            "_view_module_version": "1.2.0",
            "bar_color": null,
            "_model_module": "@jupyter-widgets/controls"
          }
        },
        "f5e0b3833c714e64b89c4c9321c474e6": {
          "model_module": "@jupyter-widgets/base",
          "model_name": "LayoutModel",
          "state": {
            "_view_name": "LayoutView",
            "grid_template_rows": null,
            "right": null,
            "justify_content": null,
            "_view_module": "@jupyter-widgets/base",
            "overflow": null,
            "_model_module_version": "1.2.0",
            "_view_count": null,
            "flex_flow": null,
            "width": null,
            "min_width": null,
            "border": null,
            "align_items": null,
            "bottom": null,
            "_model_module": "@jupyter-widgets/base",
            "top": null,
            "grid_column": null,
            "overflow_y": null,
            "overflow_x": null,
            "grid_auto_flow": null,
            "grid_area": null,
            "grid_template_columns": null,
            "flex": "2",
            "_model_name": "LayoutModel",
            "justify_items": null,
            "grid_row": null,
            "max_height": null,
            "align_content": null,
            "visibility": null,
            "align_self": null,
            "height": null,
            "min_height": null,
            "padding": null,
            "grid_auto_rows": null,
            "grid_gap": null,
            "max_width": null,
            "order": null,
            "_view_module_version": "1.2.0",
            "grid_template_areas": null,
            "object_position": null,
            "object_fit": null,
            "grid_auto_columns": null,
            "margin": null,
            "display": null,
            "left": null
          }
        },
        "d8b0104bd9a945bd92cf8dc5ce192f87": {
          "model_module": "@jupyter-widgets/controls",
          "model_name": "DescriptionStyleModel",
          "state": {
            "_view_name": "StyleView",
            "_model_name": "DescriptionStyleModel",
            "description_width": "",
            "_view_module": "@jupyter-widgets/base",
            "_model_module_version": "1.5.0",
            "_view_count": null,
            "_view_module_version": "1.2.0",
            "_model_module": "@jupyter-widgets/controls"
          }
        },
        "797d89b173d94621954c0804bcd1d045": {
          "model_module": "@jupyter-widgets/base",
          "model_name": "LayoutModel",
          "state": {
            "_view_name": "LayoutView",
            "grid_template_rows": null,
            "right": null,
            "justify_content": null,
            "_view_module": "@jupyter-widgets/base",
            "overflow": null,
            "_model_module_version": "1.2.0",
            "_view_count": null,
            "flex_flow": null,
            "width": null,
            "min_width": null,
            "border": null,
            "align_items": null,
            "bottom": null,
            "_model_module": "@jupyter-widgets/base",
            "top": null,
            "grid_column": null,
            "overflow_y": null,
            "overflow_x": null,
            "grid_auto_flow": null,
            "grid_area": null,
            "grid_template_columns": null,
            "flex": null,
            "_model_name": "LayoutModel",
            "justify_items": null,
            "grid_row": null,
            "max_height": null,
            "align_content": null,
            "visibility": null,
            "align_self": null,
            "height": null,
            "min_height": null,
            "padding": null,
            "grid_auto_rows": null,
            "grid_gap": null,
            "max_width": null,
            "order": null,
            "_view_module_version": "1.2.0",
            "grid_template_areas": null,
            "object_position": null,
            "object_fit": null,
            "grid_auto_columns": null,
            "margin": null,
            "display": null,
            "left": null
          }
        },
        "5769f70302a241fc8d504826ab1cdeab": {
          "model_module": "@jupyter-widgets/controls",
          "model_name": "HBoxModel",
          "state": {
            "_view_name": "HBoxView",
            "_dom_classes": [],
            "_model_name": "HBoxModel",
            "_view_module": "@jupyter-widgets/controls",
            "_model_module_version": "1.5.0",
            "_view_count": null,
            "_view_module_version": "1.5.0",
            "box_style": "",
            "layout": "IPY_MODEL_c554d6d0625546a99deed1cbdb9addb2",
            "_model_module": "@jupyter-widgets/controls",
            "children": [
              "IPY_MODEL_38dac1a6f9ff4ce88313f34e0cfeab4b",
              "IPY_MODEL_884febbf12f54311a39bcf6fcb2e83d6"
            ]
          }
        },
        "c554d6d0625546a99deed1cbdb9addb2": {
          "model_module": "@jupyter-widgets/base",
          "model_name": "LayoutModel",
          "state": {
            "_view_name": "LayoutView",
            "grid_template_rows": null,
            "right": null,
            "justify_content": null,
            "_view_module": "@jupyter-widgets/base",
            "overflow": null,
            "_model_module_version": "1.2.0",
            "_view_count": null,
            "flex_flow": "row wrap",
            "width": "100%",
            "min_width": null,
            "border": null,
            "align_items": null,
            "bottom": null,
            "_model_module": "@jupyter-widgets/base",
            "top": null,
            "grid_column": null,
            "overflow_y": null,
            "overflow_x": null,
            "grid_auto_flow": null,
            "grid_area": null,
            "grid_template_columns": null,
            "flex": null,
            "_model_name": "LayoutModel",
            "justify_items": null,
            "grid_row": null,
            "max_height": null,
            "align_content": null,
            "visibility": null,
            "align_self": null,
            "height": null,
            "min_height": null,
            "padding": null,
            "grid_auto_rows": null,
            "grid_gap": null,
            "max_width": null,
            "order": null,
            "_view_module_version": "1.2.0",
            "grid_template_areas": null,
            "object_position": null,
            "object_fit": null,
            "grid_auto_columns": null,
            "margin": null,
            "display": "inline-flex",
            "left": null
          }
        },
        "38dac1a6f9ff4ce88313f34e0cfeab4b": {
          "model_module": "@jupyter-widgets/controls",
          "model_name": "FloatProgressModel",
          "state": {
            "_view_name": "ProgressView",
            "style": "IPY_MODEL_4fcb561deac045349dddf85d725f9b1a",
            "_dom_classes": [],
            "description": "Validating: 100%",
            "_model_name": "FloatProgressModel",
            "bar_style": "info",
            "max": 5,
            "_view_module": "@jupyter-widgets/controls",
            "_model_module_version": "1.5.0",
            "value": 5,
            "_view_count": null,
            "_view_module_version": "1.5.0",
            "orientation": "horizontal",
            "min": 0,
            "description_tooltip": null,
            "_model_module": "@jupyter-widgets/controls",
            "layout": "IPY_MODEL_096e62e99e7f4566982e1a556efe8410"
          }
        },
        "884febbf12f54311a39bcf6fcb2e83d6": {
          "model_module": "@jupyter-widgets/controls",
          "model_name": "HTMLModel",
          "state": {
            "_view_name": "HTMLView",
            "style": "IPY_MODEL_c24937dfe24d42d2a53b22c1e78c153b",
            "_dom_classes": [],
            "description": "",
            "_model_name": "HTMLModel",
            "placeholder": "​",
            "_view_module": "@jupyter-widgets/controls",
            "_model_module_version": "1.5.0",
            "value": " 5/5 [00:02&lt;00:00,  2.82it/s]",
            "_view_count": null,
            "_view_module_version": "1.5.0",
            "description_tooltip": null,
            "_model_module": "@jupyter-widgets/controls",
            "layout": "IPY_MODEL_717982d07ba74e26a358b15dc5f85017"
          }
        },
        "4fcb561deac045349dddf85d725f9b1a": {
          "model_module": "@jupyter-widgets/controls",
          "model_name": "ProgressStyleModel",
          "state": {
            "_view_name": "StyleView",
            "_model_name": "ProgressStyleModel",
            "description_width": "initial",
            "_view_module": "@jupyter-widgets/base",
            "_model_module_version": "1.5.0",
            "_view_count": null,
            "_view_module_version": "1.2.0",
            "bar_color": null,
            "_model_module": "@jupyter-widgets/controls"
          }
        },
        "096e62e99e7f4566982e1a556efe8410": {
          "model_module": "@jupyter-widgets/base",
          "model_name": "LayoutModel",
          "state": {
            "_view_name": "LayoutView",
            "grid_template_rows": null,
            "right": null,
            "justify_content": null,
            "_view_module": "@jupyter-widgets/base",
            "overflow": null,
            "_model_module_version": "1.2.0",
            "_view_count": null,
            "flex_flow": null,
            "width": null,
            "min_width": null,
            "border": null,
            "align_items": null,
            "bottom": null,
            "_model_module": "@jupyter-widgets/base",
            "top": null,
            "grid_column": null,
            "overflow_y": null,
            "overflow_x": null,
            "grid_auto_flow": null,
            "grid_area": null,
            "grid_template_columns": null,
            "flex": "2",
            "_model_name": "LayoutModel",
            "justify_items": null,
            "grid_row": null,
            "max_height": null,
            "align_content": null,
            "visibility": null,
            "align_self": null,
            "height": null,
            "min_height": null,
            "padding": null,
            "grid_auto_rows": null,
            "grid_gap": null,
            "max_width": null,
            "order": null,
            "_view_module_version": "1.2.0",
            "grid_template_areas": null,
            "object_position": null,
            "object_fit": null,
            "grid_auto_columns": null,
            "margin": null,
            "display": null,
            "left": null
          }
        },
        "c24937dfe24d42d2a53b22c1e78c153b": {
          "model_module": "@jupyter-widgets/controls",
          "model_name": "DescriptionStyleModel",
          "state": {
            "_view_name": "StyleView",
            "_model_name": "DescriptionStyleModel",
            "description_width": "",
            "_view_module": "@jupyter-widgets/base",
            "_model_module_version": "1.5.0",
            "_view_count": null,
            "_view_module_version": "1.2.0",
            "_model_module": "@jupyter-widgets/controls"
          }
        },
        "717982d07ba74e26a358b15dc5f85017": {
          "model_module": "@jupyter-widgets/base",
          "model_name": "LayoutModel",
          "state": {
            "_view_name": "LayoutView",
            "grid_template_rows": null,
            "right": null,
            "justify_content": null,
            "_view_module": "@jupyter-widgets/base",
            "overflow": null,
            "_model_module_version": "1.2.0",
            "_view_count": null,
            "flex_flow": null,
            "width": null,
            "min_width": null,
            "border": null,
            "align_items": null,
            "bottom": null,
            "_model_module": "@jupyter-widgets/base",
            "top": null,
            "grid_column": null,
            "overflow_y": null,
            "overflow_x": null,
            "grid_auto_flow": null,
            "grid_area": null,
            "grid_template_columns": null,
            "flex": null,
            "_model_name": "LayoutModel",
            "justify_items": null,
            "grid_row": null,
            "max_height": null,
            "align_content": null,
            "visibility": null,
            "align_self": null,
            "height": null,
            "min_height": null,
            "padding": null,
            "grid_auto_rows": null,
            "grid_gap": null,
            "max_width": null,
            "order": null,
            "_view_module_version": "1.2.0",
            "grid_template_areas": null,
            "object_position": null,
            "object_fit": null,
            "grid_auto_columns": null,
            "margin": null,
            "display": null,
            "left": null
          }
        },
        "f8eca25b94314e61986c779297e6c74c": {
          "model_module": "@jupyter-widgets/controls",
          "model_name": "HBoxModel",
          "state": {
            "_view_name": "HBoxView",
            "_dom_classes": [],
            "_model_name": "HBoxModel",
            "_view_module": "@jupyter-widgets/controls",
            "_model_module_version": "1.5.0",
            "_view_count": null,
            "_view_module_version": "1.5.0",
            "box_style": "",
            "layout": "IPY_MODEL_7e033e40299c4c92973e1a9124e7b72a",
            "_model_module": "@jupyter-widgets/controls",
            "children": [
              "IPY_MODEL_fcd5b35d1e3f401996c1f08a2c19ab9e",
              "IPY_MODEL_8eb0004ac1cf4b21a16918955755ab44"
            ]
          }
        },
        "7e033e40299c4c92973e1a9124e7b72a": {
          "model_module": "@jupyter-widgets/base",
          "model_name": "LayoutModel",
          "state": {
            "_view_name": "LayoutView",
            "grid_template_rows": null,
            "right": null,
            "justify_content": null,
            "_view_module": "@jupyter-widgets/base",
            "overflow": null,
            "_model_module_version": "1.2.0",
            "_view_count": null,
            "flex_flow": "row wrap",
            "width": "100%",
            "min_width": null,
            "border": null,
            "align_items": null,
            "bottom": null,
            "_model_module": "@jupyter-widgets/base",
            "top": null,
            "grid_column": null,
            "overflow_y": null,
            "overflow_x": null,
            "grid_auto_flow": null,
            "grid_area": null,
            "grid_template_columns": null,
            "flex": null,
            "_model_name": "LayoutModel",
            "justify_items": null,
            "grid_row": null,
            "max_height": null,
            "align_content": null,
            "visibility": null,
            "align_self": null,
            "height": null,
            "min_height": null,
            "padding": null,
            "grid_auto_rows": null,
            "grid_gap": null,
            "max_width": null,
            "order": null,
            "_view_module_version": "1.2.0",
            "grid_template_areas": null,
            "object_position": null,
            "object_fit": null,
            "grid_auto_columns": null,
            "margin": null,
            "display": "inline-flex",
            "left": null
          }
        },
        "fcd5b35d1e3f401996c1f08a2c19ab9e": {
          "model_module": "@jupyter-widgets/controls",
          "model_name": "FloatProgressModel",
          "state": {
            "_view_name": "ProgressView",
            "style": "IPY_MODEL_3a0321b639944f928deb8f08f17fc338",
            "_dom_classes": [],
            "description": "Validating: 100%",
            "_model_name": "FloatProgressModel",
            "bar_style": "info",
            "max": 5,
            "_view_module": "@jupyter-widgets/controls",
            "_model_module_version": "1.5.0",
            "value": 5,
            "_view_count": null,
            "_view_module_version": "1.5.0",
            "orientation": "horizontal",
            "min": 0,
            "description_tooltip": null,
            "_model_module": "@jupyter-widgets/controls",
            "layout": "IPY_MODEL_4e160e37a9b54fd9965c47c00496417e"
          }
        },
        "8eb0004ac1cf4b21a16918955755ab44": {
          "model_module": "@jupyter-widgets/controls",
          "model_name": "HTMLModel",
          "state": {
            "_view_name": "HTMLView",
            "style": "IPY_MODEL_3a95ef21bc494c13acfb281f60fea95d",
            "_dom_classes": [],
            "description": "",
            "_model_name": "HTMLModel",
            "placeholder": "​",
            "_view_module": "@jupyter-widgets/controls",
            "_model_module_version": "1.5.0",
            "value": " 5/5 [00:02&lt;00:00,  2.81it/s]",
            "_view_count": null,
            "_view_module_version": "1.5.0",
            "description_tooltip": null,
            "_model_module": "@jupyter-widgets/controls",
            "layout": "IPY_MODEL_8482910b7a064e91a6f31c89bd50607e"
          }
        },
        "3a0321b639944f928deb8f08f17fc338": {
          "model_module": "@jupyter-widgets/controls",
          "model_name": "ProgressStyleModel",
          "state": {
            "_view_name": "StyleView",
            "_model_name": "ProgressStyleModel",
            "description_width": "initial",
            "_view_module": "@jupyter-widgets/base",
            "_model_module_version": "1.5.0",
            "_view_count": null,
            "_view_module_version": "1.2.0",
            "bar_color": null,
            "_model_module": "@jupyter-widgets/controls"
          }
        },
        "4e160e37a9b54fd9965c47c00496417e": {
          "model_module": "@jupyter-widgets/base",
          "model_name": "LayoutModel",
          "state": {
            "_view_name": "LayoutView",
            "grid_template_rows": null,
            "right": null,
            "justify_content": null,
            "_view_module": "@jupyter-widgets/base",
            "overflow": null,
            "_model_module_version": "1.2.0",
            "_view_count": null,
            "flex_flow": null,
            "width": null,
            "min_width": null,
            "border": null,
            "align_items": null,
            "bottom": null,
            "_model_module": "@jupyter-widgets/base",
            "top": null,
            "grid_column": null,
            "overflow_y": null,
            "overflow_x": null,
            "grid_auto_flow": null,
            "grid_area": null,
            "grid_template_columns": null,
            "flex": "2",
            "_model_name": "LayoutModel",
            "justify_items": null,
            "grid_row": null,
            "max_height": null,
            "align_content": null,
            "visibility": null,
            "align_self": null,
            "height": null,
            "min_height": null,
            "padding": null,
            "grid_auto_rows": null,
            "grid_gap": null,
            "max_width": null,
            "order": null,
            "_view_module_version": "1.2.0",
            "grid_template_areas": null,
            "object_position": null,
            "object_fit": null,
            "grid_auto_columns": null,
            "margin": null,
            "display": null,
            "left": null
          }
        },
        "3a95ef21bc494c13acfb281f60fea95d": {
          "model_module": "@jupyter-widgets/controls",
          "model_name": "DescriptionStyleModel",
          "state": {
            "_view_name": "StyleView",
            "_model_name": "DescriptionStyleModel",
            "description_width": "",
            "_view_module": "@jupyter-widgets/base",
            "_model_module_version": "1.5.0",
            "_view_count": null,
            "_view_module_version": "1.2.0",
            "_model_module": "@jupyter-widgets/controls"
          }
        },
        "8482910b7a064e91a6f31c89bd50607e": {
          "model_module": "@jupyter-widgets/base",
          "model_name": "LayoutModel",
          "state": {
            "_view_name": "LayoutView",
            "grid_template_rows": null,
            "right": null,
            "justify_content": null,
            "_view_module": "@jupyter-widgets/base",
            "overflow": null,
            "_model_module_version": "1.2.0",
            "_view_count": null,
            "flex_flow": null,
            "width": null,
            "min_width": null,
            "border": null,
            "align_items": null,
            "bottom": null,
            "_model_module": "@jupyter-widgets/base",
            "top": null,
            "grid_column": null,
            "overflow_y": null,
            "overflow_x": null,
            "grid_auto_flow": null,
            "grid_area": null,
            "grid_template_columns": null,
            "flex": null,
            "_model_name": "LayoutModel",
            "justify_items": null,
            "grid_row": null,
            "max_height": null,
            "align_content": null,
            "visibility": null,
            "align_self": null,
            "height": null,
            "min_height": null,
            "padding": null,
            "grid_auto_rows": null,
            "grid_gap": null,
            "max_width": null,
            "order": null,
            "_view_module_version": "1.2.0",
            "grid_template_areas": null,
            "object_position": null,
            "object_fit": null,
            "grid_auto_columns": null,
            "margin": null,
            "display": null,
            "left": null
          }
        },
        "28631abe05694daf8da548b377e96e0d": {
          "model_module": "@jupyter-widgets/controls",
          "model_name": "HBoxModel",
          "state": {
            "_view_name": "HBoxView",
            "_dom_classes": [],
            "_model_name": "HBoxModel",
            "_view_module": "@jupyter-widgets/controls",
            "_model_module_version": "1.5.0",
            "_view_count": null,
            "_view_module_version": "1.5.0",
            "box_style": "",
            "layout": "IPY_MODEL_80bdf028383b423f9dd983a8eff67a69",
            "_model_module": "@jupyter-widgets/controls",
            "children": [
              "IPY_MODEL_0e4126ea16a64b48b4a067741fd7b686",
              "IPY_MODEL_0568c20c0a2b4e3396ba50e01b9d9421"
            ]
          }
        },
        "80bdf028383b423f9dd983a8eff67a69": {
          "model_module": "@jupyter-widgets/base",
          "model_name": "LayoutModel",
          "state": {
            "_view_name": "LayoutView",
            "grid_template_rows": null,
            "right": null,
            "justify_content": null,
            "_view_module": "@jupyter-widgets/base",
            "overflow": null,
            "_model_module_version": "1.2.0",
            "_view_count": null,
            "flex_flow": "row wrap",
            "width": "100%",
            "min_width": null,
            "border": null,
            "align_items": null,
            "bottom": null,
            "_model_module": "@jupyter-widgets/base",
            "top": null,
            "grid_column": null,
            "overflow_y": null,
            "overflow_x": null,
            "grid_auto_flow": null,
            "grid_area": null,
            "grid_template_columns": null,
            "flex": null,
            "_model_name": "LayoutModel",
            "justify_items": null,
            "grid_row": null,
            "max_height": null,
            "align_content": null,
            "visibility": null,
            "align_self": null,
            "height": null,
            "min_height": null,
            "padding": null,
            "grid_auto_rows": null,
            "grid_gap": null,
            "max_width": null,
            "order": null,
            "_view_module_version": "1.2.0",
            "grid_template_areas": null,
            "object_position": null,
            "object_fit": null,
            "grid_auto_columns": null,
            "margin": null,
            "display": "inline-flex",
            "left": null
          }
        },
        "0e4126ea16a64b48b4a067741fd7b686": {
          "model_module": "@jupyter-widgets/controls",
          "model_name": "FloatProgressModel",
          "state": {
            "_view_name": "ProgressView",
            "style": "IPY_MODEL_2cb64554291b4e86a6f9b60d08fbadcc",
            "_dom_classes": [],
            "description": "Validating: 100%",
            "_model_name": "FloatProgressModel",
            "bar_style": "info",
            "max": 5,
            "_view_module": "@jupyter-widgets/controls",
            "_model_module_version": "1.5.0",
            "value": 5,
            "_view_count": null,
            "_view_module_version": "1.5.0",
            "orientation": "horizontal",
            "min": 0,
            "description_tooltip": null,
            "_model_module": "@jupyter-widgets/controls",
            "layout": "IPY_MODEL_61b5b0f0309f4834985b249a564f4a5d"
          }
        },
        "0568c20c0a2b4e3396ba50e01b9d9421": {
          "model_module": "@jupyter-widgets/controls",
          "model_name": "HTMLModel",
          "state": {
            "_view_name": "HTMLView",
            "style": "IPY_MODEL_7d0f81a7a2414a3ab75a46dd4137494b",
            "_dom_classes": [],
            "description": "",
            "_model_name": "HTMLModel",
            "placeholder": "​",
            "_view_module": "@jupyter-widgets/controls",
            "_model_module_version": "1.5.0",
            "value": " 5/5 [00:02&lt;00:00,  2.82it/s]",
            "_view_count": null,
            "_view_module_version": "1.5.0",
            "description_tooltip": null,
            "_model_module": "@jupyter-widgets/controls",
            "layout": "IPY_MODEL_784709f3e5114234a382a983ca8a5e6a"
          }
        },
        "2cb64554291b4e86a6f9b60d08fbadcc": {
          "model_module": "@jupyter-widgets/controls",
          "model_name": "ProgressStyleModel",
          "state": {
            "_view_name": "StyleView",
            "_model_name": "ProgressStyleModel",
            "description_width": "initial",
            "_view_module": "@jupyter-widgets/base",
            "_model_module_version": "1.5.0",
            "_view_count": null,
            "_view_module_version": "1.2.0",
            "bar_color": null,
            "_model_module": "@jupyter-widgets/controls"
          }
        },
        "61b5b0f0309f4834985b249a564f4a5d": {
          "model_module": "@jupyter-widgets/base",
          "model_name": "LayoutModel",
          "state": {
            "_view_name": "LayoutView",
            "grid_template_rows": null,
            "right": null,
            "justify_content": null,
            "_view_module": "@jupyter-widgets/base",
            "overflow": null,
            "_model_module_version": "1.2.0",
            "_view_count": null,
            "flex_flow": null,
            "width": null,
            "min_width": null,
            "border": null,
            "align_items": null,
            "bottom": null,
            "_model_module": "@jupyter-widgets/base",
            "top": null,
            "grid_column": null,
            "overflow_y": null,
            "overflow_x": null,
            "grid_auto_flow": null,
            "grid_area": null,
            "grid_template_columns": null,
            "flex": "2",
            "_model_name": "LayoutModel",
            "justify_items": null,
            "grid_row": null,
            "max_height": null,
            "align_content": null,
            "visibility": null,
            "align_self": null,
            "height": null,
            "min_height": null,
            "padding": null,
            "grid_auto_rows": null,
            "grid_gap": null,
            "max_width": null,
            "order": null,
            "_view_module_version": "1.2.0",
            "grid_template_areas": null,
            "object_position": null,
            "object_fit": null,
            "grid_auto_columns": null,
            "margin": null,
            "display": null,
            "left": null
          }
        },
        "7d0f81a7a2414a3ab75a46dd4137494b": {
          "model_module": "@jupyter-widgets/controls",
          "model_name": "DescriptionStyleModel",
          "state": {
            "_view_name": "StyleView",
            "_model_name": "DescriptionStyleModel",
            "description_width": "",
            "_view_module": "@jupyter-widgets/base",
            "_model_module_version": "1.5.0",
            "_view_count": null,
            "_view_module_version": "1.2.0",
            "_model_module": "@jupyter-widgets/controls"
          }
        },
        "784709f3e5114234a382a983ca8a5e6a": {
          "model_module": "@jupyter-widgets/base",
          "model_name": "LayoutModel",
          "state": {
            "_view_name": "LayoutView",
            "grid_template_rows": null,
            "right": null,
            "justify_content": null,
            "_view_module": "@jupyter-widgets/base",
            "overflow": null,
            "_model_module_version": "1.2.0",
            "_view_count": null,
            "flex_flow": null,
            "width": null,
            "min_width": null,
            "border": null,
            "align_items": null,
            "bottom": null,
            "_model_module": "@jupyter-widgets/base",
            "top": null,
            "grid_column": null,
            "overflow_y": null,
            "overflow_x": null,
            "grid_auto_flow": null,
            "grid_area": null,
            "grid_template_columns": null,
            "flex": null,
            "_model_name": "LayoutModel",
            "justify_items": null,
            "grid_row": null,
            "max_height": null,
            "align_content": null,
            "visibility": null,
            "align_self": null,
            "height": null,
            "min_height": null,
            "padding": null,
            "grid_auto_rows": null,
            "grid_gap": null,
            "max_width": null,
            "order": null,
            "_view_module_version": "1.2.0",
            "grid_template_areas": null,
            "object_position": null,
            "object_fit": null,
            "grid_auto_columns": null,
            "margin": null,
            "display": null,
            "left": null
          }
        },
        "f36b01e47da746adb537f08282c2567f": {
          "model_module": "@jupyter-widgets/controls",
          "model_name": "HBoxModel",
          "state": {
            "_view_name": "HBoxView",
            "_dom_classes": [],
            "_model_name": "HBoxModel",
            "_view_module": "@jupyter-widgets/controls",
            "_model_module_version": "1.5.0",
            "_view_count": null,
            "_view_module_version": "1.5.0",
            "box_style": "",
            "layout": "IPY_MODEL_2a4c038fd39940d7bd3cb04c7b3e0488",
            "_model_module": "@jupyter-widgets/controls",
            "children": [
              "IPY_MODEL_30b78451df38476a9f9d43a410569f13",
              "IPY_MODEL_0a6a22f9bced42b980e59c2f6ee87bc8"
            ]
          }
        },
        "2a4c038fd39940d7bd3cb04c7b3e0488": {
          "model_module": "@jupyter-widgets/base",
          "model_name": "LayoutModel",
          "state": {
            "_view_name": "LayoutView",
            "grid_template_rows": null,
            "right": null,
            "justify_content": null,
            "_view_module": "@jupyter-widgets/base",
            "overflow": null,
            "_model_module_version": "1.2.0",
            "_view_count": null,
            "flex_flow": "row wrap",
            "width": "100%",
            "min_width": null,
            "border": null,
            "align_items": null,
            "bottom": null,
            "_model_module": "@jupyter-widgets/base",
            "top": null,
            "grid_column": null,
            "overflow_y": null,
            "overflow_x": null,
            "grid_auto_flow": null,
            "grid_area": null,
            "grid_template_columns": null,
            "flex": null,
            "_model_name": "LayoutModel",
            "justify_items": null,
            "grid_row": null,
            "max_height": null,
            "align_content": null,
            "visibility": null,
            "align_self": null,
            "height": null,
            "min_height": null,
            "padding": null,
            "grid_auto_rows": null,
            "grid_gap": null,
            "max_width": null,
            "order": null,
            "_view_module_version": "1.2.0",
            "grid_template_areas": null,
            "object_position": null,
            "object_fit": null,
            "grid_auto_columns": null,
            "margin": null,
            "display": "inline-flex",
            "left": null
          }
        },
        "30b78451df38476a9f9d43a410569f13": {
          "model_module": "@jupyter-widgets/controls",
          "model_name": "FloatProgressModel",
          "state": {
            "_view_name": "ProgressView",
            "style": "IPY_MODEL_b1edec1259b9403093842f16ae1a131a",
            "_dom_classes": [],
            "description": "Validating: 100%",
            "_model_name": "FloatProgressModel",
            "bar_style": "info",
            "max": 5,
            "_view_module": "@jupyter-widgets/controls",
            "_model_module_version": "1.5.0",
            "value": 5,
            "_view_count": null,
            "_view_module_version": "1.5.0",
            "orientation": "horizontal",
            "min": 0,
            "description_tooltip": null,
            "_model_module": "@jupyter-widgets/controls",
            "layout": "IPY_MODEL_58450b9e79674ff08f9240a1ec70ced4"
          }
        },
        "0a6a22f9bced42b980e59c2f6ee87bc8": {
          "model_module": "@jupyter-widgets/controls",
          "model_name": "HTMLModel",
          "state": {
            "_view_name": "HTMLView",
            "style": "IPY_MODEL_3cc95dc34a134003a1650ba6f8fa2c8e",
            "_dom_classes": [],
            "description": "",
            "_model_name": "HTMLModel",
            "placeholder": "​",
            "_view_module": "@jupyter-widgets/controls",
            "_model_module_version": "1.5.0",
            "value": " 5/5 [00:02&lt;00:00,  2.82it/s]",
            "_view_count": null,
            "_view_module_version": "1.5.0",
            "description_tooltip": null,
            "_model_module": "@jupyter-widgets/controls",
            "layout": "IPY_MODEL_f2e6ee9f9f15499c922c7fc516a50b3f"
          }
        },
        "b1edec1259b9403093842f16ae1a131a": {
          "model_module": "@jupyter-widgets/controls",
          "model_name": "ProgressStyleModel",
          "state": {
            "_view_name": "StyleView",
            "_model_name": "ProgressStyleModel",
            "description_width": "initial",
            "_view_module": "@jupyter-widgets/base",
            "_model_module_version": "1.5.0",
            "_view_count": null,
            "_view_module_version": "1.2.0",
            "bar_color": null,
            "_model_module": "@jupyter-widgets/controls"
          }
        },
        "58450b9e79674ff08f9240a1ec70ced4": {
          "model_module": "@jupyter-widgets/base",
          "model_name": "LayoutModel",
          "state": {
            "_view_name": "LayoutView",
            "grid_template_rows": null,
            "right": null,
            "justify_content": null,
            "_view_module": "@jupyter-widgets/base",
            "overflow": null,
            "_model_module_version": "1.2.0",
            "_view_count": null,
            "flex_flow": null,
            "width": null,
            "min_width": null,
            "border": null,
            "align_items": null,
            "bottom": null,
            "_model_module": "@jupyter-widgets/base",
            "top": null,
            "grid_column": null,
            "overflow_y": null,
            "overflow_x": null,
            "grid_auto_flow": null,
            "grid_area": null,
            "grid_template_columns": null,
            "flex": "2",
            "_model_name": "LayoutModel",
            "justify_items": null,
            "grid_row": null,
            "max_height": null,
            "align_content": null,
            "visibility": null,
            "align_self": null,
            "height": null,
            "min_height": null,
            "padding": null,
            "grid_auto_rows": null,
            "grid_gap": null,
            "max_width": null,
            "order": null,
            "_view_module_version": "1.2.0",
            "grid_template_areas": null,
            "object_position": null,
            "object_fit": null,
            "grid_auto_columns": null,
            "margin": null,
            "display": null,
            "left": null
          }
        },
        "3cc95dc34a134003a1650ba6f8fa2c8e": {
          "model_module": "@jupyter-widgets/controls",
          "model_name": "DescriptionStyleModel",
          "state": {
            "_view_name": "StyleView",
            "_model_name": "DescriptionStyleModel",
            "description_width": "",
            "_view_module": "@jupyter-widgets/base",
            "_model_module_version": "1.5.0",
            "_view_count": null,
            "_view_module_version": "1.2.0",
            "_model_module": "@jupyter-widgets/controls"
          }
        },
        "f2e6ee9f9f15499c922c7fc516a50b3f": {
          "model_module": "@jupyter-widgets/base",
          "model_name": "LayoutModel",
          "state": {
            "_view_name": "LayoutView",
            "grid_template_rows": null,
            "right": null,
            "justify_content": null,
            "_view_module": "@jupyter-widgets/base",
            "overflow": null,
            "_model_module_version": "1.2.0",
            "_view_count": null,
            "flex_flow": null,
            "width": null,
            "min_width": null,
            "border": null,
            "align_items": null,
            "bottom": null,
            "_model_module": "@jupyter-widgets/base",
            "top": null,
            "grid_column": null,
            "overflow_y": null,
            "overflow_x": null,
            "grid_auto_flow": null,
            "grid_area": null,
            "grid_template_columns": null,
            "flex": null,
            "_model_name": "LayoutModel",
            "justify_items": null,
            "grid_row": null,
            "max_height": null,
            "align_content": null,
            "visibility": null,
            "align_self": null,
            "height": null,
            "min_height": null,
            "padding": null,
            "grid_auto_rows": null,
            "grid_gap": null,
            "max_width": null,
            "order": null,
            "_view_module_version": "1.2.0",
            "grid_template_areas": null,
            "object_position": null,
            "object_fit": null,
            "grid_auto_columns": null,
            "margin": null,
            "display": null,
            "left": null
          }
        },
        "058d9cd2db1b428cac536b6146d5ad9a": {
          "model_module": "@jupyter-widgets/controls",
          "model_name": "HBoxModel",
          "state": {
            "_view_name": "HBoxView",
            "_dom_classes": [],
            "_model_name": "HBoxModel",
            "_view_module": "@jupyter-widgets/controls",
            "_model_module_version": "1.5.0",
            "_view_count": null,
            "_view_module_version": "1.5.0",
            "box_style": "",
            "layout": "IPY_MODEL_f0e8cc2c92bd492eb28c72621bbcece0",
            "_model_module": "@jupyter-widgets/controls",
            "children": [
              "IPY_MODEL_d3c244533f0c456eb7a5481f2632953f",
              "IPY_MODEL_967cecc04b094d1ea8ef1ec8806dd30a"
            ]
          }
        },
        "f0e8cc2c92bd492eb28c72621bbcece0": {
          "model_module": "@jupyter-widgets/base",
          "model_name": "LayoutModel",
          "state": {
            "_view_name": "LayoutView",
            "grid_template_rows": null,
            "right": null,
            "justify_content": null,
            "_view_module": "@jupyter-widgets/base",
            "overflow": null,
            "_model_module_version": "1.2.0",
            "_view_count": null,
            "flex_flow": "row wrap",
            "width": "100%",
            "min_width": null,
            "border": null,
            "align_items": null,
            "bottom": null,
            "_model_module": "@jupyter-widgets/base",
            "top": null,
            "grid_column": null,
            "overflow_y": null,
            "overflow_x": null,
            "grid_auto_flow": null,
            "grid_area": null,
            "grid_template_columns": null,
            "flex": null,
            "_model_name": "LayoutModel",
            "justify_items": null,
            "grid_row": null,
            "max_height": null,
            "align_content": null,
            "visibility": null,
            "align_self": null,
            "height": null,
            "min_height": null,
            "padding": null,
            "grid_auto_rows": null,
            "grid_gap": null,
            "max_width": null,
            "order": null,
            "_view_module_version": "1.2.0",
            "grid_template_areas": null,
            "object_position": null,
            "object_fit": null,
            "grid_auto_columns": null,
            "margin": null,
            "display": "inline-flex",
            "left": null
          }
        },
        "d3c244533f0c456eb7a5481f2632953f": {
          "model_module": "@jupyter-widgets/controls",
          "model_name": "FloatProgressModel",
          "state": {
            "_view_name": "ProgressView",
            "style": "IPY_MODEL_bf97ba5c081b4a40b35145974e990d91",
            "_dom_classes": [],
            "description": "Validating: 100%",
            "_model_name": "FloatProgressModel",
            "bar_style": "info",
            "max": 5,
            "_view_module": "@jupyter-widgets/controls",
            "_model_module_version": "1.5.0",
            "value": 5,
            "_view_count": null,
            "_view_module_version": "1.5.0",
            "orientation": "horizontal",
            "min": 0,
            "description_tooltip": null,
            "_model_module": "@jupyter-widgets/controls",
            "layout": "IPY_MODEL_55824060e8c34e30a50dda43160f032c"
          }
        },
        "967cecc04b094d1ea8ef1ec8806dd30a": {
          "model_module": "@jupyter-widgets/controls",
          "model_name": "HTMLModel",
          "state": {
            "_view_name": "HTMLView",
            "style": "IPY_MODEL_77b06463d43c4e49b97ebecf68356a86",
            "_dom_classes": [],
            "description": "",
            "_model_name": "HTMLModel",
            "placeholder": "​",
            "_view_module": "@jupyter-widgets/controls",
            "_model_module_version": "1.5.0",
            "value": " 5/5 [00:02&lt;00:00,  2.73it/s]",
            "_view_count": null,
            "_view_module_version": "1.5.0",
            "description_tooltip": null,
            "_model_module": "@jupyter-widgets/controls",
            "layout": "IPY_MODEL_d489cdc568104ea3984dcc3c3ca9ff5a"
          }
        },
        "bf97ba5c081b4a40b35145974e990d91": {
          "model_module": "@jupyter-widgets/controls",
          "model_name": "ProgressStyleModel",
          "state": {
            "_view_name": "StyleView",
            "_model_name": "ProgressStyleModel",
            "description_width": "initial",
            "_view_module": "@jupyter-widgets/base",
            "_model_module_version": "1.5.0",
            "_view_count": null,
            "_view_module_version": "1.2.0",
            "bar_color": null,
            "_model_module": "@jupyter-widgets/controls"
          }
        },
        "55824060e8c34e30a50dda43160f032c": {
          "model_module": "@jupyter-widgets/base",
          "model_name": "LayoutModel",
          "state": {
            "_view_name": "LayoutView",
            "grid_template_rows": null,
            "right": null,
            "justify_content": null,
            "_view_module": "@jupyter-widgets/base",
            "overflow": null,
            "_model_module_version": "1.2.0",
            "_view_count": null,
            "flex_flow": null,
            "width": null,
            "min_width": null,
            "border": null,
            "align_items": null,
            "bottom": null,
            "_model_module": "@jupyter-widgets/base",
            "top": null,
            "grid_column": null,
            "overflow_y": null,
            "overflow_x": null,
            "grid_auto_flow": null,
            "grid_area": null,
            "grid_template_columns": null,
            "flex": "2",
            "_model_name": "LayoutModel",
            "justify_items": null,
            "grid_row": null,
            "max_height": null,
            "align_content": null,
            "visibility": null,
            "align_self": null,
            "height": null,
            "min_height": null,
            "padding": null,
            "grid_auto_rows": null,
            "grid_gap": null,
            "max_width": null,
            "order": null,
            "_view_module_version": "1.2.0",
            "grid_template_areas": null,
            "object_position": null,
            "object_fit": null,
            "grid_auto_columns": null,
            "margin": null,
            "display": null,
            "left": null
          }
        },
        "77b06463d43c4e49b97ebecf68356a86": {
          "model_module": "@jupyter-widgets/controls",
          "model_name": "DescriptionStyleModel",
          "state": {
            "_view_name": "StyleView",
            "_model_name": "DescriptionStyleModel",
            "description_width": "",
            "_view_module": "@jupyter-widgets/base",
            "_model_module_version": "1.5.0",
            "_view_count": null,
            "_view_module_version": "1.2.0",
            "_model_module": "@jupyter-widgets/controls"
          }
        },
        "d489cdc568104ea3984dcc3c3ca9ff5a": {
          "model_module": "@jupyter-widgets/base",
          "model_name": "LayoutModel",
          "state": {
            "_view_name": "LayoutView",
            "grid_template_rows": null,
            "right": null,
            "justify_content": null,
            "_view_module": "@jupyter-widgets/base",
            "overflow": null,
            "_model_module_version": "1.2.0",
            "_view_count": null,
            "flex_flow": null,
            "width": null,
            "min_width": null,
            "border": null,
            "align_items": null,
            "bottom": null,
            "_model_module": "@jupyter-widgets/base",
            "top": null,
            "grid_column": null,
            "overflow_y": null,
            "overflow_x": null,
            "grid_auto_flow": null,
            "grid_area": null,
            "grid_template_columns": null,
            "flex": null,
            "_model_name": "LayoutModel",
            "justify_items": null,
            "grid_row": null,
            "max_height": null,
            "align_content": null,
            "visibility": null,
            "align_self": null,
            "height": null,
            "min_height": null,
            "padding": null,
            "grid_auto_rows": null,
            "grid_gap": null,
            "max_width": null,
            "order": null,
            "_view_module_version": "1.2.0",
            "grid_template_areas": null,
            "object_position": null,
            "object_fit": null,
            "grid_auto_columns": null,
            "margin": null,
            "display": null,
            "left": null
          }
        },
        "020474d71a1e45afadcb3d2251aef345": {
          "model_module": "@jupyter-widgets/controls",
          "model_name": "HBoxModel",
          "state": {
            "_view_name": "HBoxView",
            "_dom_classes": [],
            "_model_name": "HBoxModel",
            "_view_module": "@jupyter-widgets/controls",
            "_model_module_version": "1.5.0",
            "_view_count": null,
            "_view_module_version": "1.5.0",
            "box_style": "",
            "layout": "IPY_MODEL_ad4a57afb56d4593991d4b314ae2f55f",
            "_model_module": "@jupyter-widgets/controls",
            "children": [
              "IPY_MODEL_eb65da6b6dd74e1184c8a00044930baa",
              "IPY_MODEL_cd262cea633a4730b83c31694401e007"
            ]
          }
        },
        "ad4a57afb56d4593991d4b314ae2f55f": {
          "model_module": "@jupyter-widgets/base",
          "model_name": "LayoutModel",
          "state": {
            "_view_name": "LayoutView",
            "grid_template_rows": null,
            "right": null,
            "justify_content": null,
            "_view_module": "@jupyter-widgets/base",
            "overflow": null,
            "_model_module_version": "1.2.0",
            "_view_count": null,
            "flex_flow": "row wrap",
            "width": "100%",
            "min_width": null,
            "border": null,
            "align_items": null,
            "bottom": null,
            "_model_module": "@jupyter-widgets/base",
            "top": null,
            "grid_column": null,
            "overflow_y": null,
            "overflow_x": null,
            "grid_auto_flow": null,
            "grid_area": null,
            "grid_template_columns": null,
            "flex": null,
            "_model_name": "LayoutModel",
            "justify_items": null,
            "grid_row": null,
            "max_height": null,
            "align_content": null,
            "visibility": null,
            "align_self": null,
            "height": null,
            "min_height": null,
            "padding": null,
            "grid_auto_rows": null,
            "grid_gap": null,
            "max_width": null,
            "order": null,
            "_view_module_version": "1.2.0",
            "grid_template_areas": null,
            "object_position": null,
            "object_fit": null,
            "grid_auto_columns": null,
            "margin": null,
            "display": "inline-flex",
            "left": null
          }
        },
        "eb65da6b6dd74e1184c8a00044930baa": {
          "model_module": "@jupyter-widgets/controls",
          "model_name": "FloatProgressModel",
          "state": {
            "_view_name": "ProgressView",
            "style": "IPY_MODEL_8810ddf1ac2e4bdfae1ca54a5426d6d4",
            "_dom_classes": [],
            "description": "Validating: 100%",
            "_model_name": "FloatProgressModel",
            "bar_style": "info",
            "max": 5,
            "_view_module": "@jupyter-widgets/controls",
            "_model_module_version": "1.5.0",
            "value": 5,
            "_view_count": null,
            "_view_module_version": "1.5.0",
            "orientation": "horizontal",
            "min": 0,
            "description_tooltip": null,
            "_model_module": "@jupyter-widgets/controls",
            "layout": "IPY_MODEL_3cd8a43f2566400a940480a446828ff4"
          }
        },
        "cd262cea633a4730b83c31694401e007": {
          "model_module": "@jupyter-widgets/controls",
          "model_name": "HTMLModel",
          "state": {
            "_view_name": "HTMLView",
            "style": "IPY_MODEL_ef078a41e72449878d06ef98994e3c8f",
            "_dom_classes": [],
            "description": "",
            "_model_name": "HTMLModel",
            "placeholder": "​",
            "_view_module": "@jupyter-widgets/controls",
            "_model_module_version": "1.5.0",
            "value": " 5/5 [00:02&lt;00:00,  2.63it/s]",
            "_view_count": null,
            "_view_module_version": "1.5.0",
            "description_tooltip": null,
            "_model_module": "@jupyter-widgets/controls",
            "layout": "IPY_MODEL_0ac41e80199940ebb1554ef90da37742"
          }
        },
        "8810ddf1ac2e4bdfae1ca54a5426d6d4": {
          "model_module": "@jupyter-widgets/controls",
          "model_name": "ProgressStyleModel",
          "state": {
            "_view_name": "StyleView",
            "_model_name": "ProgressStyleModel",
            "description_width": "initial",
            "_view_module": "@jupyter-widgets/base",
            "_model_module_version": "1.5.0",
            "_view_count": null,
            "_view_module_version": "1.2.0",
            "bar_color": null,
            "_model_module": "@jupyter-widgets/controls"
          }
        },
        "3cd8a43f2566400a940480a446828ff4": {
          "model_module": "@jupyter-widgets/base",
          "model_name": "LayoutModel",
          "state": {
            "_view_name": "LayoutView",
            "grid_template_rows": null,
            "right": null,
            "justify_content": null,
            "_view_module": "@jupyter-widgets/base",
            "overflow": null,
            "_model_module_version": "1.2.0",
            "_view_count": null,
            "flex_flow": null,
            "width": null,
            "min_width": null,
            "border": null,
            "align_items": null,
            "bottom": null,
            "_model_module": "@jupyter-widgets/base",
            "top": null,
            "grid_column": null,
            "overflow_y": null,
            "overflow_x": null,
            "grid_auto_flow": null,
            "grid_area": null,
            "grid_template_columns": null,
            "flex": "2",
            "_model_name": "LayoutModel",
            "justify_items": null,
            "grid_row": null,
            "max_height": null,
            "align_content": null,
            "visibility": null,
            "align_self": null,
            "height": null,
            "min_height": null,
            "padding": null,
            "grid_auto_rows": null,
            "grid_gap": null,
            "max_width": null,
            "order": null,
            "_view_module_version": "1.2.0",
            "grid_template_areas": null,
            "object_position": null,
            "object_fit": null,
            "grid_auto_columns": null,
            "margin": null,
            "display": null,
            "left": null
          }
        },
        "ef078a41e72449878d06ef98994e3c8f": {
          "model_module": "@jupyter-widgets/controls",
          "model_name": "DescriptionStyleModel",
          "state": {
            "_view_name": "StyleView",
            "_model_name": "DescriptionStyleModel",
            "description_width": "",
            "_view_module": "@jupyter-widgets/base",
            "_model_module_version": "1.5.0",
            "_view_count": null,
            "_view_module_version": "1.2.0",
            "_model_module": "@jupyter-widgets/controls"
          }
        },
        "0ac41e80199940ebb1554ef90da37742": {
          "model_module": "@jupyter-widgets/base",
          "model_name": "LayoutModel",
          "state": {
            "_view_name": "LayoutView",
            "grid_template_rows": null,
            "right": null,
            "justify_content": null,
            "_view_module": "@jupyter-widgets/base",
            "overflow": null,
            "_model_module_version": "1.2.0",
            "_view_count": null,
            "flex_flow": null,
            "width": null,
            "min_width": null,
            "border": null,
            "align_items": null,
            "bottom": null,
            "_model_module": "@jupyter-widgets/base",
            "top": null,
            "grid_column": null,
            "overflow_y": null,
            "overflow_x": null,
            "grid_auto_flow": null,
            "grid_area": null,
            "grid_template_columns": null,
            "flex": null,
            "_model_name": "LayoutModel",
            "justify_items": null,
            "grid_row": null,
            "max_height": null,
            "align_content": null,
            "visibility": null,
            "align_self": null,
            "height": null,
            "min_height": null,
            "padding": null,
            "grid_auto_rows": null,
            "grid_gap": null,
            "max_width": null,
            "order": null,
            "_view_module_version": "1.2.0",
            "grid_template_areas": null,
            "object_position": null,
            "object_fit": null,
            "grid_auto_columns": null,
            "margin": null,
            "display": null,
            "left": null
          }
        },
        "9cf60e76aac8404fbfeca4072345078e": {
          "model_module": "@jupyter-widgets/controls",
          "model_name": "HBoxModel",
          "state": {
            "_view_name": "HBoxView",
            "_dom_classes": [],
            "_model_name": "HBoxModel",
            "_view_module": "@jupyter-widgets/controls",
            "_model_module_version": "1.5.0",
            "_view_count": null,
            "_view_module_version": "1.5.0",
            "box_style": "",
            "layout": "IPY_MODEL_6fe645483fa9460aaa87554f77f3b54f",
            "_model_module": "@jupyter-widgets/controls",
            "children": [
              "IPY_MODEL_ee5c084f2b5f4621aad9146f5d4500da",
              "IPY_MODEL_d99f6e0620424373874feaf8add80e6f"
            ]
          }
        },
        "6fe645483fa9460aaa87554f77f3b54f": {
          "model_module": "@jupyter-widgets/base",
          "model_name": "LayoutModel",
          "state": {
            "_view_name": "LayoutView",
            "grid_template_rows": null,
            "right": null,
            "justify_content": null,
            "_view_module": "@jupyter-widgets/base",
            "overflow": null,
            "_model_module_version": "1.2.0",
            "_view_count": null,
            "flex_flow": "row wrap",
            "width": "100%",
            "min_width": null,
            "border": null,
            "align_items": null,
            "bottom": null,
            "_model_module": "@jupyter-widgets/base",
            "top": null,
            "grid_column": null,
            "overflow_y": null,
            "overflow_x": null,
            "grid_auto_flow": null,
            "grid_area": null,
            "grid_template_columns": null,
            "flex": null,
            "_model_name": "LayoutModel",
            "justify_items": null,
            "grid_row": null,
            "max_height": null,
            "align_content": null,
            "visibility": null,
            "align_self": null,
            "height": null,
            "min_height": null,
            "padding": null,
            "grid_auto_rows": null,
            "grid_gap": null,
            "max_width": null,
            "order": null,
            "_view_module_version": "1.2.0",
            "grid_template_areas": null,
            "object_position": null,
            "object_fit": null,
            "grid_auto_columns": null,
            "margin": null,
            "display": "inline-flex",
            "left": null
          }
        },
        "ee5c084f2b5f4621aad9146f5d4500da": {
          "model_module": "@jupyter-widgets/controls",
          "model_name": "FloatProgressModel",
          "state": {
            "_view_name": "ProgressView",
            "style": "IPY_MODEL_022d108fcb8842e3bedc5eff9ceeada9",
            "_dom_classes": [],
            "description": "Validating: 100%",
            "_model_name": "FloatProgressModel",
            "bar_style": "info",
            "max": 5,
            "_view_module": "@jupyter-widgets/controls",
            "_model_module_version": "1.5.0",
            "value": 5,
            "_view_count": null,
            "_view_module_version": "1.5.0",
            "orientation": "horizontal",
            "min": 0,
            "description_tooltip": null,
            "_model_module": "@jupyter-widgets/controls",
            "layout": "IPY_MODEL_04dd4ca939db4b68a744cb2037d9b9e6"
          }
        },
        "d99f6e0620424373874feaf8add80e6f": {
          "model_module": "@jupyter-widgets/controls",
          "model_name": "HTMLModel",
          "state": {
            "_view_name": "HTMLView",
            "style": "IPY_MODEL_259efee2b6e64028af3612e0fd56fd16",
            "_dom_classes": [],
            "description": "",
            "_model_name": "HTMLModel",
            "placeholder": "​",
            "_view_module": "@jupyter-widgets/controls",
            "_model_module_version": "1.5.0",
            "value": " 5/5 [00:02&lt;00:00,  2.66it/s]",
            "_view_count": null,
            "_view_module_version": "1.5.0",
            "description_tooltip": null,
            "_model_module": "@jupyter-widgets/controls",
            "layout": "IPY_MODEL_8e5bc6efd4b749ab933a76cf197e4c8e"
          }
        },
        "022d108fcb8842e3bedc5eff9ceeada9": {
          "model_module": "@jupyter-widgets/controls",
          "model_name": "ProgressStyleModel",
          "state": {
            "_view_name": "StyleView",
            "_model_name": "ProgressStyleModel",
            "description_width": "initial",
            "_view_module": "@jupyter-widgets/base",
            "_model_module_version": "1.5.0",
            "_view_count": null,
            "_view_module_version": "1.2.0",
            "bar_color": null,
            "_model_module": "@jupyter-widgets/controls"
          }
        },
        "04dd4ca939db4b68a744cb2037d9b9e6": {
          "model_module": "@jupyter-widgets/base",
          "model_name": "LayoutModel",
          "state": {
            "_view_name": "LayoutView",
            "grid_template_rows": null,
            "right": null,
            "justify_content": null,
            "_view_module": "@jupyter-widgets/base",
            "overflow": null,
            "_model_module_version": "1.2.0",
            "_view_count": null,
            "flex_flow": null,
            "width": null,
            "min_width": null,
            "border": null,
            "align_items": null,
            "bottom": null,
            "_model_module": "@jupyter-widgets/base",
            "top": null,
            "grid_column": null,
            "overflow_y": null,
            "overflow_x": null,
            "grid_auto_flow": null,
            "grid_area": null,
            "grid_template_columns": null,
            "flex": "2",
            "_model_name": "LayoutModel",
            "justify_items": null,
            "grid_row": null,
            "max_height": null,
            "align_content": null,
            "visibility": null,
            "align_self": null,
            "height": null,
            "min_height": null,
            "padding": null,
            "grid_auto_rows": null,
            "grid_gap": null,
            "max_width": null,
            "order": null,
            "_view_module_version": "1.2.0",
            "grid_template_areas": null,
            "object_position": null,
            "object_fit": null,
            "grid_auto_columns": null,
            "margin": null,
            "display": null,
            "left": null
          }
        },
        "259efee2b6e64028af3612e0fd56fd16": {
          "model_module": "@jupyter-widgets/controls",
          "model_name": "DescriptionStyleModel",
          "state": {
            "_view_name": "StyleView",
            "_model_name": "DescriptionStyleModel",
            "description_width": "",
            "_view_module": "@jupyter-widgets/base",
            "_model_module_version": "1.5.0",
            "_view_count": null,
            "_view_module_version": "1.2.0",
            "_model_module": "@jupyter-widgets/controls"
          }
        },
        "8e5bc6efd4b749ab933a76cf197e4c8e": {
          "model_module": "@jupyter-widgets/base",
          "model_name": "LayoutModel",
          "state": {
            "_view_name": "LayoutView",
            "grid_template_rows": null,
            "right": null,
            "justify_content": null,
            "_view_module": "@jupyter-widgets/base",
            "overflow": null,
            "_model_module_version": "1.2.0",
            "_view_count": null,
            "flex_flow": null,
            "width": null,
            "min_width": null,
            "border": null,
            "align_items": null,
            "bottom": null,
            "_model_module": "@jupyter-widgets/base",
            "top": null,
            "grid_column": null,
            "overflow_y": null,
            "overflow_x": null,
            "grid_auto_flow": null,
            "grid_area": null,
            "grid_template_columns": null,
            "flex": null,
            "_model_name": "LayoutModel",
            "justify_items": null,
            "grid_row": null,
            "max_height": null,
            "align_content": null,
            "visibility": null,
            "align_self": null,
            "height": null,
            "min_height": null,
            "padding": null,
            "grid_auto_rows": null,
            "grid_gap": null,
            "max_width": null,
            "order": null,
            "_view_module_version": "1.2.0",
            "grid_template_areas": null,
            "object_position": null,
            "object_fit": null,
            "grid_auto_columns": null,
            "margin": null,
            "display": null,
            "left": null
          }
        },
        "b8b2631c86d94e83b7102ddc764cafac": {
          "model_module": "@jupyter-widgets/controls",
          "model_name": "HBoxModel",
          "state": {
            "_view_name": "HBoxView",
            "_dom_classes": [],
            "_model_name": "HBoxModel",
            "_view_module": "@jupyter-widgets/controls",
            "_model_module_version": "1.5.0",
            "_view_count": null,
            "_view_module_version": "1.5.0",
            "box_style": "",
            "layout": "IPY_MODEL_8225067cf71d49bf905704181dd58623",
            "_model_module": "@jupyter-widgets/controls",
            "children": [
              "IPY_MODEL_3cdb64b0a7c243ae911bcc66536ce391",
              "IPY_MODEL_a699eef052614237b4c52622c8b958d6"
            ]
          }
        },
        "8225067cf71d49bf905704181dd58623": {
          "model_module": "@jupyter-widgets/base",
          "model_name": "LayoutModel",
          "state": {
            "_view_name": "LayoutView",
            "grid_template_rows": null,
            "right": null,
            "justify_content": null,
            "_view_module": "@jupyter-widgets/base",
            "overflow": null,
            "_model_module_version": "1.2.0",
            "_view_count": null,
            "flex_flow": "row wrap",
            "width": "100%",
            "min_width": null,
            "border": null,
            "align_items": null,
            "bottom": null,
            "_model_module": "@jupyter-widgets/base",
            "top": null,
            "grid_column": null,
            "overflow_y": null,
            "overflow_x": null,
            "grid_auto_flow": null,
            "grid_area": null,
            "grid_template_columns": null,
            "flex": null,
            "_model_name": "LayoutModel",
            "justify_items": null,
            "grid_row": null,
            "max_height": null,
            "align_content": null,
            "visibility": null,
            "align_self": null,
            "height": null,
            "min_height": null,
            "padding": null,
            "grid_auto_rows": null,
            "grid_gap": null,
            "max_width": null,
            "order": null,
            "_view_module_version": "1.2.0",
            "grid_template_areas": null,
            "object_position": null,
            "object_fit": null,
            "grid_auto_columns": null,
            "margin": null,
            "display": "inline-flex",
            "left": null
          }
        },
        "3cdb64b0a7c243ae911bcc66536ce391": {
          "model_module": "@jupyter-widgets/controls",
          "model_name": "FloatProgressModel",
          "state": {
            "_view_name": "ProgressView",
            "style": "IPY_MODEL_d23a6a2ede344edf9d5818b4e7badee1",
            "_dom_classes": [],
            "description": "Testing: 100%",
            "_model_name": "FloatProgressModel",
            "bar_style": "success",
            "max": 1,
            "_view_module": "@jupyter-widgets/controls",
            "_model_module_version": "1.5.0",
            "value": 1,
            "_view_count": null,
            "_view_module_version": "1.5.0",
            "orientation": "horizontal",
            "min": 0,
            "description_tooltip": null,
            "_model_module": "@jupyter-widgets/controls",
            "layout": "IPY_MODEL_188a8f5ce95a47c389468531cd05f6c7"
          }
        },
        "a699eef052614237b4c52622c8b958d6": {
          "model_module": "@jupyter-widgets/controls",
          "model_name": "HTMLModel",
          "state": {
            "_view_name": "HTMLView",
            "style": "IPY_MODEL_3c04b1e6c0f1408e89231579426cd44b",
            "_dom_classes": [],
            "description": "",
            "_model_name": "HTMLModel",
            "placeholder": "​",
            "_view_module": "@jupyter-widgets/controls",
            "_model_module_version": "1.5.0",
            "value": " 5/5 [00:02&lt;00:00,  2.16it/s]",
            "_view_count": null,
            "_view_module_version": "1.5.0",
            "description_tooltip": null,
            "_model_module": "@jupyter-widgets/controls",
            "layout": "IPY_MODEL_602430322f6643ba99ea9e57ea3ff4b9"
          }
        },
        "d23a6a2ede344edf9d5818b4e7badee1": {
          "model_module": "@jupyter-widgets/controls",
          "model_name": "ProgressStyleModel",
          "state": {
            "_view_name": "StyleView",
            "_model_name": "ProgressStyleModel",
            "description_width": "initial",
            "_view_module": "@jupyter-widgets/base",
            "_model_module_version": "1.5.0",
            "_view_count": null,
            "_view_module_version": "1.2.0",
            "bar_color": null,
            "_model_module": "@jupyter-widgets/controls"
          }
        },
        "188a8f5ce95a47c389468531cd05f6c7": {
          "model_module": "@jupyter-widgets/base",
          "model_name": "LayoutModel",
          "state": {
            "_view_name": "LayoutView",
            "grid_template_rows": null,
            "right": null,
            "justify_content": null,
            "_view_module": "@jupyter-widgets/base",
            "overflow": null,
            "_model_module_version": "1.2.0",
            "_view_count": null,
            "flex_flow": null,
            "width": null,
            "min_width": null,
            "border": null,
            "align_items": null,
            "bottom": null,
            "_model_module": "@jupyter-widgets/base",
            "top": null,
            "grid_column": null,
            "overflow_y": null,
            "overflow_x": null,
            "grid_auto_flow": null,
            "grid_area": null,
            "grid_template_columns": null,
            "flex": "2",
            "_model_name": "LayoutModel",
            "justify_items": null,
            "grid_row": null,
            "max_height": null,
            "align_content": null,
            "visibility": null,
            "align_self": null,
            "height": null,
            "min_height": null,
            "padding": null,
            "grid_auto_rows": null,
            "grid_gap": null,
            "max_width": null,
            "order": null,
            "_view_module_version": "1.2.0",
            "grid_template_areas": null,
            "object_position": null,
            "object_fit": null,
            "grid_auto_columns": null,
            "margin": null,
            "display": null,
            "left": null
          }
        },
        "3c04b1e6c0f1408e89231579426cd44b": {
          "model_module": "@jupyter-widgets/controls",
          "model_name": "DescriptionStyleModel",
          "state": {
            "_view_name": "StyleView",
            "_model_name": "DescriptionStyleModel",
            "description_width": "",
            "_view_module": "@jupyter-widgets/base",
            "_model_module_version": "1.5.0",
            "_view_count": null,
            "_view_module_version": "1.2.0",
            "_model_module": "@jupyter-widgets/controls"
          }
        },
        "602430322f6643ba99ea9e57ea3ff4b9": {
          "model_module": "@jupyter-widgets/base",
          "model_name": "LayoutModel",
          "state": {
            "_view_name": "LayoutView",
            "grid_template_rows": null,
            "right": null,
            "justify_content": null,
            "_view_module": "@jupyter-widgets/base",
            "overflow": null,
            "_model_module_version": "1.2.0",
            "_view_count": null,
            "flex_flow": null,
            "width": null,
            "min_width": null,
            "border": null,
            "align_items": null,
            "bottom": null,
            "_model_module": "@jupyter-widgets/base",
            "top": null,
            "grid_column": null,
            "overflow_y": null,
            "overflow_x": null,
            "grid_auto_flow": null,
            "grid_area": null,
            "grid_template_columns": null,
            "flex": null,
            "_model_name": "LayoutModel",
            "justify_items": null,
            "grid_row": null,
            "max_height": null,
            "align_content": null,
            "visibility": null,
            "align_self": null,
            "height": null,
            "min_height": null,
            "padding": null,
            "grid_auto_rows": null,
            "grid_gap": null,
            "max_width": null,
            "order": null,
            "_view_module_version": "1.2.0",
            "grid_template_areas": null,
            "object_position": null,
            "object_fit": null,
            "grid_auto_columns": null,
            "margin": null,
            "display": null,
            "left": null
          }
        },
        "849262c61cde4250aae6411e1a54aab8": {
          "model_module": "@jupyter-widgets/controls",
          "model_name": "VBoxModel",
          "state": {
            "_view_name": "VBoxView",
            "_dom_classes": [],
            "_model_name": "VBoxModel",
            "_view_module": "@jupyter-widgets/controls",
            "_model_module_version": "1.5.0",
            "_view_count": null,
            "_view_module_version": "1.5.0",
            "box_style": "",
            "layout": "IPY_MODEL_a65a765bd9be4b528ffa6e65da2351d6",
            "_model_module": "@jupyter-widgets/controls",
            "children": [
              "IPY_MODEL_254d6ff3d3454014b2027950b64b690c",
              "IPY_MODEL_b74a5797f6154b938bd5196a4ce98e5c"
            ]
          }
        },
        "a65a765bd9be4b528ffa6e65da2351d6": {
          "model_module": "@jupyter-widgets/base",
          "model_name": "LayoutModel",
          "state": {
            "_view_name": "LayoutView",
            "grid_template_rows": null,
            "right": null,
            "justify_content": null,
            "_view_module": "@jupyter-widgets/base",
            "overflow": null,
            "_model_module_version": "1.2.0",
            "_view_count": null,
            "flex_flow": null,
            "width": null,
            "min_width": null,
            "border": null,
            "align_items": null,
            "bottom": null,
            "_model_module": "@jupyter-widgets/base",
            "top": null,
            "grid_column": null,
            "overflow_y": null,
            "overflow_x": null,
            "grid_auto_flow": null,
            "grid_area": null,
            "grid_template_columns": null,
            "flex": null,
            "_model_name": "LayoutModel",
            "justify_items": null,
            "grid_row": null,
            "max_height": null,
            "align_content": null,
            "visibility": null,
            "align_self": null,
            "height": null,
            "min_height": null,
            "padding": null,
            "grid_auto_rows": null,
            "grid_gap": null,
            "max_width": null,
            "order": null,
            "_view_module_version": "1.2.0",
            "grid_template_areas": null,
            "object_position": null,
            "object_fit": null,
            "grid_auto_columns": null,
            "margin": null,
            "display": null,
            "left": null
          }
        },
        "254d6ff3d3454014b2027950b64b690c": {
          "model_module": "@jupyter-widgets/controls",
          "model_name": "LabelModel",
          "state": {
            "_view_name": "LabelView",
            "style": "IPY_MODEL_724381a5ab0b4754a1e8d5262fc8926b",
            "_dom_classes": [],
            "description": "",
            "_model_name": "LabelModel",
            "placeholder": "​",
            "_view_module": "@jupyter-widgets/controls",
            "_model_module_version": "1.5.0",
            "value": " 1915.48MB of 1915.48MB uploaded (0.00MB deduped)\r",
            "_view_count": null,
            "_view_module_version": "1.5.0",
            "description_tooltip": null,
            "_model_module": "@jupyter-widgets/controls",
            "layout": "IPY_MODEL_cbb78fbf2a874e5ba2d0a488168685f4"
          }
        },
        "b74a5797f6154b938bd5196a4ce98e5c": {
          "model_module": "@jupyter-widgets/controls",
          "model_name": "FloatProgressModel",
          "state": {
            "_view_name": "ProgressView",
            "style": "IPY_MODEL_93fece0d50e54b79a6d548b966372ace",
            "_dom_classes": [],
            "description": "",
            "_model_name": "FloatProgressModel",
            "bar_style": "",
            "max": 1,
            "_view_module": "@jupyter-widgets/controls",
            "_model_module_version": "1.5.0",
            "value": 1,
            "_view_count": null,
            "_view_module_version": "1.5.0",
            "orientation": "horizontal",
            "min": 0,
            "description_tooltip": null,
            "_model_module": "@jupyter-widgets/controls",
            "layout": "IPY_MODEL_8e760e1854594178b9b33379e35af687"
          }
        },
        "724381a5ab0b4754a1e8d5262fc8926b": {
          "model_module": "@jupyter-widgets/controls",
          "model_name": "DescriptionStyleModel",
          "state": {
            "_view_name": "StyleView",
            "_model_name": "DescriptionStyleModel",
            "description_width": "",
            "_view_module": "@jupyter-widgets/base",
            "_model_module_version": "1.5.0",
            "_view_count": null,
            "_view_module_version": "1.2.0",
            "_model_module": "@jupyter-widgets/controls"
          }
        },
        "cbb78fbf2a874e5ba2d0a488168685f4": {
          "model_module": "@jupyter-widgets/base",
          "model_name": "LayoutModel",
          "state": {
            "_view_name": "LayoutView",
            "grid_template_rows": null,
            "right": null,
            "justify_content": null,
            "_view_module": "@jupyter-widgets/base",
            "overflow": null,
            "_model_module_version": "1.2.0",
            "_view_count": null,
            "flex_flow": null,
            "width": null,
            "min_width": null,
            "border": null,
            "align_items": null,
            "bottom": null,
            "_model_module": "@jupyter-widgets/base",
            "top": null,
            "grid_column": null,
            "overflow_y": null,
            "overflow_x": null,
            "grid_auto_flow": null,
            "grid_area": null,
            "grid_template_columns": null,
            "flex": null,
            "_model_name": "LayoutModel",
            "justify_items": null,
            "grid_row": null,
            "max_height": null,
            "align_content": null,
            "visibility": null,
            "align_self": null,
            "height": null,
            "min_height": null,
            "padding": null,
            "grid_auto_rows": null,
            "grid_gap": null,
            "max_width": null,
            "order": null,
            "_view_module_version": "1.2.0",
            "grid_template_areas": null,
            "object_position": null,
            "object_fit": null,
            "grid_auto_columns": null,
            "margin": null,
            "display": null,
            "left": null
          }
        },
        "93fece0d50e54b79a6d548b966372ace": {
          "model_module": "@jupyter-widgets/controls",
          "model_name": "ProgressStyleModel",
          "state": {
            "_view_name": "StyleView",
            "_model_name": "ProgressStyleModel",
            "description_width": "",
            "_view_module": "@jupyter-widgets/base",
            "_model_module_version": "1.5.0",
            "_view_count": null,
            "_view_module_version": "1.2.0",
            "bar_color": null,
            "_model_module": "@jupyter-widgets/controls"
          }
        },
        "8e760e1854594178b9b33379e35af687": {
          "model_module": "@jupyter-widgets/base",
          "model_name": "LayoutModel",
          "state": {
            "_view_name": "LayoutView",
            "grid_template_rows": null,
            "right": null,
            "justify_content": null,
            "_view_module": "@jupyter-widgets/base",
            "overflow": null,
            "_model_module_version": "1.2.0",
            "_view_count": null,
            "flex_flow": null,
            "width": null,
            "min_width": null,
            "border": null,
            "align_items": null,
            "bottom": null,
            "_model_module": "@jupyter-widgets/base",
            "top": null,
            "grid_column": null,
            "overflow_y": null,
            "overflow_x": null,
            "grid_auto_flow": null,
            "grid_area": null,
            "grid_template_columns": null,
            "flex": null,
            "_model_name": "LayoutModel",
            "justify_items": null,
            "grid_row": null,
            "max_height": null,
            "align_content": null,
            "visibility": null,
            "align_self": null,
            "height": null,
            "min_height": null,
            "padding": null,
            "grid_auto_rows": null,
            "grid_gap": null,
            "max_width": null,
            "order": null,
            "_view_module_version": "1.2.0",
            "grid_template_areas": null,
            "object_position": null,
            "object_fit": null,
            "grid_auto_columns": null,
            "margin": null,
            "display": null,
            "left": null
          }
        }
      }
    }
  },
  "cells": [
    {
      "cell_type": "markdown",
      "metadata": {
        "id": "view-in-github",
        "colab_type": "text"
      },
      "source": [
        "<a href=\"https://colab.research.google.com/github/JayThibs/Weak-Supervised-Learning-Case-Study/blob/main/text_classifier/notebooks/05_toxicity_classification_snorkel_dataset.ipynb\" target=\"_parent\"><img src=\"https://colab.research.google.com/assets/colab-badge.svg\" alt=\"Open In Colab\"/></a>"
      ]
    },
    {
      "cell_type": "markdown",
      "metadata": {
        "id": "saBb2bD7UD0s"
      },
      "source": [
        "## Creating a Binary Classification Dataset of the Toxicity Dataset with Snorkel\n",
        "\n",
        "In order to simplify the problem, we are going to turn this multi-label classification problem (does it contain any of these 'bad' labels?) to a binary classification problem (is it a 'bad' comment or not?).\n",
        "\n",
        "We've already trained a multi-label model for this problem in notebook 01, so why are we doing this? We are doing this for a few reasons:\n",
        "\n",
        "1. We want to test how well we can create labeling functions with Snorkel to build a dataset without knowing the labels.\n",
        "\n",
        "2. It takes time to create many labeling functions that create a useful dataset, and it takes longer if it's for a multi-class classification problem, and even longer for multi-label classification. Therefore, in the interest of time, we will make the classification binary.\n",
        "\n",
        "3. We want to try implementing Active Learning into our prototype and it will be simpler to start with a binary classification model.\n",
        "\n",
        "\n",
        "Some of the code is borrowed from:\n",
        "\n",
        "1. https://colab.research.google.com/drive/14Ea4lIzsn5EFvPpYKtWStXEByT9qmbkj?usp=sharing#scrollTo=acF4YRlQL8iz\n",
        "\n",
        "2. https://www.inovex.de/blog/snorkel-weak-superversion-german-texts/\n",
        "\n",
        "3. https://trishalaneeraj.github.io/2020-07-26/data-labeling-weak-supervision"
      ]
    },
    {
      "cell_type": "code",
      "metadata": {
        "colab": {
          "base_uri": "https://localhost:8080/"
        },
        "id": "s6mQZscxROyY",
        "outputId": "b3870074-8092-4428-d341-c764f64eef4e"
      },
      "source": [
        "!pip install snorkel --quiet\n",
        "!pip install datasets --quiet\n",
        "!pip install spacy --quiet\n",
        "!pip install pip install better-profanity --quiet\n",
        "!pip install pytorch-lightning==1.2.8 --quiet\n",
        "!pip install transformers==4.5.1 --quiet\n",
        "!pip install wandb --quiet\n",
        "!pip install onnxruntime --quiet\n",
        "# !python -m spacy download en_core_web_md --quiet"
      ],
      "execution_count": 1,
      "outputs": [
        {
          "output_type": "stream",
          "text": [
            "\u001b[K     |████████████████████████████████| 153kB 14.2MB/s \n",
            "\u001b[K     |████████████████████████████████| 1.8MB 26.7MB/s \n",
            "\u001b[K     |████████████████████████████████| 3.8MB 58.8MB/s \n",
            "\u001b[?25h  Building wheel for networkx (setup.py) ... \u001b[?25l\u001b[?25hdone\n",
            "\u001b[31mERROR: tensorflow 2.4.1 has requirement tensorboard~=2.4, but you'll have tensorboard 1.15.0 which is incompatible.\u001b[0m\n",
            "\u001b[31mERROR: albumentations 0.1.12 has requirement imgaug<0.2.7,>=0.2.5, but you'll have imgaug 0.2.9 which is incompatible.\u001b[0m\n",
            "\u001b[K     |████████████████████████████████| 225kB 14.6MB/s \n",
            "\u001b[K     |████████████████████████████████| 245kB 20.8MB/s \n",
            "\u001b[K     |████████████████████████████████| 112kB 27.6MB/s \n",
            "\u001b[K     |████████████████████████████████| 51kB 6.0MB/s \n",
            "\u001b[K     |████████████████████████████████| 849kB 15.7MB/s \n",
            "\u001b[K     |████████████████████████████████| 829kB 58.5MB/s \n",
            "\u001b[K     |████████████████████████████████| 276kB 56.2MB/s \n",
            "\u001b[K     |████████████████████████████████| 276kB 60.0MB/s \n",
            "\u001b[K     |████████████████████████████████| 6.0MB 48.5MB/s \n",
            "\u001b[K     |████████████████████████████████| 1.3MB 54.2MB/s \n",
            "\u001b[K     |████████████████████████████████| 4.9MB 64.1MB/s \n",
            "\u001b[K     |████████████████████████████████| 143kB 66.7MB/s \n",
            "\u001b[K     |████████████████████████████████| 296kB 63.2MB/s \n",
            "\u001b[?25h  Building wheel for future (setup.py) ... \u001b[?25l\u001b[?25hdone\n",
            "  Building wheel for PyYAML (setup.py) ... \u001b[?25l\u001b[?25hdone\n",
            "\u001b[31mERROR: snorkel 0.9.7 has requirement tensorboard<2.0.0,>=1.14.0, but you'll have tensorboard 2.5.0 which is incompatible.\u001b[0m\n",
            "\u001b[K     |████████████████████████████████| 2.1MB 14.5MB/s \n",
            "\u001b[K     |████████████████████████████████| 901kB 56.6MB/s \n",
            "\u001b[K     |████████████████████████████████| 3.3MB 59.7MB/s \n",
            "\u001b[K     |████████████████████████████████| 1.8MB 13.9MB/s \n",
            "\u001b[K     |████████████████████████████████| 133kB 58.2MB/s \n",
            "\u001b[K     |████████████████████████████████| 102kB 14.0MB/s \n",
            "\u001b[K     |████████████████████████████████| 163kB 57.6MB/s \n",
            "\u001b[K     |████████████████████████████████| 71kB 10.9MB/s \n",
            "\u001b[?25h  Building wheel for pathtools (setup.py) ... \u001b[?25l\u001b[?25hdone\n",
            "  Building wheel for subprocess32 (setup.py) ... \u001b[?25l\u001b[?25hdone\n"
          ],
          "name": "stdout"
        }
      ]
    },
    {
      "cell_type": "code",
      "metadata": {
        "colab": {
          "base_uri": "https://localhost:8080/"
        },
        "id": "K1HPT0lHR0ug",
        "outputId": "0d9e9fdb-faf1-42c7-b1a9-04efaaf1dbd5"
      },
      "source": [
        "import pandas as pd\n",
        "import numpy as np\n",
        "from snorkel.labeling import labeling_function\n",
        "from snorkel.labeling import LabelingFunction\n",
        "from snorkel.labeling.lf.nlp import nlp_labeling_function\n",
        "from snorkel.preprocess import preprocessor\n",
        "from textblob import TextBlob\n",
        "from better_profanity import profanity\n",
        "from snorkel.labeling import PandasLFApplier\n",
        "from snorkel.labeling.apply.dask import DaskLFApplier\n",
        "from sklearn.model_selection import train_test_split\n",
        "import spacy\n",
        "from spacy.matcher import Matcher\n",
        "import numpy as np\n",
        "nlp = spacy.load(\"en_core_web_sm\")\n",
        "from spacy.matcher import PhraseMatcher\n",
        "\n",
        "from tqdm.auto import tqdm\n",
        "\n",
        "import torch\n",
        "import torch.nn as nn\n",
        "from torch.utils.data import Dataset, DataLoader\n",
        "\n",
        "from transformers import BertTokenizerFast as BertTokenizer, BertModel, AdamW, get_linear_schedule_with_warmup\n",
        "from transformers import AutoModelForSequenceClassification\n",
        "\n",
        "import pytorch_lightning as pl\n",
        "from pytorch_lightning.metrics.functional import accuracy, f1, auroc\n",
        "from pytorch_lightning.callbacks import ModelCheckpoint, EarlyStopping, BackboneFinetuning, QuantizationAwareTraining, ModelPruning\n",
        "from pytorch_lightning.loggers import TensorBoardLogger\n",
        "RANDOM_SEED = 42\n",
        "pl.seed_everything(RANDOM_SEED)\n",
        "\n",
        "# weights and biases\n",
        "import wandb\n",
        "\n",
        "# lightning plus wandb\n",
        "from pytorch_lightning.loggers import WandbLogger\n",
        "\n",
        "# Saving and running model with ONNX\n",
        "import onnxruntime\n",
        "\n",
        "wandb.login()"
      ],
      "execution_count": 32,
      "outputs": [
        {
          "output_type": "stream",
          "text": [
            "Global seed set to 42\n"
          ],
          "name": "stderr"
        },
        {
          "output_type": "execute_result",
          "data": {
            "text/plain": [
              "True"
            ]
          },
          "metadata": {
            "tags": []
          },
          "execution_count": 32
        }
      ]
    },
    {
      "cell_type": "markdown",
      "metadata": {
        "id": "jkUrK_WuT7Zo"
      },
      "source": [
        "## Data\n",
        "\n",
        "Our dataset contains potentially offensive (toxic) comments and comes from the [Toxic Comment Classification Challenge](https://www.kaggle.com/c/jigsaw-toxic-comment-classification-challenge). Let's start by download the data (from Google Drive):"
      ]
    },
    {
      "cell_type": "code",
      "metadata": {
        "colab": {
          "base_uri": "https://localhost:8080/"
        },
        "id": "r-1azuNASAw2",
        "outputId": "0d43c5b5-e84a-48c0-a0b0-8f4679228973"
      },
      "source": [
        "!gdown --id 1VuQ-U7TtggShMeuRSA_hzC8qGDl2LRkr"
      ],
      "execution_count": 3,
      "outputs": [
        {
          "output_type": "stream",
          "text": [
            "Downloading...\n",
            "From: https://drive.google.com/uc?id=1VuQ-U7TtggShMeuRSA_hzC8qGDl2LRkr\n",
            "To: /content/toxic_comments.csv\n",
            "68.8MB [00:00, 261MB/s]\n"
          ],
          "name": "stdout"
        }
      ]
    },
    {
      "cell_type": "markdown",
      "metadata": {
        "id": "PzTEoMaFUBS9"
      },
      "source": [
        "We can take a look at the data:"
      ]
    },
    {
      "cell_type": "code",
      "metadata": {
        "colab": {
          "base_uri": "https://localhost:8080/",
          "height": 363
        },
        "id": "2A6byDqlTXJc",
        "outputId": "0d736b2b-7e1f-4d9c-c1a1-6616e7b6b039"
      },
      "source": [
        "# we can see \n",
        "df = pd.read_csv(\"toxic_comments.csv\")\n",
        "df.head(10)"
      ],
      "execution_count": 4,
      "outputs": [
        {
          "output_type": "execute_result",
          "data": {
            "text/html": [
              "<div>\n",
              "<style scoped>\n",
              "    .dataframe tbody tr th:only-of-type {\n",
              "        vertical-align: middle;\n",
              "    }\n",
              "\n",
              "    .dataframe tbody tr th {\n",
              "        vertical-align: top;\n",
              "    }\n",
              "\n",
              "    .dataframe thead th {\n",
              "        text-align: right;\n",
              "    }\n",
              "</style>\n",
              "<table border=\"1\" class=\"dataframe\">\n",
              "  <thead>\n",
              "    <tr style=\"text-align: right;\">\n",
              "      <th></th>\n",
              "      <th>id</th>\n",
              "      <th>comment_text</th>\n",
              "      <th>toxic</th>\n",
              "      <th>severe_toxic</th>\n",
              "      <th>obscene</th>\n",
              "      <th>threat</th>\n",
              "      <th>insult</th>\n",
              "      <th>identity_hate</th>\n",
              "    </tr>\n",
              "  </thead>\n",
              "  <tbody>\n",
              "    <tr>\n",
              "      <th>0</th>\n",
              "      <td>0000997932d777bf</td>\n",
              "      <td>Explanation\\nWhy the edits made under my usern...</td>\n",
              "      <td>0</td>\n",
              "      <td>0</td>\n",
              "      <td>0</td>\n",
              "      <td>0</td>\n",
              "      <td>0</td>\n",
              "      <td>0</td>\n",
              "    </tr>\n",
              "    <tr>\n",
              "      <th>1</th>\n",
              "      <td>000103f0d9cfb60f</td>\n",
              "      <td>D'aww! He matches this background colour I'm s...</td>\n",
              "      <td>0</td>\n",
              "      <td>0</td>\n",
              "      <td>0</td>\n",
              "      <td>0</td>\n",
              "      <td>0</td>\n",
              "      <td>0</td>\n",
              "    </tr>\n",
              "    <tr>\n",
              "      <th>2</th>\n",
              "      <td>000113f07ec002fd</td>\n",
              "      <td>Hey man, I'm really not trying to edit war. It...</td>\n",
              "      <td>0</td>\n",
              "      <td>0</td>\n",
              "      <td>0</td>\n",
              "      <td>0</td>\n",
              "      <td>0</td>\n",
              "      <td>0</td>\n",
              "    </tr>\n",
              "    <tr>\n",
              "      <th>3</th>\n",
              "      <td>0001b41b1c6bb37e</td>\n",
              "      <td>\"\\nMore\\nI can't make any real suggestions on ...</td>\n",
              "      <td>0</td>\n",
              "      <td>0</td>\n",
              "      <td>0</td>\n",
              "      <td>0</td>\n",
              "      <td>0</td>\n",
              "      <td>0</td>\n",
              "    </tr>\n",
              "    <tr>\n",
              "      <th>4</th>\n",
              "      <td>0001d958c54c6e35</td>\n",
              "      <td>You, sir, are my hero. Any chance you remember...</td>\n",
              "      <td>0</td>\n",
              "      <td>0</td>\n",
              "      <td>0</td>\n",
              "      <td>0</td>\n",
              "      <td>0</td>\n",
              "      <td>0</td>\n",
              "    </tr>\n",
              "    <tr>\n",
              "      <th>5</th>\n",
              "      <td>00025465d4725e87</td>\n",
              "      <td>\"\\n\\nCongratulations from me as well, use the ...</td>\n",
              "      <td>0</td>\n",
              "      <td>0</td>\n",
              "      <td>0</td>\n",
              "      <td>0</td>\n",
              "      <td>0</td>\n",
              "      <td>0</td>\n",
              "    </tr>\n",
              "    <tr>\n",
              "      <th>6</th>\n",
              "      <td>0002bcb3da6cb337</td>\n",
              "      <td>COCKSUCKER BEFORE YOU PISS AROUND ON MY WORK</td>\n",
              "      <td>1</td>\n",
              "      <td>1</td>\n",
              "      <td>1</td>\n",
              "      <td>0</td>\n",
              "      <td>1</td>\n",
              "      <td>0</td>\n",
              "    </tr>\n",
              "    <tr>\n",
              "      <th>7</th>\n",
              "      <td>00031b1e95af7921</td>\n",
              "      <td>Your vandalism to the Matt Shirvington article...</td>\n",
              "      <td>0</td>\n",
              "      <td>0</td>\n",
              "      <td>0</td>\n",
              "      <td>0</td>\n",
              "      <td>0</td>\n",
              "      <td>0</td>\n",
              "    </tr>\n",
              "    <tr>\n",
              "      <th>8</th>\n",
              "      <td>00037261f536c51d</td>\n",
              "      <td>Sorry if the word 'nonsense' was offensive to ...</td>\n",
              "      <td>0</td>\n",
              "      <td>0</td>\n",
              "      <td>0</td>\n",
              "      <td>0</td>\n",
              "      <td>0</td>\n",
              "      <td>0</td>\n",
              "    </tr>\n",
              "    <tr>\n",
              "      <th>9</th>\n",
              "      <td>00040093b2687caa</td>\n",
              "      <td>alignment on this subject and which are contra...</td>\n",
              "      <td>0</td>\n",
              "      <td>0</td>\n",
              "      <td>0</td>\n",
              "      <td>0</td>\n",
              "      <td>0</td>\n",
              "      <td>0</td>\n",
              "    </tr>\n",
              "  </tbody>\n",
              "</table>\n",
              "</div>"
            ],
            "text/plain": [
              "                 id  ... identity_hate\n",
              "0  0000997932d777bf  ...             0\n",
              "1  000103f0d9cfb60f  ...             0\n",
              "2  000113f07ec002fd  ...             0\n",
              "3  0001b41b1c6bb37e  ...             0\n",
              "4  0001d958c54c6e35  ...             0\n",
              "5  00025465d4725e87  ...             0\n",
              "6  0002bcb3da6cb337  ...             0\n",
              "7  00031b1e95af7921  ...             0\n",
              "8  00037261f536c51d  ...             0\n",
              "9  00040093b2687caa  ...             0\n",
              "\n",
              "[10 rows x 8 columns]"
            ]
          },
          "metadata": {
            "tags": []
          },
          "execution_count": 4
        }
      ]
    },
    {
      "cell_type": "markdown",
      "metadata": {
        "id": "VTK0H8CNVRTQ"
      },
      "source": [
        "As we can see, we have comments from YouTube videos where most are clean comments, but there are some bad comments that are labeled as either: toxic,\tsevere_toxic,\tobscene,\tthreat,\tinsult and/or\tidentity_hate. We will bunch them all together into the same label we will call 'labels' because Snorkel prefers this.\n",
        "\n",
        "## Preprocessing\n",
        "\n",
        "Let's have a look at the dataset before we start creating labeling functions."
      ]
    },
    {
      "cell_type": "code",
      "metadata": {
        "colab": {
          "base_uri": "https://localhost:8080/",
          "height": 265
        },
        "id": "1pVa6aGgTzX9",
        "outputId": "02ea31a5-94a6-4be6-896c-21b2c8af617a"
      },
      "source": [
        "LABEL_COLUMNS = df.columns.tolist()[2:]\n",
        "df[LABEL_COLUMNS].sum().sort_values().plot(kind=\"barh\");"
      ],
      "execution_count": 5,
      "outputs": [
        {
          "output_type": "display_data",
          "data": {
            "image/png": "[encoded data removed]",
            "text/plain": [
              "<Figure size 432x288 with 1 Axes>"
            ]
          },
          "metadata": {
            "tags": [],
            "needs_background": "light"
          }
        }
      ]
    },
    {
      "cell_type": "markdown",
      "metadata": {
        "id": "K4GdLAd5YkSJ"
      },
      "source": [
        "Now, let's add them all up together and compare them to the number of clean comments."
      ]
    },
    {
      "cell_type": "code",
      "metadata": {
        "colab": {
          "base_uri": "https://localhost:8080/",
          "height": 265
        },
        "id": "6UWBm5cFXqE7",
        "outputId": "7efb25fc-1b66-4047-dccb-fd1ef52a4e1a"
      },
      "source": [
        "df_toxic = df[df[LABEL_COLUMNS].sum(axis=1) > 0]\n",
        "df_clean = df[df[LABEL_COLUMNS].sum(axis=1) == 0]\n",
        "\n",
        "pd.DataFrame(dict(\n",
        "  toxic=[len(df_toxic)], \n",
        "  clean=[len(df_clean)]\n",
        ")).plot(kind='barh');"
      ],
      "execution_count": 6,
      "outputs": [
        {
          "output_type": "display_data",
          "data": {
            "image/png": "[encoded data removed]",
            "text/plain": [
              "<Figure size 432x288 with 1 Axes>"
            ]
          },
          "metadata": {
            "tags": [],
            "needs_background": "light"
          }
        }
      ]
    },
    {
      "cell_type": "markdown",
      "metadata": {
        "id": "b5QCR81TXN2i"
      },
      "source": [
        "The bad examples are imbalanced, but we will not worry about that. What we will do, however, is to eliminate clean examples from the dataset in order to make it more balanced. We will simply reduce the number of clean comments to a number that is comparable to the toxic comments."
      ]
    },
    {
      "cell_type": "code",
      "metadata": {
        "colab": {
          "base_uri": "https://localhost:8080/",
          "height": 225
        },
        "id": "WW-ON3kbXGFF",
        "outputId": "542850a8-4fb8-4cf9-9684-66fe14a76224"
      },
      "source": [
        "train_df = pd.concat([\n",
        "  df_toxic.sample(2000, random_state=42),\n",
        "  df_clean.sample(2000, random_state=42)\n",
        "])\n",
        "\n",
        "print(len(train_df))\n",
        "train_df.head()"
      ],
      "execution_count": 7,
      "outputs": [
        {
          "output_type": "stream",
          "text": [
            "3000\n"
          ],
          "name": "stdout"
        },
        {
          "output_type": "execute_result",
          "data": {
            "text/html": [
              "<div>\n",
              "<style scoped>\n",
              "    .dataframe tbody tr th:only-of-type {\n",
              "        vertical-align: middle;\n",
              "    }\n",
              "\n",
              "    .dataframe tbody tr th {\n",
              "        vertical-align: top;\n",
              "    }\n",
              "\n",
              "    .dataframe thead th {\n",
              "        text-align: right;\n",
              "    }\n",
              "</style>\n",
              "<table border=\"1\" class=\"dataframe\">\n",
              "  <thead>\n",
              "    <tr style=\"text-align: right;\">\n",
              "      <th></th>\n",
              "      <th>id</th>\n",
              "      <th>comment_text</th>\n",
              "      <th>toxic</th>\n",
              "      <th>severe_toxic</th>\n",
              "      <th>obscene</th>\n",
              "      <th>threat</th>\n",
              "      <th>insult</th>\n",
              "      <th>identity_hate</th>\n",
              "    </tr>\n",
              "  </thead>\n",
              "  <tbody>\n",
              "    <tr>\n",
              "      <th>45045</th>\n",
              "      <td>786d8ca9b0bad3cc</td>\n",
              "      <td>\"\\nI was talking about them running any check ...</td>\n",
              "      <td>1</td>\n",
              "      <td>0</td>\n",
              "      <td>0</td>\n",
              "      <td>0</td>\n",
              "      <td>0</td>\n",
              "      <td>0</td>\n",
              "    </tr>\n",
              "    <tr>\n",
              "      <th>27198</th>\n",
              "      <td>47f18388952e3ee7</td>\n",
              "      <td>White Trash\\nFuck off you white piece of trash...</td>\n",
              "      <td>1</td>\n",
              "      <td>1</td>\n",
              "      <td>1</td>\n",
              "      <td>0</td>\n",
              "      <td>1</td>\n",
              "      <td>1</td>\n",
              "    </tr>\n",
              "    <tr>\n",
              "      <th>16664</th>\n",
              "      <td>2bf361b9a8eb1ba5</td>\n",
              "      <td>eat shit get rid of goofs you queers.</td>\n",
              "      <td>1</td>\n",
              "      <td>0</td>\n",
              "      <td>1</td>\n",
              "      <td>0</td>\n",
              "      <td>1</td>\n",
              "      <td>0</td>\n",
              "    </tr>\n",
              "    <tr>\n",
              "      <th>8158</th>\n",
              "      <td>15b6fd032e614001</td>\n",
              "      <td>DUMB ASSES\\nIt's was my sockpuppet...joe hazet...</td>\n",
              "      <td>1</td>\n",
              "      <td>0</td>\n",
              "      <td>0</td>\n",
              "      <td>0</td>\n",
              "      <td>0</td>\n",
              "      <td>0</td>\n",
              "    </tr>\n",
              "    <tr>\n",
              "      <th>142212</th>\n",
              "      <td>f8b05b9ae771fb50</td>\n",
              "      <td>Are all professors of rhetoric pompous, self-c...</td>\n",
              "      <td>1</td>\n",
              "      <td>0</td>\n",
              "      <td>1</td>\n",
              "      <td>0</td>\n",
              "      <td>1</td>\n",
              "      <td>0</td>\n",
              "    </tr>\n",
              "  </tbody>\n",
              "</table>\n",
              "</div>"
            ],
            "text/plain": [
              "                      id  ... identity_hate\n",
              "45045   786d8ca9b0bad3cc  ...             0\n",
              "27198   47f18388952e3ee7  ...             1\n",
              "16664   2bf361b9a8eb1ba5  ...             0\n",
              "8158    15b6fd032e614001  ...             0\n",
              "142212  f8b05b9ae771fb50  ...             0\n",
              "\n",
              "[5 rows x 8 columns]"
            ]
          },
          "metadata": {
            "tags": []
          },
          "execution_count": 7
        }
      ]
    },
    {
      "cell_type": "markdown",
      "metadata": {
        "id": "XQUFQ-KcZdHR"
      },
      "source": [
        "### Merging All Toxic Comments Together"
      ]
    },
    {
      "cell_type": "code",
      "metadata": {
        "colab": {
          "base_uri": "https://localhost:8080/",
          "height": 206
        },
        "id": "LcvkhHKEahQ-",
        "outputId": "4c9d53fe-b9d5-46e1-e013-2abe26af72a5"
      },
      "source": [
        "train_df['label'] = np.where(train_df[LABEL_COLUMNS].sum(axis=1) == 0, 0, 1)\n",
        "train_df.tail()"
      ],
      "execution_count": 8,
      "outputs": [
        {
          "output_type": "execute_result",
          "data": {
            "text/html": [
              "<div>\n",
              "<style scoped>\n",
              "    .dataframe tbody tr th:only-of-type {\n",
              "        vertical-align: middle;\n",
              "    }\n",
              "\n",
              "    .dataframe tbody tr th {\n",
              "        vertical-align: top;\n",
              "    }\n",
              "\n",
              "    .dataframe thead th {\n",
              "        text-align: right;\n",
              "    }\n",
              "</style>\n",
              "<table border=\"1\" class=\"dataframe\">\n",
              "  <thead>\n",
              "    <tr style=\"text-align: right;\">\n",
              "      <th></th>\n",
              "      <th>id</th>\n",
              "      <th>comment_text</th>\n",
              "      <th>toxic</th>\n",
              "      <th>severe_toxic</th>\n",
              "      <th>obscene</th>\n",
              "      <th>threat</th>\n",
              "      <th>insult</th>\n",
              "      <th>identity_hate</th>\n",
              "      <th>label</th>\n",
              "    </tr>\n",
              "  </thead>\n",
              "  <tbody>\n",
              "    <tr>\n",
              "      <th>88045</th>\n",
              "      <td>eb8cefa54813f3bc</td>\n",
              "      <td>Thanks and bye\\nJust wanted to thank you for m...</td>\n",
              "      <td>0</td>\n",
              "      <td>0</td>\n",
              "      <td>0</td>\n",
              "      <td>0</td>\n",
              "      <td>0</td>\n",
              "      <td>0</td>\n",
              "      <td>0</td>\n",
              "    </tr>\n",
              "    <tr>\n",
              "      <th>44474</th>\n",
              "      <td>76c473f8898626ce</td>\n",
              "      <td>Seems to be at it again, in force</td>\n",
              "      <td>0</td>\n",
              "      <td>0</td>\n",
              "      <td>0</td>\n",
              "      <td>0</td>\n",
              "      <td>0</td>\n",
              "      <td>0</td>\n",
              "      <td>0</td>\n",
              "    </tr>\n",
              "    <tr>\n",
              "      <th>75044</th>\n",
              "      <td>c8cc3dca0745ba2f</td>\n",
              "      <td>Still meaningless. It's a random example of Wi...</td>\n",
              "      <td>0</td>\n",
              "      <td>0</td>\n",
              "      <td>0</td>\n",
              "      <td>0</td>\n",
              "      <td>0</td>\n",
              "      <td>0</td>\n",
              "      <td>0</td>\n",
              "    </tr>\n",
              "    <tr>\n",
              "      <th>103363</th>\n",
              "      <td>29236fd9f0ccd41e</td>\n",
              "      <td>I don't know.  Is it a good idea to delete art...</td>\n",
              "      <td>0</td>\n",
              "      <td>0</td>\n",
              "      <td>0</td>\n",
              "      <td>0</td>\n",
              "      <td>0</td>\n",
              "      <td>0</td>\n",
              "      <td>0</td>\n",
              "    </tr>\n",
              "    <tr>\n",
              "      <th>130762</th>\n",
              "      <td>bb846cf699d149a4</td>\n",
              "      <td>\"\\n\\nActually, the NY Times made much the same...</td>\n",
              "      <td>0</td>\n",
              "      <td>0</td>\n",
              "      <td>0</td>\n",
              "      <td>0</td>\n",
              "      <td>0</td>\n",
              "      <td>0</td>\n",
              "      <td>0</td>\n",
              "    </tr>\n",
              "  </tbody>\n",
              "</table>\n",
              "</div>"
            ],
            "text/plain": [
              "                      id  ... label\n",
              "88045   eb8cefa54813f3bc  ...     0\n",
              "44474   76c473f8898626ce  ...     0\n",
              "75044   c8cc3dca0745ba2f  ...     0\n",
              "103363  29236fd9f0ccd41e  ...     0\n",
              "130762  bb846cf699d149a4  ...     0\n",
              "\n",
              "[5 rows x 9 columns]"
            ]
          },
          "metadata": {
            "tags": []
          },
          "execution_count": 8
        }
      ]
    },
    {
      "cell_type": "code",
      "metadata": {
        "colab": {
          "base_uri": "https://localhost:8080/",
          "height": 424
        },
        "id": "0RSSiN0BcPU8",
        "outputId": "bd2dc1c0-fe9b-4b1e-b32e-dadad9dfccba"
      },
      "source": [
        "train_df = train_df.drop(LABEL_COLUMNS, axis=1)\n",
        "train_df"
      ],
      "execution_count": 9,
      "outputs": [
        {
          "output_type": "execute_result",
          "data": {
            "text/html": [
              "<div>\n",
              "<style scoped>\n",
              "    .dataframe tbody tr th:only-of-type {\n",
              "        vertical-align: middle;\n",
              "    }\n",
              "\n",
              "    .dataframe tbody tr th {\n",
              "        vertical-align: top;\n",
              "    }\n",
              "\n",
              "    .dataframe thead th {\n",
              "        text-align: right;\n",
              "    }\n",
              "</style>\n",
              "<table border=\"1\" class=\"dataframe\">\n",
              "  <thead>\n",
              "    <tr style=\"text-align: right;\">\n",
              "      <th></th>\n",
              "      <th>id</th>\n",
              "      <th>comment_text</th>\n",
              "      <th>label</th>\n",
              "    </tr>\n",
              "  </thead>\n",
              "  <tbody>\n",
              "    <tr>\n",
              "      <th>45045</th>\n",
              "      <td>786d8ca9b0bad3cc</td>\n",
              "      <td>\"\\nI was talking about them running any check ...</td>\n",
              "      <td>1</td>\n",
              "    </tr>\n",
              "    <tr>\n",
              "      <th>27198</th>\n",
              "      <td>47f18388952e3ee7</td>\n",
              "      <td>White Trash\\nFuck off you white piece of trash...</td>\n",
              "      <td>1</td>\n",
              "    </tr>\n",
              "    <tr>\n",
              "      <th>16664</th>\n",
              "      <td>2bf361b9a8eb1ba5</td>\n",
              "      <td>eat shit get rid of goofs you queers.</td>\n",
              "      <td>1</td>\n",
              "    </tr>\n",
              "    <tr>\n",
              "      <th>8158</th>\n",
              "      <td>15b6fd032e614001</td>\n",
              "      <td>DUMB ASSES\\nIt's was my sockpuppet...joe hazet...</td>\n",
              "      <td>1</td>\n",
              "    </tr>\n",
              "    <tr>\n",
              "      <th>142212</th>\n",
              "      <td>f8b05b9ae771fb50</td>\n",
              "      <td>Are all professors of rhetoric pompous, self-c...</td>\n",
              "      <td>1</td>\n",
              "    </tr>\n",
              "    <tr>\n",
              "      <th>...</th>\n",
              "      <td>...</td>\n",
              "      <td>...</td>\n",
              "      <td>...</td>\n",
              "    </tr>\n",
              "    <tr>\n",
              "      <th>88045</th>\n",
              "      <td>eb8cefa54813f3bc</td>\n",
              "      <td>Thanks and bye\\nJust wanted to thank you for m...</td>\n",
              "      <td>0</td>\n",
              "    </tr>\n",
              "    <tr>\n",
              "      <th>44474</th>\n",
              "      <td>76c473f8898626ce</td>\n",
              "      <td>Seems to be at it again, in force</td>\n",
              "      <td>0</td>\n",
              "    </tr>\n",
              "    <tr>\n",
              "      <th>75044</th>\n",
              "      <td>c8cc3dca0745ba2f</td>\n",
              "      <td>Still meaningless. It's a random example of Wi...</td>\n",
              "      <td>0</td>\n",
              "    </tr>\n",
              "    <tr>\n",
              "      <th>103363</th>\n",
              "      <td>29236fd9f0ccd41e</td>\n",
              "      <td>I don't know.  Is it a good idea to delete art...</td>\n",
              "      <td>0</td>\n",
              "    </tr>\n",
              "    <tr>\n",
              "      <th>130762</th>\n",
              "      <td>bb846cf699d149a4</td>\n",
              "      <td>\"\\n\\nActually, the NY Times made much the same...</td>\n",
              "      <td>0</td>\n",
              "    </tr>\n",
              "  </tbody>\n",
              "</table>\n",
              "<p>3000 rows × 3 columns</p>\n",
              "</div>"
            ],
            "text/plain": [
              "                      id  ... label\n",
              "45045   786d8ca9b0bad3cc  ...     1\n",
              "27198   47f18388952e3ee7  ...     1\n",
              "16664   2bf361b9a8eb1ba5  ...     1\n",
              "8158    15b6fd032e614001  ...     1\n",
              "142212  f8b05b9ae771fb50  ...     1\n",
              "...                  ...  ...   ...\n",
              "88045   eb8cefa54813f3bc  ...     0\n",
              "44474   76c473f8898626ce  ...     0\n",
              "75044   c8cc3dca0745ba2f  ...     0\n",
              "103363  29236fd9f0ccd41e  ...     0\n",
              "130762  bb846cf699d149a4  ...     0\n",
              "\n",
              "[3000 rows x 3 columns]"
            ]
          },
          "metadata": {
            "tags": []
          },
          "execution_count": 9
        }
      ]
    },
    {
      "cell_type": "markdown",
      "metadata": {
        "id": "wANMvHnJZBRc"
      },
      "source": [
        "## Preparing the Data for Snorkel"
      ]
    },
    {
      "cell_type": "code",
      "metadata": {
        "colab": {
          "base_uri": "https://localhost:8080/",
          "height": 206
        },
        "id": "nyCd-Ye3YtJf",
        "outputId": "fc13cb07-b895-47b2-9d85-630afc0cb60f"
      },
      "source": [
        "train_df = train_df.rename(columns={\"comment_text\": \"text\"})\n",
        "train_df.head()"
      ],
      "execution_count": 10,
      "outputs": [
        {
          "output_type": "execute_result",
          "data": {
            "text/html": [
              "<div>\n",
              "<style scoped>\n",
              "    .dataframe tbody tr th:only-of-type {\n",
              "        vertical-align: middle;\n",
              "    }\n",
              "\n",
              "    .dataframe tbody tr th {\n",
              "        vertical-align: top;\n",
              "    }\n",
              "\n",
              "    .dataframe thead th {\n",
              "        text-align: right;\n",
              "    }\n",
              "</style>\n",
              "<table border=\"1\" class=\"dataframe\">\n",
              "  <thead>\n",
              "    <tr style=\"text-align: right;\">\n",
              "      <th></th>\n",
              "      <th>id</th>\n",
              "      <th>text</th>\n",
              "      <th>label</th>\n",
              "    </tr>\n",
              "  </thead>\n",
              "  <tbody>\n",
              "    <tr>\n",
              "      <th>45045</th>\n",
              "      <td>786d8ca9b0bad3cc</td>\n",
              "      <td>\"\\nI was talking about them running any check ...</td>\n",
              "      <td>1</td>\n",
              "    </tr>\n",
              "    <tr>\n",
              "      <th>27198</th>\n",
              "      <td>47f18388952e3ee7</td>\n",
              "      <td>White Trash\\nFuck off you white piece of trash...</td>\n",
              "      <td>1</td>\n",
              "    </tr>\n",
              "    <tr>\n",
              "      <th>16664</th>\n",
              "      <td>2bf361b9a8eb1ba5</td>\n",
              "      <td>eat shit get rid of goofs you queers.</td>\n",
              "      <td>1</td>\n",
              "    </tr>\n",
              "    <tr>\n",
              "      <th>8158</th>\n",
              "      <td>15b6fd032e614001</td>\n",
              "      <td>DUMB ASSES\\nIt's was my sockpuppet...joe hazet...</td>\n",
              "      <td>1</td>\n",
              "    </tr>\n",
              "    <tr>\n",
              "      <th>142212</th>\n",
              "      <td>f8b05b9ae771fb50</td>\n",
              "      <td>Are all professors of rhetoric pompous, self-c...</td>\n",
              "      <td>1</td>\n",
              "    </tr>\n",
              "  </tbody>\n",
              "</table>\n",
              "</div>"
            ],
            "text/plain": [
              "                      id  ... label\n",
              "45045   786d8ca9b0bad3cc  ...     1\n",
              "27198   47f18388952e3ee7  ...     1\n",
              "16664   2bf361b9a8eb1ba5  ...     1\n",
              "8158    15b6fd032e614001  ...     1\n",
              "142212  f8b05b9ae771fb50  ...     1\n",
              "\n",
              "[5 rows x 3 columns]"
            ]
          },
          "metadata": {
            "tags": []
          },
          "execution_count": 10
        }
      ]
    },
    {
      "cell_type": "markdown",
      "metadata": {
        "id": "tiVjIF_osFat"
      },
      "source": [
        "Here we create 4 dataset splits. We are emulating the situation where we have a small labeled dataset where we can use for model training, and then mesure our Labeling Function accuracy. What we call `fine_tune_df` (Fine-Tune Set), `val_df` (Validation Set), and `test_df` (Test Set) contain labeled data. The `train_df` is the unlabeled dataset we will be using Snorkel to label.\n",
        "\n",
        "*   `fine_tune_df`: Labeled data we use for fine-tuning the bert model before putting model into a Snorkel Labeling Function.\n",
        "*   `val_df`: This is our small dataset split we will use to measure the performance of the bert model trained with `fine_tune_df`.\n",
        "*    `train_df`: As mentioned, the `train_df` is the unlabeled dataset we will be using Snorkel to label.\n",
        "*    `test_df`: This is our dataset split for testing Snorkel's Label Model to get an estimate on how many labels were correctly labeled in our `train_df`."
      ]
    },
    {
      "cell_type": "code",
      "metadata": {
        "colab": {
          "base_uri": "https://localhost:8080/"
        },
        "id": "CYYa2QnxXANz",
        "outputId": "62c082b8-9f76-4244-a888-1b5a9add79a9"
      },
      "source": [
        "fine_tune_df = train_df.groupby('label').apply(lambda s: s.sample(500, random_state=123)).reset_index(level=0, drop=True)\n",
        "train_df.drop(fine_tune_df.index, inplace=True)\n",
        "\n",
        "train_df, test_df = train_test_split(train_df, test_size=0.25)\n",
        "val_df = test_df.sample(frac=0.1)\n",
        "test_df.drop(val_df.index, inplace=True)\n",
        "\n",
        "print('Train:', len(train_df), '\\t Fine-Tune Set:', len(fine_tune_df), '\\t Test:', len(test_df), '\\t', 'Valid:', len(val_df))"
      ],
      "execution_count": 11,
      "outputs": [
        {
          "output_type": "stream",
          "text": [
            "Train: 1800 \t Dev: 600 \t Test: 540 \t Valid: 60\n"
          ],
          "name": "stdout"
        }
      ]
    },
    {
      "cell_type": "code",
      "metadata": {
        "id": "8QAXFR8p5pqI"
      },
      "source": [
        "train_df.to_csv('toxic_train_1800_examples.csv')\n",
        "test_df.to_csv('toxic_test_540_examples.csv')\n",
        "val_df.to_csv('toxic_val_60_examples.csv')\n",
        "fine_tune_df.to_csv('toxic_fine_tune_600_examples.csv')"
      ],
      "execution_count": 12,
      "outputs": []
    },
    {
      "cell_type": "code",
      "metadata": {
        "id": "brglFq9UOZqD"
      },
      "source": [
        "train_df.drop(['label'], axis=1, inplace=True)"
      ],
      "execution_count": 13,
      "outputs": []
    },
    {
      "cell_type": "markdown",
      "metadata": {
        "id": "Xklna9ZFG1a3"
      },
      "source": [
        "## Creating BERT sentiment model for labeling"
      ]
    },
    {
      "cell_type": "code",
      "metadata": {
        "id": "Z5cxCwrjI0mx"
      },
      "source": [
        "BERT_MODEL_NAME = \"nlptown/bert-base-multilingual-uncased-sentiment\"\n",
        "# BERT_MODEL_NAME = \"bert-base-cased\""
      ],
      "execution_count": 27,
      "outputs": []
    },
    {
      "cell_type": "code",
      "metadata": {
        "id": "Wx-dh84SJibJ"
      },
      "source": [
        "model = BertModel.from_pretrained(BERT_MODEL_NAME, return_dict=True)\n",
        "tokenizer = BertTokenizer.from_pretrained(BERT_MODEL_NAME)"
      ],
      "execution_count": 160,
      "outputs": []
    },
    {
      "cell_type": "code",
      "metadata": {
        "id": "ZbdVbKsqHCII"
      },
      "source": [
        "MAX_TOKEN_COUNT = 512"
      ],
      "execution_count": 161,
      "outputs": []
    },
    {
      "cell_type": "code",
      "metadata": {
        "id": "7s3eLuARL1p3"
      },
      "source": [
        "sample_comment = \"The problem with saying that Warren G. Harding was the first African-American President is that it\""
      ],
      "execution_count": 162,
      "outputs": []
    },
    {
      "cell_type": "code",
      "metadata": {
        "colab": {
          "base_uri": "https://localhost:8080/"
        },
        "id": "vBz7qFLXJ6Q-",
        "outputId": "66a8a2fb-8126-44d6-afc1-bba0ceaa8d8a"
      },
      "source": [
        "data_row = fine_tune_df.iloc[19]\n",
        "\n",
        "sample_text = data_row.text\n",
        "labels = data_row['label']\n",
        "\n",
        "print(sample_text)\n",
        "print()\n",
        "print(labels)"
      ],
      "execution_count": 163,
      "outputs": [
        {
          "output_type": "stream",
          "text": [
            "Important people of the battle \n",
            "\n",
            "Brack Obama\n",
            "Santa Clause\n",
            "Easter Bunny\n",
            "Leprechaun\n",
            "Ron Gerardis\n",
            "Cupid\n",
            "Ronald Mcdonald\n",
            "Tooth Fairy\n",
            "\n",
            "0\n"
          ],
          "name": "stdout"
        }
      ]
    },
    {
      "cell_type": "code",
      "metadata": {
        "id": "F_bGtEwoGrki"
      },
      "source": [
        "encoding = tokenizer.encode_plus(\n",
        "  sample_text,\n",
        "  add_special_tokens=True,\n",
        "  max_length=512,\n",
        "  return_token_type_ids=False,\n",
        "  padding=\"max_length\",\n",
        "  truncation=True,\n",
        "  return_attention_mask=True,\n",
        "  return_tensors='pt',\n",
        ")"
      ],
      "execution_count": 164,
      "outputs": []
    },
    {
      "cell_type": "code",
      "metadata": {
        "colab": {
          "base_uri": "https://localhost:8080/"
        },
        "id": "cCiEt7ZyHHC2",
        "outputId": "3038feb3-7bae-47af-d079-c39beb33c6d2"
      },
      "source": [
        "print(tokenizer.convert_ids_to_tokens(encoding[\"input_ids\"].squeeze())[:20])"
      ],
      "execution_count": 165,
      "outputs": [
        {
          "output_type": "stream",
          "text": [
            "['[CLS]', 'important', 'people', 'of', 'the', 'battle', 'bra', '##ck', 'obama', 'santa', 'clause', 'easter', 'bunny', 'le', '##pre', '##chau', '##n', 'ron', 'gerard', '##is']\n"
          ],
          "name": "stdout"
        }
      ]
    },
    {
      "cell_type": "code",
      "metadata": {
        "colab": {
          "base_uri": "https://localhost:8080/"
        },
        "id": "_ODfoQ2WSKXy",
        "outputId": "fd8bd623-b52b-4079-dd62-a948f01cd621"
      },
      "source": [
        "encoding[\"input_ids\"].shape, encoding[\"attention_mask\"].shape"
      ],
      "execution_count": 166,
      "outputs": [
        {
          "output_type": "execute_result",
          "data": {
            "text/plain": [
              "(torch.Size([1, 512]), torch.Size([1, 512]))"
            ]
          },
          "metadata": {
            "tags": []
          },
          "execution_count": 166
        }
      ]
    },
    {
      "cell_type": "code",
      "metadata": {
        "id": "NnzDBcEYvLW1"
      },
      "source": [
        "torch.cuda.empty_cache()"
      ],
      "execution_count": 167,
      "outputs": []
    },
    {
      "cell_type": "code",
      "metadata": {
        "id": "LwjhRel_H_Kt"
      },
      "source": [
        "class ToxicCommentsDataset(Dataset):\n",
        "\n",
        "  def __init__(\n",
        "    self, \n",
        "    data: pd.DataFrame, \n",
        "    tokenizer: BertTokenizer, \n",
        "    max_token_len: int = 128\n",
        "  ):\n",
        "    self.tokenizer = tokenizer\n",
        "    self.data = data\n",
        "    self.max_token_len = max_token_len\n",
        "    \n",
        "  def __len__(self):\n",
        "    return len(self.data)\n",
        "\n",
        "  def __getitem__(self, index: int):\n",
        "    data_row = self.data.iloc[index]\n",
        "\n",
        "    comment_text = data_row.text\n",
        "    labels = data_row['label']\n",
        "\n",
        "    encoding = self.tokenizer.encode_plus(\n",
        "      comment_text,\n",
        "      add_special_tokens=True,\n",
        "      max_length=self.max_token_len,\n",
        "      return_token_type_ids=False,\n",
        "      padding=\"max_length\",\n",
        "      truncation=True,\n",
        "      return_attention_mask=True,\n",
        "      return_tensors='pt',\n",
        "    )\n",
        "\n",
        "    return dict(\n",
        "      comment_text=comment_text,\n",
        "      input_ids=encoding[\"input_ids\"].flatten(),\n",
        "      attention_mask=encoding[\"attention_mask\"].flatten(),\n",
        "      labels=labels\n",
        "    )"
      ],
      "execution_count": 168,
      "outputs": []
    },
    {
      "cell_type": "code",
      "metadata": {
        "colab": {
          "base_uri": "https://localhost:8080/"
        },
        "id": "VdPXrPLPIOJn",
        "outputId": "9484e8ca-a90f-4797-ae80-dcc384c26717"
      },
      "source": [
        "train_dataset = ToxicCommentsDataset(\n",
        "  val_df,\n",
        "  tokenizer,\n",
        "  max_token_len=MAX_TOKEN_COUNT\n",
        ")\n",
        "\n",
        "sample_item = train_dataset[0]\n",
        "sample_item.keys()"
      ],
      "execution_count": 169,
      "outputs": [
        {
          "output_type": "execute_result",
          "data": {
            "text/plain": [
              "dict_keys(['comment_text', 'input_ids', 'attention_mask', 'labels'])"
            ]
          },
          "metadata": {
            "tags": []
          },
          "execution_count": 169
        }
      ]
    },
    {
      "cell_type": "code",
      "metadata": {
        "colab": {
          "base_uri": "https://localhost:8080/",
          "height": 55
        },
        "id": "jonbbt09Wgjq",
        "outputId": "8de599c3-cc8c-43a1-fbde-389395d7de72"
      },
      "source": [
        "sample_item[\"comment_text\"]"
      ],
      "execution_count": 170,
      "outputs": [
        {
          "output_type": "execute_result",
          "data": {
            "application/vnd.google.colaboratory.intrinsic+json": {
              "type": "string"
            },
            "text/plain": [
              "'I take it your an admin. What are you going to do about this guys racist edits. He has me pissed. I looked at his contributions they are all negative and he is trying to portray a bad image of Mid-Eastern people. I even saw racist comments.'"
            ]
          },
          "metadata": {
            "tags": []
          },
          "execution_count": 170
        }
      ]
    },
    {
      "cell_type": "code",
      "metadata": {
        "colab": {
          "base_uri": "https://localhost:8080/"
        },
        "id": "Orz-0SjmWnB0",
        "outputId": "31fa485c-91f0-44fd-f565-25180676afca"
      },
      "source": [
        "sample_item[\"labels\"]"
      ],
      "execution_count": 171,
      "outputs": [
        {
          "output_type": "execute_result",
          "data": {
            "text/plain": [
              "1"
            ]
          },
          "metadata": {
            "tags": []
          },
          "execution_count": 171
        }
      ]
    },
    {
      "cell_type": "code",
      "metadata": {
        "colab": {
          "base_uri": "https://localhost:8080/"
        },
        "id": "sN1gGX4ooufV",
        "outputId": "b02ee403-d2d8-41e6-aaf2-97ebe7b5d05d"
      },
      "source": [
        "sample_batch = next(iter(DataLoader(train_dataset, batch_size=8, num_workers=2)))\n",
        "sample_batch[\"input_ids\"].shape, sample_batch[\"attention_mask\"].shape"
      ],
      "execution_count": 172,
      "outputs": [
        {
          "output_type": "execute_result",
          "data": {
            "text/plain": [
              "(torch.Size([8, 512]), torch.Size([8, 512]))"
            ]
          },
          "metadata": {
            "tags": []
          },
          "execution_count": 172
        }
      ]
    },
    {
      "cell_type": "code",
      "metadata": {
        "id": "4SgDRkChouh-"
      },
      "source": [
        "output = model(sample_batch[\"input_ids\"], sample_batch[\"attention_mask\"])"
      ],
      "execution_count": 173,
      "outputs": []
    },
    {
      "cell_type": "code",
      "metadata": {
        "colab": {
          "base_uri": "https://localhost:8080/"
        },
        "id": "tv2Mim6to_MR",
        "outputId": "7e4dce0b-bb8e-4f73-97f1-f640d7ddef51"
      },
      "source": [
        "output.last_hidden_state.shape, output.pooler_output.shape"
      ],
      "execution_count": 174,
      "outputs": [
        {
          "output_type": "execute_result",
          "data": {
            "text/plain": [
              "(torch.Size([8, 512, 768]), torch.Size([8, 768]))"
            ]
          },
          "metadata": {
            "tags": []
          },
          "execution_count": 174
        }
      ]
    },
    {
      "cell_type": "code",
      "metadata": {
        "colab": {
          "base_uri": "https://localhost:8080/"
        },
        "id": "DPsQO9zrqDc_",
        "outputId": "0386afb9-3c6d-4b71-d0e1-9a822f70e094"
      },
      "source": [
        "model.config.hidden_size"
      ],
      "execution_count": 175,
      "outputs": [
        {
          "output_type": "execute_result",
          "data": {
            "text/plain": [
              "768"
            ]
          },
          "metadata": {
            "tags": []
          },
          "execution_count": 175
        }
      ]
    },
    {
      "cell_type": "code",
      "metadata": {
        "id": "cgtE99heH_Ng"
      },
      "source": [
        "class ToxicCommentDataModule(pl.LightningDataModule):\n",
        "\n",
        "  def __init__(self, train_df, test_df, tokenizer, batch_size=4, max_token_len=128):\n",
        "    super().__init__()\n",
        "    self.batch_size = batch_size\n",
        "    self.train_df = train_df\n",
        "    self.test_df = test_df\n",
        "    self.tokenizer = tokenizer\n",
        "    self.max_token_len = max_token_len\n",
        "\n",
        "  def setup(self, stage=None):\n",
        "    self.train_dataset = ToxicCommentsDataset(\n",
        "      self.train_df,\n",
        "      self.tokenizer,\n",
        "      self.max_token_len\n",
        "    )\n",
        "\n",
        "    self.test_dataset = ToxicCommentsDataset(\n",
        "      self.test_df,\n",
        "      self.tokenizer,\n",
        "      self.max_token_len\n",
        "    )\n",
        "\n",
        "  def train_dataloader(self):\n",
        "    return DataLoader(\n",
        "      self.train_dataset,\n",
        "      batch_size=self.batch_size,\n",
        "      shuffle=True,\n",
        "      num_workers=4\n",
        "    )\n",
        "\n",
        "  def val_dataloader(self):\n",
        "    return DataLoader(\n",
        "      self.test_dataset,\n",
        "      batch_size=self.batch_size,\n",
        "      num_workers=4\n",
        "    )\n",
        "\n",
        "  def test_dataloader(self):\n",
        "    return DataLoader(\n",
        "      self.test_dataset,\n",
        "      batch_size=self.batch_size,\n",
        "      num_workers=4\n",
        "    )"
      ],
      "execution_count": 176,
      "outputs": []
    },
    {
      "cell_type": "code",
      "metadata": {
        "id": "4znpeCyJH_QT"
      },
      "source": [
        "N_EPOCHS = 10\n",
        "BATCH_SIZE = 12\n",
        "\n",
        "data_module = ToxicCommentDataModule(\n",
        "  fine_tune_df,\n",
        "  val_df,\n",
        "  tokenizer,\n",
        "  batch_size=BATCH_SIZE,\n",
        "  max_token_len=MAX_TOKEN_COUNT\n",
        ")"
      ],
      "execution_count": 177,
      "outputs": []
    },
    {
      "cell_type": "code",
      "metadata": {
        "id": "kL8YS9i3H_S0"
      },
      "source": [
        "class ToxicCommentTagger(pl.LightningModule):\n",
        "\n",
        "  def __init__(self, num_classes: int, input_dims=(8, 512), attention_mask=(8, 512), n_training_steps=None, n_warmup_steps=None):\n",
        "    super().__init__()\n",
        "    self.backbone = BertModel.from_pretrained(BERT_MODEL_NAME, return_dict=True)\n",
        "    self.classifier = nn.Linear(self.backbone.config.hidden_size, num_classes)\n",
        "    self.n_training_steps = n_training_steps\n",
        "    self.n_warmup_steps = n_warmup_steps\n",
        "    self.criterion = nn.CrossEntropyLoss()\n",
        "\n",
        "    # log hyperparameters\n",
        "    self.save_hyperparameters()\n",
        "\n",
        "    # compute the accuracy -- no need to roll your own!\n",
        "    self.train_acc = pl.metrics.Accuracy()\n",
        "    self.val_acc = pl.metrics.Accuracy()\n",
        "    self.test_acc = pl.metrics.Accuracy()\n",
        "    self.train_f1 = pl.metrics.F1(num_classes=num_classes)\n",
        "    self.val_f1 = pl.metrics.F1(num_classes=num_classes)\n",
        "    self.test_f1 = pl.metrics.F1(num_classes=num_classes)\n",
        "\n",
        "  def forward(self, input_ids, attention_mask, labels=None):\n",
        "    output = self.backbone(input_ids, attention_mask)\n",
        "    output = self.classifier(output.pooler_output)\n",
        "    output = torch.sigmoid(output)\n",
        "    loss = 0\n",
        "    if labels is not None:\n",
        "        loss = self.criterion(output, labels)\n",
        "    \n",
        "    return loss, output\n",
        "\n",
        "  def training_step(self, batch, batch_idx):\n",
        "    input_ids = batch[\"input_ids\"]\n",
        "    attention_mask = batch[\"attention_mask\"]\n",
        "    labels = batch[\"labels\"]\n",
        "\n",
        "    loss, outputs = self(input_ids, attention_mask, labels) # calls self.forward\n",
        "    preds = torch.argmax(outputs, 1) # take the highest predicted number\n",
        "\n",
        "    self.test_acc(preds, labels)\n",
        "    self.test_f1(preds, labels)\n",
        "    self.log('test/loss_epoch', loss, on_step=False, on_epoch=True)\n",
        "    self.log('test/acc_epoch', self.test_acc, on_step=False, on_epoch=True)\n",
        "    self.log('test/f1_epoch', self.test_f1, on_step=False, on_epoch=True)\n",
        "\n",
        "    # self.log(\"train_loss\", loss, prog_bar=True, logger=True)\n",
        "    return {\"loss\": loss, \"predictions\": preds, \"labels\": labels}\n",
        "\n",
        "  def validation_step(self, batch, batch_idx):\n",
        "    input_ids = batch[\"input_ids\"]\n",
        "    attention_mask = batch[\"attention_mask\"]\n",
        "    labels = batch[\"labels\"]\n",
        "    loss, outputs = self(input_ids, attention_mask, labels)\n",
        "    preds = torch.argmax(outputs, 1)\n",
        "\n",
        "    self.val_acc(preds, labels)\n",
        "    self.val_f1(preds, labels)\n",
        "    self.log('val/loss_epoch', loss, on_step=False, on_epoch=True)\n",
        "    self.log('val/acc_epoch', self.val_acc, on_step=False, on_epoch=True)\n",
        "    self.log('val/f1_epoch', self.val_f1, on_step=False, on_epoch=True)\n",
        "\n",
        "    # self.log(\"val_loss\", loss, prog_bar=True, logger=True)\n",
        "    return loss\n",
        "\n",
        "  def validation_epoch_end(self, validation_step_outputs):\n",
        "\n",
        "    # Saving our model weights and biases every epoch.\n",
        "    # This way, if we overfit, we can just roll back our weights to the saved weights at the best epoch\n",
        "    dummy_input = torch.zeros((self.hparams['input_dims'], self.hparams['attention_mask']), device=self.device)\n",
        "    model_filename = f'model_{str(self.global_step).zfill(5)}.onnx'\n",
        "    torch.onnx.export(self, dummy_input, model_filename)\n",
        "    wandb.save(model_filename)\n",
        "\n",
        "    # flatten validation step outputs as a pytorch tensor and turn into a histogram\n",
        "    flattened_logits = torch.flatten(torch.cat(validation_step_outputs))\n",
        "    self.logger.experiment.log(\n",
        "        {'valid/logits': wandb.Histogram(flattened_logits.to('cpu')),\n",
        "          'global_step': self.global_step}\n",
        "    )\n",
        "\n",
        "  def test_step(self, batch, batch_idx):\n",
        "    input_ids = batch[\"input_ids\"]\n",
        "    attention_mask = batch[\"attention_mask\"]\n",
        "    labels = batch[\"labels\"]\n",
        "    loss, outputs = self(input_ids, attention_mask, labels)\n",
        "    preds = torch.argmax(outputs, 1)\n",
        "\n",
        "    self.test_acc(preds, labels)\n",
        "    self.test_f1(preds, labels)\n",
        "    self.log('test/loss_epoch', loss, on_step=False, on_epoch=True)\n",
        "    self.log('test/acc_epoch', self.test_acc, on_step=False, on_epoch=True)\n",
        "    self.log('test/f1_epoch', self.test_f1, on_step=False, on_epoch=True)\n",
        "\n",
        "    # self.log(\"test_loss\", loss, prog_bar=True, logger=True)\n",
        "    return loss\n",
        "\n",
        "  def configure_optimizers(self):\n",
        "\n",
        "    optimizer = AdamW(self.parameters(), lr=2e-5)\n",
        "\n",
        "    scheduler = get_linear_schedule_with_warmup(\n",
        "      optimizer,\n",
        "      num_warmup_steps=self.n_warmup_steps,\n",
        "      num_training_steps=self.n_training_steps\n",
        "    )\n",
        "\n",
        "    return dict(\n",
        "      optimizer=optimizer,\n",
        "      lr_scheduler=dict(\n",
        "        scheduler=scheduler,\n",
        "        interval='step'\n",
        "      )\n",
        "    )"
      ],
      "execution_count": 198,
      "outputs": []
    },
    {
      "cell_type": "code",
      "metadata": {
        "id": "4N0XQSIWIjPY"
      },
      "source": [
        "steps_per_epoch=len(train_df) // BATCH_SIZE\n",
        "total_training_steps = steps_per_epoch * N_EPOCHS"
      ],
      "execution_count": 199,
      "outputs": []
    },
    {
      "cell_type": "code",
      "metadata": {
        "colab": {
          "base_uri": "https://localhost:8080/"
        },
        "id": "jt5a0TV0IjTV",
        "outputId": "7151e5d1-2b66-4efd-dd6c-aa17b955404a"
      },
      "source": [
        "warmup_steps = total_training_steps // 5\n",
        "warmup_steps, total_training_steps"
      ],
      "execution_count": 200,
      "outputs": [
        {
          "output_type": "execute_result",
          "data": {
            "text/plain": [
              "(300, 1500)"
            ]
          },
          "metadata": {
            "tags": []
          },
          "execution_count": 200
        }
      ]
    },
    {
      "cell_type": "code",
      "metadata": {
        "id": "eXY2MwerH_V5"
      },
      "source": [
        "model = ToxicCommentTagger(\n",
        "  num_classes=2,\n",
        "  input_dims=(8, 512),\n",
        "  n_warmup_steps=warmup_steps,\n",
        "  n_training_steps=total_training_steps \n",
        ")"
      ],
      "execution_count": 201,
      "outputs": []
    },
    {
      "cell_type": "code",
      "metadata": {
        "colab": {
          "base_uri": "https://localhost:8080/"
        },
        "id": "aZTaCo1oZatn",
        "outputId": "d0c735d5-6d14-4c04-e1b7-260e3880518e"
      },
      "source": [
        "checkpoint_callback = ModelCheckpoint(\n",
        "  dirpath=\"checkpoints\",\n",
        "  filename=\"best-checkpoint\",\n",
        "  save_top_k=1,\n",
        "  verbose=True,\n",
        "  monitor=\"val/loss_epoch\",\n",
        "  mode=\"min\"\n",
        ")"
      ],
      "execution_count": 202,
      "outputs": [
        {
          "output_type": "stream",
          "text": [
            "/usr/local/lib/python3.7/dist-packages/pytorch_lightning/utilities/distributed.py:68: UserWarning: Checkpoint directory checkpoints exists and is not empty.\n",
            "  warnings.warn(*args, **kwargs)\n"
          ],
          "name": "stderr"
        }
      ]
    },
    {
      "cell_type": "markdown",
      "metadata": {
        "id": "z7x7xckBeUbA"
      },
      "source": [
        "#### Callbacks"
      ]
    },
    {
      "cell_type": "code",
      "metadata": {
        "id": "bl7Znu84Zayp"
      },
      "source": [
        "early_stopping_callback = EarlyStopping(monitor='val/loss_epoch', patience=2)"
      ],
      "execution_count": 203,
      "outputs": []
    },
    {
      "cell_type": "code",
      "metadata": {
        "id": "QwWNJuNqtbzu"
      },
      "source": [
        "multiplicative=lambda epoch: 1.5 # modifies learning rate after unfreeze\n",
        "backbone_finetuning = BackboneFinetuning(5, multiplicative) # freezes pretrained model until 5 epochs"
      ],
      "execution_count": 204,
      "outputs": []
    },
    {
      "cell_type": "code",
      "metadata": {
        "id": "uWEyHxZ4kg__"
      },
      "source": [
        "model_pruning = ModelPruning(\n",
        "        pruning_fn='l1_unstructured',\n",
        "        amount=0.1,\n",
        "        use_global_unstructured=True,\n",
        "    )"
      ],
      "execution_count": 33,
      "outputs": []
    },
    {
      "cell_type": "code",
      "metadata": {
        "id": "IIYv_ShzkhD6"
      },
      "source": [
        "quantization_aware_training = QuantizationAwareTraining()"
      ],
      "execution_count": 34,
      "outputs": []
    },
    {
      "cell_type": "markdown",
      "metadata": {
        "id": "a5LFR-R0eYO4"
      },
      "source": [
        "#### Wandb Logging"
      ]
    },
    {
      "cell_type": "code",
      "metadata": {
        "colab": {
          "base_uri": "https://localhost:8080/",
          "height": 603
        },
        "id": "4H2MYJGVCbXS",
        "outputId": "b3c12637-1dee-4c1e-996d-495b7f1362a0"
      },
      "source": [
        "%env WANDB_LOG_MODEL=true\n",
        "wandb.init(project=\"weak-supervision-fsdl-project\", entity=\"weak-supervision-classifier-team\")"
      ],
      "execution_count": 239,
      "outputs": [
        {
          "output_type": "stream",
          "text": [
            "env: WANDB_LOG_MODEL=true\n"
          ],
          "name": "stdout"
        },
        {
          "output_type": "display_data",
          "data": {
            "text/html": [
              "\n",
              "                Tracking run with wandb version 0.10.30<br/>\n",
              "                Syncing run <strong style=\"color:#cdcd00\">desert-wave-24</strong> to <a href=\"https://wandb.ai\" target=\"_blank\">Weights & Biases</a> <a href=\"https://docs.wandb.com/integrations/jupyter.html\" target=\"_blank\">(Documentation)</a>.<br/>\n",
              "                Project page: <a href=\"https://wandb.ai/weak-supervision-classifier-team/weak-supervision-fsdl-project\" target=\"_blank\">https://wandb.ai/weak-supervision-classifier-team/weak-supervision-fsdl-project</a><br/>\n",
              "                Run page: <a href=\"https://wandb.ai/weak-supervision-classifier-team/weak-supervision-fsdl-project/runs/hoyw7fdx\" target=\"_blank\">https://wandb.ai/weak-supervision-classifier-team/weak-supervision-fsdl-project/runs/hoyw7fdx</a><br/>\n",
              "                Run data is saved locally in <code>/content/wandb/run-20210512_052017-hoyw7fdx</code><br/><br/>\n",
              "            "
            ],
            "text/plain": [
              "<IPython.core.display.HTML object>"
            ]
          },
          "metadata": {
            "tags": []
          }
        },
        {
          "output_type": "execute_result",
          "data": {
            "text/plain": [
              "<wandb.sdk.wandb_run.Run at 0x7fbdc9512ad0>"
            ],
            "text/html": [
              "<h1>Run(hoyw7fdx)</h1><iframe src=\"https://wandb.ai/weak-supervision-classifier-team/weak-supervision-fsdl-project/runs/hoyw7fdx\" style=\"border:none;width:100%;height:400px\"></iframe>"
            ]
          },
          "metadata": {
            "tags": []
          },
          "execution_count": 239
        }
      ]
    },
    {
      "cell_type": "code",
      "metadata": {
        "id": "fSXWdbpdIDvm"
      },
      "source": [
        "wandb_logger = WandbLogger(project=\"weak-supervision-fsdl-project\", entity=\"weak-supervision-classifier-team\")"
      ],
      "execution_count": 206,
      "outputs": []
    },
    {
      "cell_type": "markdown",
      "metadata": {
        "id": "f0wdEU-UeceZ"
      },
      "source": [
        "## Create PyTorch Lightning Trainer and Fit Model"
      ]
    },
    {
      "cell_type": "code",
      "metadata": {
        "colab": {
          "base_uri": "https://localhost:8080/"
        },
        "id": "MCvexWemZa1P",
        "outputId": "e0d4a3a4-0a30-4e14-b96f-3b6a2956fa51"
      },
      "source": [
        "trainer = pl.Trainer(\n",
        "  logger=wandb_logger,\n",
        "  log_every_n_steps=50,\n",
        "  checkpoint_callback=checkpoint_callback,\n",
        "  callbacks=[early_stopping_callback, backbone_finetuning, model_pruning, quantization_aware_training],\n",
        "  max_epochs=N_EPOCHS,\n",
        "  gpus=1,\n",
        "  deterministic=True,\n",
        "  progress_bar_refresh_rate=30,\n",
        "  precision=16\n",
        ")"
      ],
      "execution_count": 207,
      "outputs": [
        {
          "output_type": "stream",
          "text": [
            "GPU available: True, used: True\n",
            "TPU available: False, using: 0 TPU cores\n",
            "Using native 16bit precision.\n"
          ],
          "name": "stderr"
        }
      ]
    },
    {
      "cell_type": "code",
      "metadata": {
        "colab": {
          "base_uri": "https://localhost:8080/",
          "height": 1000,
          "referenced_widgets": [
            "6479e9f7588647b48de25a7e170aaf9d",
            "164084f699114ba5985e3d3fcdc0825c",
            "028ab20f76d24bf4919d59cd7149d873",
            "66e545583a4e41c798e324c38a1ba5db",
            "f3311bbe52b545fa945519fdff8be92e",
            "345e2f260a0b45c984db0b12598202a5",
            "682e591fe15842f194daa92961f87e7a",
            "ac681db01ddd4feda1ae27eb878259ad",
            "f6392fb8f20d423c9878c5817c55fc2b",
            "386073750ac74542bd0d42c70537bff5",
            "406640b9702045f7a6ed9ad1cbb68554",
            "34f5dcb36bc54d3cb842e5dc6acbf59a",
            "854e70e07793443d8c893590b7a40314",
            "dad8ca0d7830405d8ab94005b2ce81da",
            "ad27493b1bae4b43a4e9e84c68e98569",
            "4df3204c9f7b45a3956a6a2b2b62baeb",
            "33e6d7dbb00f411b9a7498d8a758bdb1",
            "5dd70256f4f34c74a8694f3c7f525f70",
            "280c7b71554848f1b607a5dd0ad8f39c",
            "62776441fd614fbc88b2fc2ecd9b12a4",
            "d3c8d360e2f0488aa91bb410fea6fb61",
            "e95d0d73c83244e08cf3535aea63f234",
            "b468ae0933d6446ca9bf1edbe018bdd4",
            "02715e8fd60341cbb8fe016cb4585784",
            "571343ee07c84bd0ba1647358b94bfac",
            "da3f4f99643f41e2b2089c1927858096",
            "82bf0e14638a4297bcc2f7b50ac47d5f",
            "2d4eb82a96474f28bba04936bd6a1c2e",
            "7d0d3ef98df14731ada4c6807b70dfc9",
            "f5e0b3833c714e64b89c4c9321c474e6",
            "d8b0104bd9a945bd92cf8dc5ce192f87",
            "797d89b173d94621954c0804bcd1d045",
            "5769f70302a241fc8d504826ab1cdeab",
            "c554d6d0625546a99deed1cbdb9addb2",
            "38dac1a6f9ff4ce88313f34e0cfeab4b",
            "884febbf12f54311a39bcf6fcb2e83d6",
            "4fcb561deac045349dddf85d725f9b1a",
            "096e62e99e7f4566982e1a556efe8410",
            "c24937dfe24d42d2a53b22c1e78c153b",
            "717982d07ba74e26a358b15dc5f85017",
            "f8eca25b94314e61986c779297e6c74c",
            "7e033e40299c4c92973e1a9124e7b72a",
            "fcd5b35d1e3f401996c1f08a2c19ab9e",
            "8eb0004ac1cf4b21a16918955755ab44",
            "3a0321b639944f928deb8f08f17fc338",
            "4e160e37a9b54fd9965c47c00496417e",
            "3a95ef21bc494c13acfb281f60fea95d",
            "8482910b7a064e91a6f31c89bd50607e",
            "28631abe05694daf8da548b377e96e0d",
            "80bdf028383b423f9dd983a8eff67a69",
            "0e4126ea16a64b48b4a067741fd7b686",
            "0568c20c0a2b4e3396ba50e01b9d9421",
            "2cb64554291b4e86a6f9b60d08fbadcc",
            "61b5b0f0309f4834985b249a564f4a5d",
            "7d0f81a7a2414a3ab75a46dd4137494b",
            "784709f3e5114234a382a983ca8a5e6a",
            "f36b01e47da746adb537f08282c2567f",
            "2a4c038fd39940d7bd3cb04c7b3e0488",
            "30b78451df38476a9f9d43a410569f13",
            "0a6a22f9bced42b980e59c2f6ee87bc8",
            "b1edec1259b9403093842f16ae1a131a",
            "58450b9e79674ff08f9240a1ec70ced4",
            "3cc95dc34a134003a1650ba6f8fa2c8e",
            "f2e6ee9f9f15499c922c7fc516a50b3f",
            "058d9cd2db1b428cac536b6146d5ad9a",
            "f0e8cc2c92bd492eb28c72621bbcece0",
            "d3c244533f0c456eb7a5481f2632953f",
            "967cecc04b094d1ea8ef1ec8806dd30a",
            "bf97ba5c081b4a40b35145974e990d91",
            "55824060e8c34e30a50dda43160f032c",
            "77b06463d43c4e49b97ebecf68356a86",
            "d489cdc568104ea3984dcc3c3ca9ff5a",
            "020474d71a1e45afadcb3d2251aef345",
            "ad4a57afb56d4593991d4b314ae2f55f",
            "eb65da6b6dd74e1184c8a00044930baa",
            "cd262cea633a4730b83c31694401e007",
            "8810ddf1ac2e4bdfae1ca54a5426d6d4",
            "3cd8a43f2566400a940480a446828ff4",
            "ef078a41e72449878d06ef98994e3c8f",
            "0ac41e80199940ebb1554ef90da37742",
            "9cf60e76aac8404fbfeca4072345078e",
            "6fe645483fa9460aaa87554f77f3b54f",
            "ee5c084f2b5f4621aad9146f5d4500da",
            "d99f6e0620424373874feaf8add80e6f",
            "022d108fcb8842e3bedc5eff9ceeada9",
            "04dd4ca939db4b68a744cb2037d9b9e6",
            "259efee2b6e64028af3612e0fd56fd16",
            "8e5bc6efd4b749ab933a76cf197e4c8e"
          ]
        },
        "id": "JHTj-TkYZa3n",
        "outputId": "9710a313-8346-49f1-ce40-ce09711463d3"
      },
      "source": [
        "trainer.fit(model, data_module)"
      ],
      "execution_count": 208,
      "outputs": [
        {
          "output_type": "stream",
          "text": [
            "LOCAL_RANK: 0 - CUDA_VISIBLE_DEVICES: [0]\n",
            "\n",
            "  | Name       | Type             | Params\n",
            "------------------------------------------------\n",
            "0 | backbone   | BertModel        | 167 M \n",
            "1 | classifier | Linear           | 1.5 K \n",
            "2 | criterion  | CrossEntropyLoss | 0     \n",
            "3 | train_acc  | Accuracy         | 0     \n",
            "4 | val_acc    | Accuracy         | 0     \n",
            "5 | test_acc   | Accuracy         | 0     \n",
            "6 | train_f1   | F1               | 0     \n",
            "7 | val_f1     | F1               | 0     \n",
            "8 | test_f1    | F1               | 0     \n",
            "------------------------------------------------\n",
            "1.5 K     Trainable params\n",
            "167 M     Non-trainable params\n",
            "167 M     Total params\n",
            "669.432   Total estimated model params size (MB)\n"
          ],
          "name": "stderr"
        },
        {
          "output_type": "display_data",
          "data": {
            "application/vnd.jupyter.widget-view+json": {
              "model_id": "6479e9f7588647b48de25a7e170aaf9d",
              "version_minor": 0,
              "version_major": 2
            },
            "text/plain": [
              "HBox(children=(FloatProgress(value=1.0, bar_style='info', description='Validation sanity check', layout=Layout…"
            ]
          },
          "metadata": {
            "tags": []
          }
        },
        {
          "output_type": "stream",
          "text": [
            "\r"
          ],
          "name": "stdout"
        },
        {
          "output_type": "display_data",
          "data": {
            "application/vnd.jupyter.widget-view+json": {
              "model_id": "f6392fb8f20d423c9878c5817c55fc2b",
              "version_minor": 0,
              "version_major": 2
            },
            "text/plain": [
              "HBox(children=(FloatProgress(value=1.0, bar_style='info', description='Training', layout=Layout(flex='2'), max…"
            ]
          },
          "metadata": {
            "tags": []
          }
        },
        {
          "output_type": "stream",
          "text": [
            "/usr/local/lib/python3.7/dist-packages/torchmetrics/utilities/prints.py:36: UserWarning: The ``compute`` method of metric Accuracy was called before the ``update`` method which may lead to errors, as metric states have not yet been updated.\n",
            "  warnings.warn(*args, **kwargs)\n",
            "/usr/local/lib/python3.7/dist-packages/torchmetrics/utilities/prints.py:36: UserWarning: The ``compute`` method of metric F1 was called before the ``update`` method which may lead to errors, as metric states have not yet been updated.\n",
            "  warnings.warn(*args, **kwargs)\n"
          ],
          "name": "stderr"
        },
        {
          "output_type": "display_data",
          "data": {
            "application/vnd.jupyter.widget-view+json": {
              "model_id": "33e6d7dbb00f411b9a7498d8a758bdb1",
              "version_minor": 0,
              "version_major": 2
            },
            "text/plain": [
              "HBox(children=(FloatProgress(value=1.0, bar_style='info', description='Validating', layout=Layout(flex='2'), m…"
            ]
          },
          "metadata": {
            "tags": []
          }
        },
        {
          "output_type": "stream",
          "text": [
            "Epoch 0, global step 49: val/loss_epoch reached 0.68149 (best 0.68149), saving model to \"/content/checkpoints/best-checkpoint-v1.ckpt\" as top 1\n"
          ],
          "name": "stderr"
        },
        {
          "output_type": "display_data",
          "data": {
            "application/vnd.jupyter.widget-view+json": {
              "model_id": "571343ee07c84bd0ba1647358b94bfac",
              "version_minor": 0,
              "version_major": 2
            },
            "text/plain": [
              "HBox(children=(FloatProgress(value=1.0, bar_style='info', description='Validating', layout=Layout(flex='2'), m…"
            ]
          },
          "metadata": {
            "tags": []
          }
        },
        {
          "output_type": "stream",
          "text": [
            "Epoch 1, global step 99: val/loss_epoch reached 0.67986 (best 0.67986), saving model to \"/content/checkpoints/best-checkpoint-v1.ckpt\" as top 1\n"
          ],
          "name": "stderr"
        },
        {
          "output_type": "display_data",
          "data": {
            "application/vnd.jupyter.widget-view+json": {
              "model_id": "5769f70302a241fc8d504826ab1cdeab",
              "version_minor": 0,
              "version_major": 2
            },
            "text/plain": [
              "HBox(children=(FloatProgress(value=1.0, bar_style='info', description='Validating', layout=Layout(flex='2'), m…"
            ]
          },
          "metadata": {
            "tags": []
          }
        },
        {
          "output_type": "stream",
          "text": [
            "Epoch 2, global step 149: val/loss_epoch reached 0.67702 (best 0.67702), saving model to \"/content/checkpoints/best-checkpoint-v1.ckpt\" as top 1\n"
          ],
          "name": "stderr"
        },
        {
          "output_type": "display_data",
          "data": {
            "application/vnd.jupyter.widget-view+json": {
              "model_id": "f8eca25b94314e61986c779297e6c74c",
              "version_minor": 0,
              "version_major": 2
            },
            "text/plain": [
              "HBox(children=(FloatProgress(value=1.0, bar_style='info', description='Validating', layout=Layout(flex='2'), m…"
            ]
          },
          "metadata": {
            "tags": []
          }
        },
        {
          "output_type": "stream",
          "text": [
            "Epoch 3, global step 199: val/loss_epoch reached 0.67343 (best 0.67343), saving model to \"/content/checkpoints/best-checkpoint-v1.ckpt\" as top 1\n"
          ],
          "name": "stderr"
        },
        {
          "output_type": "display_data",
          "data": {
            "application/vnd.jupyter.widget-view+json": {
              "model_id": "28631abe05694daf8da548b377e96e0d",
              "version_minor": 0,
              "version_major": 2
            },
            "text/plain": [
              "HBox(children=(FloatProgress(value=1.0, bar_style='info', description='Validating', layout=Layout(flex='2'), m…"
            ]
          },
          "metadata": {
            "tags": []
          }
        },
        {
          "output_type": "stream",
          "text": [
            "Epoch 4, global step 249: val/loss_epoch reached 0.66866 (best 0.66866), saving model to \"/content/checkpoints/best-checkpoint-v1.ckpt\" as top 1\n",
            "/usr/local/lib/python3.7/dist-packages/pytorch_lightning/utilities/distributed.py:68: UserWarning: The provided params to be freezed already exist within another group of this optimizer. Those parameters will be skipped.\n",
            "HINT: Did you init your optimizer in `configure_optimizer` as such:\n",
            " <class 'transformers.optimization.AdamW'>(filter(lambda p: p.requires_grad, self.parameters()), ...) \n",
            "  warnings.warn(*args, **kwargs)\n"
          ],
          "name": "stderr"
        },
        {
          "output_type": "display_data",
          "data": {
            "application/vnd.jupyter.widget-view+json": {
              "model_id": "f36b01e47da746adb537f08282c2567f",
              "version_minor": 0,
              "version_major": 2
            },
            "text/plain": [
              "HBox(children=(FloatProgress(value=1.0, bar_style='info', description='Validating', layout=Layout(flex='2'), m…"
            ]
          },
          "metadata": {
            "tags": []
          }
        },
        {
          "output_type": "stream",
          "text": [
            "Epoch 5, global step 299: val/loss_epoch reached 0.41211 (best 0.41211), saving model to \"/content/checkpoints/best-checkpoint-v1.ckpt\" as top 1\n"
          ],
          "name": "stderr"
        },
        {
          "output_type": "display_data",
          "data": {
            "application/vnd.jupyter.widget-view+json": {
              "model_id": "058d9cd2db1b428cac536b6146d5ad9a",
              "version_minor": 0,
              "version_major": 2
            },
            "text/plain": [
              "HBox(children=(FloatProgress(value=1.0, bar_style='info', description='Validating', layout=Layout(flex='2'), m…"
            ]
          },
          "metadata": {
            "tags": []
          }
        },
        {
          "output_type": "stream",
          "text": [
            "Epoch 6, global step 349: val/loss_epoch reached 0.40516 (best 0.40516), saving model to \"/content/checkpoints/best-checkpoint-v1.ckpt\" as top 1\n"
          ],
          "name": "stderr"
        },
        {
          "output_type": "display_data",
          "data": {
            "application/vnd.jupyter.widget-view+json": {
              "model_id": "020474d71a1e45afadcb3d2251aef345",
              "version_minor": 0,
              "version_major": 2
            },
            "text/plain": [
              "HBox(children=(FloatProgress(value=1.0, bar_style='info', description='Validating', layout=Layout(flex='2'), m…"
            ]
          },
          "metadata": {
            "tags": []
          }
        },
        {
          "output_type": "stream",
          "text": [
            "Epoch 7, step 399: val/loss_epoch was not in top 1\n"
          ],
          "name": "stderr"
        },
        {
          "output_type": "display_data",
          "data": {
            "application/vnd.jupyter.widget-view+json": {
              "model_id": "9cf60e76aac8404fbfeca4072345078e",
              "version_minor": 0,
              "version_major": 2
            },
            "text/plain": [
              "HBox(children=(FloatProgress(value=1.0, bar_style='info', description='Validating', layout=Layout(flex='2'), m…"
            ]
          },
          "metadata": {
            "tags": []
          }
        },
        {
          "output_type": "stream",
          "text": [
            "Epoch 8, step 449: val/loss_epoch was not in top 1\n"
          ],
          "name": "stderr"
        },
        {
          "output_type": "stream",
          "text": [
            "\n"
          ],
          "name": "stdout"
        },
        {
          "output_type": "execute_result",
          "data": {
            "text/plain": [
              "1"
            ]
          },
          "metadata": {
            "tags": []
          },
          "execution_count": 208
        }
      ]
    },
    {
      "cell_type": "code",
      "metadata": {
        "colab": {
          "base_uri": "https://localhost:8080/",
          "height": 345,
          "referenced_widgets": [
            "b8b2631c86d94e83b7102ddc764cafac",
            "8225067cf71d49bf905704181dd58623",
            "3cdb64b0a7c243ae911bcc66536ce391",
            "a699eef052614237b4c52622c8b958d6",
            "d23a6a2ede344edf9d5818b4e7badee1",
            "188a8f5ce95a47c389468531cd05f6c7",
            "3c04b1e6c0f1408e89231579426cd44b",
            "602430322f6643ba99ea9e57ea3ff4b9"
          ]
        },
        "id": "Fncpdj5frmHm",
        "outputId": "c3b0a63c-335a-48e2-ec8f-6b86387c5710"
      },
      "source": [
        "trainer.test()"
      ],
      "execution_count": 209,
      "outputs": [
        {
          "output_type": "stream",
          "text": [
            "LOCAL_RANK: 0 - CUDA_VISIBLE_DEVICES: [0]\n"
          ],
          "name": "stderr"
        },
        {
          "output_type": "display_data",
          "data": {
            "application/vnd.jupyter.widget-view+json": {
              "model_id": "b8b2631c86d94e83b7102ddc764cafac",
              "version_minor": 0,
              "version_major": 2
            },
            "text/plain": [
              "HBox(children=(FloatProgress(value=1.0, bar_style='info', description='Testing', layout=Layout(flex='2'), max=…"
            ]
          },
          "metadata": {
            "tags": []
          }
        },
        {
          "output_type": "stream",
          "text": [
            "\n",
            "--------------------------------------------------------------------------------\n",
            "DATALOADER:0 TEST RESULTS\n",
            "{'test/acc_epoch': 0.949999988079071,\n",
            " 'test/f1_epoch': 0.949999988079071,\n",
            " 'test/loss_epoch': 0.4051564335823059}\n",
            "--------------------------------------------------------------------------------\n"
          ],
          "name": "stdout"
        },
        {
          "output_type": "stream",
          "text": [
            "/usr/local/lib/python3.7/dist-packages/torchmetrics/utilities/prints.py:36: UserWarning: The ``compute`` method of metric Accuracy was called before the ``update`` method which may lead to errors, as metric states have not yet been updated.\n",
            "  warnings.warn(*args, **kwargs)\n",
            "/usr/local/lib/python3.7/dist-packages/torchmetrics/utilities/prints.py:36: UserWarning: The ``compute`` method of metric F1 was called before the ``update`` method which may lead to errors, as metric states have not yet been updated.\n",
            "  warnings.warn(*args, **kwargs)\n"
          ],
          "name": "stderr"
        },
        {
          "output_type": "execute_result",
          "data": {
            "text/plain": [
              "[{'test/acc_epoch': 0.949999988079071,\n",
              "  'test/f1_epoch': 0.949999988079071,\n",
              "  'test/loss_epoch': 0.4051564335823059}]"
            ]
          },
          "metadata": {
            "tags": []
          },
          "execution_count": 209
        }
      ]
    },
    {
      "cell_type": "code",
      "metadata": {
        "colab": {
          "base_uri": "https://localhost:8080/",
          "height": 222,
          "referenced_widgets": [
            "849262c61cde4250aae6411e1a54aab8",
            "a65a765bd9be4b528ffa6e65da2351d6",
            "254d6ff3d3454014b2027950b64b690c",
            "b74a5797f6154b938bd5196a4ce98e5c",
            "724381a5ab0b4754a1e8d5262fc8926b",
            "cbb78fbf2a874e5ba2d0a488168685f4",
            "93fece0d50e54b79a6d548b966372ace",
            "8e760e1854594178b9b33379e35af687"
          ]
        },
        "id": "zt5YeX-NrmOn",
        "outputId": "91b5aa50-483e-43ff-a26e-241331243341"
      },
      "source": [
        "wandb.finish()"
      ],
      "execution_count": 241,
      "outputs": [
        {
          "output_type": "display_data",
          "data": {
            "text/html": [
              "<br/>Waiting for W&B process to finish, PID 3244<br/>Program ended successfully."
            ],
            "text/plain": [
              "<IPython.core.display.HTML object>"
            ]
          },
          "metadata": {
            "tags": []
          }
        },
        {
          "output_type": "display_data",
          "data": {
            "application/vnd.jupyter.widget-view+json": {
              "model_id": "849262c61cde4250aae6411e1a54aab8",
              "version_minor": 0,
              "version_major": 2
            },
            "text/plain": [
              "VBox(children=(Label(value=' 1915.47MB of 1915.47MB uploaded (0.00MB deduped)\\r'), FloatProgress(value=1.0, ma…"
            ]
          },
          "metadata": {
            "tags": []
          }
        },
        {
          "output_type": "display_data",
          "data": {
            "text/html": [
              "Find user logs for this run at: <code>/content/wandb/run-20210512_052017-hoyw7fdx/logs/debug.log</code>"
            ],
            "text/plain": [
              "<IPython.core.display.HTML object>"
            ]
          },
          "metadata": {
            "tags": []
          }
        },
        {
          "output_type": "display_data",
          "data": {
            "text/html": [
              "Find internal logs for this run at: <code>/content/wandb/run-20210512_052017-hoyw7fdx/logs/debug-internal.log</code>"
            ],
            "text/plain": [
              "<IPython.core.display.HTML object>"
            ]
          },
          "metadata": {
            "tags": []
          }
        },
        {
          "output_type": "display_data",
          "data": {
            "text/html": [
              "Synced 5 W&B file(s), 0 media file(s), 0 artifact file(s) and 1 other file(s)"
            ],
            "text/plain": [
              "<IPython.core.display.HTML object>"
            ]
          },
          "metadata": {
            "tags": []
          }
        },
        {
          "output_type": "display_data",
          "data": {
            "text/html": [
              "\n",
              "                    <br/>Synced <strong style=\"color:#cdcd00\">desert-wave-24</strong>: <a href=\"https://wandb.ai/weak-supervision-classifier-team/weak-supervision-fsdl-project/runs/hoyw7fdx\" target=\"_blank\">https://wandb.ai/weak-supervision-classifier-team/weak-supervision-fsdl-project/runs/hoyw7fdx</a><br/>\n",
              "                "
            ],
            "text/plain": [
              "<IPython.core.display.HTML object>"
            ]
          },
          "metadata": {
            "tags": []
          }
        }
      ]
    },
    {
      "cell_type": "markdown",
      "metadata": {
        "id": "xaccDbK0enoT"
      },
      "source": [
        "## Loading the Trained Model on a Testing it on a Comment"
      ]
    },
    {
      "cell_type": "code",
      "metadata": {
        "id": "LnugjEfdlVSS"
      },
      "source": [
        "trained_model = ToxicCommentTagger.load_from_checkpoint(\n",
        "  trainer.checkpoint_callback.best_model_path,\n",
        "  n_classes=2\n",
        ")\n",
        "trained_model.eval()\n",
        "trained_model.freeze()"
      ],
      "execution_count": 211,
      "outputs": []
    },
    {
      "cell_type": "code",
      "metadata": {
        "colab": {
          "base_uri": "https://localhost:8080/"
        },
        "id": "5j2dcE_2lqVZ",
        "outputId": "ea617510-8f47-4fbd-f6e4-0c8d924d18f9"
      },
      "source": [
        "test_comment = \"you're so cool\"\n",
        "\n",
        "encoding = tokenizer.encode_plus(\n",
        "  test_comment,\n",
        "  add_special_tokens=True,\n",
        "  max_length=512,\n",
        "  return_token_type_ids=False,\n",
        "  padding=\"max_length\",\n",
        "  truncation=True,\n",
        "  return_attention_mask=True,\n",
        "  return_tensors='pt',\n",
        ")\n",
        "\n",
        "_, test_prediction = trained_model(encoding[\"input_ids\"], encoding[\"attention_mask\"])\n",
        "test_prediction = test_prediction.flatten().numpy()\n",
        "\n",
        "for label, prediction in zip(['non-toxic', 'toxic'], test_prediction):\n",
        "  print(f\"{label}: {prediction}\")"
      ],
      "execution_count": 224,
      "outputs": [
        {
          "output_type": "stream",
          "text": [
            "non-toxic: 0.8567990064620972\n",
            "toxic: 0.13947176933288574\n"
          ],
          "name": "stdout"
        }
      ]
    },
    {
      "cell_type": "code",
      "metadata": {
        "colab": {
          "base_uri": "https://localhost:8080/"
        },
        "id": "tS4Z5E4i2Q_k",
        "outputId": "70d3264a-af83-4124-f1d6-cc11eaa089a7"
      },
      "source": [
        "test_prediction[1]"
      ],
      "execution_count": 225,
      "outputs": [
        {
          "output_type": "execute_result",
          "data": {
            "text/plain": [
              "0.13947177"
            ]
          },
          "metadata": {
            "tags": []
          },
          "execution_count": 225
        }
      ]
    },
    {
      "cell_type": "markdown",
      "metadata": {
        "id": "gd4s7daaz_cH"
      },
      "source": [
        "## Saving the Trained Model in ONNX Format\n",
        "\n",
        "We did this with wandb, during training, but we'll do it locally as well."
      ]
    },
    {
      "cell_type": "code",
      "metadata": {
        "id": "c_qhZ69izeIG"
      },
      "source": [
        "model_filepath = 'fine_tuned_bert.onnx'\n",
        "trained_model.to_onnx(model_filepath, encoding[\"input_ids\"], encoding[\"attention_mask\"], export_params=True)"
      ],
      "execution_count": null,
      "outputs": []
    },
    {
      "cell_type": "markdown",
      "metadata": {
        "id": "nDbD9p3p0MkA"
      },
      "source": [
        "Once you have the exported model, you can run it on your ONNX runtime in the following way:"
      ]
    },
    {
      "cell_type": "code",
      "metadata": {
        "id": "7h2uJRynz8sn"
      },
      "source": [
        "ort_session = onnxruntime.InferenceSession(model_filepath)\n",
        "input_name = ort_session.get_inputs()[0].name\n",
        "ort_inputs = {input_name: (np.random.randn(8, 512).astype(np.float32), np.random.randn(8, 512).astype(np.float32))}\n",
        "ort_outs = ort_session.run(None, ort_inputs)"
      ],
      "execution_count": null,
      "outputs": []
    },
    {
      "cell_type": "markdown",
      "metadata": {
        "id": "oNOfniQnfctT"
      },
      "source": [
        "## Writing Labeling Functions (LFs)\n",
        "\n",
        "For clarity, we define constants to represent the class labels for non-toxic, toxic, and abstaining. These will go into our labeling functions so that the constants feed into the labeling process."
      ]
    },
    {
      "cell_type": "code",
      "metadata": {
        "id": "8tuwA_CNZZOh"
      },
      "source": [
        "ABSTAIN = -1\n",
        "NONTOXIC = 0\n",
        "TOXIC = 1"
      ],
      "execution_count": 14,
      "outputs": []
    },
    {
      "cell_type": "code",
      "metadata": {
        "id": "9jeEoNwvfpz-"
      },
      "source": [
        "# Useful for looking at the data and creating the labeling functions\n",
        "pd.set_option('display.max_colwidth', None)\n",
        "pd.set_option('display.max_rows', 200)"
      ],
      "execution_count": 15,
      "outputs": []
    },
    {
      "cell_type": "markdown",
      "metadata": {
        "id": "skrXRkAKgg88"
      },
      "source": [
        "Let's at a sample of the dataset so that we can come up with labeling functions."
      ]
    },
    {
      "cell_type": "code",
      "metadata": {
        "colab": {
          "base_uri": "https://localhost:8080/",
          "height": 1000
        },
        "id": "XpTSYGRdgYf6",
        "outputId": "6c988cfd-bf1a-48b3-f9cd-0ecde59e56a5"
      },
      "source": [
        "fine_tune_df"
      ],
      "execution_count": 16,
      "outputs": [
        {
          "output_type": "execute_result",
          "data": {
            "text/html": [
              "<div>\n",
              "<style scoped>\n",
              "    .dataframe tbody tr th:only-of-type {\n",
              "        vertical-align: middle;\n",
              "    }\n",
              "\n",
              "    .dataframe tbody tr th {\n",
              "        vertical-align: top;\n",
              "    }\n",
              "\n",
              "    .dataframe thead th {\n",
              "        text-align: right;\n",
              "    }\n",
              "</style>\n",
              "<table border=\"1\" class=\"dataframe\">\n",
              "  <thead>\n",
              "    <tr style=\"text-align: right;\">\n",
              "      <th></th>\n",
              "      <th>id</th>\n",
              "      <th>text</th>\n",
              "      <th>label</th>\n",
              "    </tr>\n",
              "  </thead>\n",
              "  <tbody>\n",
              "    <tr>\n",
              "      <th>75562</th>\n",
              "      <td>ca209ba9f5e6c427</td>\n",
              "      <td>\"\\n\\nQuoting it in full:\\n\\n A7. No indication of importance (individuals, animals, organizations, web content).\\n An article about a real person, individual animal(s), organization (e.g. band, club, company, etc., except schools),Past discussions leading to schools being exempt from A7. or web content that does not indicate why its subject is important or significant. This is distinct from verifiability and reliability of sources, and is a lower standard than notability. This criterion applies only to articles about web content and to articles about people, organizations, and individual animals themselves, not to articles about their books, albums, software, or other creative works. This criterion does not apply to species of animals, only to individual animal(s). The criterion does not apply to any article that makes any credible claim of significance or importance even if the claim is not supported by a reliable source or does not qualify on Wikipedia's  notability guidelines.It is irrelevant whether the claim of notability within the article falls below the notability guidelines. If the claim is credible, the A7 tag can not be applied. The criterion does apply if the claim of significance or importance given is not credible. If the claim's credibility is unclear, you can improve the article yourself, propose deletion, or list the article at articles for deletion.\\n  ,  – for people,  – for bands,  – for clubs, societies, groups, and organizations,  – for companies and corporations,  – for websites,  – for individual animals\\n\\nPlease note the bolded text.\"</td>\n",
              "      <td>0</td>\n",
              "    </tr>\n",
              "    <tr>\n",
              "      <th>132186</th>\n",
              "      <td>c35ee1f2038ebd08</td>\n",
              "      <td>File:Hurricane-Katrina-Grand-Casino-Gulfport-hotel-EPA.jpg\\nHi. If you'd be able to track down the source description page and info for File:Hurricane-Katrina-Grand-Casino-Gulfport-hotel-EPA.jpg which you uploaded here a while back and is now on Commons, that would be great, thanks!  Thanks for your work. Cheers,</td>\n",
              "      <td>0</td>\n",
              "    </tr>\n",
              "    <tr>\n",
              "      <th>3704</th>\n",
              "      <td>09e68df5ff03c01f</td>\n",
              "      <td>message from you regarding THREATS, STALKING, HARASSMENT, VIOLATION OF TERMS OF SERVICE AND CYBER BULLING FROM USER KERI.\\n\\nUser Keri has engaged in a pattern of threat, harassment, stalking and cyberbullying against me despite my telling them never to contact me again.\\nNext I got an implicit threat from you alleging a legal threat involving me. The conduct that user KERI is involved in are all illegal and I have repeatedly demanded that user stop contacting me. Stop using your position of authority to takes sides with the mods and admins against the 99% by censoring us and trying to intimidate us.</td>\n",
              "      <td>0</td>\n",
              "    </tr>\n",
              "    <tr>\n",
              "      <th>42542</th>\n",
              "      <td>718a3018dc34e106</td>\n",
              "      <td>I'll give you the benefit of the doubt as an experienced editor; however, in my personal opinion, we do not need a redirect to every article title from every conceivable grammatical variant of the title which might theoretically be used in a sentence.  That's what piped links are for.  (call me Russ)</td>\n",
              "      <td>0</td>\n",
              "    </tr>\n",
              "    <tr>\n",
              "      <th>110576</th>\n",
              "      <td>4f8eeca4ccf6d666</td>\n",
              "      <td>Communists Appearing on Iranian TV + Are They Having A Laugh? \\n\\nThat is the question. History students will know that Communists inspired the Iranian Revolution in 1979 and did the heavy lifting. They were then butchered by the Ayatollah and his followers. So, what kind of a Leftie would make an appearance on Press TV, which is run by the same Govt? Some kind of a Useful Idiot, that's who!</td>\n",
              "      <td>0</td>\n",
              "    </tr>\n",
              "    <tr>\n",
              "      <th>...</th>\n",
              "      <td>...</td>\n",
              "      <td>...</td>\n",
              "      <td>...</td>\n",
              "    </tr>\n",
              "    <tr>\n",
              "      <th>43595</th>\n",
              "      <td>74629fbb1f3097b7</td>\n",
              "      <td>Kuratowski's Ghost -&gt; TROLL \\nWatch out. Kuratowski's Ghost is a reference-hating troll. Several times now he's tried to erase facts. Sorry. You suck, troll. No win for you.</td>\n",
              "      <td>1</td>\n",
              "    </tr>\n",
              "    <tr>\n",
              "      <th>144678</th>\n",
              "      <td>10c5d97232cc7a30</td>\n",
              "      <td>\"\\n\\n Well a new section, I hope you read this \\n\\nI cursed at you previously, and it was deleted. To be honest; if I was face to face with you; I would have cursed at your mother. Your stupid fund raising mentality, and your inexistance at wikipedia doesn't represent your existance. \\n\\nIn my humble opinition; you're an idiot. Not only an idiot, you're a dumb and stupid one for this whole wikipedia society.\\n\\nYour democracy mentality lead to religious fendementalists to own and conqueer Turkish Wikipedia. And as a founder of it, with your permission to \"\"your free world\"\" I want to curse to you. I wish I had had sex with your mother and your grand mother.\\n\\nI wish I had your mother with your not eighteen daughter and all your siblings. And I want to do it,  just because you alloed me so.\\n\\nYour unmarried sisters and your daughters are such beautiful sluts; just like you. If you would be a girl.\\n\\nAnd from the bottom of of my heart; as you being the \"\"democratic\"\" president of asshole of the freedom of the unfree world.\\n\\nI would like to wish that, at least 10 people fists their head to your nazi ass.\\n\\nHave a nice day.\"</td>\n",
              "      <td>1</td>\n",
              "    </tr>\n",
              "    <tr>\n",
              "      <th>54637</th>\n",
              "      <td>920dbe7084312953</td>\n",
              "      <td>Disgusting, ignorant decisions by our friends Schutzstaffel \\n\\ni AM TRULY SORRY TO SEE THAT THE ASSHOLES AT ARBCOM HAVE MANAGED TO SILENCE YET ANOTHER GOOD EDITOR. HOPEFULLY THE MORONS WILL BE VOTED OUT AND WE CAN GET THIS REVIEWED. IN THE MEANTIME I HOPE THEY DON'T PUT YOU IN A FORCED LABOR/REEDUCATION CAMP. FUCKING NAZIS</td>\n",
              "      <td>1</td>\n",
              "    </tr>\n",
              "    <tr>\n",
              "      <th>78227</th>\n",
              "      <td>d15eb678d1a2a686</td>\n",
              "      <td>Well, you're very rude! I was only trying to get to know about your situation. I'm not a paedophile or anything like that, though I'm sure you doubt my motives in talking to you! Can't you just regress from your silly little persona for a moment or two? You aren't a doctor, you aren't a barrister; you're just a Wikipedia with too much time and not enough love! How tragic it sounds! That sounds too similar to my situation... woe is me!! Anyway, I've tried and I've failed. Tried is also an anagram for tired, that which I am. Goodnight MR JD_UK. (Remember what I have said though, please. Remove it if you will, I shan't care too much whilst I am in the land of nod, only to revert it back tomorrow anyway). Sleep well my pansy.</td>\n",
              "      <td>1</td>\n",
              "    </tr>\n",
              "    <tr>\n",
              "      <th>130726</th>\n",
              "      <td>bb5a10f7644658cf</td>\n",
              "      <td>you are a prat, and my revenge will be sweet! hahahahahaahahahahahahahahahahahahahahaha.</td>\n",
              "      <td>1</td>\n",
              "    </tr>\n",
              "  </tbody>\n",
              "</table>\n",
              "<p>600 rows × 3 columns</p>\n",
              "</div>"
            ],
            "text/plain": [
              "                      id  ... label\n",
              "75562   ca209ba9f5e6c427  ...     0\n",
              "132186  c35ee1f2038ebd08  ...     0\n",
              "3704    09e68df5ff03c01f  ...     0\n",
              "42542   718a3018dc34e106  ...     0\n",
              "110576  4f8eeca4ccf6d666  ...     0\n",
              "...                  ...  ...   ...\n",
              "43595   74629fbb1f3097b7  ...     1\n",
              "144678  10c5d97232cc7a30  ...     1\n",
              "54637   920dbe7084312953  ...     1\n",
              "78227   d15eb678d1a2a686  ...     1\n",
              "130726  bb5a10f7644658cf  ...     1\n",
              "\n",
              "[600 rows x 3 columns]"
            ]
          },
          "metadata": {
            "tags": []
          },
          "execution_count": 16
        }
      ]
    },
    {
      "cell_type": "code",
      "metadata": {
        "colab": {
          "base_uri": "https://localhost:8080/"
        },
        "id": "BPzyVv88gzzW",
        "outputId": "ba675d51-9b0c-4095-cc50-d1f8cf7db068"
      },
      "source": [
        "# Showing the most common words to make the labeling function creation process quicker\n",
        "# This is where we can come up with a custom keyword list\n",
        "\n",
        "pd.Series(' '.join(fine_tune_df[fine_tune_df['label'] == 1].sample(100, random_state=42).text).split()).value_counts()[:100]"
      ],
      "execution_count": 17,
      "outputs": [
        {
          "output_type": "execute_result",
          "data": {
            "text/plain": [
              "is           224\n",
              "all          179\n",
              "Bollocks     162\n",
              "bollocks     161\n",
              "you          139\n",
              "to           131\n",
              "a            120\n",
              "the          119\n",
              "and           99\n",
              "I             85\n",
              "of            64\n",
              "your          60\n",
              "that          57\n",
              "on            42\n",
              "are           40\n",
              "in            34\n",
              "my            34\n",
              "for           33\n",
              "be            32\n",
              "with          31\n",
              "it            31\n",
              "You           29\n",
              "have          26\n",
              "don't         23\n",
              "\"             23\n",
              "me            22\n",
              "about         21\n",
              "fucking       21\n",
              "not           21\n",
              "this          20\n",
              "know          20\n",
              "as            17\n",
              "so            17\n",
              "like          15\n",
              "or            15\n",
              "what          15\n",
              "article       14\n",
              "you're        14\n",
              "do            14\n",
              "they          13\n",
              "people        13\n",
              "who           13\n",
              "off           12\n",
              "but           12\n",
              "If            12\n",
              "by            12\n",
              "from          12\n",
              "will          12\n",
              "an            12\n",
              "YOU           12\n",
              "was           11\n",
              "his           11\n",
              "nothing       11\n",
              "fuck          10\n",
              "i             10\n",
              "if            10\n",
              "would         10\n",
              "any           10\n",
              "own           10\n",
              "more          10\n",
              "than          10\n",
              "he            10\n",
              "get           10\n",
              "we            10\n",
              "And            9\n",
              "one            9\n",
              "their          9\n",
              "give           9\n",
              "no             9\n",
              "then           9\n",
              "when           9\n",
              "bitch          9\n",
              "can't          9\n",
              "some           9\n",
              "shit           9\n",
              "==             8\n",
              "think          8\n",
              "talk           8\n",
              "up             8\n",
              "I'm            8\n",
              "f*cking        8\n",
              "can            8\n",
              "THE            8\n",
              "just           8\n",
              "should         8\n",
              "has            7\n",
              "need           7\n",
              "because        7\n",
              "use            7\n",
              "want           7\n",
              "anything       7\n",
              "being          7\n",
              "edit           7\n",
              "retarded       6\n",
              "there          6\n",
              "take           6\n",
              "add            6\n",
              "It's           6\n",
              "that.          6\n",
              "Wikipedia      6\n",
              "dtype: int64"
            ]
          },
          "metadata": {
            "tags": []
          },
          "execution_count": 17
        }
      ]
    },
    {
      "cell_type": "markdown",
      "metadata": {
        "id": "gk-vftHWldb3"
      },
      "source": [
        "## Labeling Functions"
      ]
    },
    {
      "cell_type": "code",
      "metadata": {
        "id": "5UbimMDBhRwX"
      },
      "source": [
        "@nlp_labeling_function()\n",
        "def contains_work_of_art(x):\n",
        "    \"\"\"If comment contains titles of books, songs, etc., label non-toxic, else abstain\"\"\"\n",
        "    if any([ent.label_ == \"WORK_OF_ART\" for ent in x.doc.ents]):\n",
        "        return NONTOXIC\n",
        "    else:\n",
        "        return ABSTAIN\n",
        "    \n",
        "@nlp_labeling_function()\n",
        "def contains_entity(x):\n",
        "    \"\"\"If comment contains least 3 mentions of an entity, label non-toxic, else abstain\"\"\"\n",
        "    if len([ent.label_ in [\"PERSON\", \"GPE\", \"LOC\", \"ORG\", \"LAW\", \"LANGUAGE\"] for ent in x.doc.ents])>2:\n",
        "        return NONTOXIC\n",
        "    else:\n",
        "        return ABSTAIN"
      ],
      "execution_count": 20,
      "outputs": []
    },
    {
      "cell_type": "code",
      "metadata": {
        "id": "-5JpH56dlipy"
      },
      "source": [
        "@preprocessor(memoize=True)\n",
        "def textblob_sentiment(x):\n",
        "    scores = TextBlob(x.text)\n",
        "    x.polarity = scores.sentiment.polarity\n",
        "    x.subjectivity = scores.sentiment.subjectivity\n",
        "    return x\n",
        "\n",
        "@labeling_function(pre=[textblob_sentiment])\n",
        "def textblob_polarity(x):\n",
        "    \"\"\"If comment has a polarity score between +0.9 and +1, label non-toxic, else abstain\"\"\"\n",
        "    return NONTOXIC if x.polarity > 0.9 else ABSTAIN\n",
        "\n",
        "@labeling_function(pre=[textblob_sentiment])\n",
        "def textblob_subjectivity(x):\n",
        "    \"\"\"If comment has a subjectivity score between +0.7 and +1, label non-toxic, else abstain\"\"\"\n",
        "    return NONTOXIC if x.subjectivity >= 0.7 else ABSTAIN"
      ],
      "execution_count": 21,
      "outputs": []
    },
    {
      "cell_type": "code",
      "metadata": {
        "id": "JGY_yIHilmL-"
      },
      "source": [
        "# @labeling_function()\n",
        "# def contains_profanity(x):\n",
        "#     \"\"\"\n",
        "#     If comment contains profanity label toxic, else abstain. \n",
        "#     Profanity determined using this library - https://github.com/snguyenthanh/better_profanity\n",
        "#     \"\"\"\n",
        "#     return TOXIC if profanity.contains_profanity(x.text) else ABSTAIN"
      ],
      "execution_count": 22,
      "outputs": []
    },
    {
      "cell_type": "code",
      "metadata": {
        "id": "zA_hwoDdlyPy"
      },
      "source": [
        "# @nlp_labeling_function()\n",
        "# def contains_pleaseread(x):\n",
        "#     \"\"\"\n",
        "#     Will match commonly occuring phrases like - \n",
        "#     Please read this\n",
        "#     Please read the\n",
        "#     Please read\n",
        "#     \"\"\"\n",
        "#     matcher = PhraseMatcher(nlp.vocab)\n",
        "#     pattern = [{\"LEMMA\": \"please\"},\n",
        "#                {\"LEMMA\": \"read\"},\n",
        "#                {\"LEMMA\": \"the\", \"OP\": \"?\"},\n",
        "#                {\"LEMMA\": \"this\", \"OP\": \"?\"}]\n",
        "#     matcher.add(\"p1\", None, pattern)\n",
        "#     matches = matcher(x.doc)\n",
        "#     return NONTOXIC if len(matches)>0 else ABSTAIN\n",
        "\n",
        "@nlp_labeling_function()\n",
        "def contains_stopvandalizing(x):\n",
        "    \"\"\"\n",
        "    Will match commonly occuring phrases like - \n",
        "    stop vandalizing\n",
        "    do not vandalize\n",
        "    don't vandalize\n",
        "    \"\"\"\n",
        "    matcher = Matcher(nlp.vocab)\n",
        "    pattern1 = [{\"LEMMA\": \"do\"},\n",
        "                {\"LEMMA\": \"not\"},\n",
        "                {\"LEMMA\": \"vandalize\"}]\n",
        "    pattern2 = [{\"LEMMA\": \"stop\"}, \n",
        "                {\"LEMMA\": \"vandalize\"}]\n",
        "    matcher.add(\"p1\", None, pattern1)\n",
        "    matcher.add(\"p2\", None, pattern2)\n",
        "    matches = matcher(x.doc)\n",
        "    return NONTOXIC if len(matches)>0 else ABSTAIN\n",
        "    \n",
        "# @nlp_labeling_function()\n",
        "# def contains_harassme(x):\n",
        "#     \"\"\"\n",
        "#     Will match commonly occuring phrases like - \n",
        "#     harass me\n",
        "#     harassed me\n",
        "#     harassing me\n",
        "#     \"\"\"\n",
        "#     matcher = Matcher(nlp.vocab)\n",
        "#     pattern = [{\"LOWER\": \"harass\"}, \n",
        "#                {\"LOWER\": \"me\"}]\n",
        "#     matcher.add(\"p1\", None, pattern)\n",
        "#     matches = matcher(x.doc)\n",
        "#     return NONTOXIC if len(matches)>0 else ABSTAIN\n",
        "\n",
        "# @nlp_labeling_function()\n",
        "# def contains_willreport(x):\n",
        "#     \"\"\"Will match commonly observed phrases like - \n",
        "#     report you\n",
        "#     reported you\n",
        "#     reporting you\n",
        "#     reported your\n",
        "#     \"\"\"\n",
        "#     matcher = Matcher(nlp.vocab)\n",
        "#     pattern = [{\"LEMMA\": \"report\"}, \n",
        "#                {\"LEMMA\": \"you\"}]\n",
        "#     matcher.add(\"p1\", None, pattern)\n",
        "#     matches = matcher(x.doc)\n",
        "#     return NONTOXIC if len(matches)>0 else ABSTAIN"
      ],
      "execution_count": 23,
      "outputs": []
    },
    {
      "cell_type": "code",
      "metadata": {
        "id": "d79sn121l1L4"
      },
      "source": [
        "@nlp_labeling_function()\n",
        "def contains_email(x):\n",
        "    \"\"\"If comment contains email address, label non-toxic, else abstain\"\"\"\n",
        "    matcher = Matcher(nlp.vocab)\n",
        "    pattern = [{\"LIKE_EMAIL\": True}]\n",
        "    matcher.add(\"p1\", None, pattern)\n",
        "    matches = matcher(x.doc)\n",
        "    return NONTOXIC if len(matches)>0 else ABSTAIN\n",
        "    \n",
        "@nlp_labeling_function()\n",
        "def contains_url(x):\n",
        "    \"\"\"If comment contains url, label non-toxic, else abstain\"\"\"\n",
        "    matcher = Matcher(nlp.vocab)\n",
        "    pattern = [{\"LIKE_URL\": True}]\n",
        "    matcher.add(\"p1\", None, pattern)\n",
        "    matches = matcher(x.doc)\n",
        "    return NONTOXIC if len(matches)>0 else ABSTAIN"
      ],
      "execution_count": 24,
      "outputs": []
    },
    {
      "cell_type": "code",
      "metadata": {
        "id": "B3I8PwUbl3pW"
      },
      "source": [
        "def keyword_lookup(x, keywords, label):\n",
        "    if any(word in x.text.lower() for word in keywords):\n",
        "        return label\n",
        "    return ABSTAIN\n",
        "\n",
        "def make_keyword_lf(keywords, label=TOXIC):\n",
        "    return LabelingFunction(\n",
        "        name=f\"keyword_{keywords[0]}\",\n",
        "        f=keyword_lookup,\n",
        "        resources=dict(keywords=keywords, label=label),\n",
        "    )\n",
        "\n",
        "# need to load badwords.txt in directory if you decide to run commented code below\n",
        "\n",
        "# with open('badwords.txt') as f:\n",
        "#     toxic_stopwords = f.readlines()\n",
        "\n",
        "# toxic_stopwords = [x.strip() for x in toxic_stopwords] # len = 458\n",
        "# \"\"\"Comments mentioning at least one of Google's Toxic Stopwords \n",
        "# https://code.google.com/archive/p/badwordslist/downloads are likely toxic\"\"\"\n",
        "# keyword_toxic_stopwords = make_keyword_lf(keywords=toxic_stopwords)\n",
        "\n",
        "keyword_please = make_keyword_lf(keywords=[\"please\", \"plz\", \"pls\", \"pl\", \"Please read this\", \"Please read the\", \"Please read\"], label=NONTOXIC)\n",
        "\n",
        "keyword_thanks = make_keyword_lf(keywords=[\"thanks\", \"thank you\", \"thx\", \"tx\"], label=NONTOXIC)"
      ],
      "execution_count": 25,
      "outputs": []
    },
    {
      "cell_type": "code",
      "metadata": {
        "id": "R8gnAGful6Cl"
      },
      "source": [
        "# @labeling_function()\n",
        "# def capslock(x):\n",
        "#     \"\"\"If comment is written in all caps, label toxic, else abstain\"\"\"\n",
        "#     return TOXIC if x.text == x.text.upper() else ABSTAIN"
      ],
      "execution_count": 26,
      "outputs": []
    },
    {
      "cell_type": "code",
      "metadata": {
        "id": "IEAaf1yI0Z_M"
      },
      "source": [
        "@labeling_function()\n",
        "def lf_bert_sentiment(x):\n",
        "    \"\"\" Hatespeech may have a negative sentiment.\n",
        "        \n",
        "    Ranks the text given a sentiment from a pretrained bert transformer for movie reviews sentiment analysis.\n",
        "    Note: For larger datasets, we should compute this in batches and ahead-of-time.\n",
        "    \"\"\"\n",
        "\n",
        "    try:\n",
        "      \n",
        "      encoding = tokenizer.encode_plus(\n",
        "      x.text,\n",
        "      add_special_tokens=True,\n",
        "      max_length=512,\n",
        "      return_token_type_ids=False,\n",
        "      padding=\"max_length\",\n",
        "      truncation=True,\n",
        "      return_attention_mask=True,\n",
        "      return_tensors='pt',\n",
        "    )\n",
        "\n",
        "      _, test_prediction = trained_model(encoding[\"input_ids\"], encoding[\"attention_mask\"])\n",
        "      toxic_proba = test_prediction.flatten().numpy()[1]\n",
        "\n",
        "      if toxic_proba >= 0.7:\n",
        "          return TOXIC\n",
        "      if toxic_proba >= 0.3: \n",
        "          return NONTOXIC\n",
        "      return ABSTAIN\n",
        "\n",
        "    except:\n",
        "      return ABSTAIN"
      ],
      "execution_count": 226,
      "outputs": []
    },
    {
      "cell_type": "code",
      "metadata": {
        "id": "TGQfI0cbpSG2"
      },
      "source": [
        "lfs = [\n",
        "      contains_work_of_art,\n",
        "      contains_entity,\n",
        "      # textblob_polarity,          # Removed: only labeled 2 examples with 50% accuracy\n",
        "      # textblob_subjectivity,    # Removed: 35% accuracy\n",
        "      # contains_profanity,       # Removed: 62% accuracy, removed to make labeling faster\n",
        "      # contains_pleaseread,\n",
        "      # contains_stopvandalizing,\n",
        "      # contains_harassme,        # Removed: 50% on 4 examples\n",
        "      # contains_willreport,      # Removed: labels 1 example and gets it wrong\n",
        "      contains_email,\n",
        "      contains_url,\n",
        "      # keyword_toxic_stopwords,  # Removed: 22% accuracy\n",
        "      keyword_please,\n",
        "      keyword_thanks,\n",
        "      # capslock                  # Removed: 55% accuracy, doesn't label many examples\n",
        "      lf_bert_sentiment\n",
        "]"
      ],
      "execution_count": 227,
      "outputs": []
    },
    {
      "cell_type": "markdown",
      "metadata": {
        "id": "4yIOHCbGp_uT"
      },
      "source": [
        "## Applying the Labeling Functions"
      ]
    },
    {
      "cell_type": "code",
      "metadata": {
        "colab": {
          "base_uri": "https://localhost:8080/"
        },
        "id": "aXzxpW7PppcZ",
        "outputId": "9b686807-1be9-47ca-bbae-b5634f5bf39b"
      },
      "source": [
        "applier = DaskLFApplier(lfs=lfs)\n",
        "L_train = applier.apply(df=train_df)"
      ],
      "execution_count": 228,
      "outputs": [
        {
          "output_type": "stream",
          "text": [
            "/usr/local/lib/python3.7/dist-packages/tqdm/std.py:658: FutureWarning: The Panel class is removed from pandas. Accessing it from the top-level namespace will also be removed in the next version\n",
            "  from pandas import Panel\n",
            "100%|██████████| 1800/1800 [26:54<00:00,  1.11it/s]\n"
          ],
          "name": "stderr"
        }
      ]
    },
    {
      "cell_type": "code",
      "metadata": {
        "colab": {
          "base_uri": "https://localhost:8080/"
        },
        "id": "61ZFqTUrbvnM",
        "outputId": "6952cb0d-d47b-4221-8d6d-f4fa8fbc6e45"
      },
      "source": [
        "L_test = applier.apply(df=test_df)"
      ],
      "execution_count": 229,
      "outputs": [
        {
          "output_type": "stream",
          "text": [
            "/usr/local/lib/python3.7/dist-packages/tqdm/std.py:658: FutureWarning: The Panel class is removed from pandas. Accessing it from the top-level namespace will also be removed in the next version\n",
            "  from pandas import Panel\n",
            "100%|██████████| 540/540 [07:49<00:00,  1.15it/s]\n"
          ],
          "name": "stderr"
        }
      ]
    },
    {
      "cell_type": "markdown",
      "metadata": {
        "id": "jeAw3qRvfc05"
      },
      "source": [
        "## Saving `L_train`"
      ]
    },
    {
      "cell_type": "code",
      "metadata": {
        "colab": {
          "base_uri": "https://localhost:8080/"
        },
        "id": "XuUXPkf0qj9v",
        "outputId": "bda3b29a-0588-48d5-9a90-a0269e2b5443"
      },
      "source": [
        "import pickle\n",
        "\n",
        "with open('L_train_toxic_finetuned_bert_600ex_1.pkl','wb') as f:\n",
        "  pickle.dump(L_train, f)\n",
        "with open('L_train_toxic_finetuned_bert_600ex_1.pkl','rb') as f:\n",
        "  L_train = pickle.load(f)\n",
        "  print(L_train.shape)"
      ],
      "execution_count": 230,
      "outputs": [
        {
          "output_type": "stream",
          "text": [
            "(1800, 7)\n"
          ],
          "name": "stdout"
        }
      ]
    },
    {
      "cell_type": "code",
      "metadata": {
        "colab": {
          "base_uri": "https://localhost:8080/"
        },
        "id": "hiH7zJhZBn9X",
        "outputId": "bdb9c1ef-1301-487f-8d00-6636c0d79b27"
      },
      "source": [
        "L_train"
      ],
      "execution_count": 231,
      "outputs": [
        {
          "output_type": "execute_result",
          "data": {
            "text/plain": [
              "array([[-1, -1, -1, ...,  0, -1, -1],\n",
              "       [-1, -1, -1, ..., -1, -1,  1],\n",
              "       [-1, -1, -1, ...,  0, -1,  1],\n",
              "       ...,\n",
              "       [-1, -1, -1, ..., -1, -1,  1],\n",
              "       [-1, -1, -1, ...,  0, -1, -1],\n",
              "       [-1, -1, -1, ..., -1, -1,  1]])"
            ]
          },
          "metadata": {
            "tags": []
          },
          "execution_count": 231
        }
      ]
    },
    {
      "cell_type": "markdown",
      "metadata": {
        "id": "PNOB62kefpEi"
      },
      "source": [
        "## Testing our Label Model"
      ]
    },
    {
      "cell_type": "code",
      "metadata": {
        "colab": {
          "base_uri": "https://localhost:8080/",
          "height": 269
        },
        "id": "CK4UUygYaUTs",
        "outputId": "e717a742-f24f-48b1-b489-c6a936b11220"
      },
      "source": [
        "from snorkel.labeling import LFAnalysis\n",
        "LFAnalysis(L=L_train, lfs=lfs).lf_summary()"
      ],
      "execution_count": 232,
      "outputs": [
        {
          "output_type": "execute_result",
          "data": {
            "text/html": [
              "<div>\n",
              "<style scoped>\n",
              "    .dataframe tbody tr th:only-of-type {\n",
              "        vertical-align: middle;\n",
              "    }\n",
              "\n",
              "    .dataframe tbody tr th {\n",
              "        vertical-align: top;\n",
              "    }\n",
              "\n",
              "    .dataframe thead th {\n",
              "        text-align: right;\n",
              "    }\n",
              "</style>\n",
              "<table border=\"1\" class=\"dataframe\">\n",
              "  <thead>\n",
              "    <tr style=\"text-align: right;\">\n",
              "      <th></th>\n",
              "      <th>j</th>\n",
              "      <th>Polarity</th>\n",
              "      <th>Coverage</th>\n",
              "      <th>Overlaps</th>\n",
              "      <th>Conflicts</th>\n",
              "    </tr>\n",
              "  </thead>\n",
              "  <tbody>\n",
              "    <tr>\n",
              "      <th>contains_work_of_art</th>\n",
              "      <td>0</td>\n",
              "      <td>[0]</td>\n",
              "      <td>0.057778</td>\n",
              "      <td>0.055556</td>\n",
              "      <td>0.017222</td>\n",
              "    </tr>\n",
              "    <tr>\n",
              "      <th>contains_entity</th>\n",
              "      <td>1</td>\n",
              "      <td>[0]</td>\n",
              "      <td>0.296667</td>\n",
              "      <td>0.241667</td>\n",
              "      <td>0.111111</td>\n",
              "    </tr>\n",
              "    <tr>\n",
              "      <th>contains_email</th>\n",
              "      <td>2</td>\n",
              "      <td>[0]</td>\n",
              "      <td>0.001667</td>\n",
              "      <td>0.001667</td>\n",
              "      <td>0.000556</td>\n",
              "    </tr>\n",
              "    <tr>\n",
              "      <th>contains_url</th>\n",
              "      <td>3</td>\n",
              "      <td>[0]</td>\n",
              "      <td>0.027778</td>\n",
              "      <td>0.021667</td>\n",
              "      <td>0.007222</td>\n",
              "    </tr>\n",
              "    <tr>\n",
              "      <th>keyword_please</th>\n",
              "      <td>4</td>\n",
              "      <td>[0]</td>\n",
              "      <td>0.316111</td>\n",
              "      <td>0.240000</td>\n",
              "      <td>0.112778</td>\n",
              "    </tr>\n",
              "    <tr>\n",
              "      <th>keyword_thanks</th>\n",
              "      <td>5</td>\n",
              "      <td>[0]</td>\n",
              "      <td>0.081111</td>\n",
              "      <td>0.061111</td>\n",
              "      <td>0.013333</td>\n",
              "    </tr>\n",
              "    <tr>\n",
              "      <th>lf_bert_sentiment</th>\n",
              "      <td>6</td>\n",
              "      <td>[0, 1]</td>\n",
              "      <td>0.507222</td>\n",
              "      <td>0.195000</td>\n",
              "      <td>0.185556</td>\n",
              "    </tr>\n",
              "  </tbody>\n",
              "</table>\n",
              "</div>"
            ],
            "text/plain": [
              "                      j Polarity  Coverage  Overlaps  Conflicts\n",
              "contains_work_of_art  0      [0]  0.057778  0.055556   0.017222\n",
              "contains_entity       1      [0]  0.296667  0.241667   0.111111\n",
              "contains_email        2      [0]  0.001667  0.001667   0.000556\n",
              "contains_url          3      [0]  0.027778  0.021667   0.007222\n",
              "keyword_please        4      [0]  0.316111  0.240000   0.112778\n",
              "keyword_thanks        5      [0]  0.081111  0.061111   0.013333\n",
              "lf_bert_sentiment     6   [0, 1]  0.507222  0.195000   0.185556"
            ]
          },
          "metadata": {
            "tags": []
          },
          "execution_count": 232
        }
      ]
    },
    {
      "cell_type": "code",
      "metadata": {
        "id": "sldAErC6aZix"
      },
      "source": [
        "from snorkel.labeling.model import LabelModel\n",
        "\n",
        "label_model = LabelModel(cardinality=2, verbose=True)\n",
        "label_model.fit(L_train=L_train, n_epochs=500, log_freq=100, seed=123)"
      ],
      "execution_count": 233,
      "outputs": []
    },
    {
      "cell_type": "code",
      "metadata": {
        "colab": {
          "base_uri": "https://localhost:8080/",
          "height": 269
        },
        "id": "wpYfjI6fajb0",
        "outputId": "de0173f7-60cf-44f8-9826-63603d7ff37e"
      },
      "source": [
        "Y_test = test_df.label.values\n",
        "LFAnalysis(L_test, lfs).lf_summary(Y_test)"
      ],
      "execution_count": 234,
      "outputs": [
        {
          "output_type": "execute_result",
          "data": {
            "text/html": [
              "<div>\n",
              "<style scoped>\n",
              "    .dataframe tbody tr th:only-of-type {\n",
              "        vertical-align: middle;\n",
              "    }\n",
              "\n",
              "    .dataframe tbody tr th {\n",
              "        vertical-align: top;\n",
              "    }\n",
              "\n",
              "    .dataframe thead th {\n",
              "        text-align: right;\n",
              "    }\n",
              "</style>\n",
              "<table border=\"1\" class=\"dataframe\">\n",
              "  <thead>\n",
              "    <tr style=\"text-align: right;\">\n",
              "      <th></th>\n",
              "      <th>j</th>\n",
              "      <th>Polarity</th>\n",
              "      <th>Coverage</th>\n",
              "      <th>Overlaps</th>\n",
              "      <th>Conflicts</th>\n",
              "      <th>Correct</th>\n",
              "      <th>Incorrect</th>\n",
              "      <th>Emp. Acc.</th>\n",
              "    </tr>\n",
              "  </thead>\n",
              "  <tbody>\n",
              "    <tr>\n",
              "      <th>contains_work_of_art</th>\n",
              "      <td>0</td>\n",
              "      <td>[0]</td>\n",
              "      <td>0.066667</td>\n",
              "      <td>0.062963</td>\n",
              "      <td>0.025926</td>\n",
              "      <td>25</td>\n",
              "      <td>11</td>\n",
              "      <td>0.694444</td>\n",
              "    </tr>\n",
              "    <tr>\n",
              "      <th>contains_entity</th>\n",
              "      <td>1</td>\n",
              "      <td>[0]</td>\n",
              "      <td>0.274074</td>\n",
              "      <td>0.227778</td>\n",
              "      <td>0.133333</td>\n",
              "      <td>85</td>\n",
              "      <td>63</td>\n",
              "      <td>0.574324</td>\n",
              "    </tr>\n",
              "    <tr>\n",
              "      <th>contains_email</th>\n",
              "      <td>2</td>\n",
              "      <td>[]</td>\n",
              "      <td>0.000000</td>\n",
              "      <td>0.000000</td>\n",
              "      <td>0.000000</td>\n",
              "      <td>0</td>\n",
              "      <td>0</td>\n",
              "      <td>0.000000</td>\n",
              "    </tr>\n",
              "    <tr>\n",
              "      <th>contains_url</th>\n",
              "      <td>3</td>\n",
              "      <td>[0]</td>\n",
              "      <td>0.018519</td>\n",
              "      <td>0.014815</td>\n",
              "      <td>0.009259</td>\n",
              "      <td>6</td>\n",
              "      <td>4</td>\n",
              "      <td>0.600000</td>\n",
              "    </tr>\n",
              "    <tr>\n",
              "      <th>keyword_please</th>\n",
              "      <td>4</td>\n",
              "      <td>[0]</td>\n",
              "      <td>0.287037</td>\n",
              "      <td>0.218519</td>\n",
              "      <td>0.116667</td>\n",
              "      <td>98</td>\n",
              "      <td>57</td>\n",
              "      <td>0.632258</td>\n",
              "    </tr>\n",
              "    <tr>\n",
              "      <th>keyword_thanks</th>\n",
              "      <td>5</td>\n",
              "      <td>[0]</td>\n",
              "      <td>0.092593</td>\n",
              "      <td>0.064815</td>\n",
              "      <td>0.018519</td>\n",
              "      <td>42</td>\n",
              "      <td>8</td>\n",
              "      <td>0.840000</td>\n",
              "    </tr>\n",
              "    <tr>\n",
              "      <th>lf_bert_sentiment</th>\n",
              "      <td>6</td>\n",
              "      <td>[0, 1]</td>\n",
              "      <td>0.553704</td>\n",
              "      <td>0.200000</td>\n",
              "      <td>0.196296</td>\n",
              "      <td>259</td>\n",
              "      <td>40</td>\n",
              "      <td>0.866221</td>\n",
              "    </tr>\n",
              "  </tbody>\n",
              "</table>\n",
              "</div>"
            ],
            "text/plain": [
              "                      j Polarity  Coverage  ...  Correct  Incorrect  Emp. Acc.\n",
              "contains_work_of_art  0      [0]  0.066667  ...       25         11   0.694444\n",
              "contains_entity       1      [0]  0.274074  ...       85         63   0.574324\n",
              "contains_email        2       []  0.000000  ...        0          0   0.000000\n",
              "contains_url          3      [0]  0.018519  ...        6          4   0.600000\n",
              "keyword_please        4      [0]  0.287037  ...       98         57   0.632258\n",
              "keyword_thanks        5      [0]  0.092593  ...       42          8   0.840000\n",
              "lf_bert_sentiment     6   [0, 1]  0.553704  ...      259         40   0.866221\n",
              "\n",
              "[7 rows x 8 columns]"
            ]
          },
          "metadata": {
            "tags": []
          },
          "execution_count": 234
        }
      ]
    },
    {
      "cell_type": "markdown",
      "metadata": {
        "id": "1y3uWbbVhbRO"
      },
      "source": [
        "## Downloading Files from Colab"
      ]
    },
    {
      "cell_type": "code",
      "metadata": {
        "colab": {
          "base_uri": "https://localhost:8080/",
          "height": 17
        },
        "id": "EiqKPR725g1P",
        "outputId": "3fb5661b-6e80-406a-b98f-1d4c54088329"
      },
      "source": [
        "from google.colab import files\n",
        "files.download('L_train_toxic_finetuned_bert_600ex_1.pkl') "
      ],
      "execution_count": 235,
      "outputs": [
        {
          "output_type": "display_data",
          "data": {
            "application/javascript": [
              "\n",
              "    async function download(id, filename, size) {\n",
              "      if (!google.colab.kernel.accessAllowed) {\n",
              "        return;\n",
              "      }\n",
              "      const div = document.createElement('div');\n",
              "      const label = document.createElement('label');\n",
              "      label.textContent = `Downloading \"${filename}\": `;\n",
              "      div.appendChild(label);\n",
              "      const progress = document.createElement('progress');\n",
              "      progress.max = size;\n",
              "      div.appendChild(progress);\n",
              "      document.body.appendChild(div);\n",
              "\n",
              "      const buffers = [];\n",
              "      let downloaded = 0;\n",
              "\n",
              "      const channel = await google.colab.kernel.comms.open(id);\n",
              "      // Send a message to notify the kernel that we're ready.\n",
              "      channel.send({})\n",
              "\n",
              "      for await (const message of channel.messages) {\n",
              "        // Send a message to notify the kernel that we're ready.\n",
              "        channel.send({})\n",
              "        if (message.buffers) {\n",
              "          for (const buffer of message.buffers) {\n",
              "            buffers.push(buffer);\n",
              "            downloaded += buffer.byteLength;\n",
              "            progress.value = downloaded;\n",
              "          }\n",
              "        }\n",
              "      }\n",
              "      const blob = new Blob(buffers, {type: 'application/binary'});\n",
              "      const a = document.createElement('a');\n",
              "      a.href = window.URL.createObjectURL(blob);\n",
              "      a.download = filename;\n",
              "      div.appendChild(a);\n",
              "      a.click();\n",
              "      div.remove();\n",
              "    }\n",
              "  "
            ],
            "text/plain": [
              "<IPython.core.display.Javascript object>"
            ]
          },
          "metadata": {
            "tags": []
          }
        },
        {
          "output_type": "display_data",
          "data": {
            "application/javascript": [
              "download(\"download_b42e9e62-df8b-4d60-96db-83feeac70cc9\", \"L_train_toxic_finetuned_bert_600ex_1.pkl\", 100959)"
            ],
            "text/plain": [
              "<IPython.core.display.Javascript object>"
            ]
          },
          "metadata": {
            "tags": []
          }
        }
      ]
    },
    {
      "cell_type": "code",
      "metadata": {
        "id": "ayFH4fDu5g38"
      },
      "source": [
        "trainer.save_checkpoint(\"finetuned_bert_600ex_1.ckpt\")"
      ],
      "execution_count": 236,
      "outputs": []
    },
    {
      "cell_type": "code",
      "metadata": {
        "colab": {
          "base_uri": "https://localhost:8080/",
          "height": 17
        },
        "id": "xwAJV5xD5g5-",
        "outputId": "59fc3ebe-28a0-4d91-8b2b-c9688e2bc7d8"
      },
      "source": [
        "files.download('finetuned_bert_600ex_1.ckpt') "
      ],
      "execution_count": 237,
      "outputs": [
        {
          "output_type": "display_data",
          "data": {
            "application/javascript": [
              "\n",
              "    async function download(id, filename, size) {\n",
              "      if (!google.colab.kernel.accessAllowed) {\n",
              "        return;\n",
              "      }\n",
              "      const div = document.createElement('div');\n",
              "      const label = document.createElement('label');\n",
              "      label.textContent = `Downloading \"${filename}\": `;\n",
              "      div.appendChild(label);\n",
              "      const progress = document.createElement('progress');\n",
              "      progress.max = size;\n",
              "      div.appendChild(progress);\n",
              "      document.body.appendChild(div);\n",
              "\n",
              "      const buffers = [];\n",
              "      let downloaded = 0;\n",
              "\n",
              "      const channel = await google.colab.kernel.comms.open(id);\n",
              "      // Send a message to notify the kernel that we're ready.\n",
              "      channel.send({})\n",
              "\n",
              "      for await (const message of channel.messages) {\n",
              "        // Send a message to notify the kernel that we're ready.\n",
              "        channel.send({})\n",
              "        if (message.buffers) {\n",
              "          for (const buffer of message.buffers) {\n",
              "            buffers.push(buffer);\n",
              "            downloaded += buffer.byteLength;\n",
              "            progress.value = downloaded;\n",
              "          }\n",
              "        }\n",
              "      }\n",
              "      const blob = new Blob(buffers, {type: 'application/binary'});\n",
              "      const a = document.createElement('a');\n",
              "      a.href = window.URL.createObjectURL(blob);\n",
              "      a.download = filename;\n",
              "      div.appendChild(a);\n",
              "      a.click();\n",
              "      div.remove();\n",
              "    }\n",
              "  "
            ],
            "text/plain": [
              "<IPython.core.display.Javascript object>"
            ]
          },
          "metadata": {
            "tags": []
          }
        },
        {
          "output_type": "display_data",
          "data": {
            "application/javascript": [
              "download(\"download_443cc5b5-4265-443f-b1d2-58040f307176\", \"finetuned_bert_600ex_1.ckpt\", 2008516413)"
            ],
            "text/plain": [
              "<IPython.core.display.Javascript object>"
            ]
          },
          "metadata": {
            "tags": []
          }
        }
      ]
    },
    {
      "cell_type": "code",
      "metadata": {
        "colab": {
          "base_uri": "https://localhost:8080/"
        },
        "id": "JjjXsDZ9ApfA",
        "outputId": "429d06f9-1b67-4f86-92b3-4bfc256f8775"
      },
      "source": [
        "wandb.save('*ckpt*')"
      ],
      "execution_count": 240,
      "outputs": [
        {
          "output_type": "stream",
          "text": [
            "\u001b[34m\u001b[1mwandb\u001b[0m: \u001b[33mWARNING\u001b[0m Symlinked 1 file into the W&B run directory, call wandb.save again to sync new files.\n"
          ],
          "name": "stderr"
        },
        {
          "output_type": "execute_result",
          "data": {
            "text/plain": [
              "['/content/wandb/run-20210512_052017-hoyw7fdx/files/finetuned_bert_600ex_1.ckpt']"
            ]
          },
          "metadata": {
            "tags": []
          },
          "execution_count": 240
        }
      ]
    },
    {
      "cell_type": "markdown",
      "metadata": {
        "id": "9Dv3nOM8hh-Y"
      },
      "source": [
        "## Training Deep Learning Model on New Data Obtained with Snorkel!"
      ]
    },
    {
      "cell_type": "code",
      "metadata": {
        "id": "EgpBcB8_j30l"
      },
      "source": [
        "from nltk.tokenize import TweetTokenizer\n",
        "from sklearn.feature_extraction.text import TfidfVectorizer\n",
        "tokenizer = TweetTokenizer(preserve_case=False)\n",
        "vectorizer = TfidfVectorizer(tokenizer=tokenizer.tokenize, ngram_range=(1, 3))"
      ],
      "execution_count": 403,
      "outputs": []
    },
    {
      "cell_type": "code",
      "metadata": {
        "id": "K4e9L7wllZk-"
      },
      "source": [
        "from sklearn.ensemble import RandomForestClassifier\n",
        "classifier = RandomForestClassifier(random_state=42)"
      ],
      "execution_count": 404,
      "outputs": []
    },
    {
      "cell_type": "code",
      "metadata": {
        "colab": {
          "base_uri": "https://localhost:8080/"
        },
        "id": "zbhp1o4qldzI",
        "outputId": "9b647458-935f-4baf-88a1-40b987ff7f6e"
      },
      "source": [
        "from snorkel.labeling import filter_unlabeled_dataframe\n",
        "from snorkel.utils import probs_to_preds\n",
        "snorkel_label_probs = label_model.predict_proba(L=L_train)\n",
        "X, y = filter_unlabeled_dataframe(X=train_df.text, y=snorkel_label_probs, L=L_train)\n",
        "X = vectorizer.fit_transform(X)\n",
        "classifier.fit(X, probs_to_preds(probs=y))"
      ],
      "execution_count": 405,
      "outputs": [
        {
          "output_type": "execute_result",
          "data": {
            "text/plain": [
              "RandomForestClassifier(bootstrap=True, ccp_alpha=0.0, class_weight=None,\n",
              "                       criterion='gini', max_depth=None, max_features='auto',\n",
              "                       max_leaf_nodes=None, max_samples=None,\n",
              "                       min_impurity_decrease=0.0, min_impurity_split=None,\n",
              "                       min_samples_leaf=1, min_samples_split=2,\n",
              "                       min_weight_fraction_leaf=0.0, n_estimators=100,\n",
              "                       n_jobs=None, oob_score=False, random_state=42, verbose=0,\n",
              "                       warm_start=False)"
            ]
          },
          "metadata": {
            "tags": []
          },
          "execution_count": 405
        }
      ]
    },
    {
      "cell_type": "code",
      "metadata": {
        "id": "5t5BDFdGlwgq"
      },
      "source": [
        "X = vectorizer.transform(fine_tune_df.text.tolist())\n",
        "y_true = fine_tune_df.label.values    \n",
        "y_pred = classifier.predict(X)"
      ],
      "execution_count": 433,
      "outputs": []
    },
    {
      "cell_type": "code",
      "metadata": {
        "colab": {
          "base_uri": "https://localhost:8080/"
        },
        "id": "RykO1G7QzNfg",
        "outputId": "49842af5-c994-4b46-ffa7-3974f74f8ae9"
      },
      "source": [
        "pd.DataFrame(y_pred).sum()"
      ],
      "execution_count": 434,
      "outputs": [
        {
          "output_type": "execute_result",
          "data": {
            "text/plain": [
              "0    64\n",
              "dtype: int64"
            ]
          },
          "metadata": {
            "tags": []
          },
          "execution_count": 434
        }
      ]
    },
    {
      "cell_type": "code",
      "metadata": {
        "colab": {
          "base_uri": "https://localhost:8080/"
        },
        "id": "VI10y7xNmSxK",
        "outputId": "5664c3f6-2316-49d8-8f31-543009c0477f"
      },
      "source": [
        "from sklearn.metrics import classification_report\n",
        "print(classification_report(y_true, y_pred, labels=[0,1]))"
      ],
      "execution_count": 435,
      "outputs": [
        {
          "output_type": "stream",
          "text": [
            "              precision    recall  f1-score   support\n",
            "\n",
            "           0       0.66      0.90      0.76       100\n",
            "           1       0.84      0.54      0.66       100\n",
            "\n",
            "    accuracy                           0.72       200\n",
            "   macro avg       0.75      0.72      0.71       200\n",
            "weighted avg       0.75      0.72      0.71       200\n",
            "\n"
          ],
          "name": "stdout"
        }
      ]
    },
    {
      "cell_type": "code",
      "metadata": {
        "id": "xLkSjuMMuD5r"
      },
      "source": [
        ""
      ],
      "execution_count": null,
      "outputs": []
    }
  ]
}